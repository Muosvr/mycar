{
 "cells": [
  {
   "cell_type": "code",
   "execution_count": 5,
   "metadata": {},
   "outputs": [],
   "source": [
    "import os\n",
    "import sys\n",
    "import time\n",
    "import json\n",
    "import datetime\n",
    "import random\n",
    "import tarfile\n",
    "\n",
    "import numpy as np\n",
    "import pandas as pd\n",
    "from PIL import Image"
   ]
  },
  {
   "cell_type": "code",
   "execution_count": 1,
   "metadata": {},
   "outputs": [],
   "source": [
    "from tensorflow.python.client import device_lib\n",
    "\n",
    "def get_available_gpus():\n",
    "    local_device_protos = device_lib.list_local_devices()\n",
    "    return [x.name for x in local_device_protos if x.device_type == 'GPU']"
   ]
  },
  {
   "cell_type": "code",
   "execution_count": 2,
   "metadata": {},
   "outputs": [
    {
     "data": {
      "text/plain": [
       "['/device:GPU:0']"
      ]
     },
     "execution_count": 2,
     "metadata": {},
     "output_type": "execute_result"
    }
   ],
   "source": [
    "get_available_gpus()"
   ]
  },
  {
   "cell_type": "code",
   "execution_count": 6,
   "metadata": {},
   "outputs": [],
   "source": [
    "PATH = \"../tubs/tub5\" #Shadow"
   ]
  },
  {
   "cell_type": "code",
   "execution_count": 7,
   "metadata": {},
   "outputs": [],
   "source": [
    "json_files = [file for file in os.listdir(PATH) if file.endswith('json') ]"
   ]
  },
  {
   "cell_type": "code",
   "execution_count": 8,
   "metadata": {},
   "outputs": [
    {
     "data": {
      "text/plain": [
       "38575"
      ]
     },
     "execution_count": 8,
     "metadata": {},
     "output_type": "execute_result"
    }
   ],
   "source": [
    "len(json_files)"
   ]
  },
  {
   "cell_type": "code",
   "execution_count": 35,
   "metadata": {},
   "outputs": [],
   "source": [
    "meta_json = pd.read_json(f'{PATH}/{json_files[0]}')"
   ]
  },
  {
   "cell_type": "code",
   "execution_count": 36,
   "metadata": {},
   "outputs": [
    {
     "data": {
      "text/html": [
       "<div>\n",
       "<style scoped>\n",
       "    .dataframe tbody tr th:only-of-type {\n",
       "        vertical-align: middle;\n",
       "    }\n",
       "\n",
       "    .dataframe tbody tr th {\n",
       "        vertical-align: top;\n",
       "    }\n",
       "\n",
       "    .dataframe thead th {\n",
       "        text-align: right;\n",
       "    }\n",
       "</style>\n",
       "<table border=\"1\" class=\"dataframe\">\n",
       "  <thead>\n",
       "    <tr style=\"text-align: right;\">\n",
       "      <th></th>\n",
       "      <th>inputs</th>\n",
       "      <th>types</th>\n",
       "    </tr>\n",
       "  </thead>\n",
       "  <tbody>\n",
       "    <tr>\n",
       "      <th>0</th>\n",
       "      <td>cam/image_array</td>\n",
       "      <td>image_array</td>\n",
       "    </tr>\n",
       "    <tr>\n",
       "      <th>1</th>\n",
       "      <td>user/angle</td>\n",
       "      <td>float</td>\n",
       "    </tr>\n",
       "    <tr>\n",
       "      <th>2</th>\n",
       "      <td>user/throttle</td>\n",
       "      <td>float</td>\n",
       "    </tr>\n",
       "    <tr>\n",
       "      <th>3</th>\n",
       "      <td>user/mode</td>\n",
       "      <td>str</td>\n",
       "    </tr>\n",
       "    <tr>\n",
       "      <th>4</th>\n",
       "      <td>timestamp</td>\n",
       "      <td>str</td>\n",
       "    </tr>\n",
       "  </tbody>\n",
       "</table>\n",
       "</div>"
      ],
      "text/plain": [
       "            inputs        types\n",
       "0  cam/image_array  image_array\n",
       "1       user/angle        float\n",
       "2    user/throttle        float\n",
       "3        user/mode          str\n",
       "4        timestamp          str"
      ]
     },
     "execution_count": 36,
     "metadata": {},
     "output_type": "execute_result"
    }
   ],
   "source": [
    "meta_json"
   ]
  },
  {
   "cell_type": "code",
   "execution_count": 28,
   "metadata": {},
   "outputs": [],
   "source": [
    "with open(f'{PATH}/{json_files[1]}', 'r') as f:\n",
    "    data = json.load(f)"
   ]
  },
  {
   "cell_type": "code",
   "execution_count": 30,
   "metadata": {},
   "outputs": [
    {
     "data": {
      "text/plain": [
       "1.08"
      ]
     },
     "execution_count": 30,
     "metadata": {},
     "output_type": "execute_result"
    }
   ],
   "source": [
    "data[\"user/throttle\"]"
   ]
  },
  {
   "cell_type": "code",
   "execution_count": 41,
   "metadata": {},
   "outputs": [],
   "source": [
    "df = pd.DataFrame(data, index = [0])"
   ]
  },
  {
   "cell_type": "code",
   "execution_count": 42,
   "metadata": {},
   "outputs": [
    {
     "data": {
      "text/html": [
       "<div>\n",
       "<style scoped>\n",
       "    .dataframe tbody tr th:only-of-type {\n",
       "        vertical-align: middle;\n",
       "    }\n",
       "\n",
       "    .dataframe tbody tr th {\n",
       "        vertical-align: top;\n",
       "    }\n",
       "\n",
       "    .dataframe thead th {\n",
       "        text-align: right;\n",
       "    }\n",
       "</style>\n",
       "<table border=\"1\" class=\"dataframe\">\n",
       "  <thead>\n",
       "    <tr style=\"text-align: right;\">\n",
       "      <th></th>\n",
       "      <th>cam/image_array</th>\n",
       "      <th>user/throttle</th>\n",
       "      <th>user/angle</th>\n",
       "      <th>timestamp</th>\n",
       "      <th>user/mode</th>\n",
       "    </tr>\n",
       "  </thead>\n",
       "  <tbody>\n",
       "    <tr>\n",
       "      <th>0</th>\n",
       "      <td>0_cam-image_array_.jpg</td>\n",
       "      <td>0.08</td>\n",
       "      <td>0.01</td>\n",
       "      <td>None</td>\n",
       "      <td>user</td>\n",
       "    </tr>\n",
       "  </tbody>\n",
       "</table>\n",
       "</div>"
      ],
      "text/plain": [
       "          cam/image_array  user/throttle  user/angle timestamp user/mode\n",
       "0  0_cam-image_array_.jpg           0.08        0.01      None      user"
      ]
     },
     "execution_count": 42,
     "metadata": {},
     "output_type": "execute_result"
    }
   ],
   "source": [
    "df"
   ]
  },
  {
   "cell_type": "code",
   "execution_count": 43,
   "metadata": {},
   "outputs": [
    {
     "data": {
      "text/plain": [
       "'0_cam-image_array_.jpg'"
      ]
     },
     "execution_count": 43,
     "metadata": {},
     "output_type": "execute_result"
    }
   ],
   "source": [
    "df[\"cam/image_array\"][0]"
   ]
  },
  {
   "cell_type": "code",
   "execution_count": 9,
   "metadata": {},
   "outputs": [],
   "source": [
    "def json_to_df(PATH, json_files, max_items=None):\n",
    "    df = pd.DataFrame()\n",
    "    for i, j in enumerate(json_files[1:max_items]):\n",
    "        with open(f'{PATH}/{j}') as f:\n",
    "            data = json.load(f)\n",
    "\n",
    "            userThrottle = data[\"user/throttle\"]\n",
    "            userAngle = data[\"user/angle\"]\n",
    "            camImage_array = data[\"cam/image_array\"]\n",
    "            index = int(camImage_array[:-21])\n",
    "            df_row = pd.DataFrame([[userThrottle, userAngle, camImage_array]], index = [index], columns = [\"user/throttle\", \"user/angle\", \"cam/image_array\"])\n",
    "\n",
    "            df = df.append(df_row)\n",
    "    df = df.sort_index()\n",
    "    return df"
   ]
  },
  {
   "cell_type": "code",
   "execution_count": 95,
   "metadata": {},
   "outputs": [
    {
     "data": {
      "text/plain": [
       "38574"
      ]
     },
     "execution_count": 95,
     "metadata": {},
     "output_type": "execute_result"
    }
   ],
   "source": [
    "len(json_files[1:None])"
   ]
  },
  {
   "cell_type": "code",
   "execution_count": 10,
   "metadata": {},
   "outputs": [],
   "source": [
    "df = json_to_df(PATH, json_files, max_items=None)"
   ]
  },
  {
   "cell_type": "code",
   "execution_count": 11,
   "metadata": {},
   "outputs": [],
   "source": [
    "def to_bin(a):\n",
    "    arr = np.zeros(15)\n",
    "    a = a + 1\n",
    "    b = round(a/(2/14))\n",
    "    arr[int(b)] = 1\n",
    "    return arr"
   ]
  },
  {
   "cell_type": "code",
   "execution_count": 12,
   "metadata": {},
   "outputs": [],
   "source": [
    "img_name = df['cam/image_array'][100]\n",
    "img = Image.open(f'{PATH}/{img_name}')\n",
    "img"
   ]
  },
  {
   "cell_type": "code",
   "execution_count": 101,
   "metadata": {},
   "outputs": [],
   "source": [
    "val = np.array(img)"
   ]
  },
  {
   "cell_type": "code",
   "execution_count": 104,
   "metadata": {},
   "outputs": [
    {
     "data": {
      "text/plain": [
       "(120, 160, 3)"
      ]
     },
     "execution_count": 104,
     "metadata": {},
     "output_type": "execute_result"
    }
   ],
   "source": [
    "val.shape"
   ]
  },
  {
   "cell_type": "code",
   "execution_count": 129,
   "metadata": {},
   "outputs": [],
   "source": [
    "bs = 128\n",
    "train_frac = 0.8\n",
    "X_keys = ['cam/image_array']\n",
    "y_keys = ['user/angle', 'user/throttle']\n",
    "PATH\n",
    "new_model_path = 'models/pilot_jn'"
   ]
  },
  {
   "cell_type": "code",
   "execution_count": 130,
   "metadata": {},
   "outputs": [],
   "source": [
    "def read_record(record_dict, path = PATH):\n",
    "    data = {}\n",
    "    for key, val in record_dict.items():\n",
    "        if key == 'cam/image_array':\n",
    "            img = Image.open(f'{PATH}/{val}')\n",
    "            val = np.array(img)\n",
    "        \n",
    "        data[key] = val\n",
    "    return data"
   ]
  },
  {
   "cell_type": "code",
   "execution_count": 131,
   "metadata": {},
   "outputs": [],
   "source": [
    "# df_t = df.sample(n=1).to_dict(orient='record')[0]"
   ]
  },
  {
   "cell_type": "code",
   "execution_count": 132,
   "metadata": {},
   "outputs": [],
   "source": [
    "# record = read_record(df_t)"
   ]
  },
  {
   "cell_type": "code",
   "execution_count": 133,
   "metadata": {},
   "outputs": [],
   "source": [
    "# record['cam/image_array'][None].shape"
   ]
  },
  {
   "cell_type": "code",
   "execution_count": 134,
   "metadata": {},
   "outputs": [],
   "source": [
    "def get_record_gen(record_transform=None, shuffle=True, df=None):\n",
    "    while True:\n",
    "        for _ in df.iterrows():\n",
    "            if shuffle:\n",
    "                record_dict = df.sample(n=1).to_dict(orient='record')[0]\n",
    "            \n",
    "            record_dict = read_record(record_dict)\n",
    "            \n",
    "            if record_transform:\n",
    "                record_dict = record_transform(record_dict)\n",
    "            \n",
    "            yield record_dict"
   ]
  },
  {
   "cell_type": "code",
   "execution_count": 135,
   "metadata": {},
   "outputs": [],
   "source": [
    "# record_gen = get_record_gen(record_transform=None, shuffle=True, df=df)"
   ]
  },
  {
   "cell_type": "code",
   "execution_count": 136,
   "metadata": {},
   "outputs": [],
   "source": [
    "# next(record_gen)"
   ]
  },
  {
   "cell_type": "code",
   "execution_count": 137,
   "metadata": {},
   "outputs": [],
   "source": [
    "def get_batch_gen(keys=None, batch_size=128, record_transform=None, shuffle=True, df=None):\n",
    "    \n",
    "    record_gen = get_record_gen(record_transform=record_transform, shuffle=shuffle, df=df)\n",
    "    \n",
    "    while True:\n",
    "        record_list = [next(record_gen) for _ in range(batch_size)]\n",
    "        \n",
    "        batch_arrays = {}\n",
    "        for i, k in enumerate(keys):\n",
    "            arr = np.array([r[k] for r in record_list])\n",
    "            batch_arrays[k] = arr\n",
    "        yield batch_arrays"
   ]
  },
  {
   "cell_type": "code",
   "execution_count": 138,
   "metadata": {},
   "outputs": [],
   "source": [
    "def get_train_gen(X_keys, Y_keys, batch_size=128, record_transform=None, df=None): #\n",
    "    batch_gen = get_batch_gen(X_keys + Y_keys, batch_size=batch_size,\n",
    "                                  record_transform=record_transform, df=df)\n",
    "    while True:\n",
    "        batch = next(batch_gen)\n",
    "        X = [batch[k] for k in X_keys]\n",
    "        Y = [batch[k] for k in Y_keys] \n",
    "        yield X, Y"
   ]
  },
  {
   "cell_type": "code",
   "execution_count": 139,
   "metadata": {},
   "outputs": [],
   "source": [
    "def get_train_val_gen(df, X_keys, Y_keys, batch_size = 128, train_frac=0.8, #\n",
    "                      train_record_transform=None, val_record_transform=None): #\n",
    "    train_df = df.sample(frac=train_frac, random_state=200) #\n",
    "    val_df = df.drop(train_df.index) #\n",
    "    \n",
    "    train_gen = get_train_gen(X_keys=X_keys, Y_keys=Y_keys, batch_size=batch_size,\n",
    "                             record_transform=train_record_transform, df=train_df)\n",
    "    val_gen = get_train_gen(X_keys=X_keys, Y_keys=Y_keys, batch_size=batch_size,\n",
    "                           record_transform=val_record_transform, df=val_df)\n",
    "    return train_gen, val_gen\n",
    "    "
   ]
  },
  {
   "cell_type": "code",
   "execution_count": 140,
   "metadata": {},
   "outputs": [],
   "source": [
    "def record_transform(record):\n",
    "    record['user/angle'] = to_bin(record['user/angle'])\n",
    "    return record"
   ]
  },
  {
   "cell_type": "code",
   "execution_count": 141,
   "metadata": {},
   "outputs": [],
   "source": [
    "train_gen, val_gen = get_train_val_gen(df, X_keys, y_keys,\n",
    "                                               train_record_transform=record_transform, #\n",
    "                                               val_record_transform=record_transform, #\n",
    "                                               batch_size=bs, #\n",
    "                                               train_frac=train_frac) #"
   ]
  },
  {
   "cell_type": "code",
   "execution_count": 142,
   "metadata": {},
   "outputs": [],
   "source": [
    "from tensorflow.python.keras.layers import Input\n",
    "from tensorflow.python.keras.models import Model, load_model\n",
    "from tensorflow.python.keras.layers import Convolution2D\n",
    "from tensorflow.python.keras.layers import Dropout, Flatten, Dense, Cropping2D, Lambda\n",
    "from tensorflow.python.keras.callbacks import ModelCheckpoint, EarlyStopping"
   ]
  },
  {
   "cell_type": "code",
   "execution_count": 143,
   "metadata": {},
   "outputs": [],
   "source": [
    "def default_categorical():\n",
    "    img_in = Input(shape=(120, 160, 3),\n",
    "                   name='img_in')  # First layer, input layer, Shape comes from camera.py resolution, RGB\n",
    "    x = img_in\n",
    "    x = Convolution2D(24, (5, 5), strides=(2, 2), activation='relu')(\n",
    "        x)  # 24 features, 5 pixel x 5 pixel kernel (convolution, feauture) window, 2wx2h stride, relu activation\n",
    "    x = Convolution2D(32, (5, 5), strides=(2, 2), activation='relu')(\n",
    "        x)  # 32 features, 5px5p kernel window, 2wx2h stride, relu activatiion\n",
    "    x = Convolution2D(64, (5, 5), strides=(2, 2), activation='relu')(\n",
    "        x)  # 64 features, 5px5p kernal window, 2wx2h stride, relu\n",
    "    x = Convolution2D(64, (3, 3), strides=(2, 2), activation='relu')(\n",
    "        x)  # 64 features, 3px3p kernal window, 2wx2h stride, relu\n",
    "    x = Convolution2D(64, (3, 3), strides=(1, 1), activation='relu')(\n",
    "        x)  # 64 features, 3px3p kernal window, 1wx1h stride, relu\n",
    "\n",
    "    # Possibly add MaxPooling (will make it less sensitive to position in image).  Camera angle fixed, so may not to be needed\n",
    "\n",
    "    x = Flatten(name='flattened')(x)  # Flatten to 1D (Fully connected)\n",
    "    x = Dense(100, activation='relu')(x)  # Classify the data into 100 features, make all negatives 0\n",
    "    x = Dropout(.1)(x)  # Randomly drop out (turn off) 10% of the neurons (Prevent overfitting)\n",
    "    x = Dense(50, activation='relu')(x)  # Classify the data into 50 features, make all negatives 0\n",
    "    x = Dropout(.1)(x)  # Randomly drop out 10% of the neurons (Prevent overfitting)\n",
    "    # categorical output of the angle\n",
    "    angle_out = Dense(15, activation='softmax', name='angle_out')(\n",
    "        x)  # Connect every input with every output and output 15 hidden units. Use Softmax to give percentage. 15 categories and find best one based off percentage 0.0-1.0\n",
    "\n",
    "    # continous output of throttle\n",
    "    throttle_out = Dense(1, activation='relu', name='throttle_out')(x)  # Reduce to 1 number, Positive number only\n",
    "\n",
    "    model = Model(inputs=[img_in], outputs=[angle_out, throttle_out])\n",
    "    model.compile(optimizer='adam',\n",
    "                  loss={'angle_out': 'categorical_crossentropy',\n",
    "                        'throttle_out': 'mean_absolute_error'},\n",
    "                  loss_weights={'angle_out': 0.9, 'throttle_out': .01})\n",
    "\n",
    "    return model"
   ]
  },
  {
   "cell_type": "code",
   "execution_count": 144,
   "metadata": {},
   "outputs": [],
   "source": [
    "model = default_categorical()"
   ]
  },
  {
   "cell_type": "code",
   "execution_count": 145,
   "metadata": {},
   "outputs": [],
   "source": [
    "def train(train_gen, val_gen, saved_model_path, epochs=100, steps=100, train_split=0.8,\n",
    "         verbose=1, min_delta=0.0005, patience=5, use_early_stop=True):\n",
    "    \n",
    "#     checkpoint to save model\n",
    "    save_best = ModelCheckpoint(saved_model_path, monitor='val_loss', verbose=verbose, save_best_only=True, mode='min')\n",
    "    \n",
    "    #stop training if stop improving\n",
    "    early_stop = EarlyStopping(monitor='val_loss', min_delta=min_delta, patience=patience, verbose=verbose, mode='auto')\n",
    "    \n",
    "    callbacks_list = [save_best]\n",
    "    \n",
    "    if use_early_stop:\n",
    "        callbacks_list.append(early_stop)\n",
    "        \n",
    "    hist = model.fit_generator(train_gen, steps_per_epoch=steps, epochs=epochs, verbose=1, validation_data=val_gen,\n",
    "                                callbacks=callbacks_list, validation_steps=steps * (1.0 - train_frac)//train_frac)\n",
    "    return hist"
   ]
  },
  {
   "cell_type": "code",
   "execution_count": 146,
   "metadata": {},
   "outputs": [
    {
     "data": {
      "text/plain": [
       "241"
      ]
     },
     "execution_count": 146,
     "metadata": {},
     "output_type": "execute_result"
    }
   ],
   "source": [
    "total_records = len(df)\n",
    "total_train = int(total_records * train_frac)\n",
    "total_val = total_records - total_train\n",
    "steps_per_epoch = total_train // bs\n",
    "steps_per_epoch"
   ]
  },
  {
   "cell_type": "code",
   "execution_count": 147,
   "metadata": {},
   "outputs": [
    {
     "name": "stdout",
     "output_type": "stream",
     "text": [
      "Epoch 1/100\n",
      "240/241 [============================>.] - ETA: 0s - loss: 1.6391 - angle_out_loss: 1.8170 - throttle_out_loss: 0.3767\n",
      "Epoch 00001: val_loss improved from inf to 1.31640, saving model to models/pilot_jn\n",
      "241/241 [==============================] - 99s 412ms/step - loss: 1.6380 - angle_out_loss: 1.8158 - throttle_out_loss: 0.3764 - val_loss: 1.3164 - val_angle_out_loss: 1.4593 - val_throttle_out_loss: 0.3048\n",
      "Epoch 2/100\n",
      "240/241 [============================>.] - ETA: 0s - loss: 1.3081 - angle_out_loss: 1.4500 - throttle_out_loss: 0.3101\n",
      "Epoch 00002: val_loss improved from 1.31640 to 1.20374, saving model to models/pilot_jn\n",
      "241/241 [==============================] - 81s 336ms/step - loss: 1.3078 - angle_out_loss: 1.4497 - throttle_out_loss: 0.3101 - val_loss: 1.2037 - val_angle_out_loss: 1.3341 - val_throttle_out_loss: 0.3051\n",
      "Epoch 3/100\n",
      "240/241 [============================>.] - ETA: 0s - loss: 1.1939 - angle_out_loss: 1.3231 - throttle_out_loss: 0.3129\n",
      "Epoch 00003: val_loss improved from 1.20374 to 1.16994, saving model to models/pilot_jn\n",
      "241/241 [==============================] - 75s 311ms/step - loss: 1.1936 - angle_out_loss: 1.3228 - throttle_out_loss: 0.3129 - val_loss: 1.1699 - val_angle_out_loss: 1.2965 - val_throttle_out_loss: 0.3054\n",
      "Epoch 4/100\n",
      "240/241 [============================>.] - ETA: 0s - loss: 1.1072 - angle_out_loss: 1.2267 - throttle_out_loss: 0.3107\n",
      "Epoch 00004: val_loss improved from 1.16994 to 1.09751, saving model to models/pilot_jn\n",
      "241/241 [==============================] - 73s 305ms/step - loss: 1.1074 - angle_out_loss: 1.2270 - throttle_out_loss: 0.3106 - val_loss: 1.0975 - val_angle_out_loss: 1.2161 - val_throttle_out_loss: 0.3016\n",
      "Epoch 5/100\n",
      "240/241 [============================>.] - ETA: 0s - loss: 1.0136 - angle_out_loss: 1.1228 - throttle_out_loss: 0.3077\n",
      "Epoch 00005: val_loss improved from 1.09751 to 1.05865, saving model to models/pilot_jn\n",
      "241/241 [==============================] - 75s 310ms/step - loss: 1.0131 - angle_out_loss: 1.1223 - throttle_out_loss: 0.3078 - val_loss: 1.0586 - val_angle_out_loss: 1.1730 - val_throttle_out_loss: 0.2940\n",
      "Epoch 6/100\n",
      "240/241 [============================>.] - ETA: 0s - loss: 0.9199 - angle_out_loss: 1.0190 - throttle_out_loss: 0.2813\n",
      "Epoch 00006: val_loss improved from 1.05865 to 1.02028, saving model to models/pilot_jn\n",
      "241/241 [==============================] - 74s 305ms/step - loss: 0.9204 - angle_out_loss: 1.0195 - throttle_out_loss: 0.2810 - val_loss: 1.0203 - val_angle_out_loss: 1.1315 - val_throttle_out_loss: 0.1931\n",
      "Epoch 7/100\n",
      "240/241 [============================>.] - ETA: 0s - loss: 0.8639 - angle_out_loss: 0.9589 - throttle_out_loss: 0.0909\n",
      "Epoch 00007: val_loss improved from 1.02028 to 0.96466, saving model to models/pilot_jn\n",
      "241/241 [==============================] - 73s 302ms/step - loss: 0.8641 - angle_out_loss: 0.9591 - throttle_out_loss: 0.0908 - val_loss: 0.9647 - val_angle_out_loss: 1.0713 - val_throttle_out_loss: 0.0482\n",
      "Epoch 8/100\n",
      "240/241 [============================>.] - ETA: 0s - loss: 0.7898 - angle_out_loss: 0.8770 - throttle_out_loss: 0.0457\n",
      "Epoch 00008: val_loss improved from 0.96466 to 0.94079, saving model to models/pilot_jn\n",
      "241/241 [==============================] - 75s 312ms/step - loss: 0.7894 - angle_out_loss: 0.8766 - throttle_out_loss: 0.0457 - val_loss: 0.9408 - val_angle_out_loss: 1.0449 - val_throttle_out_loss: 0.0414\n",
      "Epoch 9/100\n",
      "240/241 [============================>.] - ETA: 0s - loss: 0.7380 - angle_out_loss: 0.8196 - throttle_out_loss: 0.0378\n",
      "Epoch 00009: val_loss improved from 0.94079 to 0.87636, saving model to models/pilot_jn\n",
      "241/241 [==============================] - 76s 317ms/step - loss: 0.7377 - angle_out_loss: 0.8193 - throttle_out_loss: 0.0378 - val_loss: 0.8764 - val_angle_out_loss: 0.9733 - val_throttle_out_loss: 0.0378\n",
      "Epoch 10/100\n",
      "240/241 [============================>.] - ETA: 0s - loss: 0.6639 - angle_out_loss: 0.7372 - throttle_out_loss: 0.0372\n",
      "Epoch 00010: val_loss improved from 0.87636 to 0.85676, saving model to models/pilot_jn\n",
      "241/241 [==============================] - 79s 326ms/step - loss: 0.6639 - angle_out_loss: 0.7373 - throttle_out_loss: 0.0371 - val_loss: 0.8568 - val_angle_out_loss: 0.9515 - val_throttle_out_loss: 0.0370\n",
      "Epoch 11/100\n",
      "240/241 [============================>.] - ETA: 0s - loss: 0.6317 - angle_out_loss: 0.7015 - throttle_out_loss: 0.0362\n",
      "Epoch 00011: val_loss improved from 0.85676 to 0.83891, saving model to models/pilot_jn\n",
      "241/241 [==============================] - 78s 323ms/step - loss: 0.6317 - angle_out_loss: 0.7015 - throttle_out_loss: 0.0362 - val_loss: 0.8389 - val_angle_out_loss: 0.9317 - val_throttle_out_loss: 0.0366\n",
      "Epoch 12/100\n",
      "240/241 [============================>.] - ETA: 0s - loss: 0.5859 - angle_out_loss: 0.6506 - throttle_out_loss: 0.0368\n",
      "Epoch 00012: val_loss did not improve from 0.83891\n",
      "241/241 [==============================] - 76s 317ms/step - loss: 0.5859 - angle_out_loss: 0.6505 - throttle_out_loss: 0.0368 - val_loss: 0.9297 - val_angle_out_loss: 1.0327 - val_throttle_out_loss: 0.0358\n",
      "Epoch 13/100\n",
      "240/241 [============================>.] - ETA: 0s - loss: 0.5563 - angle_out_loss: 0.6177 - throttle_out_loss: 0.0367\n",
      "Epoch 00013: val_loss improved from 0.83891 to 0.83770, saving model to models/pilot_jn\n",
      "241/241 [==============================] - 75s 313ms/step - loss: 0.5561 - angle_out_loss: 0.6175 - throttle_out_loss: 0.0368 - val_loss: 0.8377 - val_angle_out_loss: 0.9303 - val_throttle_out_loss: 0.0452\n",
      "Epoch 14/100\n",
      "240/241 [============================>.] - ETA: 0s - loss: 0.5348 - angle_out_loss: 0.5938 - throttle_out_loss: 0.0370\n",
      "Epoch 00014: val_loss did not improve from 0.83770\n",
      "241/241 [==============================] - 73s 303ms/step - loss: 0.5343 - angle_out_loss: 0.5933 - throttle_out_loss: 0.0370 - val_loss: 0.8419 - val_angle_out_loss: 0.9350 - val_throttle_out_loss: 0.0379\n",
      "Epoch 15/100\n",
      "240/241 [============================>.] - ETA: 0s - loss: 0.4935 - angle_out_loss: 0.5479 - throttle_out_loss: 0.0371\n",
      "Epoch 00015: val_loss improved from 0.83770 to 0.80192, saving model to models/pilot_jn\n",
      "241/241 [==============================] - 78s 325ms/step - loss: 0.4934 - angle_out_loss: 0.5478 - throttle_out_loss: 0.0372 - val_loss: 0.8019 - val_angle_out_loss: 0.8906 - val_throttle_out_loss: 0.0362\n",
      "Epoch 16/100\n",
      "240/241 [============================>.] - ETA: 0s - loss: 0.4705 - angle_out_loss: 0.5224 - throttle_out_loss: 0.0370\n",
      "Epoch 00016: val_loss improved from 0.80192 to 0.79026, saving model to models/pilot_jn\n",
      "241/241 [==============================] - 79s 327ms/step - loss: 0.4710 - angle_out_loss: 0.5230 - throttle_out_loss: 0.0370 - val_loss: 0.7903 - val_angle_out_loss: 0.8777 - val_throttle_out_loss: 0.0365\n",
      "Epoch 17/100\n",
      "240/241 [============================>.] - ETA: 0s - loss: 0.4585 - angle_out_loss: 0.5090 - throttle_out_loss: 0.0369\n",
      "Epoch 00017: val_loss did not improve from 0.79026\n",
      "241/241 [==============================] - 76s 315ms/step - loss: 0.4585 - angle_out_loss: 0.5090 - throttle_out_loss: 0.0369 - val_loss: 0.8096 - val_angle_out_loss: 0.8991 - val_throttle_out_loss: 0.0351\n",
      "Epoch 18/100\n",
      "240/241 [============================>.] - ETA: 0s - loss: 0.4317 - angle_out_loss: 0.4793 - throttle_out_loss: 0.0375\n",
      "Epoch 00018: val_loss did not improve from 0.79026\n",
      "241/241 [==============================] - 78s 324ms/step - loss: 0.4314 - angle_out_loss: 0.4789 - throttle_out_loss: 0.0375 - val_loss: 0.8502 - val_angle_out_loss: 0.9442 - val_throttle_out_loss: 0.0409\n",
      "Epoch 19/100\n",
      "240/241 [============================>.] - ETA: 0s - loss: 0.4136 - angle_out_loss: 0.4591 - throttle_out_loss: 0.0374\n",
      "Epoch 00019: val_loss did not improve from 0.79026\n",
      "241/241 [==============================] - 75s 312ms/step - loss: 0.4135 - angle_out_loss: 0.4591 - throttle_out_loss: 0.0374 - val_loss: 0.8357 - val_angle_out_loss: 0.9281 - val_throttle_out_loss: 0.0361\n",
      "Epoch 20/100\n",
      "240/241 [============================>.] - ETA: 0s - loss: 0.3922 - angle_out_loss: 0.4353 - throttle_out_loss: 0.0374\n",
      "Epoch 00020: val_loss did not improve from 0.79026\n",
      "241/241 [==============================] - 77s 319ms/step - loss: 0.3927 - angle_out_loss: 0.4360 - throttle_out_loss: 0.0374 - val_loss: 0.8251 - val_angle_out_loss: 0.9164 - val_throttle_out_loss: 0.0371\n"
     ]
    },
    {
     "name": "stdout",
     "output_type": "stream",
     "text": [
      "Epoch 21/100\n",
      "240/241 [============================>.] - ETA: 0s - loss: 0.3878 - angle_out_loss: 0.4305 - throttle_out_loss: 0.0375\n",
      "Epoch 00021: val_loss did not improve from 0.79026\n",
      "241/241 [==============================] - 76s 313ms/step - loss: 0.3878 - angle_out_loss: 0.4305 - throttle_out_loss: 0.0375 - val_loss: 0.7941 - val_angle_out_loss: 0.8819 - val_throttle_out_loss: 0.0368\n",
      "Epoch 00021: early stopping\n"
     ]
    },
    {
     "data": {
      "text/plain": [
       "<tensorflow.python.keras.callbacks.History at 0x211cf068eb8>"
      ]
     },
     "execution_count": 147,
     "metadata": {},
     "output_type": "execute_result"
    }
   ],
   "source": [
    "train(train_gen, val_gen, saved_model_path=new_model_path, steps=steps_per_epoch, train_split=0.8)"
   ]
  },
  {
   "cell_type": "code",
   "execution_count": 175,
   "metadata": {},
   "outputs": [],
   "source": [
    "#check against original\n",
    "def unbin(arr):\n",
    "    index = np.argmax(arr)\n",
    "    return index/14*2-1\n",
    "#     return index"
   ]
  },
  {
   "cell_type": "code",
   "execution_count": 174,
   "metadata": {},
   "outputs": [
    {
     "data": {
      "text/plain": [
       "0.0"
      ]
     },
     "execution_count": 174,
     "metadata": {},
     "output_type": "execute_result"
    }
   ],
   "source": [
    "unbin([0, 0, 0, 0, 0, 0, 0, 1, 0, 0, 0, 0, 0, 0, 0])"
   ]
  },
  {
   "cell_type": "code",
   "execution_count": 176,
   "metadata": {},
   "outputs": [],
   "source": [
    "def run(img_arr):\n",
    "    img_arr = img_arr.reshape((1,) + img_arr.shape)\n",
    "    angle_binned, throttle = model.predict(img_arr)\n",
    "    angle_unbinned = unbin(angle_binned[0])\n",
    "    return angle_unbinned, throttle[0][0]"
   ]
  },
  {
   "cell_type": "code",
   "execution_count": 194,
   "metadata": {},
   "outputs": [
    {
     "data": {
      "image/png": "[encoded data removed]",
      "text/plain": [
       "<PIL.JpegImagePlugin.JpegImageFile image mode=RGB size=160x120 at 0x2119C0EA780>"
      ]
     },
     "execution_count": 194,
     "metadata": {},
     "output_type": "execute_result"
    }
   ],
   "source": [
    "img_name = df['cam/image_array'][150]\n",
    "img = Image.open(f'{PATH}/{img_name}')\n",
    "img"
   ]
  },
  {
   "cell_type": "code",
   "execution_count": 195,
   "metadata": {},
   "outputs": [],
   "source": [
    "val = np.array(img)"
   ]
  },
  {
   "cell_type": "code",
   "execution_count": 196,
   "metadata": {},
   "outputs": [
    {
     "data": {
      "text/plain": [
       "(120, 160, 3)"
      ]
     },
     "execution_count": 196,
     "metadata": {},
     "output_type": "execute_result"
    }
   ],
   "source": [
    "val.shape"
   ]
  },
  {
   "cell_type": "code",
   "execution_count": 198,
   "metadata": {},
   "outputs": [
    {
     "data": {
      "text/plain": [
       "(-0.4285714285714286, 0.31011686)"
      ]
     },
     "execution_count": 198,
     "metadata": {},
     "output_type": "execute_result"
    }
   ],
   "source": [
    "#prediction\n",
    "run(val)"
   ]
  },
  {
   "cell_type": "code",
   "execution_count": 199,
   "metadata": {},
   "outputs": [
    {
     "data": {
      "text/plain": [
       "(-0.42, 0.27)"
      ]
     },
     "execution_count": 199,
     "metadata": {},
     "output_type": "execute_result"
    }
   ],
   "source": [
    "#compare to actual data\n",
    "df['user/angle'][150], df['user/throttle'][150]"
   ]
  },
  {
   "cell_type": "code",
   "execution_count": null,
   "metadata": {},
   "outputs": [],
   "source": []
  }
 ],
 "metadata": {
  "kernelspec": {
   "display_name": "Python 3",
   "language": "python",
   "name": "python3"
  },
  "language_info": {
   "codemirror_mode": {
    "name": "ipython",
    "version": 3
   },
   "file_extension": ".py",
   "mimetype": "text/x-python",
   "name": "python",
   "nbconvert_exporter": "python",
   "pygments_lexer": "ipython3",
   "version": "3.6.5"
  }
 },
 "nbformat": 4,
 "nbformat_minor": 2
}
