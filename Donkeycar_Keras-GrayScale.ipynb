{
 "cells": [
  {
   "cell_type": "code",
   "execution_count": 1,
   "metadata": {},
   "outputs": [],
   "source": [
    "import os\n",
    "import sys\n",
    "import time\n",
    "import json\n",
    "import datetime\n",
    "import random\n",
    "import tarfile\n",
    "\n",
    "import numpy as np\n",
    "import pandas as pd\n",
    "from PIL import Image\n",
    "PATH = \"../tubs/tub5\" #Shadow"
   ]
  },
  {
   "cell_type": "code",
   "execution_count": 2,
   "metadata": {},
   "outputs": [
    {
     "name": "stdout",
     "output_type": "stream",
     "text": [
      "1.8.0\n"
     ]
    }
   ],
   "source": [
    "#make sure tensorflow version is the same as one installed on donkeycar (1.8.0)\n",
    "import tensorflow as tf\n",
    "print(tf.__version__)"
   ]
  },
  {
   "cell_type": "code",
   "execution_count": 3,
   "metadata": {},
   "outputs": [
    {
     "data": {
      "text/plain": [
       "['/device:GPU:0']"
      ]
     },
     "execution_count": 3,
     "metadata": {},
     "output_type": "execute_result"
    }
   ],
   "source": [
    "from tensorflow.python.client import device_lib\n",
    "\n",
    "def get_available_gpus():\n",
    "    local_device_protos = device_lib.list_local_devices()\n",
    "    return [x.name for x in local_device_protos if x.device_type == 'GPU']\n",
    "get_available_gpus()"
   ]
  },
  {
   "cell_type": "code",
   "execution_count": 4,
   "metadata": {},
   "outputs": [],
   "source": [
    "#create df from path\n",
    "def df_from_jsons(PATH, max_items=None):\n",
    "    \n",
    "    #Get json files from path\n",
    "    json_files = [file for file in os.listdir(PATH) if file.endswith('json') ]\n",
    "    \n",
    "    df = pd.DataFrame()\n",
    "    for i, j in enumerate(json_files[1:max_items]):\n",
    "        with open(f'{PATH}/{j}') as f:\n",
    "            data = json.load(f)\n",
    "\n",
    "            userThrottle = data[\"user/throttle\"]\n",
    "            userAngle = data[\"user/angle\"]\n",
    "            camImage_path = data[\"cam/image_array\"]\n",
    "            index = int(camImage_path[:-21])\n",
    "            camImage_path =  PATH + \"/\" + camImage_path\n",
    "            df_row = pd.DataFrame([[userThrottle, userAngle, camImage_path]], index = [index], \n",
    "                                  columns = [\"user/throttle\", \"user/angle\", \"cam/image_array\"])\n",
    "\n",
    "            df = df.append(df_row)\n",
    "    df = df.sort_index()\n",
    "    print(\"Loaded {} json files\".format(len(json_files)))\n",
    "    return df"
   ]
  },
  {
   "cell_type": "code",
   "execution_count": 18,
   "metadata": {},
   "outputs": [
    {
     "name": "stdout",
     "output_type": "stream",
     "text": [
      "Loaded 38575 json files\n"
     ]
    }
   ],
   "source": [
    "#df = df_from_jsons(PATH, max_items=None)"
   ]
  },
  {
   "cell_type": "code",
   "execution_count": 45,
   "metadata": {},
   "outputs": [],
   "source": [
    "#df.to_feather('tmp/df_wPath_extra')"
   ]
  },
  {
   "cell_type": "code",
   "execution_count": 5,
   "metadata": {},
   "outputs": [
    {
     "name": "stderr",
     "output_type": "stream",
     "text": [
      "C:\\Users\\Jason\\Anaconda3\\envs\\tf-gpu\\lib\\site-packages\\pandas\\io\\feather_format.py:112: FutureWarning: `nthreads` argument is deprecated, pass `use_threads` instead\n",
      "  return feather.read_dataframe(path, nthreads=nthreads)\n"
     ]
    }
   ],
   "source": [
    "df = pd.read_feather('tmp/df_wPath')"
   ]
  },
  {
   "cell_type": "code",
   "execution_count": 6,
   "metadata": {},
   "outputs": [
    {
     "data": {
      "text/plain": [
       "(38574, 3)"
      ]
     },
     "execution_count": 6,
     "metadata": {},
     "output_type": "execute_result"
    }
   ],
   "source": [
    "df.shape"
   ]
  },
  {
   "cell_type": "code",
   "execution_count": 7,
   "metadata": {},
   "outputs": [
    {
     "data": {
      "text/html": [
       "<div>\n",
       "<style scoped>\n",
       "    .dataframe tbody tr th:only-of-type {\n",
       "        vertical-align: middle;\n",
       "    }\n",
       "\n",
       "    .dataframe tbody tr th {\n",
       "        vertical-align: top;\n",
       "    }\n",
       "\n",
       "    .dataframe thead th {\n",
       "        text-align: right;\n",
       "    }\n",
       "</style>\n",
       "<table border=\"1\" class=\"dataframe\">\n",
       "  <thead>\n",
       "    <tr style=\"text-align: right;\">\n",
       "      <th></th>\n",
       "      <th>user/throttle</th>\n",
       "      <th>user/angle</th>\n",
       "      <th>cam/image_array</th>\n",
       "    </tr>\n",
       "  </thead>\n",
       "  <tbody>\n",
       "    <tr>\n",
       "      <th>0</th>\n",
       "      <td>0.08</td>\n",
       "      <td>0.01</td>\n",
       "      <td>../tubs/tub5/0_cam-image_array_.jpg</td>\n",
       "    </tr>\n",
       "    <tr>\n",
       "      <th>1</th>\n",
       "      <td>0.12</td>\n",
       "      <td>-0.03</td>\n",
       "      <td>../tubs/tub5/1_cam-image_array_.jpg</td>\n",
       "    </tr>\n",
       "    <tr>\n",
       "      <th>2</th>\n",
       "      <td>0.12</td>\n",
       "      <td>-0.03</td>\n",
       "      <td>../tubs/tub5/2_cam-image_array_.jpg</td>\n",
       "    </tr>\n",
       "    <tr>\n",
       "      <th>3</th>\n",
       "      <td>0.14</td>\n",
       "      <td>-0.06</td>\n",
       "      <td>../tubs/tub5/3_cam-image_array_.jpg</td>\n",
       "    </tr>\n",
       "    <tr>\n",
       "      <th>4</th>\n",
       "      <td>0.14</td>\n",
       "      <td>-0.06</td>\n",
       "      <td>../tubs/tub5/4_cam-image_array_.jpg</td>\n",
       "    </tr>\n",
       "  </tbody>\n",
       "</table>\n",
       "</div>"
      ],
      "text/plain": [
       "   user/throttle  user/angle                      cam/image_array\n",
       "0           0.08        0.01  ../tubs/tub5/0_cam-image_array_.jpg\n",
       "1           0.12       -0.03  ../tubs/tub5/1_cam-image_array_.jpg\n",
       "2           0.12       -0.03  ../tubs/tub5/2_cam-image_array_.jpg\n",
       "3           0.14       -0.06  ../tubs/tub5/3_cam-image_array_.jpg\n",
       "4           0.14       -0.06  ../tubs/tub5/4_cam-image_array_.jpg"
      ]
     },
     "execution_count": 7,
     "metadata": {},
     "output_type": "execute_result"
    }
   ],
   "source": [
    "df.head()"
   ]
  },
  {
   "cell_type": "code",
   "execution_count": 8,
   "metadata": {},
   "outputs": [],
   "source": [
    "X_keys = ['cam/image_array']\n",
    "y_keys = ['user/angle', 'user/throttle']\n",
    "PATH\n",
    "new_model_path = 'models/pilot_jn'\n",
    "bs = 128\n",
    "train_frac = 0.8"
   ]
  },
  {
   "cell_type": "code",
   "execution_count": 9,
   "metadata": {},
   "outputs": [],
   "source": [
    "def to_bin(a):\n",
    "    arr = np.zeros(15)\n",
    "    a = a + 1\n",
    "    b = round(a/(2/14))\n",
    "    arr[int(b)] = 1\n",
    "    return arr"
   ]
  },
  {
   "cell_type": "code",
   "execution_count": 10,
   "metadata": {},
   "outputs": [],
   "source": [
    "def read_record(record_dict, path = PATH):\n",
    "    data = {}\n",
    "    for key, val in record_dict.items():\n",
    "        if key == 'cam/image_array':\n",
    "            img = Image.open(f'{val}')\n",
    "            val = np.array(img)\n",
    "        \n",
    "        data[key] = val\n",
    "    return data"
   ]
  },
  {
   "cell_type": "code",
   "execution_count": 11,
   "metadata": {},
   "outputs": [
    {
     "data": {
      "image/png": "[encoded data removed]",
      "text/plain": [
       "<PIL.Image.Image image mode=RGB size=160x120 at 0x2B557634470>"
      ]
     },
     "execution_count": 11,
     "metadata": {},
     "output_type": "execute_result"
    }
   ],
   "source": [
    "#Testing\n",
    "df_t = df.sample(n=1).to_dict(orient='record')[0]\n",
    "record = read_record(df_t)\n",
    "data = record['cam/image_array']\n",
    "pic = Image.fromarray(data, 'RGB')\n",
    "pic"
   ]
  },
  {
   "cell_type": "code",
   "execution_count": 12,
   "metadata": {},
   "outputs": [
    {
     "data": {
      "image/png": "[encoded data removed]",
      "text/plain": [
       "<PIL.Image.Image image mode=L size=160x120 at 0x19842F98B38>"
      ]
     },
     "execution_count": 12,
     "metadata": {},
     "output_type": "execute_result"
    }
   ],
   "source": [
    "pic_gray=pic.convert(\"L\")\n",
    "pic_gray"
   ]
  },
  {
   "cell_type": "code",
   "execution_count": 46,
   "metadata": {},
   "outputs": [],
   "source": [
    "pic_gray_arr = np.array(pic_gray)"
   ]
  },
  {
   "cell_type": "code",
   "execution_count": 48,
   "metadata": {},
   "outputs": [
    {
     "data": {
      "text/plain": [
       "(120, 160)"
      ]
     },
     "execution_count": 48,
     "metadata": {},
     "output_type": "execute_result"
    }
   ],
   "source": [
    "pic_gray_arr.shape"
   ]
  },
  {
   "cell_type": "code",
   "execution_count": 49,
   "metadata": {},
   "outputs": [
    {
     "data": {
      "image/png": "[encoded data removed]",
      "text/plain": [
       "<PIL.Image.Image image mode=L size=160x120 at 0x1E35C377C50>"
      ]
     },
     "execution_count": 49,
     "metadata": {},
     "output_type": "execute_result"
    }
   ],
   "source": [
    "Image.fromarray(pic_gray_arr, \"L\")"
   ]
  },
  {
   "cell_type": "code",
   "execution_count": 12,
   "metadata": {},
   "outputs": [],
   "source": [
    "def get_record_gen(record_transform=None, shuffle=True, df=None):\n",
    "    while True:\n",
    "        for _ in df.iterrows():\n",
    "            if shuffle:\n",
    "                record_dict = df.sample(n=1).to_dict(orient='record')[0]\n",
    "            \n",
    "            record_dict = read_record(record_dict)\n",
    "            \n",
    "            if record_transform:\n",
    "                record_dict = record_transform(record_dict)\n",
    "            \n",
    "            yield record_dict"
   ]
  },
  {
   "cell_type": "code",
   "execution_count": 13,
   "metadata": {},
   "outputs": [],
   "source": [
    "# record_gen = get_record_gen(record_transform=None, shuffle=True, df=df)"
   ]
  },
  {
   "cell_type": "code",
   "execution_count": 14,
   "metadata": {},
   "outputs": [],
   "source": [
    "# next(record_gen)"
   ]
  },
  {
   "cell_type": "code",
   "execution_count": 15,
   "metadata": {},
   "outputs": [],
   "source": [
    "def get_batch_gen(keys=None, batch_size=128, record_transform=None, shuffle=True, df=None):\n",
    "    \n",
    "    record_gen = get_record_gen(record_transform=record_transform, shuffle=shuffle, df=df)\n",
    "    \n",
    "    while True:\n",
    "        record_list = [next(record_gen) for _ in range(batch_size)]\n",
    "        \n",
    "        batch_arrays = {}\n",
    "        for i, k in enumerate(keys):\n",
    "            arr = np.array([r[k] for r in record_list])\n",
    "            batch_arrays[k] = arr\n",
    "        yield batch_arrays"
   ]
  },
  {
   "cell_type": "code",
   "execution_count": 16,
   "metadata": {},
   "outputs": [],
   "source": [
    "def get_train_gen(X_keys, Y_keys, batch_size=128, record_transform=None, df=None): #\n",
    "    batch_gen = get_batch_gen(X_keys + Y_keys, batch_size=batch_size,\n",
    "                                  record_transform=record_transform, df=df)\n",
    "    while True:\n",
    "        batch = next(batch_gen)\n",
    "        X = [batch[k] for k in X_keys]\n",
    "        Y = [batch[k] for k in Y_keys] \n",
    "        yield X, Y"
   ]
  },
  {
   "cell_type": "code",
   "execution_count": 17,
   "metadata": {},
   "outputs": [],
   "source": [
    "def get_train_val_gen(df, X_keys, Y_keys, batch_size = 128, train_frac=0.8, #\n",
    "                      train_record_transform=None, val_record_transform=None): #\n",
    "    train_df = df.sample(frac=train_frac, random_state=200) #\n",
    "    val_df = df.drop(train_df.index) #\n",
    "    \n",
    "    train_gen = get_train_gen(X_keys=X_keys, Y_keys=Y_keys, batch_size=batch_size,\n",
    "                             record_transform=train_record_transform, df=train_df)\n",
    "    val_gen = get_train_gen(X_keys=X_keys, Y_keys=Y_keys, batch_size=batch_size,\n",
    "                           record_transform=val_record_transform, df=val_df)\n",
    "    return train_gen, val_gen\n",
    "    "
   ]
  },
  {
   "cell_type": "code",
   "execution_count": 18,
   "metadata": {},
   "outputs": [],
   "source": [
    "def record_transform(record):\n",
    "    record['user/angle'] = to_bin(record['user/angle'])\n",
    "    return record"
   ]
  },
  {
   "cell_type": "code",
   "execution_count": 19,
   "metadata": {},
   "outputs": [],
   "source": [
    "train_gen, val_gen = get_train_val_gen(df, X_keys, y_keys,\n",
    "                                               train_record_transform=record_transform, #\n",
    "                                               val_record_transform=record_transform, #\n",
    "                                               batch_size=bs, #\n",
    "                                               train_frac=train_frac) #"
   ]
  },
  {
   "cell_type": "code",
   "execution_count": 20,
   "metadata": {},
   "outputs": [],
   "source": [
    "from tensorflow.python.keras.layers import Input\n",
    "from tensorflow.python.keras.models import Model, load_model\n",
    "from tensorflow.python.keras.layers import Convolution2D\n",
    "from tensorflow.python.keras.layers import Dropout, Flatten, Dense, Cropping2D, Lambda\n",
    "from tensorflow.python.keras.callbacks import ModelCheckpoint, EarlyStopping"
   ]
  },
  {
   "cell_type": "code",
   "execution_count": 21,
   "metadata": {},
   "outputs": [],
   "source": [
    "def default_categorical():\n",
    "    img_in = Input(shape=(120, 160, 3),\n",
    "                   name='img_in')  # First layer, input layer, Shape comes from camera.py resolution, RGB\n",
    "    x = img_in\n",
    "    x = Convolution2D(24, (5, 5), strides=(2, 2), activation='relu')(\n",
    "        x)  # 24 features, 5 pixel x 5 pixel kernel (convolution, feauture) window, 2wx2h stride, relu activation\n",
    "    x = Convolution2D(32, (5, 5), strides=(2, 2), activation='relu')(\n",
    "        x)  # 32 features, 5px5p kernel window, 2wx2h stride, relu activatiion\n",
    "    x = Convolution2D(64, (5, 5), strides=(2, 2), activation='relu')(\n",
    "        x)  # 64 features, 5px5p kernal window, 2wx2h stride, relu\n",
    "    x = Convolution2D(64, (3, 3), strides=(2, 2), activation='relu')(\n",
    "        x)  # 64 features, 3px3p kernal window, 2wx2h stride, relu\n",
    "    x = Convolution2D(64, (3, 3), strides=(1, 1), activation='relu')(\n",
    "        x)  # 64 features, 3px3p kernal window, 1wx1h stride, relu\n",
    "\n",
    "    # Possibly add MaxPooling (will make it less sensitive to position in image).  Camera angle fixed, so may not to be needed\n",
    "    x = Dropout(0.5)(x)\n",
    "    x = Flatten(name='flattened')(x)  # Flatten to 1D (Fully connected)\n",
    "#     x = Dense(100, activation='relu')(x)  # Classify the data into 100 features, make all negatives 0\n",
    "#     x = Dropout(.3)(x)  # Randomly drop out (turn off) 10% of the neurons (Prevent overfitting)\n",
    "    x = Dense(50, activation='relu')(x)  # Classify the data into 50 features, make all negatives 0\n",
    "    x = Dropout(.5)(x)  # Randomly drop out 10% of the neurons (Prevent overfitting)\n",
    "    # categorical output of the angle\n",
    "    angle_out = Dense(15, activation='softmax', name='angle_out')(\n",
    "        x)  # Connect every input with every output and output 15 hidden units. Use Softmax to give percentage. 15 categories and find best one based off percentage 0.0-1.0\n",
    "\n",
    "    # continous output of throttle\n",
    "    throttle_out = Dense(1, activation='relu', name='throttle_out')(x)  # Reduce to 1 number, Positive number only\n",
    "\n",
    "    model = Model(inputs=[img_in], outputs=[angle_out, throttle_out])\n",
    "    model.compile(optimizer='adam',\n",
    "                  loss={'angle_out': 'categorical_crossentropy',\n",
    "                        'throttle_out': 'mean_absolute_error'},\n",
    "                  loss_weights={'angle_out': 0.9, 'throttle_out': .01})\n",
    "\n",
    "    return model"
   ]
  },
  {
   "cell_type": "code",
   "execution_count": 22,
   "metadata": {},
   "outputs": [
    {
     "name": "stdout",
     "output_type": "stream",
     "text": [
      "__________________________________________________________________________________________________\n",
      "Layer (type)                    Output Shape         Param #     Connected to                     \n",
      "==================================================================================================\n",
      "img_in (InputLayer)             (None, 120, 160, 3)  0                                            \n",
      "__________________________________________________________________________________________________\n",
      "conv2d_1 (Conv2D)               (None, 58, 78, 24)   1824        img_in[0][0]                     \n",
      "__________________________________________________________________________________________________\n",
      "conv2d_2 (Conv2D)               (None, 27, 37, 32)   19232       conv2d_1[0][0]                   \n",
      "__________________________________________________________________________________________________\n",
      "conv2d_3 (Conv2D)               (None, 12, 17, 64)   51264       conv2d_2[0][0]                   \n",
      "__________________________________________________________________________________________________\n",
      "conv2d_4 (Conv2D)               (None, 5, 8, 64)     36928       conv2d_3[0][0]                   \n",
      "__________________________________________________________________________________________________\n",
      "conv2d_5 (Conv2D)               (None, 3, 6, 64)     36928       conv2d_4[0][0]                   \n",
      "__________________________________________________________________________________________________\n",
      "dropout_1 (Dropout)             (None, 3, 6, 64)     0           conv2d_5[0][0]                   \n",
      "__________________________________________________________________________________________________\n",
      "flattened (Flatten)             (None, 1152)         0           dropout_1[0][0]                  \n",
      "__________________________________________________________________________________________________\n",
      "dense_1 (Dense)                 (None, 50)           57650       flattened[0][0]                  \n",
      "__________________________________________________________________________________________________\n",
      "dropout_2 (Dropout)             (None, 50)           0           dense_1[0][0]                    \n",
      "__________________________________________________________________________________________________\n",
      "angle_out (Dense)               (None, 15)           765         dropout_2[0][0]                  \n",
      "__________________________________________________________________________________________________\n",
      "throttle_out (Dense)            (None, 1)            51          dropout_2[0][0]                  \n",
      "==================================================================================================\n",
      "Total params: 204,642\n",
      "Trainable params: 204,642\n",
      "Non-trainable params: 0\n",
      "__________________________________________________________________________________________________\n"
     ]
    }
   ],
   "source": [
    "model = default_categorical()\n",
    "model.summary()"
   ]
  },
  {
   "cell_type": "code",
   "execution_count": 23,
   "metadata": {},
   "outputs": [],
   "source": [
    "def train(train_gen, val_gen, saved_model_path, epochs=100, steps=100, train_split=0.8,\n",
    "         verbose=1, min_delta=0.0005, patience=5, use_early_stop=True):\n",
    "    \n",
    "#     checkpoint to save model\n",
    "    save_best = ModelCheckpoint(saved_model_path, monitor='val_loss', verbose=verbose, save_best_only=True, mode='min')\n",
    "    \n",
    "    #stop training if stop improving\n",
    "    early_stop = EarlyStopping(monitor='val_loss', min_delta=min_delta, patience=patience, verbose=verbose, mode='auto')\n",
    "    \n",
    "    callbacks_list = [save_best]\n",
    "    \n",
    "    if use_early_stop:\n",
    "        callbacks_list.append(early_stop)\n",
    "        \n",
    "    hist = model.fit_generator(train_gen, steps_per_epoch=steps, epochs=epochs, verbose=1, validation_data=val_gen,\n",
    "                                callbacks=callbacks_list, validation_steps=steps * (1.0 - train_frac)//train_frac)\n",
    "    return hist"
   ]
  },
  {
   "cell_type": "code",
   "execution_count": 24,
   "metadata": {},
   "outputs": [
    {
     "data": {
      "text/plain": [
       "241"
      ]
     },
     "execution_count": 24,
     "metadata": {},
     "output_type": "execute_result"
    }
   ],
   "source": [
    "total_records = len(df)\n",
    "total_train = int(total_records * train_frac)\n",
    "total_val = total_records - total_train\n",
    "steps_per_epoch = total_train // bs\n",
    "steps_per_epoch"
   ]
  },
  {
   "cell_type": "code",
   "execution_count": 25,
   "metadata": {
    "scrolled": false
   },
   "outputs": [
    {
     "name": "stdout",
     "output_type": "stream",
     "text": [
      "Epoch 1/100\n",
      "240/241 [============================>.] - ETA: 0s - loss: 1.9967 - angle_out_loss: 2.2141 - throttle_out_loss: 0.3983\n",
      "Epoch 00001: val_loss improved from inf to 1.40431, saving model to models/pilot_jn\n",
      "241/241 [==============================] - 113s 468ms/step - loss: 1.9944 - angle_out_loss: 2.2116 - throttle_out_loss: 0.3981 - val_loss: 1.4043 - val_angle_out_loss: 1.5568 - val_throttle_out_loss: 0.3197\n",
      "Epoch 2/100\n",
      "240/241 [============================>.] - ETA: 0s - loss: 1.4696 - angle_out_loss: 1.6293 - throttle_out_loss: 0.3239\n",
      "Epoch 00002: val_loss improved from 1.40431 to 1.29580, saving model to models/pilot_jn\n",
      "241/241 [==============================] - 91s 378ms/step - loss: 1.4694 - angle_out_loss: 1.6291 - throttle_out_loss: 0.3239 - val_loss: 1.2958 - val_angle_out_loss: 1.4362 - val_throttle_out_loss: 0.3190\n",
      "Epoch 3/100\n",
      "240/241 [============================>.] - ETA: 0s - loss: 1.3608 - angle_out_loss: 1.5084 - throttle_out_loss: 0.3220\n",
      "Epoch 00003: val_loss improved from 1.29580 to 1.23179, saving model to models/pilot_jn\n",
      "241/241 [==============================] - 86s 356ms/step - loss: 1.3600 - angle_out_loss: 1.5075 - throttle_out_loss: 0.3220 - val_loss: 1.2318 - val_angle_out_loss: 1.3651 - val_throttle_out_loss: 0.3185\n",
      "Epoch 4/100\n",
      "240/241 [============================>.] - ETA: 0s - loss: 1.2849 - angle_out_loss: 1.4241 - throttle_out_loss: 0.3221\n",
      "Epoch 00004: val_loss improved from 1.23179 to 1.19156, saving model to models/pilot_jn\n",
      "241/241 [==============================] - 85s 352ms/step - loss: 1.2847 - angle_out_loss: 1.4238 - throttle_out_loss: 0.3221 - val_loss: 1.1916 - val_angle_out_loss: 1.3204 - val_throttle_out_loss: 0.3199\n",
      "Epoch 5/100\n",
      "240/241 [============================>.] - ETA: 0s - loss: 1.2389 - angle_out_loss: 1.3730 - throttle_out_loss: 0.3216\n",
      "Epoch 00005: val_loss improved from 1.19156 to 1.17616, saving model to models/pilot_jn\n",
      "241/241 [==============================] - 85s 354ms/step - loss: 1.2379 - angle_out_loss: 1.3718 - throttle_out_loss: 0.3216 - val_loss: 1.1762 - val_angle_out_loss: 1.3033 - val_throttle_out_loss: 0.3177\n",
      "Epoch 6/100\n",
      "240/241 [============================>.] - ETA: 0s - loss: 1.1944 - angle_out_loss: 1.3235 - throttle_out_loss: 0.3219\n",
      "Epoch 00006: val_loss improved from 1.17616 to 1.14642, saving model to models/pilot_jn\n",
      "241/241 [==============================] - 83s 346ms/step - loss: 1.1941 - angle_out_loss: 1.3232 - throttle_out_loss: 0.3219 - val_loss: 1.1464 - val_angle_out_loss: 1.2703 - val_throttle_out_loss: 0.3199\n",
      "Epoch 7/100\n",
      "240/241 [============================>.] - ETA: 0s - loss: 1.1550 - angle_out_loss: 1.2798 - throttle_out_loss: 0.3215\n",
      "Epoch 00007: val_loss improved from 1.14642 to 1.08981, saving model to models/pilot_jn\n",
      "241/241 [==============================] - 83s 346ms/step - loss: 1.1551 - angle_out_loss: 1.2798 - throttle_out_loss: 0.3215 - val_loss: 1.0898 - val_angle_out_loss: 1.2074 - val_throttle_out_loss: 0.3184\n",
      "Epoch 8/100\n",
      "240/241 [============================>.] - ETA: 0s - loss: 1.1106 - angle_out_loss: 1.2305 - throttle_out_loss: 0.3210\n",
      "Epoch 00008: val_loss did not improve\n",
      "241/241 [==============================] - 84s 348ms/step - loss: 1.1108 - angle_out_loss: 1.2307 - throttle_out_loss: 0.3211 - val_loss: 1.0956 - val_angle_out_loss: 1.2138 - val_throttle_out_loss: 0.3199\n",
      "Epoch 9/100\n",
      "240/241 [============================>.] - ETA: 0s - loss: 1.0761 - angle_out_loss: 1.1921 - throttle_out_loss: 0.3219\n",
      "Epoch 00009: val_loss improved from 1.08981 to 1.05536, saving model to models/pilot_jn\n",
      "241/241 [==============================] - 83s 344ms/step - loss: 1.0763 - angle_out_loss: 1.1923 - throttle_out_loss: 0.3219 - val_loss: 1.0554 - val_angle_out_loss: 1.1691 - val_throttle_out_loss: 0.3193\n",
      "Epoch 10/100\n",
      "240/241 [============================>.] - ETA: 0s - loss: 1.0445 - angle_out_loss: 1.1570 - throttle_out_loss: 0.3214\n",
      "Epoch 00010: val_loss improved from 1.05536 to 1.03918, saving model to models/pilot_jn\n",
      "241/241 [==============================] - 83s 345ms/step - loss: 1.0445 - angle_out_loss: 1.1570 - throttle_out_loss: 0.3214 - val_loss: 1.0392 - val_angle_out_loss: 1.1511 - val_throttle_out_loss: 0.3192\n",
      "Epoch 11/100\n",
      "240/241 [============================>.] - ETA: 0s - loss: 1.0039 - angle_out_loss: 1.1119 - throttle_out_loss: 0.3218\n",
      "Epoch 00011: val_loss improved from 1.03918 to 1.03282, saving model to models/pilot_jn\n",
      "241/241 [==============================] - 83s 346ms/step - loss: 1.0036 - angle_out_loss: 1.1116 - throttle_out_loss: 0.3218 - val_loss: 1.0328 - val_angle_out_loss: 1.1440 - val_throttle_out_loss: 0.3206\n",
      "Epoch 12/100\n",
      "240/241 [============================>.] - ETA: 0s - loss: 0.9833 - angle_out_loss: 1.0890 - throttle_out_loss: 0.3213\n",
      "Epoch 00012: val_loss improved from 1.03282 to 0.97754, saving model to models/pilot_jn\n",
      "241/241 [==============================] - 83s 346ms/step - loss: 0.9832 - angle_out_loss: 1.0888 - throttle_out_loss: 0.3213 - val_loss: 0.9775 - val_angle_out_loss: 1.0826 - val_throttle_out_loss: 0.3184\n",
      "Epoch 13/100\n",
      "240/241 [============================>.] - ETA: 0s - loss: 0.9537 - angle_out_loss: 1.0561 - throttle_out_loss: 0.3210\n",
      "Epoch 00013: val_loss did not improve\n",
      "241/241 [==============================] - 85s 353ms/step - loss: 0.9539 - angle_out_loss: 1.0563 - throttle_out_loss: 0.3210 - val_loss: 0.9973 - val_angle_out_loss: 1.1045 - val_throttle_out_loss: 0.3207\n",
      "Epoch 14/100\n",
      "240/241 [============================>.] - ETA: 0s - loss: 0.9223 - angle_out_loss: 1.0212 - throttle_out_loss: 0.3216\n",
      "Epoch 00014: val_loss improved from 0.97754 to 0.94750, saving model to models/pilot_jn\n",
      "241/241 [==============================] - 84s 347ms/step - loss: 0.9223 - angle_out_loss: 1.0212 - throttle_out_loss: 0.3216 - val_loss: 0.9475 - val_angle_out_loss: 1.0492 - val_throttle_out_loss: 0.3198\n",
      "Epoch 15/100\n",
      "240/241 [============================>.] - ETA: 0s - loss: 0.8925 - angle_out_loss: 0.9880 - throttle_out_loss: 0.3214\n",
      "Epoch 00015: val_loss did not improve\n",
      "241/241 [==============================] - 83s 344ms/step - loss: 0.8931 - angle_out_loss: 0.9888 - throttle_out_loss: 0.3214 - val_loss: 0.9830 - val_angle_out_loss: 1.0887 - val_throttle_out_loss: 0.3183\n",
      "Epoch 16/100\n",
      "240/241 [============================>.] - ETA: 0s - loss: 0.8685 - angle_out_loss: 0.9615 - throttle_out_loss: 0.3216\n",
      "Epoch 00016: val_loss improved from 0.94750 to 0.92238, saving model to models/pilot_jn\n",
      "241/241 [==============================] - 84s 347ms/step - loss: 0.8683 - angle_out_loss: 0.9612 - throttle_out_loss: 0.3215 - val_loss: 0.9224 - val_angle_out_loss: 1.0213 - val_throttle_out_loss: 0.3197\n",
      "Epoch 17/100\n",
      "240/241 [============================>.] - ETA: 0s - loss: 0.8499 - angle_out_loss: 0.9408 - throttle_out_loss: 0.3214\n",
      "Epoch 00017: val_loss did not improve\n",
      "241/241 [==============================] - 83s 346ms/step - loss: 0.8496 - angle_out_loss: 0.9404 - throttle_out_loss: 0.3214 - val_loss: 0.9304 - val_angle_out_loss: 1.0302 - val_throttle_out_loss: 0.3194\n",
      "Epoch 18/100\n",
      "240/241 [============================>.] - ETA: 0s - loss: 0.8194 - angle_out_loss: 0.9069 - throttle_out_loss: 0.3208\n",
      "Epoch 00018: val_loss improved from 0.92238 to 0.87903, saving model to models/pilot_jn\n",
      "241/241 [==============================] - 83s 346ms/step - loss: 0.8194 - angle_out_loss: 0.9069 - throttle_out_loss: 0.3208 - val_loss: 0.8790 - val_angle_out_loss: 0.9731 - val_throttle_out_loss: 0.3198\n",
      "Epoch 19/100\n",
      "240/241 [============================>.] - ETA: 0s - loss: 0.8015 - angle_out_loss: 0.8869 - throttle_out_loss: 0.3207\n",
      "Epoch 00019: val_loss did not improve\n",
      "241/241 [==============================] - 84s 347ms/step - loss: 0.8010 - angle_out_loss: 0.8865 - throttle_out_loss: 0.3207 - val_loss: 0.8801 - val_angle_out_loss: 0.9744 - val_throttle_out_loss: 0.3191\n",
      "Epoch 20/100\n",
      "240/241 [============================>.] - ETA: 0s - loss: 0.7811 - angle_out_loss: 0.8643 - throttle_out_loss: 0.3206\n",
      "Epoch 00020: val_loss did not improve\n",
      "241/241 [==============================] - 84s 348ms/step - loss: 0.7811 - angle_out_loss: 0.8643 - throttle_out_loss: 0.3206 - val_loss: 0.9566 - val_angle_out_loss: 1.0594 - val_throttle_out_loss: 0.3195\n"
     ]
    },
    {
     "name": "stdout",
     "output_type": "stream",
     "text": [
      "Epoch 21/100\n",
      "240/241 [============================>.] - ETA: 0s - loss: 0.7702 - angle_out_loss: 0.8522 - throttle_out_loss: 0.3210\n",
      "Epoch 00021: val_loss did not improve\n",
      "241/241 [==============================] - 85s 352ms/step - loss: 0.7702 - angle_out_loss: 0.8522 - throttle_out_loss: 0.3210 - val_loss: 0.8865 - val_angle_out_loss: 0.9815 - val_throttle_out_loss: 0.3198\n",
      "Epoch 22/100\n",
      "240/241 [============================>.] - ETA: 0s - loss: 0.7579 - angle_out_loss: 0.8385 - throttle_out_loss: 0.3216\n",
      "Epoch 00022: val_loss did not improve\n",
      "241/241 [==============================] - 83s 344ms/step - loss: 0.7581 - angle_out_loss: 0.8387 - throttle_out_loss: 0.3216 - val_loss: 0.9242 - val_angle_out_loss: 1.0234 - val_throttle_out_loss: 0.3199\n",
      "Epoch 23/100\n",
      "240/241 [============================>.] - ETA: 0s - loss: 0.7469 - angle_out_loss: 0.8263 - throttle_out_loss: 0.3212\n",
      "Epoch 00023: val_loss improved from 0.87903 to 0.87054, saving model to models/pilot_jn\n",
      "241/241 [==============================] - 83s 343ms/step - loss: 0.7472 - angle_out_loss: 0.8267 - throttle_out_loss: 0.3212 - val_loss: 0.8705 - val_angle_out_loss: 0.9637 - val_throttle_out_loss: 0.3200\n",
      "Epoch 24/100\n",
      "240/241 [============================>.] - ETA: 0s - loss: 0.7212 - angle_out_loss: 0.7977 - throttle_out_loss: 0.3210\n",
      "Epoch 00024: val_loss did not improve\n",
      "241/241 [==============================] - 84s 347ms/step - loss: 0.7207 - angle_out_loss: 0.7972 - throttle_out_loss: 0.3209 - val_loss: 0.9068 - val_angle_out_loss: 1.0041 - val_throttle_out_loss: 0.3190\n",
      "Epoch 25/100\n",
      "240/241 [============================>.] - ETA: 0s - loss: 0.7148 - angle_out_loss: 0.7907 - throttle_out_loss: 0.3214\n",
      "Epoch 00025: val_loss improved from 0.87054 to 0.86335, saving model to models/pilot_jn\n",
      "241/241 [==============================] - 83s 345ms/step - loss: 0.7148 - angle_out_loss: 0.7906 - throttle_out_loss: 0.3215 - val_loss: 0.8634 - val_angle_out_loss: 0.9557 - val_throttle_out_loss: 0.3202\n",
      "Epoch 26/100\n",
      "240/241 [============================>.] - ETA: 0s - loss: 0.6917 - angle_out_loss: 0.7650 - throttle_out_loss: 0.3216\n",
      "Epoch 00026: val_loss did not improve\n",
      "241/241 [==============================] - 83s 343ms/step - loss: 0.6913 - angle_out_loss: 0.7645 - throttle_out_loss: 0.3216 - val_loss: 0.8724 - val_angle_out_loss: 0.9658 - val_throttle_out_loss: 0.3183\n",
      "Epoch 27/100\n",
      "240/241 [============================>.] - ETA: 0s - loss: 0.6899 - angle_out_loss: 0.7630 - throttle_out_loss: 0.3204\n",
      "Epoch 00027: val_loss improved from 0.86335 to 0.85063, saving model to models/pilot_jn\n",
      "241/241 [==============================] - 84s 347ms/step - loss: 0.6895 - angle_out_loss: 0.7625 - throttle_out_loss: 0.3204 - val_loss: 0.8506 - val_angle_out_loss: 0.9416 - val_throttle_out_loss: 0.3194\n",
      "Epoch 28/100\n",
      "240/241 [============================>.] - ETA: 0s - loss: 0.6690 - angle_out_loss: 0.7397 - throttle_out_loss: 0.3209\n",
      "Epoch 00028: val_loss improved from 0.85063 to 0.84211, saving model to models/pilot_jn\n",
      "241/241 [==============================] - 83s 342ms/step - loss: 0.6684 - angle_out_loss: 0.7391 - throttle_out_loss: 0.3209 - val_loss: 0.8421 - val_angle_out_loss: 0.9321 - val_throttle_out_loss: 0.3196\n",
      "Epoch 29/100\n",
      "240/241 [============================>.] - ETA: 0s - loss: 0.6508 - angle_out_loss: 0.7195 - throttle_out_loss: 0.3215\n",
      "Epoch 00029: val_loss did not improve\n",
      "241/241 [==============================] - 84s 348ms/step - loss: 0.6503 - angle_out_loss: 0.7190 - throttle_out_loss: 0.3215 - val_loss: 0.8639 - val_angle_out_loss: 0.9564 - val_throttle_out_loss: 0.3192\n",
      "Epoch 30/100\n",
      "240/241 [============================>.] - ETA: 0s - loss: 0.6378 - angle_out_loss: 0.7051 - throttle_out_loss: 0.3209\n",
      "Epoch 00030: val_loss did not improve\n",
      "241/241 [==============================] - 83s 342ms/step - loss: 0.6375 - angle_out_loss: 0.7048 - throttle_out_loss: 0.3208 - val_loss: 0.8706 - val_angle_out_loss: 0.9638 - val_throttle_out_loss: 0.3194\n",
      "Epoch 31/100\n",
      "240/241 [============================>.] - ETA: 0s - loss: 0.6496 - angle_out_loss: 0.7182 - throttle_out_loss: 0.3209\n",
      "Epoch 00031: val_loss did not improve\n",
      "241/241 [==============================] - 83s 344ms/step - loss: 0.6504 - angle_out_loss: 0.7191 - throttle_out_loss: 0.3209 - val_loss: 0.8767 - val_angle_out_loss: 0.9706 - val_throttle_out_loss: 0.3194\n",
      "Epoch 32/100\n",
      "240/241 [============================>.] - ETA: 0s - loss: 0.6147 - angle_out_loss: 0.6795 - throttle_out_loss: 0.3207\n",
      "Epoch 00032: val_loss did not improve\n",
      "241/241 [==============================] - 82s 341ms/step - loss: 0.6146 - angle_out_loss: 0.6794 - throttle_out_loss: 0.3207 - val_loss: 0.8544 - val_angle_out_loss: 0.9458 - val_throttle_out_loss: 0.3211\n",
      "Epoch 33/100\n",
      "240/241 [============================>.] - ETA: 0s - loss: 0.6197 - angle_out_loss: 0.6850 - throttle_out_loss: 0.3207\n",
      "Epoch 00033: val_loss did not improve\n",
      "241/241 [==============================] - 80s 332ms/step - loss: 0.6195 - angle_out_loss: 0.6848 - throttle_out_loss: 0.3207 - val_loss: 0.8840 - val_angle_out_loss: 0.9786 - val_throttle_out_loss: 0.3204\n",
      "Epoch 00033: early stopping\n"
     ]
    },
    {
     "data": {
      "text/plain": [
       "<tensorflow.python.keras._impl.keras.callbacks.History at 0x2b55cd987f0>"
      ]
     },
     "execution_count": 25,
     "metadata": {},
     "output_type": "execute_result"
    }
   ],
   "source": [
    "train(train_gen, val_gen, saved_model_path=new_model_path, steps=steps_per_epoch, train_split=0.8) #change train_split to 0.9 for large data"
   ]
  },
  {
   "cell_type": "code",
   "execution_count": 5,
   "metadata": {},
   "outputs": [
    {
     "data": {
      "text/plain": [
       "'\\nRecords\\n\\nOriginal architecture with 79k samples\\n498/498 [==============================] - 215s 432ms/step - loss: 0.4393 - angle_out_loss: 0.4875 \\n- throttle_out_loss: 0.0551 - val_loss: 0.8894 - val_angle_out_loss: 0.9876 - val_throttle_out_loss: 0.0586\\nEpoch 00028: early stopping\\n\\nOriginal architecture with 79k samples and 0.2 and 0.3 dropout at the end\\n498/498 [==============================] - 239s 480ms/step - loss: 0.5324 - angle_out_loss: 0.5910 - \\nthrottle_out_loss: 0.0585 - val_loss: 0.9268 - val_angle_out_loss: 1.0292 - val_throttle_out_loss: 0.0530\\nEpoch 00030: early stopping\\n\\nOriginal architecture with 79k samples and 0.3 and 0.5 dropout at the end\\n\\n'"
      ]
     },
     "execution_count": 5,
     "metadata": {},
     "output_type": "execute_result"
    }
   ],
   "source": [
    "\"\"\"\n",
    "Records\n",
    "\n",
    "Original architecture with 79k samples\n",
    "498/498 [==============================] - 215s 432ms/step - loss: 0.4393 - angle_out_loss: 0.4875 \n",
    "- throttle_out_loss: 0.0551 - val_loss: 0.8894 - val_angle_out_loss: 0.9876 - val_throttle_out_loss: 0.0586\n",
    "Epoch 00028: early stopping\n",
    "\n",
    "Original architecture with 79k samples and 0.2 and 0.3 dropout at the end\n",
    "498/498 [==============================] - 239s 480ms/step - loss: 0.5324 - angle_out_loss: 0.5910 - \n",
    "throttle_out_loss: 0.0585 - val_loss: 0.9268 - val_angle_out_loss: 1.0292 - val_throttle_out_loss: 0.0530\n",
    "Epoch 00030: early stopping\n",
    "\n",
    "Original architecture with 79k samples and 0.3 and 0.5 dropout at the end\n",
    "\n",
    "Original architecture minus Dense(100) with 30k samples\n",
    "\n",
    "\"\"\"\n",
    "\n"
   ]
  },
  {
   "cell_type": "code",
   "execution_count": 175,
   "metadata": {},
   "outputs": [],
   "source": [
    "#check against original\n",
    "def unbin(arr):\n",
    "    index = np.argmax(arr)\n",
    "    return index/14*2-1\n",
    "#     return index"
   ]
  },
  {
   "cell_type": "code",
   "execution_count": 174,
   "metadata": {},
   "outputs": [
    {
     "data": {
      "text/plain": [
       "0.0"
      ]
     },
     "execution_count": 174,
     "metadata": {},
     "output_type": "execute_result"
    }
   ],
   "source": [
    "unbin([0, 0, 0, 0, 0, 0, 0, 1, 0, 0, 0, 0, 0, 0, 0])"
   ]
  },
  {
   "cell_type": "code",
   "execution_count": 176,
   "metadata": {},
   "outputs": [],
   "source": [
    "def run(img_arr):\n",
    "    img_arr = img_arr.reshape((1,) + img_arr.shape)\n",
    "    angle_binned, throttle = model.predict(img_arr)\n",
    "    angle_unbinned = unbin(angle_binned[0])\n",
    "    return angle_unbinned, throttle[0][0]"
   ]
  },
  {
   "cell_type": "code",
   "execution_count": 194,
   "metadata": {},
   "outputs": [
    {
     "data": {
      "image/png": "[encoded data removed]",
      "text/plain": [
       "<PIL.JpegImagePlugin.JpegImageFile image mode=RGB size=160x120 at 0x2119C0EA780>"
      ]
     },
     "execution_count": 194,
     "metadata": {},
     "output_type": "execute_result"
    }
   ],
   "source": [
    "img_name = df['cam/image_array'][150]\n",
    "img = Image.open(f'{PATH}/{img_name}')\n",
    "img"
   ]
  },
  {
   "cell_type": "code",
   "execution_count": 195,
   "metadata": {},
   "outputs": [],
   "source": [
    "val = np.array(img)"
   ]
  },
  {
   "cell_type": "code",
   "execution_count": 196,
   "metadata": {},
   "outputs": [
    {
     "data": {
      "text/plain": [
       "(120, 160, 3)"
      ]
     },
     "execution_count": 196,
     "metadata": {},
     "output_type": "execute_result"
    }
   ],
   "source": [
    "val.shape"
   ]
  },
  {
   "cell_type": "code",
   "execution_count": 198,
   "metadata": {},
   "outputs": [
    {
     "data": {
      "text/plain": [
       "(-0.4285714285714286, 0.31011686)"
      ]
     },
     "execution_count": 198,
     "metadata": {},
     "output_type": "execute_result"
    }
   ],
   "source": [
    "#prediction\n",
    "run(val)"
   ]
  },
  {
   "cell_type": "code",
   "execution_count": 199,
   "metadata": {},
   "outputs": [
    {
     "data": {
      "text/plain": [
       "(-0.42, 0.27)"
      ]
     },
     "execution_count": 199,
     "metadata": {},
     "output_type": "execute_result"
    }
   ],
   "source": [
    "#compare to actual data\n",
    "df['user/angle'][150], df['user/throttle'][150]"
   ]
  },
  {
   "cell_type": "code",
   "execution_count": null,
   "metadata": {},
   "outputs": [],
   "source": []
  }
 ],
 "metadata": {
  "kernelspec": {
   "display_name": "Tensorflow-GPU",
   "language": "python",
   "name": "tf-gpu"
  },
  "language_info": {
   "codemirror_mode": {
    "name": "ipython",
    "version": 3
   },
   "file_extension": ".py",
   "mimetype": "text/x-python",
   "name": "python",
   "nbconvert_exporter": "python",
   "pygments_lexer": "ipython3",
   "version": "3.6.6"
  }
 },
 "nbformat": 4,
 "nbformat_minor": 2
}
