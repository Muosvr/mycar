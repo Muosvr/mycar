{
 "cells": [
  {
   "cell_type": "code",
   "execution_count": 10,
   "metadata": {},
   "outputs": [],
   "source": [
    "import os\n",
    "import sys\n",
    "import time\n",
    "import json\n",
    "import datetime\n",
    "import random\n",
    "import tarfile\n",
    "\n",
    "import numpy as np\n",
    "import pandas as pd\n",
    "from PIL import Image\n",
    "PATH = \"../tubs/tub5\" #Shadow"
   ]
  },
  {
   "cell_type": "code",
   "execution_count": 4,
   "metadata": {},
   "outputs": [
    {
     "name": "stdout",
     "output_type": "stream",
     "text": [
      "1.8.0\n"
     ]
    }
   ],
   "source": [
    "#make sure tensorflow version is the same as one installed on donkeycar (1.8.0)\n",
    "import tensorflow as tf\n",
    "print(tf.__version__)"
   ]
  },
  {
   "cell_type": "code",
   "execution_count": 5,
   "metadata": {},
   "outputs": [
    {
     "data": {
      "text/plain": [
       "['/device:GPU:0']"
      ]
     },
     "execution_count": 5,
     "metadata": {},
     "output_type": "execute_result"
    }
   ],
   "source": [
    "from tensorflow.python.client import device_lib\n",
    "\n",
    "def get_available_gpus():\n",
    "    local_device_protos = device_lib.list_local_devices()\n",
    "    return [x.name for x in local_device_protos if x.device_type == 'GPU']\n",
    "get_available_gpus()"
   ]
  },
  {
   "cell_type": "code",
   "execution_count": 7,
   "metadata": {},
   "outputs": [
    {
     "name": "stdout",
     "output_type": "stream",
     "text": [
      "Test1\n"
     ]
    }
   ],
   "source": [
    "c = 1\n",
    "print(\"Test{}\".format(c))"
   ]
  },
  {
   "cell_type": "code",
   "execution_count": 17,
   "metadata": {},
   "outputs": [],
   "source": [
    "#create df from path\n",
    "def df_from_jsons(PATH, max_items=None):\n",
    "    \n",
    "    #Get json files from path\n",
    "    json_files = [file for file in os.listdir(PATH) if file.endswith('json') ]\n",
    "    \n",
    "    df = pd.DataFrame()\n",
    "    for i, j in enumerate(json_files[1:max_items]):\n",
    "        with open(f'{PATH}/{j}') as f:\n",
    "            data = json.load(f)\n",
    "\n",
    "            userThrottle = data[\"user/throttle\"]\n",
    "            userAngle = data[\"user/angle\"]\n",
    "            camImage_path = data[\"cam/image_array\"]\n",
    "            index = int(camImage_path[:-21])\n",
    "            camImage_path =  PATH + \"/\" + camImage_path\n",
    "            df_row = pd.DataFrame([[userThrottle, userAngle, camImage_path]], index = [index], \n",
    "                                  columns = [\"user/throttle\", \"user/angle\", \"cam/image_array\"])\n",
    "\n",
    "            df = df.append(df_row)\n",
    "    df = df.sort_index()\n",
    "    print(\"Loaded {} json files\".format(len(json_files)))\n",
    "    return df"
   ]
  },
  {
   "cell_type": "code",
   "execution_count": 18,
   "metadata": {},
   "outputs": [
    {
     "name": "stdout",
     "output_type": "stream",
     "text": [
      "Loaded 38575 json files\n"
     ]
    }
   ],
   "source": [
    "df = df_from_jsons(PATH, max_items=None)"
   ]
  },
  {
   "cell_type": "code",
   "execution_count": 34,
   "metadata": {},
   "outputs": [
    {
     "name": "stdout",
     "output_type": "stream",
     "text": [
      "Loaded 41262 json files\n"
     ]
    }
   ],
   "source": [
    "#load additional tub\n",
    "PATH2 = \"../tubs/tub6_more_data\"\n",
    "df2 = df_from_jsons(PATH2)"
   ]
  },
  {
   "cell_type": "code",
   "execution_count": 35,
   "metadata": {},
   "outputs": [
    {
     "data": {
      "text/html": [
       "<div>\n",
       "<style scoped>\n",
       "    .dataframe tbody tr th:only-of-type {\n",
       "        vertical-align: middle;\n",
       "    }\n",
       "\n",
       "    .dataframe tbody tr th {\n",
       "        vertical-align: top;\n",
       "    }\n",
       "\n",
       "    .dataframe thead th {\n",
       "        text-align: right;\n",
       "    }\n",
       "</style>\n",
       "<table border=\"1\" class=\"dataframe\">\n",
       "  <thead>\n",
       "    <tr style=\"text-align: right;\">\n",
       "      <th></th>\n",
       "      <th>user/throttle</th>\n",
       "      <th>user/angle</th>\n",
       "      <th>cam/image_array</th>\n",
       "    </tr>\n",
       "  </thead>\n",
       "  <tbody>\n",
       "    <tr>\n",
       "      <th>0</th>\n",
       "      <td>0.06</td>\n",
       "      <td>0.02</td>\n",
       "      <td>../tubs/tub6_more_data/0_cam-image_array_.jpg</td>\n",
       "    </tr>\n",
       "    <tr>\n",
       "      <th>1</th>\n",
       "      <td>0.49</td>\n",
       "      <td>0.02</td>\n",
       "      <td>../tubs/tub6_more_data/1_cam-image_array_.jpg</td>\n",
       "    </tr>\n",
       "    <tr>\n",
       "      <th>2</th>\n",
       "      <td>0.49</td>\n",
       "      <td>0.02</td>\n",
       "      <td>../tubs/tub6_more_data/2_cam-image_array_.jpg</td>\n",
       "    </tr>\n",
       "    <tr>\n",
       "      <th>3</th>\n",
       "      <td>0.21</td>\n",
       "      <td>0.01</td>\n",
       "      <td>../tubs/tub6_more_data/3_cam-image_array_.jpg</td>\n",
       "    </tr>\n",
       "    <tr>\n",
       "      <th>4</th>\n",
       "      <td>0.21</td>\n",
       "      <td>0.01</td>\n",
       "      <td>../tubs/tub6_more_data/4_cam-image_array_.jpg</td>\n",
       "    </tr>\n",
       "  </tbody>\n",
       "</table>\n",
       "</div>"
      ],
      "text/plain": [
       "   user/throttle  user/angle                                cam/image_array\n",
       "0           0.06        0.02  ../tubs/tub6_more_data/0_cam-image_array_.jpg\n",
       "1           0.49        0.02  ../tubs/tub6_more_data/1_cam-image_array_.jpg\n",
       "2           0.49        0.02  ../tubs/tub6_more_data/2_cam-image_array_.jpg\n",
       "3           0.21        0.01  ../tubs/tub6_more_data/3_cam-image_array_.jpg\n",
       "4           0.21        0.01  ../tubs/tub6_more_data/4_cam-image_array_.jpg"
      ]
     },
     "execution_count": 35,
     "metadata": {},
     "output_type": "execute_result"
    }
   ],
   "source": [
    "df2.head()"
   ]
  },
  {
   "cell_type": "code",
   "execution_count": 19,
   "metadata": {},
   "outputs": [
    {
     "data": {
      "text/html": [
       "<div>\n",
       "<style scoped>\n",
       "    .dataframe tbody tr th:only-of-type {\n",
       "        vertical-align: middle;\n",
       "    }\n",
       "\n",
       "    .dataframe tbody tr th {\n",
       "        vertical-align: top;\n",
       "    }\n",
       "\n",
       "    .dataframe thead th {\n",
       "        text-align: right;\n",
       "    }\n",
       "</style>\n",
       "<table border=\"1\" class=\"dataframe\">\n",
       "  <thead>\n",
       "    <tr style=\"text-align: right;\">\n",
       "      <th></th>\n",
       "      <th>user/throttle</th>\n",
       "      <th>user/angle</th>\n",
       "      <th>cam/image_array</th>\n",
       "    </tr>\n",
       "  </thead>\n",
       "  <tbody>\n",
       "    <tr>\n",
       "      <th>0</th>\n",
       "      <td>0.08</td>\n",
       "      <td>0.01</td>\n",
       "      <td>../tubs/tub5/0_cam-image_array_.jpg</td>\n",
       "    </tr>\n",
       "    <tr>\n",
       "      <th>1</th>\n",
       "      <td>0.12</td>\n",
       "      <td>-0.03</td>\n",
       "      <td>../tubs/tub5/1_cam-image_array_.jpg</td>\n",
       "    </tr>\n",
       "    <tr>\n",
       "      <th>2</th>\n",
       "      <td>0.12</td>\n",
       "      <td>-0.03</td>\n",
       "      <td>../tubs/tub5/2_cam-image_array_.jpg</td>\n",
       "    </tr>\n",
       "    <tr>\n",
       "      <th>3</th>\n",
       "      <td>0.14</td>\n",
       "      <td>-0.06</td>\n",
       "      <td>../tubs/tub5/3_cam-image_array_.jpg</td>\n",
       "    </tr>\n",
       "    <tr>\n",
       "      <th>4</th>\n",
       "      <td>0.14</td>\n",
       "      <td>-0.06</td>\n",
       "      <td>../tubs/tub5/4_cam-image_array_.jpg</td>\n",
       "    </tr>\n",
       "  </tbody>\n",
       "</table>\n",
       "</div>"
      ],
      "text/plain": [
       "   user/throttle  user/angle                      cam/image_array\n",
       "0           0.08        0.01  ../tubs/tub5/0_cam-image_array_.jpg\n",
       "1           0.12       -0.03  ../tubs/tub5/1_cam-image_array_.jpg\n",
       "2           0.12       -0.03  ../tubs/tub5/2_cam-image_array_.jpg\n",
       "3           0.14       -0.06  ../tubs/tub5/3_cam-image_array_.jpg\n",
       "4           0.14       -0.06  ../tubs/tub5/4_cam-image_array_.jpg"
      ]
     },
     "execution_count": 19,
     "metadata": {},
     "output_type": "execute_result"
    }
   ],
   "source": [
    "df.head()"
   ]
  },
  {
   "cell_type": "code",
   "execution_count": 37,
   "metadata": {},
   "outputs": [],
   "source": [
    "df = df.append(df2, ignore_index=True)"
   ]
  },
  {
   "cell_type": "code",
   "execution_count": 43,
   "metadata": {},
   "outputs": [
    {
     "data": {
      "text/html": [
       "<div>\n",
       "<style scoped>\n",
       "    .dataframe tbody tr th:only-of-type {\n",
       "        vertical-align: middle;\n",
       "    }\n",
       "\n",
       "    .dataframe tbody tr th {\n",
       "        vertical-align: top;\n",
       "    }\n",
       "\n",
       "    .dataframe thead th {\n",
       "        text-align: right;\n",
       "    }\n",
       "</style>\n",
       "<table border=\"1\" class=\"dataframe\">\n",
       "  <thead>\n",
       "    <tr style=\"text-align: right;\">\n",
       "      <th></th>\n",
       "      <th>user/throttle</th>\n",
       "      <th>user/angle</th>\n",
       "      <th>cam/image_array</th>\n",
       "    </tr>\n",
       "  </thead>\n",
       "  <tbody>\n",
       "    <tr>\n",
       "      <th>0</th>\n",
       "      <td>0.08</td>\n",
       "      <td>0.01</td>\n",
       "      <td>../tubs/tub5/0_cam-image_array_.jpg</td>\n",
       "    </tr>\n",
       "    <tr>\n",
       "      <th>1</th>\n",
       "      <td>0.12</td>\n",
       "      <td>-0.03</td>\n",
       "      <td>../tubs/tub5/1_cam-image_array_.jpg</td>\n",
       "    </tr>\n",
       "    <tr>\n",
       "      <th>2</th>\n",
       "      <td>0.12</td>\n",
       "      <td>-0.03</td>\n",
       "      <td>../tubs/tub5/2_cam-image_array_.jpg</td>\n",
       "    </tr>\n",
       "    <tr>\n",
       "      <th>3</th>\n",
       "      <td>0.14</td>\n",
       "      <td>-0.06</td>\n",
       "      <td>../tubs/tub5/3_cam-image_array_.jpg</td>\n",
       "    </tr>\n",
       "    <tr>\n",
       "      <th>4</th>\n",
       "      <td>0.14</td>\n",
       "      <td>-0.06</td>\n",
       "      <td>../tubs/tub5/4_cam-image_array_.jpg</td>\n",
       "    </tr>\n",
       "  </tbody>\n",
       "</table>\n",
       "</div>"
      ],
      "text/plain": [
       "   user/throttle  user/angle                      cam/image_array\n",
       "0           0.08        0.01  ../tubs/tub5/0_cam-image_array_.jpg\n",
       "1           0.12       -0.03  ../tubs/tub5/1_cam-image_array_.jpg\n",
       "2           0.12       -0.03  ../tubs/tub5/2_cam-image_array_.jpg\n",
       "3           0.14       -0.06  ../tubs/tub5/3_cam-image_array_.jpg\n",
       "4           0.14       -0.06  ../tubs/tub5/4_cam-image_array_.jpg"
      ]
     },
     "execution_count": 43,
     "metadata": {},
     "output_type": "execute_result"
    }
   ],
   "source": [
    "df.head()"
   ]
  },
  {
   "cell_type": "code",
   "execution_count": 44,
   "metadata": {},
   "outputs": [
    {
     "data": {
      "text/html": [
       "<div>\n",
       "<style scoped>\n",
       "    .dataframe tbody tr th:only-of-type {\n",
       "        vertical-align: middle;\n",
       "    }\n",
       "\n",
       "    .dataframe tbody tr th {\n",
       "        vertical-align: top;\n",
       "    }\n",
       "\n",
       "    .dataframe thead th {\n",
       "        text-align: right;\n",
       "    }\n",
       "</style>\n",
       "<table border=\"1\" class=\"dataframe\">\n",
       "  <thead>\n",
       "    <tr style=\"text-align: right;\">\n",
       "      <th></th>\n",
       "      <th>user/throttle</th>\n",
       "      <th>user/angle</th>\n",
       "      <th>cam/image_array</th>\n",
       "    </tr>\n",
       "  </thead>\n",
       "  <tbody>\n",
       "    <tr>\n",
       "      <th>79830</th>\n",
       "      <td>0.37</td>\n",
       "      <td>-0.71</td>\n",
       "      <td>../tubs/tub6_more_data/41256_cam-image_array_.jpg</td>\n",
       "    </tr>\n",
       "    <tr>\n",
       "      <th>79831</th>\n",
       "      <td>0.21</td>\n",
       "      <td>-0.67</td>\n",
       "      <td>../tubs/tub6_more_data/41257_cam-image_array_.jpg</td>\n",
       "    </tr>\n",
       "    <tr>\n",
       "      <th>79832</th>\n",
       "      <td>0.21</td>\n",
       "      <td>-0.67</td>\n",
       "      <td>../tubs/tub6_more_data/41258_cam-image_array_.jpg</td>\n",
       "    </tr>\n",
       "    <tr>\n",
       "      <th>79833</th>\n",
       "      <td>0.08</td>\n",
       "      <td>-0.54</td>\n",
       "      <td>../tubs/tub6_more_data/41259_cam-image_array_.jpg</td>\n",
       "    </tr>\n",
       "    <tr>\n",
       "      <th>79834</th>\n",
       "      <td>0.08</td>\n",
       "      <td>-0.54</td>\n",
       "      <td>../tubs/tub6_more_data/41260_cam-image_array_.jpg</td>\n",
       "    </tr>\n",
       "  </tbody>\n",
       "</table>\n",
       "</div>"
      ],
      "text/plain": [
       "       user/throttle  user/angle  \\\n",
       "79830           0.37       -0.71   \n",
       "79831           0.21       -0.67   \n",
       "79832           0.21       -0.67   \n",
       "79833           0.08       -0.54   \n",
       "79834           0.08       -0.54   \n",
       "\n",
       "                                         cam/image_array  \n",
       "79830  ../tubs/tub6_more_data/41256_cam-image_array_.jpg  \n",
       "79831  ../tubs/tub6_more_data/41257_cam-image_array_.jpg  \n",
       "79832  ../tubs/tub6_more_data/41258_cam-image_array_.jpg  \n",
       "79833  ../tubs/tub6_more_data/41259_cam-image_array_.jpg  \n",
       "79834  ../tubs/tub6_more_data/41260_cam-image_array_.jpg  "
      ]
     },
     "execution_count": 44,
     "metadata": {},
     "output_type": "execute_result"
    }
   ],
   "source": [
    "df.tail()"
   ]
  },
  {
   "cell_type": "code",
   "execution_count": 45,
   "metadata": {},
   "outputs": [],
   "source": [
    "df.to_feather('tmp/df_wPath_extra')"
   ]
  },
  {
   "cell_type": "code",
   "execution_count": 46,
   "metadata": {},
   "outputs": [
    {
     "name": "stderr",
     "output_type": "stream",
     "text": [
      "C:\\Users\\Jason\\Anaconda3\\envs\\tf-gpu\\lib\\site-packages\\pandas\\io\\feather_format.py:112: FutureWarning: `nthreads` argument is deprecated, pass `use_threads` instead\n",
      "  return feather.read_dataframe(path, nthreads=nthreads)\n"
     ]
    }
   ],
   "source": [
    "df = pd.read_feather('tmp/df_wPath_extra')"
   ]
  },
  {
   "cell_type": "code",
   "execution_count": 47,
   "metadata": {},
   "outputs": [
    {
     "data": {
      "text/plain": [
       "(79835, 3)"
      ]
     },
     "execution_count": 47,
     "metadata": {},
     "output_type": "execute_result"
    }
   ],
   "source": [
    "df.shape"
   ]
  },
  {
   "cell_type": "code",
   "execution_count": 48,
   "metadata": {},
   "outputs": [],
   "source": [
    "def to_bin(a):\n",
    "    arr = np.zeros(15)\n",
    "    a = a + 1\n",
    "    b = round(a/(2/14))\n",
    "    arr[int(b)] = 1\n",
    "    return arr"
   ]
  },
  {
   "cell_type": "code",
   "execution_count": 61,
   "metadata": {},
   "outputs": [],
   "source": [
    "X_keys = ['cam/image_array']\n",
    "y_keys = ['user/angle', 'user/throttle']\n",
    "PATH"
   ]
  },
  {
   "cell_type": "code",
   "execution_count": 62,
   "metadata": {},
   "outputs": [],
   "source": [
    "def read_record(record_dict, path = PATH):\n",
    "    data = {}\n",
    "    for key, val in record_dict.items():\n",
    "        if key == 'cam/image_array':\n",
    "            img = Image.open(f'{val}')\n",
    "            val = np.array(img)\n",
    "        \n",
    "        data[key] = val\n",
    "    return data"
   ]
  },
  {
   "cell_type": "code",
   "execution_count": 63,
   "metadata": {},
   "outputs": [
    {
     "data": {
      "image/png": "[encoded data removed]",
      "text/plain": [
       "<PIL.Image.Image image mode=RGB size=160x120 at 0x17AE997DC88>"
      ]
     },
     "execution_count": 63,
     "metadata": {},
     "output_type": "execute_result"
    }
   ],
   "source": [
    "#Testing\n",
    "df_t = df.sample(n=1).to_dict(orient='record')[0]\n",
    "record = read_record(df_t)\n",
    "data = record['cam/image_array']\n",
    "Image.fromarray(data, 'RGB')"
   ]
  },
  {
   "cell_type": "code",
   "execution_count": 64,
   "metadata": {},
   "outputs": [],
   "source": [
    "def get_record_gen(record_transform=None, shuffle=True, df=None):\n",
    "    while True:\n",
    "        for _ in df.iterrows():\n",
    "            if shuffle:\n",
    "                record_dict = df.sample(n=1).to_dict(orient='record')[0]\n",
    "            \n",
    "            record_dict = read_record(record_dict)\n",
    "            \n",
    "            if record_transform:\n",
    "                record_dict = record_transform(record_dict)\n",
    "            \n",
    "            yield record_dict"
   ]
  },
  {
   "cell_type": "code",
   "execution_count": 65,
   "metadata": {},
   "outputs": [],
   "source": [
    "# record_gen = get_record_gen(record_transform=None, shuffle=True, df=df)"
   ]
  },
  {
   "cell_type": "code",
   "execution_count": 66,
   "metadata": {},
   "outputs": [],
   "source": [
    "# next(record_gen)"
   ]
  },
  {
   "cell_type": "code",
   "execution_count": 67,
   "metadata": {},
   "outputs": [],
   "source": [
    "def get_batch_gen(keys=None, batch_size=128, record_transform=None, shuffle=True, df=None):\n",
    "    \n",
    "    record_gen = get_record_gen(record_transform=record_transform, shuffle=shuffle, df=df)\n",
    "    \n",
    "    while True:\n",
    "        record_list = [next(record_gen) for _ in range(batch_size)]\n",
    "        \n",
    "        batch_arrays = {}\n",
    "        for i, k in enumerate(keys):\n",
    "            arr = np.array([r[k] for r in record_list])\n",
    "            batch_arrays[k] = arr\n",
    "        yield batch_arrays"
   ]
  },
  {
   "cell_type": "code",
   "execution_count": 68,
   "metadata": {},
   "outputs": [],
   "source": [
    "def get_train_gen(X_keys, Y_keys, batch_size=128, record_transform=None, df=None): #\n",
    "    batch_gen = get_batch_gen(X_keys + Y_keys, batch_size=batch_size,\n",
    "                                  record_transform=record_transform, df=df)\n",
    "    while True:\n",
    "        batch = next(batch_gen)\n",
    "        X = [batch[k] for k in X_keys]\n",
    "        Y = [batch[k] for k in Y_keys] \n",
    "        yield X, Y"
   ]
  },
  {
   "cell_type": "code",
   "execution_count": 69,
   "metadata": {},
   "outputs": [],
   "source": [
    "def get_train_val_gen(df, X_keys, Y_keys, batch_size = 128, train_frac=0.8, #\n",
    "                      train_record_transform=None, val_record_transform=None): #\n",
    "    train_df = df.sample(frac=train_frac, random_state=200) #\n",
    "    val_df = df.drop(train_df.index) #\n",
    "    \n",
    "    train_gen = get_train_gen(X_keys=X_keys, Y_keys=Y_keys, batch_size=batch_size,\n",
    "                             record_transform=train_record_transform, df=train_df)\n",
    "    val_gen = get_train_gen(X_keys=X_keys, Y_keys=Y_keys, batch_size=batch_size,\n",
    "                           record_transform=val_record_transform, df=val_df)\n",
    "    return train_gen, val_gen\n",
    "    "
   ]
  },
  {
   "cell_type": "code",
   "execution_count": 70,
   "metadata": {},
   "outputs": [],
   "source": [
    "def record_transform(record):\n",
    "    record['user/angle'] = to_bin(record['user/angle'])\n",
    "    return record"
   ]
  },
  {
   "cell_type": "code",
   "execution_count": 71,
   "metadata": {},
   "outputs": [],
   "source": [
    "train_gen, val_gen = get_train_val_gen(df, X_keys, y_keys,\n",
    "                                               train_record_transform=record_transform, #\n",
    "                                               val_record_transform=record_transform, #\n",
    "                                               batch_size=bs, #\n",
    "                                               train_frac=train_frac) #"
   ]
  },
  {
   "cell_type": "code",
   "execution_count": 1,
   "metadata": {},
   "outputs": [],
   "source": [
    "from tensorflow.python.keras.layers import Input\n",
    "from tensorflow.python.keras.models import Model, load_model\n",
    "from tensorflow.python.keras.layers import Convolution2D\n",
    "from tensorflow.python.keras.layers import Dropout, Flatten, Dense, Cropping2D, Lambda\n",
    "from tensorflow.python.keras.callbacks import ModelCheckpoint, EarlyStopping"
   ]
  },
  {
   "cell_type": "code",
   "execution_count": 2,
   "metadata": {},
   "outputs": [],
   "source": [
    "def default_categorical():\n",
    "    img_in = Input(shape=(120, 160, 3),\n",
    "                   name='img_in')  # First layer, input layer, Shape comes from camera.py resolution, RGB\n",
    "    x = img_in\n",
    "    x = Convolution2D(24, (5, 5), strides=(2, 2), activation='relu')(\n",
    "        x)  # 24 features, 5 pixel x 5 pixel kernel (convolution, feauture) window, 2wx2h stride, relu activation\n",
    "    x = Convolution2D(32, (5, 5), strides=(2, 2), activation='relu')(\n",
    "        x)  # 32 features, 5px5p kernel window, 2wx2h stride, relu activatiion\n",
    "    x = Convolution2D(64, (5, 5), strides=(2, 2), activation='relu')(\n",
    "        x)  # 64 features, 5px5p kernal window, 2wx2h stride, relu\n",
    "    x = Convolution2D(64, (3, 3), strides=(2, 2), activation='relu')(\n",
    "        x)  # 64 features, 3px3p kernal window, 2wx2h stride, relu\n",
    "    x = Convolution2D(64, (3, 3), strides=(1, 1), activation='relu')(\n",
    "        x)  # 64 features, 3px3p kernal window, 1wx1h stride, relu\n",
    "\n",
    "    # Possibly add MaxPooling (will make it less sensitive to position in image).  Camera angle fixed, so may not to be needed\n",
    "\n",
    "    x = Flatten(name='flattened')(x)  # Flatten to 1D (Fully connected)\n",
    "    x = Dense(100, activation='relu')(x)  # Classify the data into 100 features, make all negatives 0\n",
    "    x = Dropout(.3)(x)  # Randomly drop out (turn off) 10% of the neurons (Prevent overfitting)\n",
    "    x = Dense(50, activation='relu')(x)  # Classify the data into 50 features, make all negatives 0\n",
    "    x = Dropout(.5)(x)  # Randomly drop out 10% of the neurons (Prevent overfitting)\n",
    "    # categorical output of the angle\n",
    "    angle_out = Dense(15, activation='softmax', name='angle_out')(\n",
    "        x)  # Connect every input with every output and output 15 hidden units. Use Softmax to give percentage. 15 categories and find best one based off percentage 0.0-1.0\n",
    "\n",
    "    # continous output of throttle\n",
    "    throttle_out = Dense(1, activation='relu', name='throttle_out')(x)  # Reduce to 1 number, Positive number only\n",
    "\n",
    "    model = Model(inputs=[img_in], outputs=[angle_out, throttle_out])\n",
    "    model.compile(optimizer='adam',\n",
    "                  loss={'angle_out': 'categorical_crossentropy',\n",
    "                        'throttle_out': 'mean_absolute_error'},\n",
    "                  loss_weights={'angle_out': 0.9, 'throttle_out': .01})\n",
    "\n",
    "    return model"
   ]
  },
  {
   "cell_type": "code",
   "execution_count": 4,
   "metadata": {},
   "outputs": [
    {
     "name": "stdout",
     "output_type": "stream",
     "text": [
      "__________________________________________________________________________________________________\n",
      "Layer (type)                    Output Shape         Param #     Connected to                     \n",
      "==================================================================================================\n",
      "img_in (InputLayer)             (None, 120, 160, 3)  0                                            \n",
      "__________________________________________________________________________________________________\n",
      "conv2d_1 (Conv2D)               (None, 58, 78, 24)   1824        img_in[0][0]                     \n",
      "__________________________________________________________________________________________________\n",
      "conv2d_2 (Conv2D)               (None, 27, 37, 32)   19232       conv2d_1[0][0]                   \n",
      "__________________________________________________________________________________________________\n",
      "conv2d_3 (Conv2D)               (None, 12, 17, 64)   51264       conv2d_2[0][0]                   \n",
      "__________________________________________________________________________________________________\n",
      "conv2d_4 (Conv2D)               (None, 5, 8, 64)     36928       conv2d_3[0][0]                   \n",
      "__________________________________________________________________________________________________\n",
      "conv2d_5 (Conv2D)               (None, 3, 6, 64)     36928       conv2d_4[0][0]                   \n",
      "__________________________________________________________________________________________________\n",
      "flattened (Flatten)             (None, 1152)         0           conv2d_5[0][0]                   \n",
      "__________________________________________________________________________________________________\n",
      "dense_1 (Dense)                 (None, 100)          115300      flattened[0][0]                  \n",
      "__________________________________________________________________________________________________\n",
      "dropout_1 (Dropout)             (None, 100)          0           dense_1[0][0]                    \n",
      "__________________________________________________________________________________________________\n",
      "dense_2 (Dense)                 (None, 50)           5050        dropout_1[0][0]                  \n",
      "__________________________________________________________________________________________________\n",
      "dropout_2 (Dropout)             (None, 50)           0           dense_2[0][0]                    \n",
      "__________________________________________________________________________________________________\n",
      "angle_out (Dense)               (None, 15)           765         dropout_2[0][0]                  \n",
      "__________________________________________________________________________________________________\n",
      "throttle_out (Dense)            (None, 1)            51          dropout_2[0][0]                  \n",
      "==================================================================================================\n",
      "Total params: 267,342\n",
      "Trainable params: 267,342\n",
      "Non-trainable params: 0\n",
      "__________________________________________________________________________________________________\n"
     ]
    }
   ],
   "source": [
    "model = default_categorical()\n",
    "model.summary()"
   ]
  },
  {
   "cell_type": "code",
   "execution_count": null,
   "metadata": {},
   "outputs": [],
   "source": []
  },
  {
   "cell_type": "code",
   "execution_count": 80,
   "metadata": {},
   "outputs": [],
   "source": [
    "def train(train_gen, val_gen, saved_model_path, epochs=100, steps=100, train_split=0.8,\n",
    "         verbose=1, min_delta=0.0005, patience=5, use_early_stop=True):\n",
    "    \n",
    "#     checkpoint to save model\n",
    "    save_best = ModelCheckpoint(saved_model_path, monitor='val_loss', verbose=verbose, save_best_only=True, mode='min')\n",
    "    \n",
    "    #stop training if stop improving\n",
    "    early_stop = EarlyStopping(monitor='val_loss', min_delta=min_delta, patience=patience, verbose=verbose, mode='auto')\n",
    "    \n",
    "    callbacks_list = [save_best]\n",
    "    \n",
    "    if use_early_stop:\n",
    "        callbacks_list.append(early_stop)\n",
    "        \n",
    "    hist = model.fit_generator(train_gen, steps_per_epoch=steps, epochs=epochs, verbose=1, validation_data=val_gen,\n",
    "                                callbacks=callbacks_list, validation_steps=steps * (1.0 - train_frac)//train_frac)\n",
    "    return hist"
   ]
  },
  {
   "cell_type": "code",
   "execution_count": null,
   "metadata": {},
   "outputs": [],
   "source": [
    "new_model_path = 'models/pilot_jn'\n",
    "bs = 128\n",
    "train_frac = 0.8"
   ]
  },
  {
   "cell_type": "code",
   "execution_count": 81,
   "metadata": {},
   "outputs": [
    {
     "data": {
      "text/plain": [
       "498"
      ]
     },
     "execution_count": 81,
     "metadata": {},
     "output_type": "execute_result"
    }
   ],
   "source": [
    "total_records = len(df)\n",
    "total_train = int(total_records * train_frac)\n",
    "total_val = total_records - total_train\n",
    "steps_per_epoch = total_train // bs\n",
    "steps_per_epoch"
   ]
  },
  {
   "cell_type": "code",
   "execution_count": 82,
   "metadata": {
    "scrolled": false
   },
   "outputs": [
    {
     "name": "stdout",
     "output_type": "stream",
     "text": [
      "Epoch 1/100\n",
      "497/498 [============================>.] - ETA: 0s - loss: 1.7191 - angle_out_loss: 1.9067 - throttle_out_loss: 0.3097\n",
      "Epoch 00001: val_loss improved from inf to 1.36563, saving model to models/pilot_79k\n",
      "498/498 [==============================] - 224s 449ms/step - loss: 1.7188 - angle_out_loss: 1.9063 - throttle_out_loss: 0.3096 - val_loss: 1.3656 - val_angle_out_loss: 1.5149 - val_throttle_out_loss: 0.2251\n",
      "Epoch 2/100\n",
      "497/498 [============================>.] - ETA: 0s - loss: 1.3901 - angle_out_loss: 1.5431 - throttle_out_loss: 0.1301\n",
      "Epoch 00002: val_loss improved from 1.36563 to 1.26580, saving model to models/pilot_79k\n",
      "498/498 [==============================] - 222s 445ms/step - loss: 1.3899 - angle_out_loss: 1.5429 - throttle_out_loss: 0.1300 - val_loss: 1.2658 - val_angle_out_loss: 1.4059 - val_throttle_out_loss: 0.0504\n",
      "Epoch 3/100\n",
      "497/498 [============================>.] - ETA: 0s - loss: 1.2863 - angle_out_loss: 1.4287 - throttle_out_loss: 0.0500\n",
      "Epoch 00003: val_loss improved from 1.26580 to 1.22300, saving model to models/pilot_79k\n",
      "498/498 [==============================] - 224s 449ms/step - loss: 1.2860 - angle_out_loss: 1.4283 - throttle_out_loss: 0.0500 - val_loss: 1.2230 - val_angle_out_loss: 1.3583 - val_throttle_out_loss: 0.0500\n",
      "Epoch 4/100\n",
      "497/498 [============================>.] - ETA: 0s - loss: 1.2105 - angle_out_loss: 1.3445 - throttle_out_loss: 0.0492\n",
      "Epoch 00004: val_loss improved from 1.22300 to 1.17472, saving model to models/pilot_79k\n",
      "498/498 [==============================] - 219s 441ms/step - loss: 1.2105 - angle_out_loss: 1.3444 - throttle_out_loss: 0.0492 - val_loss: 1.1747 - val_angle_out_loss: 1.3047 - val_throttle_out_loss: 0.0488\n",
      "Epoch 5/100\n",
      "497/498 [============================>.] - ETA: 0s - loss: 1.1493 - angle_out_loss: 1.2765 - throttle_out_loss: 0.0497\n",
      "Epoch 00005: val_loss improved from 1.17472 to 1.14794, saving model to models/pilot_79k\n",
      "498/498 [==============================] - 219s 440ms/step - loss: 1.1495 - angle_out_loss: 1.2767 - throttle_out_loss: 0.0497 - val_loss: 1.1479 - val_angle_out_loss: 1.2749 - val_throttle_out_loss: 0.0505\n",
      "Epoch 6/100\n",
      "497/498 [============================>.] - ETA: 0s - loss: 1.0942 - angle_out_loss: 1.2152 - throttle_out_loss: 0.0501\n",
      "Epoch 00006: val_loss improved from 1.14794 to 1.11081, saving model to models/pilot_79k\n",
      "498/498 [==============================] - 222s 446ms/step - loss: 1.0943 - angle_out_loss: 1.2154 - throttle_out_loss: 0.0501 - val_loss: 1.1108 - val_angle_out_loss: 1.2336 - val_throttle_out_loss: 0.0524\n",
      "Epoch 7/100\n",
      "497/498 [============================>.] - ETA: 0s - loss: 1.0402 - angle_out_loss: 1.1552 - throttle_out_loss: 0.0502\n",
      "Epoch 00007: val_loss improved from 1.11081 to 1.07355, saving model to models/pilot_79k\n",
      "498/498 [==============================] - 242s 487ms/step - loss: 1.0398 - angle_out_loss: 1.1548 - throttle_out_loss: 0.0502 - val_loss: 1.0735 - val_angle_out_loss: 1.1923 - val_throttle_out_loss: 0.0500\n",
      "Epoch 8/100\n",
      "497/498 [============================>.] - ETA: 0s - loss: 0.9968 - angle_out_loss: 1.1070 - throttle_out_loss: 0.0505\n",
      "Epoch 00008: val_loss improved from 1.07355 to 1.05807, saving model to models/pilot_79k\n",
      "498/498 [==============================] - 241s 483ms/step - loss: 0.9965 - angle_out_loss: 1.1067 - throttle_out_loss: 0.0505 - val_loss: 1.0581 - val_angle_out_loss: 1.1751 - val_throttle_out_loss: 0.0504\n",
      "Epoch 9/100\n",
      "497/498 [============================>.] - ETA: 0s - loss: 0.9421 - angle_out_loss: 1.0462 - throttle_out_loss: 0.0508\n",
      "Epoch 00009: val_loss improved from 1.05807 to 1.01785, saving model to models/pilot_79k\n",
      "498/498 [==============================] - 239s 480ms/step - loss: 0.9422 - angle_out_loss: 1.0463 - throttle_out_loss: 0.0508 - val_loss: 1.0178 - val_angle_out_loss: 1.1304 - val_throttle_out_loss: 0.0516\n",
      "Epoch 10/100\n",
      "497/498 [============================>.] - ETA: 0s - loss: 0.9035 - angle_out_loss: 1.0034 - throttle_out_loss: 0.0518\n",
      "Epoch 00010: val_loss did not improve\n",
      "498/498 [==============================] - 242s 487ms/step - loss: 0.9035 - angle_out_loss: 1.0033 - throttle_out_loss: 0.0518 - val_loss: 1.0342 - val_angle_out_loss: 1.1486 - val_throttle_out_loss: 0.0515\n",
      "Epoch 11/100\n",
      "497/498 [============================>.] - ETA: 0s - loss: 0.8677 - angle_out_loss: 0.9635 - throttle_out_loss: 0.0517\n",
      "Epoch 00011: val_loss did not improve\n",
      "498/498 [==============================] - 247s 497ms/step - loss: 0.8676 - angle_out_loss: 0.9634 - throttle_out_loss: 0.0517 - val_loss: 1.0376 - val_angle_out_loss: 1.1524 - val_throttle_out_loss: 0.0506\n",
      "Epoch 12/100\n",
      "497/498 [============================>.] - ETA: 0s - loss: 0.8306 - angle_out_loss: 0.9223 - throttle_out_loss: 0.0519\n",
      "Epoch 00012: val_loss improved from 1.01785 to 0.98209, saving model to models/pilot_79k\n",
      "498/498 [==============================] - 245s 492ms/step - loss: 0.8308 - angle_out_loss: 0.9225 - throttle_out_loss: 0.0519 - val_loss: 0.9821 - val_angle_out_loss: 1.0907 - val_throttle_out_loss: 0.0499\n",
      "Epoch 13/100\n",
      "497/498 [============================>.] - ETA: 0s - loss: 0.7984 - angle_out_loss: 0.8865 - throttle_out_loss: 0.0529\n",
      "Epoch 00013: val_loss did not improve\n",
      "498/498 [==============================] - 245s 492ms/step - loss: 0.7983 - angle_out_loss: 0.8864 - throttle_out_loss: 0.0529 - val_loss: 1.0114 - val_angle_out_loss: 1.1233 - val_throttle_out_loss: 0.0500\n",
      "Epoch 14/100\n",
      "497/498 [============================>.] - ETA: 0s - loss: 0.7719 - angle_out_loss: 0.8570 - throttle_out_loss: 0.0539\n",
      "Epoch 00014: val_loss improved from 0.98209 to 0.97576, saving model to models/pilot_79k\n",
      "498/498 [==============================] - 243s 487ms/step - loss: 0.7718 - angle_out_loss: 0.8570 - throttle_out_loss: 0.0539 - val_loss: 0.9758 - val_angle_out_loss: 1.0836 - val_throttle_out_loss: 0.0508\n",
      "Epoch 15/100\n",
      "497/498 [============================>.] - ETA: 0s - loss: 0.7346 - angle_out_loss: 0.8157 - throttle_out_loss: 0.0531\n",
      "Epoch 00015: val_loss did not improve\n",
      "498/498 [==============================] - 242s 485ms/step - loss: 0.7344 - angle_out_loss: 0.8154 - throttle_out_loss: 0.0532 - val_loss: 0.9839 - val_angle_out_loss: 1.0927 - val_throttle_out_loss: 0.0537\n",
      "Epoch 16/100\n",
      "497/498 [============================>.] - ETA: 0s - loss: 0.7186 - angle_out_loss: 0.7978 - throttle_out_loss: 0.0535\n",
      "Epoch 00016: val_loss improved from 0.97576 to 0.96886, saving model to models/pilot_79k\n",
      "498/498 [==============================] - 243s 487ms/step - loss: 0.7185 - angle_out_loss: 0.7977 - throttle_out_loss: 0.0535 - val_loss: 0.9689 - val_angle_out_loss: 1.0760 - val_throttle_out_loss: 0.0502\n",
      "Epoch 17/100\n",
      "497/498 [============================>.] - ETA: 0s - loss: 0.6981 - angle_out_loss: 0.7751 - throttle_out_loss: 0.0534\n",
      "Epoch 00017: val_loss did not improve\n",
      "498/498 [==============================] - 239s 479ms/step - loss: 0.6981 - angle_out_loss: 0.7751 - throttle_out_loss: 0.0534 - val_loss: 0.9765 - val_angle_out_loss: 1.0845 - val_throttle_out_loss: 0.0492\n",
      "Epoch 18/100\n",
      "497/498 [============================>.] - ETA: 0s - loss: 0.6791 - angle_out_loss: 0.7539 - throttle_out_loss: 0.0554\n",
      "Epoch 00018: val_loss improved from 0.96886 to 0.96627, saving model to models/pilot_79k\n",
      "498/498 [==============================] - 242s 485ms/step - loss: 0.6791 - angle_out_loss: 0.7540 - throttle_out_loss: 0.0554 - val_loss: 0.9663 - val_angle_out_loss: 1.0730 - val_throttle_out_loss: 0.0549\n",
      "Epoch 19/100\n",
      "497/498 [============================>.] - ETA: 0s - loss: 0.6645 - angle_out_loss: 0.7378 - throttle_out_loss: 0.0551\n",
      "Epoch 00019: val_loss did not improve\n",
      "498/498 [==============================] - 242s 487ms/step - loss: 0.6643 - angle_out_loss: 0.7375 - throttle_out_loss: 0.0551 - val_loss: 0.9704 - val_angle_out_loss: 1.0775 - val_throttle_out_loss: 0.0594\n",
      "Epoch 20/100\n",
      "497/498 [============================>.] - ETA: 0s - loss: 0.6481 - angle_out_loss: 0.7195 - throttle_out_loss: 0.0545\n",
      "Epoch 00020: val_loss did not improve\n",
      "498/498 [==============================] - 242s 486ms/step - loss: 0.6484 - angle_out_loss: 0.7198 - throttle_out_loss: 0.0545 - val_loss: 0.9810 - val_angle_out_loss: 1.0894 - val_throttle_out_loss: 0.0523\n",
      "Epoch 21/100\n"
     ]
    },
    {
     "name": "stdout",
     "output_type": "stream",
     "text": [
      "497/498 [============================>.] - ETA: 0s - loss: 0.6247 - angle_out_loss: 0.6934 - throttle_out_loss: 0.0549\n",
      "Epoch 00021: val_loss improved from 0.96627 to 0.92355, saving model to models/pilot_79k\n",
      "498/498 [==============================] - 234s 470ms/step - loss: 0.6245 - angle_out_loss: 0.6933 - throttle_out_loss: 0.0549 - val_loss: 0.9235 - val_angle_out_loss: 1.0256 - val_throttle_out_loss: 0.0516\n",
      "Epoch 22/100\n",
      "497/498 [============================>.] - ETA: 0s - loss: 0.6134 - angle_out_loss: 0.6809 - throttle_out_loss: 0.0556\n",
      "Epoch 00022: val_loss improved from 0.92355 to 0.91956, saving model to models/pilot_79k\n",
      "498/498 [==============================] - 234s 470ms/step - loss: 0.6133 - angle_out_loss: 0.6809 - throttle_out_loss: 0.0556 - val_loss: 0.9196 - val_angle_out_loss: 1.0212 - val_throttle_out_loss: 0.0520\n",
      "Epoch 23/100\n",
      "497/498 [============================>.] - ETA: 0s - loss: 0.5955 - angle_out_loss: 0.6611 - throttle_out_loss: 0.0568\n",
      "Epoch 00023: val_loss improved from 0.91956 to 0.91934, saving model to models/pilot_79k\n",
      "498/498 [==============================] - 233s 469ms/step - loss: 0.5955 - angle_out_loss: 0.6610 - throttle_out_loss: 0.0568 - val_loss: 0.9193 - val_angle_out_loss: 1.0209 - val_throttle_out_loss: 0.0542\n",
      "Epoch 24/100\n",
      "497/498 [============================>.] - ETA: 0s - loss: 0.5807 - angle_out_loss: 0.6446 - throttle_out_loss: 0.0564\n",
      "Epoch 00024: val_loss did not improve\n",
      "498/498 [==============================] - 232s 465ms/step - loss: 0.5807 - angle_out_loss: 0.6446 - throttle_out_loss: 0.0563 - val_loss: 0.9565 - val_angle_out_loss: 1.0622 - val_throttle_out_loss: 0.0559\n",
      "Epoch 25/100\n",
      "497/498 [============================>.] - ETA: 0s - loss: 0.5813 - angle_out_loss: 0.6453 - throttle_out_loss: 0.0571\n",
      "Epoch 00025: val_loss improved from 0.91934 to 0.91325, saving model to models/pilot_79k\n",
      "498/498 [==============================] - 231s 463ms/step - loss: 0.5813 - angle_out_loss: 0.6453 - throttle_out_loss: 0.0571 - val_loss: 0.9132 - val_angle_out_loss: 1.0141 - val_throttle_out_loss: 0.0546\n",
      "Epoch 26/100\n",
      "497/498 [============================>.] - ETA: 0s - loss: 0.5761 - angle_out_loss: 0.6394 - throttle_out_loss: 0.0574\n",
      "Epoch 00026: val_loss did not improve\n",
      "498/498 [==============================] - 339s 681ms/step - loss: 0.5759 - angle_out_loss: 0.6393 - throttle_out_loss: 0.0575 - val_loss: 0.9507 - val_angle_out_loss: 1.0558 - val_throttle_out_loss: 0.0520\n",
      "Epoch 27/100\n",
      "497/498 [============================>.] - ETA: 0s - loss: 0.5659 - angle_out_loss: 0.6281 - throttle_out_loss: 0.0567\n",
      "Epoch 00027: val_loss did not improve\n",
      "498/498 [==============================] - 302s 607ms/step - loss: 0.5659 - angle_out_loss: 0.6281 - throttle_out_loss: 0.0567 - val_loss: 0.9321 - val_angle_out_loss: 1.0351 - val_throttle_out_loss: 0.0532\n",
      "Epoch 28/100\n",
      "497/498 [============================>.] - ETA: 0s - loss: 0.5502 - angle_out_loss: 0.6106 - throttle_out_loss: 0.0590\n",
      "Epoch 00028: val_loss did not improve\n",
      "498/498 [==============================] - 262s 526ms/step - loss: 0.5502 - angle_out_loss: 0.6106 - throttle_out_loss: 0.0590 - val_loss: 0.9140 - val_angle_out_loss: 1.0150 - val_throttle_out_loss: 0.0526\n",
      "Epoch 29/100\n",
      "497/498 [============================>.] - ETA: 0s - loss: 0.5445 - angle_out_loss: 0.6043 - throttle_out_loss: 0.0586\n",
      "Epoch 00029: val_loss did not improve\n",
      "498/498 [==============================] - 251s 505ms/step - loss: 0.5443 - angle_out_loss: 0.6041 - throttle_out_loss: 0.0586 - val_loss: 0.9343 - val_angle_out_loss: 1.0375 - val_throttle_out_loss: 0.0593\n",
      "Epoch 30/100\n",
      "497/498 [============================>.] - ETA: 0s - loss: 0.5323 - angle_out_loss: 0.5908 - throttle_out_loss: 0.0585\n",
      "Epoch 00030: val_loss did not improve\n",
      "498/498 [==============================] - 239s 480ms/step - loss: 0.5324 - angle_out_loss: 0.5910 - throttle_out_loss: 0.0585 - val_loss: 0.9268 - val_angle_out_loss: 1.0292 - val_throttle_out_loss: 0.0530\n",
      "Epoch 00030: early stopping\n"
     ]
    },
    {
     "data": {
      "text/plain": [
       "<tensorflow.python.keras._impl.keras.callbacks.History at 0x17df96f6908>"
      ]
     },
     "execution_count": 82,
     "metadata": {},
     "output_type": "execute_result"
    }
   ],
   "source": [
    "train(train_gen, val_gen, saved_model_path=new_model_path, steps=steps_per_epoch, train_split=0.8) #change train_split to 0.9 for large data"
   ]
  },
  {
   "cell_type": "code",
   "execution_count": 5,
   "metadata": {},
   "outputs": [
    {
     "data": {
      "text/plain": [
       "'\\nRecords\\n\\nOriginal architecture with 79k samples\\n498/498 [==============================] - 215s 432ms/step - loss: 0.4393 - angle_out_loss: 0.4875 \\n- throttle_out_loss: 0.0551 - val_loss: 0.8894 - val_angle_out_loss: 0.9876 - val_throttle_out_loss: 0.0586\\nEpoch 00028: early stopping\\n\\nOriginal architecture with 79k samples and 0.2 and 0.3 dropout at the end\\n498/498 [==============================] - 239s 480ms/step - loss: 0.5324 - angle_out_loss: 0.5910 - \\nthrottle_out_loss: 0.0585 - val_loss: 0.9268 - val_angle_out_loss: 1.0292 - val_throttle_out_loss: 0.0530\\nEpoch 00030: early stopping\\n\\nOriginal architecture with 79k samples and 0.3 and 0.5 dropout at the end\\n\\n'"
      ]
     },
     "execution_count": 5,
     "metadata": {},
     "output_type": "execute_result"
    }
   ],
   "source": [
    "\"\"\"\n",
    "Records\n",
    "\n",
    "Original architecture with 79k samples\n",
    "498/498 [==============================] - 215s 432ms/step - loss: 0.4393 - angle_out_loss: 0.4875 \n",
    "- throttle_out_loss: 0.0551 - val_loss: 0.8894 - val_angle_out_loss: 0.9876 - val_throttle_out_loss: 0.0586\n",
    "Epoch 00028: early stopping\n",
    "\n",
    "Original architecture with 79k samples and 0.2 and 0.3 dropout at the end\n",
    "498/498 [==============================] - 239s 480ms/step - loss: 0.5324 - angle_out_loss: 0.5910 - \n",
    "throttle_out_loss: 0.0585 - val_loss: 0.9268 - val_angle_out_loss: 1.0292 - val_throttle_out_loss: 0.0530\n",
    "Epoch 00030: early stopping\n",
    "\n",
    "Original architecture with 79k samples and 0.3 and 0.5 dropout at the end\n",
    "\n",
    "\"\"\"\n",
    "\n"
   ]
  },
  {
   "cell_type": "code",
   "execution_count": 175,
   "metadata": {},
   "outputs": [],
   "source": [
    "#check against original\n",
    "def unbin(arr):\n",
    "    index = np.argmax(arr)\n",
    "    return index/14*2-1\n",
    "#     return index"
   ]
  },
  {
   "cell_type": "code",
   "execution_count": 174,
   "metadata": {},
   "outputs": [
    {
     "data": {
      "text/plain": [
       "0.0"
      ]
     },
     "execution_count": 174,
     "metadata": {},
     "output_type": "execute_result"
    }
   ],
   "source": [
    "unbin([0, 0, 0, 0, 0, 0, 0, 1, 0, 0, 0, 0, 0, 0, 0])"
   ]
  },
  {
   "cell_type": "code",
   "execution_count": 176,
   "metadata": {},
   "outputs": [],
   "source": [
    "def run(img_arr):\n",
    "    img_arr = img_arr.reshape((1,) + img_arr.shape)\n",
    "    angle_binned, throttle = model.predict(img_arr)\n",
    "    angle_unbinned = unbin(angle_binned[0])\n",
    "    return angle_unbinned, throttle[0][0]"
   ]
  },
  {
   "cell_type": "code",
   "execution_count": 194,
   "metadata": {},
   "outputs": [
    {
     "data": {
      "image/png": "[encoded data removed]",
      "text/plain": [
       "<PIL.JpegImagePlugin.JpegImageFile image mode=RGB size=160x120 at 0x2119C0EA780>"
      ]
     },
     "execution_count": 194,
     "metadata": {},
     "output_type": "execute_result"
    }
   ],
   "source": [
    "img_name = df['cam/image_array'][150]\n",
    "img = Image.open(f'{PATH}/{img_name}')\n",
    "img"
   ]
  },
  {
   "cell_type": "code",
   "execution_count": 195,
   "metadata": {},
   "outputs": [],
   "source": [
    "val = np.array(img)"
   ]
  },
  {
   "cell_type": "code",
   "execution_count": 196,
   "metadata": {},
   "outputs": [
    {
     "data": {
      "text/plain": [
       "(120, 160, 3)"
      ]
     },
     "execution_count": 196,
     "metadata": {},
     "output_type": "execute_result"
    }
   ],
   "source": [
    "val.shape"
   ]
  },
  {
   "cell_type": "code",
   "execution_count": 198,
   "metadata": {},
   "outputs": [
    {
     "data": {
      "text/plain": [
       "(-0.4285714285714286, 0.31011686)"
      ]
     },
     "execution_count": 198,
     "metadata": {},
     "output_type": "execute_result"
    }
   ],
   "source": [
    "#prediction\n",
    "run(val)"
   ]
  },
  {
   "cell_type": "code",
   "execution_count": 199,
   "metadata": {},
   "outputs": [
    {
     "data": {
      "text/plain": [
       "(-0.42, 0.27)"
      ]
     },
     "execution_count": 199,
     "metadata": {},
     "output_type": "execute_result"
    }
   ],
   "source": [
    "#compare to actual data\n",
    "df['user/angle'][150], df['user/throttle'][150]"
   ]
  },
  {
   "cell_type": "code",
   "execution_count": null,
   "metadata": {},
   "outputs": [],
   "source": []
  }
 ],
 "metadata": {
  "kernelspec": {
   "display_name": "Tensorflow-GPU",
   "language": "python",
   "name": "tf-gpu"
  },
  "language_info": {
   "codemirror_mode": {
    "name": "ipython",
    "version": 3
   },
   "file_extension": ".py",
   "mimetype": "text/x-python",
   "name": "python",
   "nbconvert_exporter": "python",
   "pygments_lexer": "ipython3",
   "version": "3.6.6"
  }
 },
 "nbformat": 4,
 "nbformat_minor": 2
}
