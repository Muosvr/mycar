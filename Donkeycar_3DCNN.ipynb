{
 "cells": [
  {
   "cell_type": "code",
   "execution_count": 1,
   "metadata": {},
   "outputs": [],
   "source": [
    "import os\n",
    "import sys\n",
    "import time\n",
    "import json\n",
    "import datetime\n",
    "import random\n",
    "import tarfile\n",
    "\n",
    "import numpy as np\n",
    "import pandas as pd\n",
    "from PIL import Image\n",
    "\n",
    "PATH = \"../tubs/tub5\""
   ]
  },
  {
   "cell_type": "code",
   "execution_count": 2,
   "metadata": {},
   "outputs": [
    {
     "name": "stdout",
     "output_type": "stream",
     "text": [
      "1.8.0\n"
     ]
    }
   ],
   "source": [
    "#make sure tensorflow version is the same as one installed on donkeycar (1.8.0)\n",
    "import tensorflow as tf\n",
    "print(tf.__version__)"
   ]
  },
  {
   "cell_type": "code",
   "execution_count": 3,
   "metadata": {},
   "outputs": [
    {
     "data": {
      "text/plain": [
       "['/device:GPU:0']"
      ]
     },
     "execution_count": 3,
     "metadata": {},
     "output_type": "execute_result"
    }
   ],
   "source": [
    "#check if GPU is present (/device:GPU:0)\n",
    "from tensorflow.python.client import device_lib\n",
    "\n",
    "def get_available_gpus():\n",
    "    local_device_protos = device_lib.list_local_devices()\n",
    "    return [x.name for x in local_device_protos if x.device_type == 'GPU']\n",
    "get_available_gpus()"
   ]
  },
  {
   "cell_type": "code",
   "execution_count": 4,
   "metadata": {},
   "outputs": [],
   "source": [
    "def json_to_df(PATH, json_files, max_items=None):\n",
    "    df = pd.DataFrame()\n",
    "    for i, j in enumerate(json_files[1:max_items]):\n",
    "        with open(f'{PATH}/{j}') as f:\n",
    "            data = json.load(f)\n",
    "\n",
    "            userThrottle = data[\"user/throttle\"]\n",
    "            userAngle = data[\"user/angle\"]\n",
    "            camImage_array = data[\"cam/image_array\"]\n",
    "            index = int(camImage_array[:-21])\n",
    "            df_row = pd.DataFrame([[userThrottle, userAngle, camImage_array]], index = [index], columns = [\"user/throttle\", \"user/angle\", \"cam/image_array\"])\n",
    "\n",
    "            df = df.append(df_row)\n",
    "    df = df.sort_index()\n",
    "    return df"
   ]
  },
  {
   "cell_type": "code",
   "execution_count": 5,
   "metadata": {},
   "outputs": [],
   "source": [
    "#df = json_to_df(PATH, json_files, max_items=None)"
   ]
  },
  {
   "cell_type": "code",
   "execution_count": 6,
   "metadata": {},
   "outputs": [],
   "source": [
    "#df.to_feather('tmp/df')"
   ]
  },
  {
   "cell_type": "code",
   "execution_count": 7,
   "metadata": {},
   "outputs": [
    {
     "name": "stderr",
     "output_type": "stream",
     "text": [
      "C:\\Users\\Jason\\Anaconda3\\envs\\tf-gpu\\lib\\site-packages\\pandas\\io\\feather_format.py:112: FutureWarning: `nthreads` argument is deprecated, pass `use_threads` instead\n",
      "  return feather.read_dataframe(path, nthreads=nthreads)\n"
     ]
    }
   ],
   "source": [
    "df = pd.read_feather('tmp/df_wPATH')"
   ]
  },
  {
   "cell_type": "code",
   "execution_count": 8,
   "metadata": {},
   "outputs": [
    {
     "data": {
      "text/plain": [
       "(38574, 3)"
      ]
     },
     "execution_count": 8,
     "metadata": {},
     "output_type": "execute_result"
    }
   ],
   "source": [
    "df.shape"
   ]
  },
  {
   "cell_type": "code",
   "execution_count": 9,
   "metadata": {},
   "outputs": [
    {
     "data": {
      "text/html": [
       "<div>\n",
       "<style scoped>\n",
       "    .dataframe tbody tr th:only-of-type {\n",
       "        vertical-align: middle;\n",
       "    }\n",
       "\n",
       "    .dataframe tbody tr th {\n",
       "        vertical-align: top;\n",
       "    }\n",
       "\n",
       "    .dataframe thead th {\n",
       "        text-align: right;\n",
       "    }\n",
       "</style>\n",
       "<table border=\"1\" class=\"dataframe\">\n",
       "  <thead>\n",
       "    <tr style=\"text-align: right;\">\n",
       "      <th></th>\n",
       "      <th>user/throttle</th>\n",
       "      <th>user/angle</th>\n",
       "      <th>cam/image_array</th>\n",
       "    </tr>\n",
       "  </thead>\n",
       "  <tbody>\n",
       "    <tr>\n",
       "      <th>0</th>\n",
       "      <td>0.08</td>\n",
       "      <td>0.01</td>\n",
       "      <td>../tubs/tub5/0_cam-image_array_.jpg</td>\n",
       "    </tr>\n",
       "    <tr>\n",
       "      <th>1</th>\n",
       "      <td>0.12</td>\n",
       "      <td>-0.03</td>\n",
       "      <td>../tubs/tub5/1_cam-image_array_.jpg</td>\n",
       "    </tr>\n",
       "    <tr>\n",
       "      <th>2</th>\n",
       "      <td>0.12</td>\n",
       "      <td>-0.03</td>\n",
       "      <td>../tubs/tub5/2_cam-image_array_.jpg</td>\n",
       "    </tr>\n",
       "    <tr>\n",
       "      <th>3</th>\n",
       "      <td>0.14</td>\n",
       "      <td>-0.06</td>\n",
       "      <td>../tubs/tub5/3_cam-image_array_.jpg</td>\n",
       "    </tr>\n",
       "    <tr>\n",
       "      <th>4</th>\n",
       "      <td>0.14</td>\n",
       "      <td>-0.06</td>\n",
       "      <td>../tubs/tub5/4_cam-image_array_.jpg</td>\n",
       "    </tr>\n",
       "  </tbody>\n",
       "</table>\n",
       "</div>"
      ],
      "text/plain": [
       "   user/throttle  user/angle                      cam/image_array\n",
       "0           0.08        0.01  ../tubs/tub5/0_cam-image_array_.jpg\n",
       "1           0.12       -0.03  ../tubs/tub5/1_cam-image_array_.jpg\n",
       "2           0.12       -0.03  ../tubs/tub5/2_cam-image_array_.jpg\n",
       "3           0.14       -0.06  ../tubs/tub5/3_cam-image_array_.jpg\n",
       "4           0.14       -0.06  ../tubs/tub5/4_cam-image_array_.jpg"
      ]
     },
     "execution_count": 9,
     "metadata": {},
     "output_type": "execute_result"
    }
   ],
   "source": [
    "df.head()"
   ]
  },
  {
   "cell_type": "code",
   "execution_count": 10,
   "metadata": {},
   "outputs": [],
   "source": [
    "bs = 128 # or 128/3\n",
    "train_frac = 0.8\n",
    "new_model_path = 'models/pilot_3Dspeedup'\n",
    "X_keys = ['cam/image_array']\n",
    "y_keys = ['user/angle', 'user/throttle']"
   ]
  },
  {
   "cell_type": "code",
   "execution_count": 11,
   "metadata": {},
   "outputs": [],
   "source": [
    "def get_prev_img_names(img_name, quantity):\n",
    "    img_names = []\n",
    "    last_name = img_name\n",
    "    for i in range(0, quantity):\n",
    "        path = img_name.split(\"/\")\n",
    "        index = int(path[-1][:-21])-i\n",
    "        if index < 0:\n",
    "            name = last_name\n",
    "        else:\n",
    "            path[-1] = str(index) + \"_cam-image_array_.jpg\"\n",
    "            name = \"/\".join(path)\n",
    "        \n",
    "        img_names.append(name)\n",
    "        last_name = name\n",
    "    img_names.reverse()\n",
    "    return img_names"
   ]
  },
  {
   "cell_type": "code",
   "execution_count": 12,
   "metadata": {},
   "outputs": [],
   "source": [
    "def to_bin(a):\n",
    "    arr = np.zeros(15)\n",
    "    a = a + 1\n",
    "    b = round(a/(2/14))\n",
    "    arr[int(b)] = 1\n",
    "    return arr"
   ]
  },
  {
   "cell_type": "code",
   "execution_count": 13,
   "metadata": {},
   "outputs": [],
   "source": [
    "def read_record(record_dict, path = PATH):\n",
    "    data = {}\n",
    "    for key, val in record_dict.items():\n",
    "        if key == 'cam/image_array':\n",
    "            images = get_prev_img_names(val, 3)\n",
    "            data[key] = []\n",
    "            for i, name in enumerate(images):\n",
    "                img = Image.open(name)\n",
    "                data[key].append(np.array(img))\n",
    "            data[key] = np.array(data[key])\n",
    "        else:\n",
    "            data[key] = val\n",
    "        \n",
    "        \n",
    "    return data"
   ]
  },
  {
   "cell_type": "code",
   "execution_count": 14,
   "metadata": {},
   "outputs": [],
   "source": [
    "test = df.sample(n=1).to_dict(orient='record')[0]\n",
    "record = read_record(test)\n",
    "img_arrays = record['cam/image_array']"
   ]
  },
  {
   "cell_type": "code",
   "execution_count": 15,
   "metadata": {},
   "outputs": [
    {
     "data": {
      "text/plain": [
       "(3, 120, 160, 3)"
      ]
     },
     "execution_count": 15,
     "metadata": {},
     "output_type": "execute_result"
    }
   ],
   "source": [
    "img_arrays.shape"
   ]
  },
  {
   "cell_type": "code",
   "execution_count": 16,
   "metadata": {},
   "outputs": [
    {
     "data": {
      "image/png": "[encoded data removed]",
      "text/plain": [
       "<PIL.Image.Image image mode=RGB size=160x120 at 0x1791C24B400>"
      ]
     },
     "execution_count": 16,
     "metadata": {},
     "output_type": "execute_result"
    }
   ],
   "source": [
    "Image.fromarray(img_arrays[0])"
   ]
  },
  {
   "cell_type": "code",
   "execution_count": 17,
   "metadata": {},
   "outputs": [],
   "source": [
    "def get_record_gen(record_transform=None, shuffle=True, df=None):\n",
    "    while True:\n",
    "        for _ in df.iterrows():\n",
    "            if shuffle:\n",
    "                record_dict = df.sample(n=1).to_dict(orient='record')[0]\n",
    "            \n",
    "            record_dict = read_record(record_dict)\n",
    "            \n",
    "            if record_transform:\n",
    "                record_dict = record_transform(record_dict)\n",
    "            \n",
    "            yield record_dict"
   ]
  },
  {
   "cell_type": "code",
   "execution_count": 18,
   "metadata": {},
   "outputs": [],
   "source": [
    "def get_batch_gen(keys=None, batch_size=128, record_transform=None, shuffle=True, df=None):\n",
    "    \n",
    "    record_gen = get_record_gen(record_transform=record_transform, shuffle=shuffle, df=df)\n",
    "    \n",
    "    while True:\n",
    "        record_list = [next(record_gen) for _ in range(batch_size)]\n",
    "        \n",
    "        batch_arrays = {}\n",
    "        for i, k in enumerate(keys):\n",
    "            arr = np.array([r[k] for r in record_list])\n",
    "            batch_arrays[k] = arr\n",
    "        yield batch_arrays"
   ]
  },
  {
   "cell_type": "code",
   "execution_count": 19,
   "metadata": {},
   "outputs": [],
   "source": [
    "def get_train_gen(X_keys, Y_keys, batch_size=128, record_transform=None, df=None): #\n",
    "    batch_gen = get_batch_gen(X_keys + Y_keys, batch_size=batch_size,\n",
    "                                  record_transform=record_transform, df=df)\n",
    "    while True:\n",
    "        batch = next(batch_gen)\n",
    "        X = [batch[k] for k in X_keys]\n",
    "        Y = [batch[k] for k in Y_keys] \n",
    "        yield X, Y"
   ]
  },
  {
   "cell_type": "code",
   "execution_count": 20,
   "metadata": {},
   "outputs": [],
   "source": [
    "def get_train_val_gen(df, X_keys, Y_keys, batch_size = 128, train_frac=0.8, #\n",
    "                      train_record_transform=None, val_record_transform=None): #\n",
    "    train_df = df.sample(frac=train_frac, random_state=200) #\n",
    "    val_df = df.drop(train_df.index) #\n",
    "    \n",
    "    train_gen = get_train_gen(X_keys=X_keys, Y_keys=Y_keys, batch_size=batch_size,\n",
    "                             record_transform=train_record_transform, df=train_df)\n",
    "    val_gen = get_train_gen(X_keys=X_keys, Y_keys=Y_keys, batch_size=batch_size,\n",
    "                           record_transform=val_record_transform, df=val_df)\n",
    "    return train_gen, val_gen\n",
    "    "
   ]
  },
  {
   "cell_type": "code",
   "execution_count": 21,
   "metadata": {},
   "outputs": [],
   "source": [
    "def record_transform(record):\n",
    "    record['user/angle'] = to_bin(record['user/angle'])\n",
    "    return record"
   ]
  },
  {
   "cell_type": "code",
   "execution_count": 22,
   "metadata": {},
   "outputs": [],
   "source": [
    "train_gen, val_gen = get_train_val_gen(df, X_keys, y_keys,\n",
    "                                               train_record_transform=record_transform, #\n",
    "                                               val_record_transform=record_transform, #\n",
    "                                               batch_size=bs, #\n",
    "                                               train_frac=train_frac) #"
   ]
  },
  {
   "cell_type": "code",
   "execution_count": 23,
   "metadata": {},
   "outputs": [],
   "source": [
    "#test = next(train_gen)"
   ]
  },
  {
   "cell_type": "code",
   "execution_count": 24,
   "metadata": {},
   "outputs": [],
   "source": [
    "#test[0][0].shape"
   ]
  },
  {
   "cell_type": "code",
   "execution_count": 25,
   "metadata": {},
   "outputs": [],
   "source": [
    "from tensorflow.python.keras.layers import Input\n",
    "from tensorflow.python.keras.models import Model, load_model, Sequential\n",
    "from tensorflow.python.keras.layers import MaxPooling3D, BatchNormalization, Convolution3D, Cropping3D \n",
    "from tensorflow.python.keras.layers import Dropout, Flatten, Dense, Cropping2D, Lambda\n",
    "from tensorflow.python.keras.callbacks import ModelCheckpoint, EarlyStopping"
   ]
  },
  {
   "cell_type": "code",
   "execution_count": 26,
   "metadata": {},
   "outputs": [],
   "source": [
    "\n",
    "img_in3D = Input(shape=(3, 120, 160, 3), name='img_in')\n",
    "x = img_in3D\n",
    "x = Cropping3D(cropping = ((0, 0),(60, 0),(0, 0)))(x)\n",
    "\n",
    "x = Convolution3D(16, (3, 5, 5), strides=(1, 2, 2), activation='relu')(x)\n",
    "x = BatchNormalization()(x)\n",
    "\n",
    "x = Convolution3D(24, (1, 5, 5), strides=(1, 2, 2), activation='relu')(x)\n",
    "x = BatchNormalization()(x)\n",
    "\n",
    "x = Convolution3D(32, (1, 3, 3), strides=(1, 2, 2), activation='relu')(x)\n",
    "x = BatchNormalization()(x)\n",
    "x = Dropout(0.1)(x)\n",
    "\n",
    "x = Convolution3D(64, (1, 3, 3), activation='relu')(x)\n",
    "x = BatchNormalization()(x)\n",
    "x = Dropout(0.1)(x)\n",
    "\n",
    "x = Flatten(name='flattened')(x)\n",
    "x = Dense(50, activation='relu')(x)\n",
    "x = Dropout(0.2)(x)\n",
    "\n",
    "angle_out = Dense(15, activation='softmax', name='angle_out')(x)\n",
    "throttle_out = Dense(1, activation='relu', name='throttle_out')(x)\n",
    "\n",
    "\n",
    "model = Model(inputs=[img_in3D], outputs=[angle_out, throttle_out])\n",
    "model.compile(optimizer='adam', \n",
    "              loss={'angle_out': 'categorical_crossentropy',\n",
    "                   'throttle_out': 'mean_absolute_error'}, #should I use a different loss function because of gru?\n",
    "              loss_weights={'angle_out': 0.9, 'throttle_out': 0.01}) # should throttle weight be adjusted?"
   ]
  },
  {
   "cell_type": "code",
   "execution_count": 27,
   "metadata": {},
   "outputs": [
    {
     "name": "stdout",
     "output_type": "stream",
     "text": [
      "__________________________________________________________________________________________________\n",
      "Layer (type)                    Output Shape         Param #     Connected to                     \n",
      "==================================================================================================\n",
      "img_in (InputLayer)             (None, 3, 120, 160,  0                                            \n",
      "__________________________________________________________________________________________________\n",
      "cropping3d_1 (Cropping3D)       (None, 3, 60, 160, 3 0           img_in[0][0]                     \n",
      "__________________________________________________________________________________________________\n",
      "conv3d_1 (Conv3D)               (None, 1, 28, 78, 16 3616        cropping3d_1[0][0]               \n",
      "__________________________________________________________________________________________________\n",
      "batch_normalization_1 (BatchNor (None, 1, 28, 78, 16 64          conv3d_1[0][0]                   \n",
      "__________________________________________________________________________________________________\n",
      "conv3d_2 (Conv3D)               (None, 1, 12, 37, 24 9624        batch_normalization_1[0][0]      \n",
      "__________________________________________________________________________________________________\n",
      "batch_normalization_2 (BatchNor (None, 1, 12, 37, 24 96          conv3d_2[0][0]                   \n",
      "__________________________________________________________________________________________________\n",
      "conv3d_3 (Conv3D)               (None, 1, 5, 18, 32) 6944        batch_normalization_2[0][0]      \n",
      "__________________________________________________________________________________________________\n",
      "batch_normalization_3 (BatchNor (None, 1, 5, 18, 32) 128         conv3d_3[0][0]                   \n",
      "__________________________________________________________________________________________________\n",
      "dropout_1 (Dropout)             (None, 1, 5, 18, 32) 0           batch_normalization_3[0][0]      \n",
      "__________________________________________________________________________________________________\n",
      "conv3d_4 (Conv3D)               (None, 1, 3, 16, 64) 18496       dropout_1[0][0]                  \n",
      "__________________________________________________________________________________________________\n",
      "batch_normalization_4 (BatchNor (None, 1, 3, 16, 64) 256         conv3d_4[0][0]                   \n",
      "__________________________________________________________________________________________________\n",
      "dropout_2 (Dropout)             (None, 1, 3, 16, 64) 0           batch_normalization_4[0][0]      \n",
      "__________________________________________________________________________________________________\n",
      "flattened (Flatten)             (None, 3072)         0           dropout_2[0][0]                  \n",
      "__________________________________________________________________________________________________\n",
      "dense_1 (Dense)                 (None, 50)           153650      flattened[0][0]                  \n",
      "__________________________________________________________________________________________________\n",
      "dropout_3 (Dropout)             (None, 50)           0           dense_1[0][0]                    \n",
      "__________________________________________________________________________________________________\n",
      "angle_out (Dense)               (None, 15)           765         dropout_3[0][0]                  \n",
      "__________________________________________________________________________________________________\n",
      "throttle_out (Dense)            (None, 1)            51          dropout_3[0][0]                  \n",
      "==================================================================================================\n",
      "Total params: 193,690\n",
      "Trainable params: 193,418\n",
      "Non-trainable params: 272\n",
      "__________________________________________________________________________________________________\n"
     ]
    }
   ],
   "source": [
    "model.summary()"
   ]
  },
  {
   "cell_type": "code",
   "execution_count": 28,
   "metadata": {},
   "outputs": [],
   "source": [
    "def train(train_gen, val_gen, saved_model_path, epochs=100, steps=100, train_split=0.8,\n",
    "         verbose=1, min_delta=0.0005, patience=5, use_early_stop=True):\n",
    "    \n",
    "#     checkpoint to save model\n",
    "    save_best = ModelCheckpoint(saved_model_path, monitor='val_loss', verbose=verbose, save_best_only=True, mode='min')\n",
    "    \n",
    "    #stop training if stop improving\n",
    "    early_stop = EarlyStopping(monitor='val_loss', min_delta=min_delta, patience=patience, verbose=verbose, mode='auto')\n",
    "    \n",
    "    callbacks_list = [save_best]\n",
    "    \n",
    "    if use_early_stop:\n",
    "        callbacks_list.append(early_stop)\n",
    "        \n",
    "    hist = model.fit_generator(train_gen, steps_per_epoch=steps, epochs=epochs, verbose=1, validation_data=val_gen,\n",
    "                                callbacks=callbacks_list, validation_steps=steps * (1.0 - train_frac)//train_frac)\n",
    "    return hist"
   ]
  },
  {
   "cell_type": "code",
   "execution_count": 29,
   "metadata": {},
   "outputs": [
    {
     "data": {
      "text/plain": [
       "241"
      ]
     },
     "execution_count": 29,
     "metadata": {},
     "output_type": "execute_result"
    }
   ],
   "source": [
    "total_records = len(df)\n",
    "total_train = int(total_records * train_frac)\n",
    "total_val = total_records - total_train\n",
    "steps_per_epoch = total_train // bs\n",
    "steps_per_epoch"
   ]
  },
  {
   "cell_type": "code",
   "execution_count": null,
   "metadata": {
    "scrolled": true
   },
   "outputs": [
    {
     "name": "stdout",
     "output_type": "stream",
     "text": [
      "Epoch 1/100\n",
      "168/241 [===================>..........] - ETA: 31s - loss: 1.6461 - angle_out_loss: 1.8252 - throttle_out_loss: 0.3454"
     ]
    }
   ],
   "source": [
    "train(train_gen, val_gen, saved_model_path=new_model_path, steps=steps_per_epoch, train_split=0.8)"
   ]
  },
  {
   "cell_type": "code",
   "execution_count": null,
   "metadata": {},
   "outputs": [],
   "source": [
    "\"\"\"\n",
    "Records\n",
    "\n",
    "GRU with rmsprop optimizer\n",
    "record\n",
    "241/241 [==============================] - 137s 570ms/step - loss: 1.6156 - angle_out_loss: 1.7943 \n",
    "- throttle_out_loss: 0.0702 - val_loss: 2.1860 - val_angle_out_loss: 2.4283 - val_throttle_out_loss: 0.0526\n",
    "Epoch 00010: early stopping\n",
    "\n",
    "Basic Refference model: pilot_TdBasic\n",
    "Original CNN -> TimeDistributed -> Flatten -> 1 Dense\n",
    "241/241 [==============================] - 153s 636ms/step - loss: 0.6759 - angle_out_loss: 0.7502 - \n",
    "throttle_out_loss: 0.0649 - val_loss: 0.8818 - val_angle_out_loss: 0.9788 - val_throttle_out_loss: 0.0893\n",
    "Epoch 00019: early stopping\n",
    "\n",
    "Basic conv3D model: pilot_conv3D with rmsprop and no activation \n",
    "Original CNN -> TimeDistributed -> conv3D -> Flatten -> 1 Dense\n",
    "241/241 [==============================] - 154s 641ms/step - loss: 0.6136 - angle_out_loss: 0.6812 -\n",
    "throttle_out_loss: 0.0546 - val_loss: 0.7844 - val_angle_out_loss: 0.8709 - val_throttle_out_loss: 0.0511\n",
    "\n",
    "All conv3D model: pilot_Allconv3D with adam\n",
    "Con3D strides=(1, 2, 2): 24, (1, 5, 5) -> 32, (1, 5, 5) -> 64, (1, 5, 5) -> 64, (1, 3, 3) -> strides=(1, 1, 1): 64, (3, 3, 3) -> \n",
    "batchnorm -> flatten -> dense\n",
    "At least\n",
    "241/241 [==============================] - 140s 582ms/step - loss: 0.3661 - \n",
    "angle_out_loss: 0.4063 - throttle_out_loss: 0.0394 - val_loss: 0.6101 -\n",
    "val_angle_out_loss: 0.6775 - val_throttle_out_loss: 0.0350\n",
    "\"\"\""
   ]
  },
  {
   "cell_type": "code",
   "execution_count": 68,
   "metadata": {},
   "outputs": [
    {
     "data": {
      "text/plain": [
       "[0.4666158199310303, 0.5176802217960358, 0.07036299034953117]"
      ]
     },
     "execution_count": 68,
     "metadata": {},
     "output_type": "execute_result"
    }
   ],
   "source": [
    "model.evaluate_generator(train_gen, steps=10)"
   ]
  },
  {
   "cell_type": "code",
   "execution_count": 58,
   "metadata": {},
   "outputs": [],
   "source": [
    "#check against original\n",
    "def unbin(arr):\n",
    "    index = np.argmax(arr)\n",
    "    return index/14*2-1\n",
    "#     return index"
   ]
  },
  {
   "cell_type": "code",
   "execution_count": 59,
   "metadata": {},
   "outputs": [
    {
     "data": {
      "text/plain": [
       "0.0"
      ]
     },
     "execution_count": 59,
     "metadata": {},
     "output_type": "execute_result"
    }
   ],
   "source": [
    "unbin([0, 0, 0, 0, 0, 0, 0, 1, 0, 0, 0, 0, 0, 0, 0])"
   ]
  },
  {
   "cell_type": "code",
   "execution_count": 60,
   "metadata": {},
   "outputs": [],
   "source": [
    "def run(img_arr):\n",
    "    img_arr = img_arr.reshape((1,) + img_arr.shape)\n",
    "    angle_binned, throttle = model.predict(img_arr)\n",
    "    angle_unbinned = unbin(angle_binned[0])\n",
    "    return angle_unbinned, throttle[0][0]"
   ]
  },
  {
   "cell_type": "code",
   "execution_count": 61,
   "metadata": {},
   "outputs": [],
   "source": [
    "frame_idx = 200 #500 - 600"
   ]
  },
  {
   "cell_type": "code",
   "execution_count": 65,
   "metadata": {},
   "outputs": [],
   "source": [
    "img_name = df['cam/image_array'][frame_idx]\n",
    "images = get_prev_img_names(img_name, 3)\n",
    "val = []\n",
    "for i, name in enumerate(images):\n",
    "    img = Image.open(f'{PATH}/{img_name}')\n",
    "    val.append(np.array(img))\n",
    "val = np.array(val)"
   ]
  },
  {
   "cell_type": "code",
   "execution_count": 66,
   "metadata": {},
   "outputs": [
    {
     "data": {
      "text/plain": [
       "(3, 120, 160, 3)"
      ]
     },
     "execution_count": 66,
     "metadata": {},
     "output_type": "execute_result"
    }
   ],
   "source": [
    "val.shape"
   ]
  },
  {
   "cell_type": "code",
   "execution_count": 67,
   "metadata": {},
   "outputs": [
    {
     "data": {
      "text/plain": [
       "(-0.4285714285714286, 0.30532354)"
      ]
     },
     "execution_count": 67,
     "metadata": {},
     "output_type": "execute_result"
    }
   ],
   "source": [
    "#prediction\n",
    "run(val)"
   ]
  },
  {
   "cell_type": "code",
   "execution_count": 125,
   "metadata": {},
   "outputs": [
    {
     "data": {
      "text/plain": [
       "(-0.45, 0.29)"
      ]
     },
     "execution_count": 125,
     "metadata": {},
     "output_type": "execute_result"
    }
   ],
   "source": [
    "#compare to actual data\n",
    "df['user/angle'][frame_idx], df['user/throttle'][frame_idx]"
   ]
  },
  {
   "cell_type": "code",
   "execution_count": 126,
   "metadata": {},
   "outputs": [
    {
     "data": {
      "text/plain": [
       "(-0.53, 0.33)"
      ]
     },
     "execution_count": 126,
     "metadata": {},
     "output_type": "execute_result"
    }
   ],
   "source": [
    "df['user/angle'][frame_idx-1], df['user/throttle'][frame_idx-1]"
   ]
  },
  {
   "cell_type": "code",
   "execution_count": 127,
   "metadata": {},
   "outputs": [
    {
     "data": {
      "text/plain": [
       "(-0.53, 0.33)"
      ]
     },
     "execution_count": 127,
     "metadata": {},
     "output_type": "execute_result"
    }
   ],
   "source": [
    "df['user/angle'][frame_idx-2], df['user/throttle'][frame_idx-2]"
   ]
  },
  {
   "cell_type": "code",
   "execution_count": null,
   "metadata": {},
   "outputs": [],
   "source": []
  }
 ],
 "metadata": {
  "kernelspec": {
   "display_name": "Tensorflow-GPU",
   "language": "python",
   "name": "tf-gpu"
  },
  "language_info": {
   "codemirror_mode": {
    "name": "ipython",
    "version": 3
   },
   "file_extension": ".py",
   "mimetype": "text/x-python",
   "name": "python",
   "nbconvert_exporter": "python",
   "pygments_lexer": "ipython3",
   "version": "3.6.6"
  }
 },
 "nbformat": 4,
 "nbformat_minor": 2
}
