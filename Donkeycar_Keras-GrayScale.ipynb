{
 "cells": [
  {
   "cell_type": "code",
   "execution_count": 4,
   "metadata": {},
   "outputs": [],
   "source": [
    "import os\n",
    "import sys\n",
    "import time\n",
    "import json\n",
    "import datetime\n",
    "import random\n",
    "import tarfile\n",
    "\n",
    "import numpy as np\n",
    "import pandas as pd\n",
    "from PIL import Image\n",
    "PATH = \"../tubs/tub5\" #Shadow"
   ]
  },
  {
   "cell_type": "code",
   "execution_count": 5,
   "metadata": {},
   "outputs": [
    {
     "name": "stdout",
     "output_type": "stream",
     "text": [
      "1.8.0\n"
     ]
    }
   ],
   "source": [
    "#make sure tensorflow version is the same as one installed on donkeycar (1.8.0)\n",
    "import tensorflow as tf\n",
    "print(tf.__version__)"
   ]
  },
  {
   "cell_type": "code",
   "execution_count": 6,
   "metadata": {},
   "outputs": [
    {
     "data": {
      "text/plain": [
       "['/device:GPU:0']"
      ]
     },
     "execution_count": 6,
     "metadata": {},
     "output_type": "execute_result"
    }
   ],
   "source": [
    "from tensorflow.python.client import device_lib\n",
    "\n",
    "def get_available_gpus():\n",
    "    local_device_protos = device_lib.list_local_devices()\n",
    "    return [x.name for x in local_device_protos if x.device_type == 'GPU']\n",
    "get_available_gpus()"
   ]
  },
  {
   "cell_type": "code",
   "execution_count": null,
   "metadata": {},
   "outputs": [],
   "source": []
  },
  {
   "cell_type": "code",
   "execution_count": 52,
   "metadata": {},
   "outputs": [],
   "source": [
    "#create df from path\n",
    "def df_from_jsons(PATH, max_items=None):\n",
    "    \n",
    "    #Get json files from path\n",
    "    json_files = [file for file in os.listdir(PATH) if file.endswith('json') ]\n",
    "    \n",
    "    df = pd.DataFrame()\n",
    "    for i, j in enumerate(json_files[1:max_items]):\n",
    "        with open(f'{PATH}/{j}') as f:\n",
    "            data = json.load(f)\n",
    "\n",
    "            userThrottle = data[\"user/throttle\"]\n",
    "            userAngle = data[\"user/angle\"]\n",
    "            camImage_path = data[\"cam/image_array\"]\n",
    "            index = int(camImage_path[:-21])\n",
    "            camImage_path =  PATH + \"/\" + camImage_path\n",
    "            df_row = pd.DataFrame([[userThrottle, userAngle, camImage_path]], index = [index], \n",
    "                                  columns = [\"user/throttle\", \"user/angle\", \"cam/image_array\"])\n",
    "\n",
    "            df = df.append(df_row)\n",
    "    df = df.sort_index()\n",
    "    print(\"Loaded {} json files\".format(len(json_files)))\n",
    "    return df"
   ]
  },
  {
   "cell_type": "code",
   "execution_count": 18,
   "metadata": {},
   "outputs": [
    {
     "name": "stdout",
     "output_type": "stream",
     "text": [
      "Loaded 38575 json files\n"
     ]
    }
   ],
   "source": [
    "#df = df_from_jsons(PATH, max_items=None)"
   ]
  },
  {
   "cell_type": "code",
   "execution_count": 45,
   "metadata": {},
   "outputs": [],
   "source": [
    "#df.to_feather('tmp/df_wPath_extra')"
   ]
  },
  {
   "cell_type": "code",
   "execution_count": 53,
   "metadata": {},
   "outputs": [
    {
     "name": "stderr",
     "output_type": "stream",
     "text": [
      "C:\\Users\\Jason\\Anaconda3\\envs\\tf-gpu\\lib\\site-packages\\pandas\\io\\feather_format.py:112: FutureWarning: `nthreads` argument is deprecated, pass `use_threads` instead\n",
      "  return feather.read_dataframe(path, nthreads=nthreads)\n"
     ]
    }
   ],
   "source": [
    "df = pd.read_feather('tmp/df_wPath')"
   ]
  },
  {
   "cell_type": "code",
   "execution_count": 54,
   "metadata": {},
   "outputs": [
    {
     "data": {
      "text/plain": [
       "(38574, 3)"
      ]
     },
     "execution_count": 54,
     "metadata": {},
     "output_type": "execute_result"
    }
   ],
   "source": [
    "df.shape"
   ]
  },
  {
   "cell_type": "code",
   "execution_count": 55,
   "metadata": {},
   "outputs": [
    {
     "data": {
      "text/html": [
       "<div>\n",
       "<style scoped>\n",
       "    .dataframe tbody tr th:only-of-type {\n",
       "        vertical-align: middle;\n",
       "    }\n",
       "\n",
       "    .dataframe tbody tr th {\n",
       "        vertical-align: top;\n",
       "    }\n",
       "\n",
       "    .dataframe thead th {\n",
       "        text-align: right;\n",
       "    }\n",
       "</style>\n",
       "<table border=\"1\" class=\"dataframe\">\n",
       "  <thead>\n",
       "    <tr style=\"text-align: right;\">\n",
       "      <th></th>\n",
       "      <th>user/throttle</th>\n",
       "      <th>user/angle</th>\n",
       "      <th>cam/image_array</th>\n",
       "    </tr>\n",
       "  </thead>\n",
       "  <tbody>\n",
       "    <tr>\n",
       "      <th>0</th>\n",
       "      <td>0.08</td>\n",
       "      <td>0.01</td>\n",
       "      <td>../tubs/tub5/0_cam-image_array_.jpg</td>\n",
       "    </tr>\n",
       "    <tr>\n",
       "      <th>1</th>\n",
       "      <td>0.12</td>\n",
       "      <td>-0.03</td>\n",
       "      <td>../tubs/tub5/1_cam-image_array_.jpg</td>\n",
       "    </tr>\n",
       "    <tr>\n",
       "      <th>2</th>\n",
       "      <td>0.12</td>\n",
       "      <td>-0.03</td>\n",
       "      <td>../tubs/tub5/2_cam-image_array_.jpg</td>\n",
       "    </tr>\n",
       "    <tr>\n",
       "      <th>3</th>\n",
       "      <td>0.14</td>\n",
       "      <td>-0.06</td>\n",
       "      <td>../tubs/tub5/3_cam-image_array_.jpg</td>\n",
       "    </tr>\n",
       "    <tr>\n",
       "      <th>4</th>\n",
       "      <td>0.14</td>\n",
       "      <td>-0.06</td>\n",
       "      <td>../tubs/tub5/4_cam-image_array_.jpg</td>\n",
       "    </tr>\n",
       "  </tbody>\n",
       "</table>\n",
       "</div>"
      ],
      "text/plain": [
       "   user/throttle  user/angle                      cam/image_array\n",
       "0           0.08        0.01  ../tubs/tub5/0_cam-image_array_.jpg\n",
       "1           0.12       -0.03  ../tubs/tub5/1_cam-image_array_.jpg\n",
       "2           0.12       -0.03  ../tubs/tub5/2_cam-image_array_.jpg\n",
       "3           0.14       -0.06  ../tubs/tub5/3_cam-image_array_.jpg\n",
       "4           0.14       -0.06  ../tubs/tub5/4_cam-image_array_.jpg"
      ]
     },
     "execution_count": 55,
     "metadata": {},
     "output_type": "execute_result"
    }
   ],
   "source": [
    "df.head()"
   ]
  },
  {
   "cell_type": "code",
   "execution_count": 70,
   "metadata": {},
   "outputs": [],
   "source": [
    "X_keys = ['cam/image_array']\n",
    "y_keys = ['user/angle', 'user/throttle']\n",
    "PATH\n",
    "new_model_path = 'models/pilot_grayScale_1'\n",
    "bs = 128\n",
    "train_frac = 0.8"
   ]
  },
  {
   "cell_type": "code",
   "execution_count": 71,
   "metadata": {},
   "outputs": [],
   "source": [
    "def to_bin(a):\n",
    "    arr = np.zeros(15)\n",
    "    a = a + 1\n",
    "    b = round(a/(2/14))\n",
    "    arr[int(b)] = 1\n",
    "    return arr"
   ]
  },
  {
   "cell_type": "code",
   "execution_count": 96,
   "metadata": {},
   "outputs": [],
   "source": [
    "def read_record(record_dict, path = PATH, grayscale = True):\n",
    "    data = {}\n",
    "    for key, val in record_dict.items():\n",
    "        if key == 'cam/image_array':\n",
    "            img = Image.open(f'{val}')\n",
    "            if grayscale:\n",
    "                img = img.convert(\"L\")\n",
    "                val = np.array(img).reshape(120, 160, 1)\n",
    "            else:\n",
    "                val = np.array(img)\n",
    "        \n",
    "        data[key] = val\n",
    "    return data"
   ]
  },
  {
   "cell_type": "code",
   "execution_count": 97,
   "metadata": {},
   "outputs": [
    {
     "data": {
      "text/plain": [
       "(120, 160, 1)"
      ]
     },
     "execution_count": 97,
     "metadata": {},
     "output_type": "execute_result"
    }
   ],
   "source": [
    "#Testing\n",
    "df_t = df.sample(n=1).to_dict(orient='record')[0]\n",
    "record = read_record(df_t)\n",
    "data = record['cam/image_array']\n",
    "data.shape"
   ]
  },
  {
   "cell_type": "code",
   "execution_count": 98,
   "metadata": {},
   "outputs": [],
   "source": [
    "test = np.moveaxis(data, -1, 0)"
   ]
  },
  {
   "cell_type": "code",
   "execution_count": 99,
   "metadata": {},
   "outputs": [
    {
     "data": {
      "text/plain": [
       "(1, 120, 160)"
      ]
     },
     "execution_count": 99,
     "metadata": {},
     "output_type": "execute_result"
    }
   ],
   "source": [
    "test.shape"
   ]
  },
  {
   "cell_type": "code",
   "execution_count": 76,
   "metadata": {},
   "outputs": [
    {
     "data": {
      "text/plain": [
       "(120, 160, 1)"
      ]
     },
     "execution_count": 76,
     "metadata": {},
     "output_type": "execute_result"
    }
   ],
   "source": [
    "data.shape"
   ]
  },
  {
   "cell_type": "code",
   "execution_count": 43,
   "metadata": {},
   "outputs": [
    {
     "data": {
      "text/plain": [
       "34"
      ]
     },
     "execution_count": 43,
     "metadata": {},
     "output_type": "execute_result"
    }
   ],
   "source": [
    "data[0][5][6]"
   ]
  },
  {
   "cell_type": "code",
   "execution_count": 44,
   "metadata": {},
   "outputs": [
    {
     "data": {
      "text/plain": [
       "34"
      ]
     },
     "execution_count": 44,
     "metadata": {},
     "output_type": "execute_result"
    }
   ],
   "source": [
    "test[5][6][0]"
   ]
  },
  {
   "cell_type": "code",
   "execution_count": 100,
   "metadata": {},
   "outputs": [
    {
     "data": {
      "image/png": "[encoded data removed]",
      "text/plain": [
       "<PIL.Image.Image image mode=L size=160x120 at 0x193F6679CF8>"
      ]
     },
     "execution_count": 100,
     "metadata": {},
     "output_type": "execute_result"
    }
   ],
   "source": [
    "Image.fromarray(test[0], \"L\")"
   ]
  },
  {
   "cell_type": "code",
   "execution_count": 19,
   "metadata": {},
   "outputs": [
    {
     "ename": "NameError",
     "evalue": "name 'pic' is not defined",
     "output_type": "error",
     "traceback": [
      "\u001b[1;31m---------------------------------------------------------------------------\u001b[0m",
      "\u001b[1;31mNameError\u001b[0m                                 Traceback (most recent call last)",
      "\u001b[1;32m<ipython-input-19-48b4630bec4c>\u001b[0m in \u001b[0;36m<module>\u001b[1;34m()\u001b[0m\n\u001b[1;32m----> 1\u001b[1;33m \u001b[0mpic_gray\u001b[0m\u001b[1;33m=\u001b[0m\u001b[0mpic\u001b[0m\u001b[1;33m.\u001b[0m\u001b[0mconvert\u001b[0m\u001b[1;33m(\u001b[0m\u001b[1;34m\"L\"\u001b[0m\u001b[1;33m)\u001b[0m\u001b[1;33m\u001b[0m\u001b[0m\n\u001b[0m\u001b[0;32m      2\u001b[0m \u001b[0mpic_gray\u001b[0m\u001b[1;33m\u001b[0m\u001b[0m\n",
      "\u001b[1;31mNameError\u001b[0m: name 'pic' is not defined"
     ]
    }
   ],
   "source": [
    "pic_gray=pic.convert(\"L\")\n",
    "pic_gray"
   ]
  },
  {
   "cell_type": "code",
   "execution_count": 46,
   "metadata": {},
   "outputs": [],
   "source": [
    "pic_gray_arr = np.array(pic_gray)"
   ]
  },
  {
   "cell_type": "code",
   "execution_count": 48,
   "metadata": {},
   "outputs": [
    {
     "data": {
      "text/plain": [
       "(120, 160)"
      ]
     },
     "execution_count": 48,
     "metadata": {},
     "output_type": "execute_result"
    }
   ],
   "source": [
    "pic_gray_arr.shape"
   ]
  },
  {
   "cell_type": "code",
   "execution_count": 49,
   "metadata": {},
   "outputs": [
    {
     "data": {
      "image/png": "[encoded data removed]",
      "text/plain": [
       "<PIL.Image.Image image mode=L size=160x120 at 0x1E35C377C50>"
      ]
     },
     "execution_count": 49,
     "metadata": {},
     "output_type": "execute_result"
    }
   ],
   "source": [
    "Image.fromarray(pic_gray_arr, \"L\")"
   ]
  },
  {
   "cell_type": "code",
   "execution_count": 77,
   "metadata": {},
   "outputs": [],
   "source": [
    "def get_record_gen(record_transform=None, shuffle=True, df=None):\n",
    "    while True:\n",
    "        for _ in df.iterrows():\n",
    "            if shuffle:\n",
    "                record_dict = df.sample(n=1).to_dict(orient='record')[0]\n",
    "            \n",
    "            record_dict = read_record(record_dict)\n",
    "            \n",
    "            if record_transform:\n",
    "                record_dict = record_transform(record_dict)\n",
    "            \n",
    "            yield record_dict"
   ]
  },
  {
   "cell_type": "code",
   "execution_count": 78,
   "metadata": {},
   "outputs": [],
   "source": [
    "# record_gen = get_record_gen(record_transform=None, shuffle=True, df=df)"
   ]
  },
  {
   "cell_type": "code",
   "execution_count": 79,
   "metadata": {},
   "outputs": [],
   "source": [
    "# next(record_gen)"
   ]
  },
  {
   "cell_type": "code",
   "execution_count": 80,
   "metadata": {},
   "outputs": [],
   "source": [
    "def get_batch_gen(keys=None, batch_size=128, record_transform=None, shuffle=True, df=None):\n",
    "    \n",
    "    record_gen = get_record_gen(record_transform=record_transform, shuffle=shuffle, df=df)\n",
    "    \n",
    "    while True:\n",
    "        record_list = [next(record_gen) for _ in range(batch_size)]\n",
    "        \n",
    "        batch_arrays = {}\n",
    "        for i, k in enumerate(keys):\n",
    "            arr = np.array([r[k] for r in record_list])\n",
    "            batch_arrays[k] = arr\n",
    "        yield batch_arrays"
   ]
  },
  {
   "cell_type": "code",
   "execution_count": 81,
   "metadata": {},
   "outputs": [],
   "source": [
    "def get_train_gen(X_keys, Y_keys, batch_size=128, record_transform=None, df=None): #\n",
    "    batch_gen = get_batch_gen(X_keys + Y_keys, batch_size=batch_size,\n",
    "                                  record_transform=record_transform, df=df)\n",
    "    while True:\n",
    "        batch = next(batch_gen)\n",
    "        X = [batch[k] for k in X_keys]\n",
    "        Y = [batch[k] for k in Y_keys] \n",
    "        yield X, Y"
   ]
  },
  {
   "cell_type": "code",
   "execution_count": 82,
   "metadata": {},
   "outputs": [],
   "source": [
    "def get_train_val_gen(df, X_keys, Y_keys, batch_size = 128, train_frac=0.8, #\n",
    "                      train_record_transform=None, val_record_transform=None): #\n",
    "    train_df = df.sample(frac=train_frac, random_state=200) #\n",
    "    val_df = df.drop(train_df.index) #\n",
    "    \n",
    "    train_gen = get_train_gen(X_keys=X_keys, Y_keys=Y_keys, batch_size=batch_size,\n",
    "                             record_transform=train_record_transform, df=train_df)\n",
    "    val_gen = get_train_gen(X_keys=X_keys, Y_keys=Y_keys, batch_size=batch_size,\n",
    "                           record_transform=val_record_transform, df=val_df)\n",
    "    return train_gen, val_gen\n",
    "    "
   ]
  },
  {
   "cell_type": "code",
   "execution_count": 83,
   "metadata": {},
   "outputs": [],
   "source": [
    "def record_transform(record):\n",
    "    record['user/angle'] = to_bin(record['user/angle'])\n",
    "    return record"
   ]
  },
  {
   "cell_type": "code",
   "execution_count": 84,
   "metadata": {},
   "outputs": [],
   "source": [
    "train_gen, val_gen = get_train_val_gen(df, X_keys, y_keys,\n",
    "                                               train_record_transform=record_transform, #\n",
    "                                               val_record_transform=record_transform, #\n",
    "                                               batch_size=bs, #\n",
    "                                               train_frac=train_frac) #"
   ]
  },
  {
   "cell_type": "code",
   "execution_count": 85,
   "metadata": {},
   "outputs": [],
   "source": [
    "from tensorflow.python.keras.layers import Input\n",
    "from tensorflow.python.keras.models import Model, load_model\n",
    "from tensorflow.python.keras.layers import Convolution2D\n",
    "from tensorflow.python.keras.layers import Dropout, Flatten, Dense, Cropping2D, Lambda\n",
    "from tensorflow.python.keras.callbacks import ModelCheckpoint, EarlyStopping"
   ]
  },
  {
   "cell_type": "code",
   "execution_count": 86,
   "metadata": {},
   "outputs": [],
   "source": [
    "def default_categorical():\n",
    "    img_in = Input(shape=(120, 160, 1),\n",
    "                   name='img_in')  # First layer, input layer, Shape comes from camera.py resolution, RGB\n",
    "    x = img_in\n",
    "    x = Convolution2D(24, (5, 5), strides=(2, 2), activation='relu')(\n",
    "        x)  # 24 features, 5 pixel x 5 pixel kernel (convolution, feauture) window, 2wx2h stride, relu activation\n",
    "    x = Convolution2D(32, (5, 5), strides=(2, 2), activation='relu')(\n",
    "        x)  # 32 features, 5px5p kernel window, 2wx2h stride, relu activatiion\n",
    "    x = Convolution2D(64, (5, 5), strides=(2, 2), activation='relu')(\n",
    "        x)  # 64 features, 5px5p kernal window, 2wx2h stride, relu\n",
    "    x = Convolution2D(64, (3, 3), strides=(2, 2), activation='relu')(\n",
    "        x)  # 64 features, 3px3p kernal window, 2wx2h stride, relu\n",
    "    x = Convolution2D(64, (3, 3), strides=(1, 1), activation='relu')(\n",
    "        x)  # 64 features, 3px3p kernal window, 1wx1h stride, relu\n",
    "\n",
    "    # Possibly add MaxPooling (will make it less sensitive to position in image).  Camera angle fixed, so may not to be needed\n",
    "    x = Dropout(0.5)(x)\n",
    "    x = Flatten(name='flattened')(x)  # Flatten to 1D (Fully connected)\n",
    "#     x = Dense(100, activation='relu')(x)  # Classify the data into 100 features, make all negatives 0\n",
    "#     x = Dropout(.3)(x)  # Randomly drop out (turn off) 10% of the neurons (Prevent overfitting)\n",
    "    x = Dense(50, activation='relu')(x)  # Classify the data into 50 features, make all negatives 0\n",
    "    x = Dropout(.5)(x)  # Randomly drop out 10% of the neurons (Prevent overfitting)\n",
    "    # categorical output of the angle\n",
    "    angle_out = Dense(15, activation='softmax', name='angle_out')(\n",
    "        x)  # Connect every input with every output and output 15 hidden units. Use Softmax to give percentage. 15 categories and find best one based off percentage 0.0-1.0\n",
    "\n",
    "    # continous output of throttle\n",
    "    throttle_out = Dense(1, activation='relu', name='throttle_out')(x)  # Reduce to 1 number, Positive number only\n",
    "\n",
    "    model = Model(inputs=[img_in], outputs=[angle_out, throttle_out])\n",
    "    model.compile(optimizer='adam',\n",
    "                  loss={'angle_out': 'categorical_crossentropy',\n",
    "                        'throttle_out': 'mean_absolute_error'},\n",
    "                  loss_weights={'angle_out': 0.9, 'throttle_out': .01})\n",
    "\n",
    "    return model"
   ]
  },
  {
   "cell_type": "code",
   "execution_count": 87,
   "metadata": {},
   "outputs": [
    {
     "name": "stdout",
     "output_type": "stream",
     "text": [
      "__________________________________________________________________________________________________\n",
      "Layer (type)                    Output Shape         Param #     Connected to                     \n",
      "==================================================================================================\n",
      "img_in (InputLayer)             (None, 120, 160, 1)  0                                            \n",
      "__________________________________________________________________________________________________\n",
      "conv2d_1 (Conv2D)               (None, 58, 78, 24)   624         img_in[0][0]                     \n",
      "__________________________________________________________________________________________________\n",
      "conv2d_2 (Conv2D)               (None, 27, 37, 32)   19232       conv2d_1[0][0]                   \n",
      "__________________________________________________________________________________________________\n",
      "conv2d_3 (Conv2D)               (None, 12, 17, 64)   51264       conv2d_2[0][0]                   \n",
      "__________________________________________________________________________________________________\n",
      "conv2d_4 (Conv2D)               (None, 5, 8, 64)     36928       conv2d_3[0][0]                   \n",
      "__________________________________________________________________________________________________\n",
      "conv2d_5 (Conv2D)               (None, 3, 6, 64)     36928       conv2d_4[0][0]                   \n",
      "__________________________________________________________________________________________________\n",
      "dropout_1 (Dropout)             (None, 3, 6, 64)     0           conv2d_5[0][0]                   \n",
      "__________________________________________________________________________________________________\n",
      "flattened (Flatten)             (None, 1152)         0           dropout_1[0][0]                  \n",
      "__________________________________________________________________________________________________\n",
      "dense_1 (Dense)                 (None, 50)           57650       flattened[0][0]                  \n",
      "__________________________________________________________________________________________________\n",
      "dropout_2 (Dropout)             (None, 50)           0           dense_1[0][0]                    \n",
      "__________________________________________________________________________________________________\n",
      "angle_out (Dense)               (None, 15)           765         dropout_2[0][0]                  \n",
      "__________________________________________________________________________________________________\n",
      "throttle_out (Dense)            (None, 1)            51          dropout_2[0][0]                  \n",
      "==================================================================================================\n",
      "Total params: 203,442\n",
      "Trainable params: 203,442\n",
      "Non-trainable params: 0\n",
      "__________________________________________________________________________________________________\n"
     ]
    }
   ],
   "source": [
    "model = default_categorical()\n",
    "model.summary()"
   ]
  },
  {
   "cell_type": "code",
   "execution_count": 88,
   "metadata": {},
   "outputs": [],
   "source": [
    "def train(train_gen, val_gen, saved_model_path, epochs=100, steps=100, train_split=0.8,\n",
    "         verbose=1, min_delta=0.0005, patience=5, use_early_stop=True):\n",
    "    \n",
    "#     checkpoint to save model\n",
    "    save_best = ModelCheckpoint(saved_model_path, monitor='val_loss', verbose=verbose, save_best_only=True, mode='min')\n",
    "    \n",
    "    #stop training if stop improving\n",
    "    early_stop = EarlyStopping(monitor='val_loss', min_delta=min_delta, patience=patience, verbose=verbose, mode='auto')\n",
    "    \n",
    "    callbacks_list = [save_best]\n",
    "    \n",
    "    if use_early_stop:\n",
    "        callbacks_list.append(early_stop)\n",
    "        \n",
    "    hist = model.fit_generator(train_gen, steps_per_epoch=steps, epochs=epochs, verbose=1, validation_data=val_gen,\n",
    "                                callbacks=callbacks_list, validation_steps=steps * (1.0 - train_frac)//train_frac)\n",
    "    return hist"
   ]
  },
  {
   "cell_type": "code",
   "execution_count": 89,
   "metadata": {},
   "outputs": [
    {
     "data": {
      "text/plain": [
       "241"
      ]
     },
     "execution_count": 89,
     "metadata": {},
     "output_type": "execute_result"
    }
   ],
   "source": [
    "total_records = len(df)\n",
    "total_train = int(total_records * train_frac)\n",
    "total_val = total_records - total_train\n",
    "steps_per_epoch = total_train // bs\n",
    "steps_per_epoch"
   ]
  },
  {
   "cell_type": "code",
   "execution_count": 90,
   "metadata": {
    "scrolled": false
   },
   "outputs": [
    {
     "name": "stdout",
     "output_type": "stream",
     "text": [
      "Epoch 1/100\n",
      "240/241 [============================>.] - ETA: 0s - loss: 2.0017 - angle_out_loss: 2.2204 - throttle_out_loss: 0.3307\n",
      "Epoch 00001: val_loss improved from inf to 1.41362, saving model to models/pilot_grayScale_1\n",
      "241/241 [==============================] - 101s 419ms/step - loss: 1.9998 - angle_out_loss: 2.2183 - throttle_out_loss: 0.3306 - val_loss: 1.4136 - val_angle_out_loss: 1.5671 - val_throttle_out_loss: 0.3201\n",
      "Epoch 2/100\n",
      "240/241 [============================>.] - ETA: 0s - loss: 1.4935 - angle_out_loss: 1.6559 - throttle_out_loss: 0.3164\n",
      "Epoch 00002: val_loss improved from 1.41362 to 1.28727, saving model to models/pilot_grayScale_1\n",
      "241/241 [==============================] - 85s 353ms/step - loss: 1.4929 - angle_out_loss: 1.6553 - throttle_out_loss: 0.3163 - val_loss: 1.2873 - val_angle_out_loss: 1.4268 - val_throttle_out_loss: 0.3188\n",
      "Epoch 3/100\n",
      "240/241 [============================>.] - ETA: 0s - loss: 1.3904 - angle_out_loss: 1.5414 - throttle_out_loss: 0.3144\n",
      "Epoch 00003: val_loss improved from 1.28727 to 1.26411, saving model to models/pilot_grayScale_1\n",
      "241/241 [==============================] - 82s 340ms/step - loss: 1.3900 - angle_out_loss: 1.5410 - throttle_out_loss: 0.3144 - val_loss: 1.2641 - val_angle_out_loss: 1.4010 - val_throttle_out_loss: 0.3190\n",
      "Epoch 4/100\n",
      "240/241 [============================>.] - ETA: 0s - loss: 1.3302 - angle_out_loss: 1.4746 - throttle_out_loss: 0.3022\n",
      "Epoch 00004: val_loss improved from 1.26411 to 1.21385, saving model to models/pilot_grayScale_1\n",
      "241/241 [==============================] - 81s 335ms/step - loss: 1.3299 - angle_out_loss: 1.4743 - throttle_out_loss: 0.3022 - val_loss: 1.2138 - val_angle_out_loss: 1.3452 - val_throttle_out_loss: 0.3145\n",
      "Epoch 5/100\n",
      "240/241 [============================>.] - ETA: 0s - loss: 1.2664 - angle_out_loss: 1.4043 - throttle_out_loss: 0.2498\n",
      "Epoch 00005: val_loss improved from 1.21385 to 1.17672, saving model to models/pilot_grayScale_1\n",
      "241/241 [==============================] - 81s 335ms/step - loss: 1.2668 - angle_out_loss: 1.4047 - throttle_out_loss: 0.2497 - val_loss: 1.1767 - val_angle_out_loss: 1.3055 - val_throttle_out_loss: 0.1806\n",
      "Epoch 6/100\n",
      "240/241 [============================>.] - ETA: 0s - loss: 1.2285 - angle_out_loss: 1.3639 - throttle_out_loss: 0.1014\n",
      "Epoch 00006: val_loss improved from 1.17672 to 1.13671, saving model to models/pilot_grayScale_1\n",
      "241/241 [==============================] - 79s 327ms/step - loss: 1.2281 - angle_out_loss: 1.3634 - throttle_out_loss: 0.1011 - val_loss: 1.1367 - val_angle_out_loss: 1.2626 - val_throttle_out_loss: 0.0376\n",
      "Epoch 7/100\n",
      "240/241 [============================>.] - ETA: 0s - loss: 1.1860 - angle_out_loss: 1.3173 - throttle_out_loss: 0.0431\n",
      "Epoch 00007: val_loss improved from 1.13671 to 1.11074, saving model to models/pilot_grayScale_1\n",
      "241/241 [==============================] - 79s 328ms/step - loss: 1.1864 - angle_out_loss: 1.3177 - throttle_out_loss: 0.0431 - val_loss: 1.1107 - val_angle_out_loss: 1.2337 - val_throttle_out_loss: 0.0376\n",
      "Epoch 8/100\n",
      "240/241 [============================>.] - ETA: 0s - loss: 1.1427 - angle_out_loss: 1.2692 - throttle_out_loss: 0.0383\n",
      "Epoch 00008: val_loss improved from 1.11074 to 1.07810, saving model to models/pilot_grayScale_1\n",
      "241/241 [==============================] - 79s 329ms/step - loss: 1.1428 - angle_out_loss: 1.2694 - throttle_out_loss: 0.0383 - val_loss: 1.0781 - val_angle_out_loss: 1.1975 - val_throttle_out_loss: 0.0361\n",
      "Epoch 9/100\n",
      "240/241 [============================>.] - ETA: 0s - loss: 1.1072 - angle_out_loss: 1.2298 - throttle_out_loss: 0.0380\n",
      "Epoch 00009: val_loss did not improve\n",
      "241/241 [==============================] - 77s 321ms/step - loss: 1.1073 - angle_out_loss: 1.2299 - throttle_out_loss: 0.0380 - val_loss: 1.0971 - val_angle_out_loss: 1.2186 - val_throttle_out_loss: 0.0349\n",
      "Epoch 10/100\n",
      "240/241 [============================>.] - ETA: 0s - loss: 1.0901 - angle_out_loss: 1.2108 - throttle_out_loss: 0.0373\n",
      "Epoch 00010: val_loss improved from 1.07810 to 1.06859, saving model to models/pilot_grayScale_1\n",
      "241/241 [==============================] - 78s 322ms/step - loss: 1.0901 - angle_out_loss: 1.2108 - throttle_out_loss: 0.0373 - val_loss: 1.0686 - val_angle_out_loss: 1.1869 - val_throttle_out_loss: 0.0367\n",
      "Epoch 11/100\n",
      "240/241 [============================>.] - ETA: 0s - loss: 1.0446 - angle_out_loss: 1.1602 - throttle_out_loss: 0.0373\n",
      "Epoch 00011: val_loss improved from 1.06859 to 1.02226, saving model to models/pilot_grayScale_1\n",
      "241/241 [==============================] - 78s 325ms/step - loss: 1.0449 - angle_out_loss: 1.1606 - throttle_out_loss: 0.0373 - val_loss: 1.0223 - val_angle_out_loss: 1.1354 - val_throttle_out_loss: 0.0360\n",
      "Epoch 12/100\n",
      "240/241 [============================>.] - ETA: 0s - loss: 1.0227 - angle_out_loss: 1.1359 - throttle_out_loss: 0.0375\n",
      "Epoch 00012: val_loss did not improve\n",
      "241/241 [==============================] - 79s 326ms/step - loss: 1.0231 - angle_out_loss: 1.1364 - throttle_out_loss: 0.0375 - val_loss: 1.0411 - val_angle_out_loss: 1.1564 - val_throttle_out_loss: 0.0357\n",
      "Epoch 13/100\n",
      "240/241 [============================>.] - ETA: 0s - loss: 0.9827 - angle_out_loss: 1.0914 - throttle_out_loss: 0.0384\n",
      "Epoch 00013: val_loss improved from 1.02226 to 1.00472, saving model to models/pilot_grayScale_1\n",
      "241/241 [==============================] - 79s 326ms/step - loss: 0.9826 - angle_out_loss: 1.0914 - throttle_out_loss: 0.0383 - val_loss: 1.0047 - val_angle_out_loss: 1.1159 - val_throttle_out_loss: 0.0372\n",
      "Epoch 14/100\n",
      "240/241 [============================>.] - ETA: 0s - loss: 0.9553 - angle_out_loss: 1.0610 - throttle_out_loss: 0.0395\n",
      "Epoch 00014: val_loss did not improve\n",
      "241/241 [==============================] - 76s 316ms/step - loss: 0.9548 - angle_out_loss: 1.0605 - throttle_out_loss: 0.0395 - val_loss: 1.0057 - val_angle_out_loss: 1.1170 - val_throttle_out_loss: 0.0359\n",
      "Epoch 15/100\n",
      "240/241 [============================>.] - ETA: 0s - loss: 0.9308 - angle_out_loss: 1.0338 - throttle_out_loss: 0.0384\n",
      "Epoch 00015: val_loss did not improve\n",
      "241/241 [==============================] - 77s 318ms/step - loss: 0.9312 - angle_out_loss: 1.0342 - throttle_out_loss: 0.0384 - val_loss: 1.0134 - val_angle_out_loss: 1.1256 - val_throttle_out_loss: 0.0360\n",
      "Epoch 16/100\n",
      "240/241 [============================>.] - ETA: 0s - loss: 0.9137 - angle_out_loss: 1.0148 - throttle_out_loss: 0.0375\n",
      "Epoch 00016: val_loss improved from 1.00472 to 0.97398, saving model to models/pilot_grayScale_1\n",
      "241/241 [==============================] - 75s 313ms/step - loss: 0.9136 - angle_out_loss: 1.0147 - throttle_out_loss: 0.0375 - val_loss: 0.9740 - val_angle_out_loss: 1.0818 - val_throttle_out_loss: 0.0374\n",
      "Epoch 17/100\n",
      "240/241 [============================>.] - ETA: 0s - loss: 0.8884 - angle_out_loss: 0.9867 - throttle_out_loss: 0.0392\n",
      "Epoch 00017: val_loss did not improve\n",
      "241/241 [==============================] - 77s 320ms/step - loss: 0.8881 - angle_out_loss: 0.9863 - throttle_out_loss: 0.0392 - val_loss: 0.9865 - val_angle_out_loss: 1.0957 - val_throttle_out_loss: 0.0371\n",
      "Epoch 18/100\n",
      "240/241 [============================>.] - ETA: 0s - loss: 0.8559 - angle_out_loss: 0.9505 - throttle_out_loss: 0.0399\n",
      "Epoch 00018: val_loss improved from 0.97398 to 0.95057, saving model to models/pilot_grayScale_1\n",
      "241/241 [==============================] - 77s 319ms/step - loss: 0.8558 - angle_out_loss: 0.9504 - throttle_out_loss: 0.0399 - val_loss: 0.9506 - val_angle_out_loss: 1.0558 - val_throttle_out_loss: 0.0392\n",
      "Epoch 19/100\n",
      "240/241 [============================>.] - ETA: 0s - loss: 0.8437 - angle_out_loss: 0.9370 - throttle_out_loss: 0.0390\n",
      "Epoch 00019: val_loss improved from 0.95057 to 0.94139, saving model to models/pilot_grayScale_1\n",
      "241/241 [==============================] - 77s 320ms/step - loss: 0.8436 - angle_out_loss: 0.9369 - throttle_out_loss: 0.0390 - val_loss: 0.9414 - val_angle_out_loss: 1.0456 - val_throttle_out_loss: 0.0370\n",
      "Epoch 20/100\n",
      "240/241 [============================>.] - ETA: 0s - loss: 0.8165 - angle_out_loss: 0.9068 - throttle_out_loss: 0.0401\n",
      "Epoch 00020: val_loss improved from 0.94139 to 0.92091, saving model to models/pilot_grayScale_1\n",
      "241/241 [==============================] - 75s 311ms/step - loss: 0.8164 - angle_out_loss: 0.9066 - throttle_out_loss: 0.0401 - val_loss: 0.9209 - val_angle_out_loss: 1.0228 - val_throttle_out_loss: 0.0376\n"
     ]
    },
    {
     "name": "stdout",
     "output_type": "stream",
     "text": [
      "Epoch 21/100\n",
      "240/241 [============================>.] - ETA: 0s - loss: 0.8143 - angle_out_loss: 0.9044 - throttle_out_loss: 0.0395\n",
      "Epoch 00021: val_loss did not improve\n",
      "241/241 [==============================] - 79s 326ms/step - loss: 0.8145 - angle_out_loss: 0.9046 - throttle_out_loss: 0.0395 - val_loss: 0.9288 - val_angle_out_loss: 1.0316 - val_throttle_out_loss: 0.0391\n",
      "Epoch 22/100\n",
      "240/241 [============================>.] - ETA: 0s - loss: 0.7917 - angle_out_loss: 0.8792 - throttle_out_loss: 0.0405\n",
      "Epoch 00022: val_loss improved from 0.92091 to 0.89306, saving model to models/pilot_grayScale_1\n",
      "241/241 [==============================] - 77s 318ms/step - loss: 0.7913 - angle_out_loss: 0.8788 - throttle_out_loss: 0.0406 - val_loss: 0.8931 - val_angle_out_loss: 0.9919 - val_throttle_out_loss: 0.0369\n",
      "Epoch 23/100\n",
      "240/241 [============================>.] - ETA: 0s - loss: 0.7723 - angle_out_loss: 0.8577 - throttle_out_loss: 0.0394\n",
      "Epoch 00023: val_loss improved from 0.89306 to 0.88511, saving model to models/pilot_grayScale_1\n",
      "241/241 [==============================] - 72s 298ms/step - loss: 0.7723 - angle_out_loss: 0.8576 - throttle_out_loss: 0.0394 - val_loss: 0.8851 - val_angle_out_loss: 0.9830 - val_throttle_out_loss: 0.0401\n",
      "Epoch 24/100\n",
      "240/241 [============================>.] - ETA: 0s - loss: 0.7614 - angle_out_loss: 0.8456 - throttle_out_loss: 0.0399\n",
      "Epoch 00024: val_loss did not improve\n",
      "241/241 [==============================] - 71s 295ms/step - loss: 0.7613 - angle_out_loss: 0.8455 - throttle_out_loss: 0.0399 - val_loss: 0.9226 - val_angle_out_loss: 1.0247 - val_throttle_out_loss: 0.0349\n",
      "Epoch 25/100\n",
      "240/241 [============================>.] - ETA: 0s - loss: 0.7481 - angle_out_loss: 0.8308 - throttle_out_loss: 0.0405\n",
      "Epoch 00025: val_loss did not improve\n",
      "241/241 [==============================] - 71s 294ms/step - loss: 0.7479 - angle_out_loss: 0.8305 - throttle_out_loss: 0.0405 - val_loss: 0.8975 - val_angle_out_loss: 0.9968 - val_throttle_out_loss: 0.0381\n",
      "Epoch 26/100\n",
      "240/241 [============================>.] - ETA: 0s - loss: 0.7289 - angle_out_loss: 0.8095 - throttle_out_loss: 0.0411\n",
      "Epoch 00026: val_loss did not improve\n",
      "241/241 [==============================] - 71s 295ms/step - loss: 0.7287 - angle_out_loss: 0.8092 - throttle_out_loss: 0.0411 - val_loss: 0.8943 - val_angle_out_loss: 0.9932 - val_throttle_out_loss: 0.0389\n",
      "Epoch 27/100\n",
      "240/241 [============================>.] - ETA: 0s - loss: 0.7208 - angle_out_loss: 0.8005 - throttle_out_loss: 0.0417\n",
      "Epoch 00027: val_loss improved from 0.88511 to 0.86639, saving model to models/pilot_grayScale_1\n",
      "241/241 [==============================] - 71s 295ms/step - loss: 0.7210 - angle_out_loss: 0.8006 - throttle_out_loss: 0.0417 - val_loss: 0.8664 - val_angle_out_loss: 0.9622 - val_throttle_out_loss: 0.0381\n",
      "Epoch 28/100\n",
      "240/241 [============================>.] - ETA: 0s - loss: 0.6987 - angle_out_loss: 0.7759 - throttle_out_loss: 0.0414\n",
      "Epoch 00028: val_loss did not improve\n",
      "241/241 [==============================] - 71s 295ms/step - loss: 0.6992 - angle_out_loss: 0.7764 - throttle_out_loss: 0.0414 - val_loss: 0.8928 - val_angle_out_loss: 0.9916 - val_throttle_out_loss: 0.0356\n",
      "Epoch 29/100\n",
      "240/241 [============================>.] - ETA: 0s - loss: 0.6866 - angle_out_loss: 0.7625 - throttle_out_loss: 0.0415\n",
      "Epoch 00029: val_loss did not improve\n",
      "241/241 [==============================] - 72s 298ms/step - loss: 0.6866 - angle_out_loss: 0.7625 - throttle_out_loss: 0.0415 - val_loss: 0.8685 - val_angle_out_loss: 0.9645 - val_throttle_out_loss: 0.0363\n",
      "Epoch 30/100\n",
      "240/241 [============================>.] - ETA: 0s - loss: 0.6954 - angle_out_loss: 0.7723 - throttle_out_loss: 0.0414\n",
      "Epoch 00030: val_loss did not improve\n",
      "241/241 [==============================] - 71s 294ms/step - loss: 0.6959 - angle_out_loss: 0.7727 - throttle_out_loss: 0.0414 - val_loss: 0.9101 - val_angle_out_loss: 1.0108 - val_throttle_out_loss: 0.0395\n",
      "Epoch 31/100\n",
      "240/241 [============================>.] - ETA: 0s - loss: 0.6918 - angle_out_loss: 0.7682 - throttle_out_loss: 0.0432\n",
      "Epoch 00031: val_loss did not improve\n",
      "241/241 [==============================] - 72s 297ms/step - loss: 0.6919 - angle_out_loss: 0.7684 - throttle_out_loss: 0.0432 - val_loss: 0.8836 - val_angle_out_loss: 0.9813 - val_throttle_out_loss: 0.0383\n",
      "Epoch 32/100\n",
      "240/241 [============================>.] - ETA: 0s - loss: 0.6594 - angle_out_loss: 0.7322 - throttle_out_loss: 0.0425\n",
      "Epoch 00032: val_loss did not improve\n",
      "241/241 [==============================] - 71s 296ms/step - loss: 0.6592 - angle_out_loss: 0.7319 - throttle_out_loss: 0.0425 - val_loss: 0.9063 - val_angle_out_loss: 1.0066 - val_throttle_out_loss: 0.0394\n",
      "Epoch 00032: early stopping\n"
     ]
    },
    {
     "data": {
      "text/plain": [
       "<tensorflow.python.keras._impl.keras.callbacks.History at 0x193f61874e0>"
      ]
     },
     "execution_count": 90,
     "metadata": {},
     "output_type": "execute_result"
    }
   ],
   "source": [
    "train(train_gen, val_gen, saved_model_path=new_model_path, steps=steps_per_epoch, train_split=0.8) #change train_split to 0.9 for large data"
   ]
  },
  {
   "cell_type": "code",
   "execution_count": 5,
   "metadata": {},
   "outputs": [
    {
     "data": {
      "text/plain": [
       "'\\nRecords\\n\\nOriginal architecture with 79k samples\\n498/498 [==============================] - 215s 432ms/step - loss: 0.4393 - angle_out_loss: 0.4875 \\n- throttle_out_loss: 0.0551 - val_loss: 0.8894 - val_angle_out_loss: 0.9876 - val_throttle_out_loss: 0.0586\\nEpoch 00028: early stopping\\n\\nOriginal architecture with 79k samples and 0.2 and 0.3 dropout at the end\\n498/498 [==============================] - 239s 480ms/step - loss: 0.5324 - angle_out_loss: 0.5910 - \\nthrottle_out_loss: 0.0585 - val_loss: 0.9268 - val_angle_out_loss: 1.0292 - val_throttle_out_loss: 0.0530\\nEpoch 00030: early stopping\\n\\nOriginal architecture with 79k samples and 0.3 and 0.5 dropout at the end\\n\\n'"
      ]
     },
     "execution_count": 5,
     "metadata": {},
     "output_type": "execute_result"
    }
   ],
   "source": [
    "\"\"\"\n",
    "Records\n",
    "\n",
    "Original architecture with 79k samples\n",
    "498/498 [==============================] - 215s 432ms/step - loss: 0.4393 - angle_out_loss: 0.4875 \n",
    "- throttle_out_loss: 0.0551 - val_loss: 0.8894 - val_angle_out_loss: 0.9876 - val_throttle_out_loss: 0.0586\n",
    "Epoch 00028: early stopping\n",
    "\n",
    "Original architecture with 79k samples and 0.2 and 0.3 dropout at the end\n",
    "498/498 [==============================] - 239s 480ms/step - loss: 0.5324 - angle_out_loss: 0.5910 - \n",
    "throttle_out_loss: 0.0585 - val_loss: 0.9268 - val_angle_out_loss: 1.0292 - val_throttle_out_loss: 0.0530\n",
    "Epoch 00030: early stopping\n",
    "\n",
    "Original architecture with 79k samples and 0.3 and 0.5 dropout at the end\n",
    "\n",
    "Original architecture minus Dense(100) with 30k samples\n",
    "\n",
    "\"\"\"\n",
    "\n"
   ]
  },
  {
   "cell_type": "code",
   "execution_count": 101,
   "metadata": {},
   "outputs": [],
   "source": [
    "#check against original\n",
    "def unbin(arr):\n",
    "    index = np.argmax(arr)\n",
    "    return index/14*2-1\n",
    "#     return index"
   ]
  },
  {
   "cell_type": "code",
   "execution_count": 102,
   "metadata": {},
   "outputs": [
    {
     "data": {
      "text/plain": [
       "0.0"
      ]
     },
     "execution_count": 102,
     "metadata": {},
     "output_type": "execute_result"
    }
   ],
   "source": [
    "unbin([0, 0, 0, 0, 0, 0, 0, 1, 0, 0, 0, 0, 0, 0, 0])"
   ]
  },
  {
   "cell_type": "code",
   "execution_count": 103,
   "metadata": {},
   "outputs": [],
   "source": [
    "def run(img_arr):\n",
    "    img_arr = img_arr.reshape((1,) + img_arr.shape)\n",
    "    angle_binned, throttle = model.predict(img_arr)\n",
    "    angle_unbinned = unbin(angle_binned[0])\n",
    "    return angle_unbinned, throttle[0][0]"
   ]
  },
  {
   "cell_type": "code",
   "execution_count": 85,
   "metadata": {},
   "outputs": [],
   "source": [
    "df_t = df.sample(n=1).to_dict(orient='record')[0]\n",
    "record = read_record(df_t)\n",
    "data = record['cam/image_array']"
   ]
  },
  {
   "cell_type": "code",
   "execution_count": 86,
   "metadata": {},
   "outputs": [
    {
     "data": {
      "image/png": "[encoded data removed]",
      "text/plain": [
       "<PIL.Image.Image image mode=L size=160x120 at 0x19776080CF8>"
      ]
     },
     "execution_count": 86,
     "metadata": {},
     "output_type": "execute_result"
    }
   ],
   "source": [
    "Image.fromarray(data[0], \"L\")"
   ]
  },
  {
   "cell_type": "code",
   "execution_count": 87,
   "metadata": {},
   "outputs": [
    {
     "data": {
      "text/plain": [
       "(1, 120, 160)"
      ]
     },
     "execution_count": 87,
     "metadata": {},
     "output_type": "execute_result"
    }
   ],
   "source": [
    "data.shape"
   ]
  },
  {
   "cell_type": "code",
   "execution_count": 88,
   "metadata": {},
   "outputs": [
    {
     "data": {
      "text/plain": [
       "(0.0, 0.32443744)"
      ]
     },
     "execution_count": 88,
     "metadata": {},
     "output_type": "execute_result"
    }
   ],
   "source": [
    "#prediction\n",
    "run(data)"
   ]
  },
  {
   "cell_type": "code",
   "execution_count": 89,
   "metadata": {},
   "outputs": [
    {
     "data": {
      "text/plain": [
       "(0.0, 0.29)"
      ]
     },
     "execution_count": 89,
     "metadata": {},
     "output_type": "execute_result"
    }
   ],
   "source": [
    "record['user/angle'], record['user/throttle']"
   ]
  },
  {
   "cell_type": "code",
   "execution_count": 74,
   "metadata": {},
   "outputs": [],
   "source": [
    "test = next(train_gen)"
   ]
  },
  {
   "cell_type": "code",
   "execution_count": 80,
   "metadata": {},
   "outputs": [
    {
     "data": {
      "text/plain": [
       "(128, 1, 120, 160)"
      ]
     },
     "execution_count": 80,
     "metadata": {},
     "output_type": "execute_result"
    }
   ],
   "source": [
    "test[0][0].shape"
   ]
  },
  {
   "cell_type": "code",
   "execution_count": 82,
   "metadata": {},
   "outputs": [],
   "source": [
    "model = load_model(\"./models/pilot_grayScale\")"
   ]
  },
  {
   "cell_type": "code",
   "execution_count": 94,
   "metadata": {},
   "outputs": [
    {
     "name": "stdout",
     "output_type": "stream",
     "text": [
      "__________________________________________________________________________________________________\n",
      "Layer (type)                    Output Shape         Param #     Connected to                     \n",
      "==================================================================================================\n",
      "img_in (InputLayer)             (None, 1, 120, 160)  0                                            \n",
      "__________________________________________________________________________________________________\n",
      "conv2d_3 (Conv2D)               (None, 24, 58, 78)   624         img_in[0][0]                     \n",
      "__________________________________________________________________________________________________\n",
      "conv2d_4 (Conv2D)               (None, 32, 27, 37)   19232       conv2d_3[0][0]                   \n",
      "__________________________________________________________________________________________________\n",
      "conv2d_5 (Conv2D)               (None, 64, 12, 17)   51264       conv2d_4[0][0]                   \n",
      "__________________________________________________________________________________________________\n",
      "conv2d_6 (Conv2D)               (None, 64, 5, 8)     36928       conv2d_5[0][0]                   \n",
      "__________________________________________________________________________________________________\n",
      "conv2d_7 (Conv2D)               (None, 64, 3, 6)     36928       conv2d_6[0][0]                   \n",
      "__________________________________________________________________________________________________\n",
      "dropout_1 (Dropout)             (None, 64, 3, 6)     0           conv2d_7[0][0]                   \n",
      "__________________________________________________________________________________________________\n",
      "flattened (Flatten)             (None, 1152)         0           dropout_1[0][0]                  \n",
      "__________________________________________________________________________________________________\n",
      "dense_1 (Dense)                 (None, 50)           57650       flattened[0][0]                  \n",
      "__________________________________________________________________________________________________\n",
      "dropout_2 (Dropout)             (None, 50)           0           dense_1[0][0]                    \n",
      "__________________________________________________________________________________________________\n",
      "angle_out (Dense)               (None, 15)           765         dropout_2[0][0]                  \n",
      "__________________________________________________________________________________________________\n",
      "throttle_out (Dense)            (None, 1)            51          dropout_2[0][0]                  \n",
      "==================================================================================================\n",
      "Total params: 203,442\n",
      "Trainable params: 203,442\n",
      "Non-trainable params: 0\n",
      "__________________________________________________________________________________________________\n"
     ]
    }
   ],
   "source": [
    "model.summary()"
   ]
  },
  {
   "cell_type": "code",
   "execution_count": 95,
   "metadata": {},
   "outputs": [
    {
     "name": "stdout",
     "output_type": "stream",
     "text": [
      "3.23 s ± 79.9 ms per loop (mean ± std. dev. of 7 runs, 1 loop each)\n"
     ]
    }
   ],
   "source": [
    "#performence\n",
    "%timeit model.evaluate_generator(train_gen, steps=10)"
   ]
  },
  {
   "cell_type": "code",
   "execution_count": null,
   "metadata": {},
   "outputs": [],
   "source": []
  }
 ],
 "metadata": {
  "kernelspec": {
   "display_name": "Tensorflow-GPU",
   "language": "python",
   "name": "tf-gpu"
  },
  "language_info": {
   "codemirror_mode": {
    "name": "ipython",
    "version": 3
   },
   "file_extension": ".py",
   "mimetype": "text/x-python",
   "name": "python",
   "nbconvert_exporter": "python",
   "pygments_lexer": "ipython3",
   "version": "3.6.6"
  }
 },
 "nbformat": 4,
 "nbformat_minor": 2
}
