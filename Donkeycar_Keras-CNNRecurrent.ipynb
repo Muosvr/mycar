{
 "cells": [
  {
   "cell_type": "code",
   "execution_count": 1,
   "metadata": {},
   "outputs": [],
   "source": [
    "import os\n",
    "import sys\n",
    "import time\n",
    "import json\n",
    "import datetime\n",
    "import random\n",
    "import tarfile\n",
    "\n",
    "import numpy as np\n",
    "import pandas as pd\n",
    "from PIL import Image"
   ]
  },
  {
   "cell_type": "code",
   "execution_count": 2,
   "metadata": {},
   "outputs": [
    {
     "name": "stdout",
     "output_type": "stream",
     "text": [
      "1.8.0\n"
     ]
    }
   ],
   "source": [
    "#make sure tensorflow version is the same as one installed on donkeycar (1.8.0)\n",
    "import tensorflow as tf\n",
    "print(tf.__version__)"
   ]
  },
  {
   "cell_type": "code",
   "execution_count": 3,
   "metadata": {},
   "outputs": [
    {
     "data": {
      "text/plain": [
       "['/device:GPU:0']"
      ]
     },
     "execution_count": 3,
     "metadata": {},
     "output_type": "execute_result"
    }
   ],
   "source": [
    "#check if GPU is present (/device:GPU:0)\n",
    "from tensorflow.python.client import device_lib\n",
    "\n",
    "def get_available_gpus():\n",
    "    local_device_protos = device_lib.list_local_devices()\n",
    "    return [x.name for x in local_device_protos if x.device_type == 'GPU']\n",
    "get_available_gpus()"
   ]
  },
  {
   "cell_type": "code",
   "execution_count": 9,
   "metadata": {},
   "outputs": [],
   "source": [
    "PATH = \"../tubs/tub5\""
   ]
  },
  {
   "cell_type": "code",
   "execution_count": 10,
   "metadata": {},
   "outputs": [],
   "source": [
    "json_files = [file for file in os.listdir(PATH) if file.endswith('json') ]"
   ]
  },
  {
   "cell_type": "code",
   "execution_count": 11,
   "metadata": {},
   "outputs": [
    {
     "data": {
      "text/plain": [
       "38575"
      ]
     },
     "execution_count": 11,
     "metadata": {},
     "output_type": "execute_result"
    }
   ],
   "source": [
    "len(json_files)"
   ]
  },
  {
   "cell_type": "code",
   "execution_count": 12,
   "metadata": {},
   "outputs": [],
   "source": [
    "meta_json = pd.read_json(f'{PATH}/{json_files[0]}')"
   ]
  },
  {
   "cell_type": "code",
   "execution_count": 13,
   "metadata": {},
   "outputs": [
    {
     "data": {
      "text/html": [
       "<div>\n",
       "<style scoped>\n",
       "    .dataframe tbody tr th:only-of-type {\n",
       "        vertical-align: middle;\n",
       "    }\n",
       "\n",
       "    .dataframe tbody tr th {\n",
       "        vertical-align: top;\n",
       "    }\n",
       "\n",
       "    .dataframe thead th {\n",
       "        text-align: right;\n",
       "    }\n",
       "</style>\n",
       "<table border=\"1\" class=\"dataframe\">\n",
       "  <thead>\n",
       "    <tr style=\"text-align: right;\">\n",
       "      <th></th>\n",
       "      <th>inputs</th>\n",
       "      <th>types</th>\n",
       "    </tr>\n",
       "  </thead>\n",
       "  <tbody>\n",
       "    <tr>\n",
       "      <th>0</th>\n",
       "      <td>cam/image_array</td>\n",
       "      <td>image_array</td>\n",
       "    </tr>\n",
       "    <tr>\n",
       "      <th>1</th>\n",
       "      <td>user/angle</td>\n",
       "      <td>float</td>\n",
       "    </tr>\n",
       "    <tr>\n",
       "      <th>2</th>\n",
       "      <td>user/throttle</td>\n",
       "      <td>float</td>\n",
       "    </tr>\n",
       "    <tr>\n",
       "      <th>3</th>\n",
       "      <td>user/mode</td>\n",
       "      <td>str</td>\n",
       "    </tr>\n",
       "    <tr>\n",
       "      <th>4</th>\n",
       "      <td>timestamp</td>\n",
       "      <td>str</td>\n",
       "    </tr>\n",
       "  </tbody>\n",
       "</table>\n",
       "</div>"
      ],
      "text/plain": [
       "            inputs        types\n",
       "0  cam/image_array  image_array\n",
       "1       user/angle        float\n",
       "2    user/throttle        float\n",
       "3        user/mode          str\n",
       "4        timestamp          str"
      ]
     },
     "execution_count": 13,
     "metadata": {},
     "output_type": "execute_result"
    }
   ],
   "source": [
    "meta_json"
   ]
  },
  {
   "cell_type": "code",
   "execution_count": 14,
   "metadata": {},
   "outputs": [],
   "source": [
    "with open(f'{PATH}/{json_files[1]}', 'r') as f:\n",
    "    data = json.load(f)"
   ]
  },
  {
   "cell_type": "code",
   "execution_count": 15,
   "metadata": {},
   "outputs": [
    {
     "data": {
      "text/plain": [
       "0.08"
      ]
     },
     "execution_count": 15,
     "metadata": {},
     "output_type": "execute_result"
    }
   ],
   "source": [
    "data[\"user/throttle\"]"
   ]
  },
  {
   "cell_type": "code",
   "execution_count": 21,
   "metadata": {},
   "outputs": [],
   "source": [
    "df = pd.DataFrame(data, index = [0])"
   ]
  },
  {
   "cell_type": "code",
   "execution_count": 22,
   "metadata": {},
   "outputs": [
    {
     "data": {
      "text/html": [
       "<div>\n",
       "<style scoped>\n",
       "    .dataframe tbody tr th:only-of-type {\n",
       "        vertical-align: middle;\n",
       "    }\n",
       "\n",
       "    .dataframe tbody tr th {\n",
       "        vertical-align: top;\n",
       "    }\n",
       "\n",
       "    .dataframe thead th {\n",
       "        text-align: right;\n",
       "    }\n",
       "</style>\n",
       "<table border=\"1\" class=\"dataframe\">\n",
       "  <thead>\n",
       "    <tr style=\"text-align: right;\">\n",
       "      <th></th>\n",
       "      <th>cam/image_array</th>\n",
       "      <th>user/throttle</th>\n",
       "      <th>user/angle</th>\n",
       "      <th>timestamp</th>\n",
       "      <th>user/mode</th>\n",
       "    </tr>\n",
       "  </thead>\n",
       "  <tbody>\n",
       "    <tr>\n",
       "      <th>0</th>\n",
       "      <td>0_cam-image_array_.jpg</td>\n",
       "      <td>0.08</td>\n",
       "      <td>0.01</td>\n",
       "      <td>None</td>\n",
       "      <td>user</td>\n",
       "    </tr>\n",
       "  </tbody>\n",
       "</table>\n",
       "</div>"
      ],
      "text/plain": [
       "          cam/image_array  user/throttle  user/angle timestamp user/mode\n",
       "0  0_cam-image_array_.jpg           0.08        0.01      None      user"
      ]
     },
     "execution_count": 22,
     "metadata": {},
     "output_type": "execute_result"
    }
   ],
   "source": [
    "df"
   ]
  },
  {
   "cell_type": "code",
   "execution_count": 43,
   "metadata": {},
   "outputs": [
    {
     "data": {
      "text/plain": [
       "'0_cam-image_array_.jpg'"
      ]
     },
     "execution_count": 43,
     "metadata": {},
     "output_type": "execute_result"
    }
   ],
   "source": [
    "df[\"cam/image_array\"][0]"
   ]
  },
  {
   "cell_type": "code",
   "execution_count": 16,
   "metadata": {},
   "outputs": [],
   "source": [
    "def json_to_df(PATH, json_files, max_items=None):\n",
    "    df = pd.DataFrame()\n",
    "    for i, j in enumerate(json_files[1:max_items]):\n",
    "        with open(f'{PATH}/{j}') as f:\n",
    "            data = json.load(f)\n",
    "\n",
    "            userThrottle = data[\"user/throttle\"]\n",
    "            userAngle = data[\"user/angle\"]\n",
    "            camImage_array = data[\"cam/image_array\"]\n",
    "            index = int(camImage_array[:-21])\n",
    "            df_row = pd.DataFrame([[userThrottle, userAngle, camImage_array]], index = [index], columns = [\"user/throttle\", \"user/angle\", \"cam/image_array\"])\n",
    "\n",
    "            df = df.append(df_row)\n",
    "    df = df.sort_index()\n",
    "    return df"
   ]
  },
  {
   "cell_type": "code",
   "execution_count": 17,
   "metadata": {},
   "outputs": [
    {
     "data": {
      "text/plain": [
       "38574"
      ]
     },
     "execution_count": 17,
     "metadata": {},
     "output_type": "execute_result"
    }
   ],
   "source": [
    "len(json_files[1:None])"
   ]
  },
  {
   "cell_type": "code",
   "execution_count": 30,
   "metadata": {},
   "outputs": [],
   "source": [
    "df = json_to_df(PATH, json_files, max_items=None)"
   ]
  },
  {
   "cell_type": "code",
   "execution_count": 31,
   "metadata": {},
   "outputs": [],
   "source": [
    "df.to_feather('tmp/df')"
   ]
  },
  {
   "cell_type": "code",
   "execution_count": 28,
   "metadata": {},
   "outputs": [
    {
     "name": "stderr",
     "output_type": "stream",
     "text": [
      "C:\\Users\\Jason\\Anaconda3\\envs\\tf-gpu\\lib\\site-packages\\pandas\\io\\feather_format.py:112: FutureWarning: `nthreads` argument is deprecated, pass `use_threads` instead\n",
      "  return feather.read_dataframe(path, nthreads=nthreads)\n"
     ]
    }
   ],
   "source": [
    "df = pd.read_feather('tmp/df')"
   ]
  },
  {
   "cell_type": "code",
   "execution_count": 32,
   "metadata": {},
   "outputs": [
    {
     "data": {
      "text/html": [
       "<div>\n",
       "<style scoped>\n",
       "    .dataframe tbody tr th:only-of-type {\n",
       "        vertical-align: middle;\n",
       "    }\n",
       "\n",
       "    .dataframe tbody tr th {\n",
       "        vertical-align: top;\n",
       "    }\n",
       "\n",
       "    .dataframe thead th {\n",
       "        text-align: right;\n",
       "    }\n",
       "</style>\n",
       "<table border=\"1\" class=\"dataframe\">\n",
       "  <thead>\n",
       "    <tr style=\"text-align: right;\">\n",
       "      <th></th>\n",
       "      <th>user/throttle</th>\n",
       "      <th>user/angle</th>\n",
       "      <th>cam/image_array</th>\n",
       "    </tr>\n",
       "  </thead>\n",
       "  <tbody>\n",
       "    <tr>\n",
       "      <th>0</th>\n",
       "      <td>0.08</td>\n",
       "      <td>0.01</td>\n",
       "      <td>0_cam-image_array_.jpg</td>\n",
       "    </tr>\n",
       "    <tr>\n",
       "      <th>1</th>\n",
       "      <td>0.12</td>\n",
       "      <td>-0.03</td>\n",
       "      <td>1_cam-image_array_.jpg</td>\n",
       "    </tr>\n",
       "    <tr>\n",
       "      <th>2</th>\n",
       "      <td>0.12</td>\n",
       "      <td>-0.03</td>\n",
       "      <td>2_cam-image_array_.jpg</td>\n",
       "    </tr>\n",
       "    <tr>\n",
       "      <th>3</th>\n",
       "      <td>0.14</td>\n",
       "      <td>-0.06</td>\n",
       "      <td>3_cam-image_array_.jpg</td>\n",
       "    </tr>\n",
       "    <tr>\n",
       "      <th>4</th>\n",
       "      <td>0.14</td>\n",
       "      <td>-0.06</td>\n",
       "      <td>4_cam-image_array_.jpg</td>\n",
       "    </tr>\n",
       "  </tbody>\n",
       "</table>\n",
       "</div>"
      ],
      "text/plain": [
       "   user/throttle  user/angle         cam/image_array\n",
       "0           0.08        0.01  0_cam-image_array_.jpg\n",
       "1           0.12       -0.03  1_cam-image_array_.jpg\n",
       "2           0.12       -0.03  2_cam-image_array_.jpg\n",
       "3           0.14       -0.06  3_cam-image_array_.jpg\n",
       "4           0.14       -0.06  4_cam-image_array_.jpg"
      ]
     },
     "execution_count": 32,
     "metadata": {},
     "output_type": "execute_result"
    }
   ],
   "source": [
    "df.head()"
   ]
  },
  {
   "cell_type": "code",
   "execution_count": 33,
   "metadata": {},
   "outputs": [],
   "source": [
    "def to_bin(a):\n",
    "    arr = np.zeros(15)\n",
    "    a = a + 1\n",
    "    b = round(a/(2/14))\n",
    "    arr[int(b)] = 1\n",
    "    return arr"
   ]
  },
  {
   "cell_type": "code",
   "execution_count": 34,
   "metadata": {},
   "outputs": [
    {
     "data": {
      "image/png": "[encoded data removed]",
      "text/plain": [
       "<PIL.JpegImagePlugin.JpegImageFile image mode=RGB size=160x120 at 0x1F75975C0B8>"
      ]
     },
     "execution_count": 34,
     "metadata": {},
     "output_type": "execute_result"
    }
   ],
   "source": [
    "img_name = df['cam/image_array'][100]\n",
    "img = Image.open(f'{PATH}/{img_name}')\n",
    "img"
   ]
  },
  {
   "cell_type": "code",
   "execution_count": 35,
   "metadata": {},
   "outputs": [],
   "source": [
    "val = np.array(img)"
   ]
  },
  {
   "cell_type": "code",
   "execution_count": 36,
   "metadata": {},
   "outputs": [
    {
     "data": {
      "text/plain": [
       "(120, 160, 3)"
      ]
     },
     "execution_count": 36,
     "metadata": {},
     "output_type": "execute_result"
    }
   ],
   "source": [
    "val.shape"
   ]
  },
  {
   "cell_type": "code",
   "execution_count": 37,
   "metadata": {},
   "outputs": [],
   "source": [
    "bs = 128\n",
    "train_frac = 0.8\n",
    "X_keys = ['cam/image_array']\n",
    "y_keys = ['user/angle', 'user/throttle']\n",
    "PATH\n",
    "new_model_path = 'models/pilot_jn'"
   ]
  },
  {
   "cell_type": "code",
   "execution_count": 38,
   "metadata": {},
   "outputs": [],
   "source": [
    "def read_record(record_dict, path = PATH):\n",
    "    data = {}\n",
    "    for key, val in record_dict.items():\n",
    "        if key == 'cam/image_array':\n",
    "            img = Image.open(f'{PATH}/{val}')\n",
    "            val = np.array(img)\n",
    "        \n",
    "        data[key] = val\n",
    "    return data"
   ]
  },
  {
   "cell_type": "code",
   "execution_count": 39,
   "metadata": {},
   "outputs": [],
   "source": [
    "# df_t = df.sample(n=1).to_dict(orient='record')[0]"
   ]
  },
  {
   "cell_type": "code",
   "execution_count": 40,
   "metadata": {},
   "outputs": [],
   "source": [
    "# record = read_record(df_t)"
   ]
  },
  {
   "cell_type": "code",
   "execution_count": 41,
   "metadata": {},
   "outputs": [],
   "source": [
    "# record['cam/image_array'][None].shape"
   ]
  },
  {
   "cell_type": "code",
   "execution_count": 42,
   "metadata": {},
   "outputs": [],
   "source": [
    "def get_record_gen(record_transform=None, shuffle=True, df=None):\n",
    "    while True:\n",
    "        for _ in df.iterrows():\n",
    "            if shuffle:\n",
    "                record_dict = df.sample(n=1).to_dict(orient='record')[0]\n",
    "            \n",
    "            record_dict = read_record(record_dict)\n",
    "            \n",
    "            if record_transform:\n",
    "                record_dict = record_transform(record_dict)\n",
    "            \n",
    "            yield record_dict"
   ]
  },
  {
   "cell_type": "code",
   "execution_count": 43,
   "metadata": {},
   "outputs": [],
   "source": [
    "# record_gen = get_record_gen(record_transform=None, shuffle=True, df=df)"
   ]
  },
  {
   "cell_type": "code",
   "execution_count": 44,
   "metadata": {},
   "outputs": [],
   "source": [
    "# next(record_gen)"
   ]
  },
  {
   "cell_type": "code",
   "execution_count": 45,
   "metadata": {},
   "outputs": [],
   "source": [
    "def get_batch_gen(keys=None, batch_size=128, record_transform=None, shuffle=True, df=None):\n",
    "    \n",
    "    record_gen = get_record_gen(record_transform=record_transform, shuffle=shuffle, df=df)\n",
    "    \n",
    "    while True:\n",
    "        record_list = [next(record_gen) for _ in range(batch_size)]\n",
    "        \n",
    "        batch_arrays = {}\n",
    "        for i, k in enumerate(keys):\n",
    "            arr = np.array([r[k] for r in record_list])\n",
    "            batch_arrays[k] = arr\n",
    "        yield batch_arrays"
   ]
  },
  {
   "cell_type": "code",
   "execution_count": 46,
   "metadata": {},
   "outputs": [],
   "source": [
    "def get_train_gen(X_keys, Y_keys, batch_size=128, record_transform=None, df=None): #\n",
    "    batch_gen = get_batch_gen(X_keys + Y_keys, batch_size=batch_size,\n",
    "                                  record_transform=record_transform, df=df)\n",
    "    while True:\n",
    "        batch = next(batch_gen)\n",
    "        X = [batch[k] for k in X_keys]\n",
    "        Y = [batch[k] for k in Y_keys] \n",
    "        yield X, Y"
   ]
  },
  {
   "cell_type": "code",
   "execution_count": 47,
   "metadata": {},
   "outputs": [],
   "source": [
    "def get_train_val_gen(df, X_keys, Y_keys, batch_size = 128, train_frac=0.8, #\n",
    "                      train_record_transform=None, val_record_transform=None): #\n",
    "    train_df = df.sample(frac=train_frac, random_state=200) #\n",
    "    val_df = df.drop(train_df.index) #\n",
    "    \n",
    "    train_gen = get_train_gen(X_keys=X_keys, Y_keys=Y_keys, batch_size=batch_size,\n",
    "                             record_transform=train_record_transform, df=train_df)\n",
    "    val_gen = get_train_gen(X_keys=X_keys, Y_keys=Y_keys, batch_size=batch_size,\n",
    "                           record_transform=val_record_transform, df=val_df)\n",
    "    return train_gen, val_gen\n",
    "    "
   ]
  },
  {
   "cell_type": "code",
   "execution_count": 48,
   "metadata": {},
   "outputs": [],
   "source": [
    "def record_transform(record):\n",
    "    record['user/angle'] = to_bin(record['user/angle'])\n",
    "    return record"
   ]
  },
  {
   "cell_type": "code",
   "execution_count": 49,
   "metadata": {},
   "outputs": [],
   "source": [
    "train_gen, val_gen = get_train_val_gen(df, X_keys, y_keys,\n",
    "                                               train_record_transform=record_transform, #\n",
    "                                               val_record_transform=record_transform, #\n",
    "                                               batch_size=bs, #\n",
    "                                               train_frac=train_frac) #"
   ]
  },
  {
   "cell_type": "code",
   "execution_count": 8,
   "metadata": {},
   "outputs": [],
   "source": [
    "from tensorflow.python.keras.layers import Input\n",
    "from tensorflow.python.keras.models import Model, load_model\n",
    "from tensorflow.python.keras.layers import Convolution2D, LSTM, TimeDistributed\n",
    "from tensorflow.python.keras.layers import Dropout, Flatten, Dense, Cropping2D, Lambda\n",
    "from tensorflow.python.keras.callbacks import ModelCheckpoint, EarlyStopping"
   ]
  },
  {
   "cell_type": "code",
   "execution_count": 10,
   "metadata": {},
   "outputs": [],
   "source": [
    "cnn = Sequential()\n",
    "cnn.add(Convolution2D(24, (5, 5), strides=(2, 2), activation='relu', input_shape=(120, 160, 3)))\n",
    "cnn.add(Convolution2D(32, (5, 5), strides=(2, 2), activation='relu'))\n",
    "cnn.add(Convolution2D(64, (5, 5), strides=(2, 2), activation='relu'))\n",
    "cnn.add(Convolution2D(64, (3, 3), strides=(2, 2), activation='relu'))\n",
    "cnn.add(Convolution2D(64, (3, 3), strides=(1, 1), activation='relu'))\n",
    "cnn.add(Flatten(name='flattened'))"
   ]
  },
  {
   "cell_type": "code",
   "execution_count": null,
   "metadata": {},
   "outputs": [],
   "source": [
    "model = Sequential()\n",
    "model.add(TimeDistributed(cnn), input_shape=(3, 120, 160, 3))\n",
    "model.add(LSTM(200))\n",
    "model.add(Dense(100, activation='relu'))\n",
    "model.add(Dropout(.1))\n",
    "model.add(Dense(50, activation='relu'))\n",
    "model.add(Dropout(.1))"
   ]
  },
  {
   "cell_type": "code",
   "execution_count": 51,
   "metadata": {},
   "outputs": [],
   "source": [
    "def default_categorical():\n",
    "    img_in = Input(shape=(120, 160, 3),\n",
    "                   name='img_in')  # First layer, input layer, Shape comes from camera.py resolution, RGB\n",
    "    x = img_in\n",
    "    x = Convolution2D(24, (5, 5), strides=(2, 2), activation='relu')(\n",
    "        x)  # 24 features, 5 pixel x 5 pixel kernel (convolution, feauture) window, 2wx2h stride, relu activation\n",
    "    x = Convolution2D(32, (5, 5), strides=(2, 2), activation='relu')(\n",
    "        x)  # 32 features, 5px5p kernel window, 2wx2h stride, relu activatiion\n",
    "    x = Convolution2D(64, (5, 5), strides=(2, 2), activation='relu')(\n",
    "        x)  # 64 features, 5px5p kernal window, 2wx2h stride, relu\n",
    "    x = Convolution2D(64, (3, 3), strides=(2, 2), activation='relu')(\n",
    "        x)  # 64 features, 3px3p kernal window, 2wx2h stride, relu\n",
    "    x = Convolution2D(64, (3, 3), strides=(1, 1), activation='relu')(\n",
    "        x)  # 64 features, 3px3p kernal window, 1wx1h stride, relu\n",
    "\n",
    "    # Possibly add MaxPooling (will make it less sensitive to position in image).  Camera angle fixed, so may not to be needed\n",
    "\n",
    "    x = Flatten(name='flattened')(x)  # Flatten to 1D (Fully connected)\n",
    "#     x = TimeDistributed()\n",
    "#     x = LSTM(200, activation='tanh') (x)\n",
    "    x = Dense(100, activation='relu')(x)  # Classify the data into 100 features, make all negatives 0\n",
    "    x = Dropout(.1)(x)  # Randomly drop out (turn off) 10% of the neurons (Prevent overfitting)\n",
    "    x = Dense(50, activation='relu')(x)  # Classify the data into 50 features, make all negatives 0\n",
    "    x = Dropout(.1)(x)  # Randomly drop out 10% of the neurons (Prevent overfitting)\n",
    "    # categorical output of the angle\n",
    "    angle_out = Dense(15, activation='softmax', name='angle_out')(\n",
    "        x)  # Connect every input with every output and output 15 hidden units. Use Softmax to give percentage. 15 categories and find best one based off percentage 0.0-1.0\n",
    "\n",
    "    # continous output of throttle\n",
    "    throttle_out = Dense(1, activation='relu', name='throttle_out')(x)  # Reduce to 1 number, Positive number only\n",
    "\n",
    "    model = Model(inputs=[img_in], outputs=[angle_out, throttle_out])\n",
    "    model.compile(optimizer='adam',\n",
    "                  loss={'angle_out': 'categorical_crossentropy',\n",
    "                        'throttle_out': 'mean_absolute_error'},\n",
    "                  loss_weights={'angle_out': 0.9, 'throttle_out': .01})\n",
    "\n",
    "    return model"
   ]
  },
  {
   "cell_type": "code",
   "execution_count": 52,
   "metadata": {},
   "outputs": [],
   "source": [
    "model = default_categorical()"
   ]
  },
  {
   "cell_type": "code",
   "execution_count": 53,
   "metadata": {},
   "outputs": [],
   "source": [
    "def train(train_gen, val_gen, saved_model_path, epochs=100, steps=100, train_split=0.8,\n",
    "         verbose=1, min_delta=0.0005, patience=5, use_early_stop=True):\n",
    "    \n",
    "#     checkpoint to save model\n",
    "    save_best = ModelCheckpoint(saved_model_path, monitor='val_loss', verbose=verbose, save_best_only=True, mode='min')\n",
    "    \n",
    "    #stop training if stop improving\n",
    "    early_stop = EarlyStopping(monitor='val_loss', min_delta=min_delta, patience=patience, verbose=verbose, mode='auto')\n",
    "    \n",
    "    callbacks_list = [save_best]\n",
    "    \n",
    "    if use_early_stop:\n",
    "        callbacks_list.append(early_stop)\n",
    "        \n",
    "    hist = model.fit_generator(train_gen, steps_per_epoch=steps, epochs=epochs, verbose=1, validation_data=val_gen,\n",
    "                                callbacks=callbacks_list, validation_steps=steps * (1.0 - train_frac)//train_frac)\n",
    "    return hist"
   ]
  },
  {
   "cell_type": "code",
   "execution_count": 54,
   "metadata": {},
   "outputs": [
    {
     "data": {
      "text/plain": [
       "241"
      ]
     },
     "execution_count": 54,
     "metadata": {},
     "output_type": "execute_result"
    }
   ],
   "source": [
    "total_records = len(df)\n",
    "total_train = int(total_records * train_frac)\n",
    "total_val = total_records - total_train\n",
    "steps_per_epoch = total_train // bs\n",
    "steps_per_epoch"
   ]
  },
  {
   "cell_type": "code",
   "execution_count": 55,
   "metadata": {},
   "outputs": [
    {
     "name": "stdout",
     "output_type": "stream",
     "text": [
      "Epoch 1/100\n",
      "240/241 [============================>.] - ETA: 0s - loss: 1.7017 - angle_out_loss: 1.8870 - throttle_out_loss: 0.3320\n",
      "Epoch 00001: val_loss improved from inf to 1.30296, saving model to models/pilot_jn\n",
      "241/241 [==============================] - 107s 446ms/step - loss: 1.7002 - angle_out_loss: 1.8854 - throttle_out_loss: 0.3319 - val_loss: 1.3030 - val_angle_out_loss: 1.4444 - val_throttle_out_loss: 0.2976\n",
      "Epoch 2/100\n",
      "240/241 [============================>.] - ETA: 0s - loss: 1.3134 - angle_out_loss: 1.4559 - throttle_out_loss: 0.3086\n",
      "Epoch 00002: val_loss improved from 1.30296 to 1.23276, saving model to models/pilot_jn\n",
      "241/241 [==============================] - 86s 358ms/step - loss: 1.3130 - angle_out_loss: 1.4554 - throttle_out_loss: 0.3086 - val_loss: 1.2328 - val_angle_out_loss: 1.3664 - val_throttle_out_loss: 0.3034\n",
      "Epoch 3/100\n",
      "240/241 [============================>.] - ETA: 0s - loss: 1.2202 - angle_out_loss: 1.3524 - throttle_out_loss: 0.3014\n",
      "Epoch 00003: val_loss improved from 1.23276 to 1.17159, saving model to models/pilot_jn\n",
      "241/241 [==============================] - 80s 331ms/step - loss: 1.2202 - angle_out_loss: 1.3524 - throttle_out_loss: 0.3015 - val_loss: 1.1716 - val_angle_out_loss: 1.2985 - val_throttle_out_loss: 0.2909\n",
      "Epoch 4/100\n",
      "240/241 [============================>.] - ETA: 0s - loss: 1.1231 - angle_out_loss: 1.2447 - throttle_out_loss: 0.2887\n",
      "Epoch 00004: val_loss improved from 1.17159 to 1.09884, saving model to models/pilot_jn\n",
      "241/241 [==============================] - 78s 322ms/step - loss: 1.1229 - angle_out_loss: 1.2445 - throttle_out_loss: 0.2887 - val_loss: 1.0988 - val_angle_out_loss: 1.2181 - val_throttle_out_loss: 0.2564\n",
      "Epoch 5/100\n",
      "240/241 [============================>.] - ETA: 0s - loss: 1.0445 - angle_out_loss: 1.1582 - throttle_out_loss: 0.2120\n",
      "Epoch 00005: val_loss improved from 1.09884 to 1.03749, saving model to models/pilot_jn\n",
      "241/241 [==============================] - 77s 319ms/step - loss: 1.0439 - angle_out_loss: 1.1576 - throttle_out_loss: 0.2115 - val_loss: 1.0375 - val_angle_out_loss: 1.1517 - val_throttle_out_loss: 0.0921\n",
      "Epoch 6/100\n",
      "240/241 [============================>.] - ETA: 0s - loss: 0.9672 - angle_out_loss: 1.0739 - throttle_out_loss: 0.0680\n",
      "Epoch 00006: val_loss did not improve\n",
      "241/241 [==============================] - 77s 319ms/step - loss: 0.9667 - angle_out_loss: 1.0734 - throttle_out_loss: 0.0679 - val_loss: 1.0553 - val_angle_out_loss: 1.1721 - val_throttle_out_loss: 0.0453\n",
      "Epoch 7/100\n",
      "240/241 [============================>.] - ETA: 0s - loss: 0.9013 - angle_out_loss: 1.0010 - throttle_out_loss: 0.0405\n",
      "Epoch 00007: val_loss improved from 1.03749 to 0.97095, saving model to models/pilot_jn\n",
      "241/241 [==============================] - 78s 325ms/step - loss: 0.9010 - angle_out_loss: 1.0007 - throttle_out_loss: 0.0405 - val_loss: 0.9710 - val_angle_out_loss: 1.0784 - val_throttle_out_loss: 0.0384\n",
      "Epoch 8/100\n",
      "240/241 [============================>.] - ETA: 0s - loss: 0.8541 - angle_out_loss: 0.9485 - throttle_out_loss: 0.0377\n",
      "Epoch 00008: val_loss did not improve\n",
      "241/241 [==============================] - 80s 330ms/step - loss: 0.8530 - angle_out_loss: 0.9473 - throttle_out_loss: 0.0377 - val_loss: 0.9788 - val_angle_out_loss: 1.0872 - val_throttle_out_loss: 0.0373\n",
      "Epoch 9/100\n",
      "240/241 [============================>.] - ETA: 0s - loss: 0.7895 - angle_out_loss: 0.8768 - throttle_out_loss: 0.0380\n",
      "Epoch 00009: val_loss improved from 0.97095 to 0.95140, saving model to models/pilot_jn\n",
      "241/241 [==============================] - 79s 328ms/step - loss: 0.7893 - angle_out_loss: 0.8766 - throttle_out_loss: 0.0380 - val_loss: 0.9514 - val_angle_out_loss: 1.0567 - val_throttle_out_loss: 0.0372\n",
      "Epoch 10/100\n",
      "240/241 [============================>.] - ETA: 0s - loss: 0.7244 - angle_out_loss: 0.8045 - throttle_out_loss: 0.0375\n",
      "Epoch 00010: val_loss improved from 0.95140 to 0.91103, saving model to models/pilot_jn\n",
      "241/241 [==============================] - 77s 320ms/step - loss: 0.7244 - angle_out_loss: 0.8045 - throttle_out_loss: 0.0374 - val_loss: 0.9110 - val_angle_out_loss: 1.0119 - val_throttle_out_loss: 0.0356\n",
      "Epoch 11/100\n",
      "240/241 [============================>.] - ETA: 0s - loss: 0.6933 - angle_out_loss: 0.7700 - throttle_out_loss: 0.0364\n",
      "Epoch 00011: val_loss did not improve\n",
      "241/241 [==============================] - 76s 314ms/step - loss: 0.6941 - angle_out_loss: 0.7708 - throttle_out_loss: 0.0364 - val_loss: 0.9242 - val_angle_out_loss: 1.0264 - val_throttle_out_loss: 0.0379\n",
      "Epoch 12/100\n",
      "240/241 [============================>.] - ETA: 0s - loss: 0.6515 - angle_out_loss: 0.7235 - throttle_out_loss: 0.0372\n",
      "Epoch 00012: val_loss improved from 0.91103 to 0.88524, saving model to models/pilot_jn\n",
      "241/241 [==============================] - 76s 315ms/step - loss: 0.6510 - angle_out_loss: 0.7229 - throttle_out_loss: 0.0372 - val_loss: 0.8852 - val_angle_out_loss: 0.9832 - val_throttle_out_loss: 0.0360\n",
      "Epoch 13/100\n",
      "240/241 [============================>.] - ETA: 0s - loss: 0.6110 - angle_out_loss: 0.6785 - throttle_out_loss: 0.0366\n",
      "Epoch 00013: val_loss did not improve\n",
      "241/241 [==============================] - 75s 313ms/step - loss: 0.6114 - angle_out_loss: 0.6789 - throttle_out_loss: 0.0366 - val_loss: 0.9183 - val_angle_out_loss: 1.0199 - val_throttle_out_loss: 0.0386\n",
      "Epoch 14/100\n",
      "240/241 [============================>.] - ETA: 0s - loss: 0.5855 - angle_out_loss: 0.6502 - throttle_out_loss: 0.0369\n",
      "Epoch 00014: val_loss improved from 0.88524 to 0.85632, saving model to models/pilot_jn\n",
      "241/241 [==============================] - 77s 318ms/step - loss: 0.5846 - angle_out_loss: 0.6492 - throttle_out_loss: 0.0369 - val_loss: 0.8563 - val_angle_out_loss: 0.9510 - val_throttle_out_loss: 0.0381\n",
      "Epoch 15/100\n",
      "240/241 [============================>.] - ETA: 0s - loss: 0.5554 - angle_out_loss: 0.6167 - throttle_out_loss: 0.0366\n",
      "Epoch 00015: val_loss did not improve\n",
      "241/241 [==============================] - 78s 324ms/step - loss: 0.5549 - angle_out_loss: 0.6162 - throttle_out_loss: 0.0366 - val_loss: 0.8815 - val_angle_out_loss: 0.9790 - val_throttle_out_loss: 0.0394\n",
      "Epoch 16/100\n",
      "240/241 [============================>.] - ETA: 0s - loss: 0.5186 - angle_out_loss: 0.5758 - throttle_out_loss: 0.0372\n",
      "Epoch 00016: val_loss did not improve\n",
      "241/241 [==============================] - 75s 313ms/step - loss: 0.5188 - angle_out_loss: 0.5760 - throttle_out_loss: 0.0372 - val_loss: 0.8933 - val_angle_out_loss: 0.9921 - val_throttle_out_loss: 0.0377\n",
      "Epoch 17/100\n",
      "240/241 [============================>.] - ETA: 0s - loss: 0.4958 - angle_out_loss: 0.5504 - throttle_out_loss: 0.0375\n",
      "Epoch 00017: val_loss did not improve\n",
      "241/241 [==============================] - 76s 316ms/step - loss: 0.4956 - angle_out_loss: 0.5503 - throttle_out_loss: 0.0375 - val_loss: 0.8663 - val_angle_out_loss: 0.9622 - val_throttle_out_loss: 0.0380\n",
      "Epoch 18/100\n",
      "240/241 [============================>.] - ETA: 0s - loss: 0.4806 - angle_out_loss: 0.5336 - throttle_out_loss: 0.0380\n",
      "Epoch 00018: val_loss improved from 0.85632 to 0.80666, saving model to models/pilot_jn\n",
      "241/241 [==============================] - 76s 315ms/step - loss: 0.4806 - angle_out_loss: 0.5336 - throttle_out_loss: 0.0380 - val_loss: 0.8067 - val_angle_out_loss: 0.8958 - val_throttle_out_loss: 0.0398\n",
      "Epoch 19/100\n",
      "240/241 [============================>.] - ETA: 0s - loss: 0.4651 - angle_out_loss: 0.5164 - throttle_out_loss: 0.0369\n",
      "Epoch 00019: val_loss did not improve\n",
      "241/241 [==============================] - 76s 315ms/step - loss: 0.4647 - angle_out_loss: 0.5159 - throttle_out_loss: 0.0369 - val_loss: 0.8639 - val_angle_out_loss: 0.9595 - val_throttle_out_loss: 0.0363\n",
      "Epoch 20/100\n",
      "240/241 [============================>.] - ETA: 0s - loss: 0.4347 - angle_out_loss: 0.4826 - throttle_out_loss: 0.0373\n",
      "Epoch 00020: val_loss did not improve\n",
      "241/241 [==============================] - 76s 314ms/step - loss: 0.4343 - angle_out_loss: 0.4822 - throttle_out_loss: 0.0373 - val_loss: 0.8443 - val_angle_out_loss: 0.9377 - val_throttle_out_loss: 0.0373\n",
      "Epoch 21/100\n",
      "240/241 [============================>.] - ETA: 0s - loss: 0.4415 - angle_out_loss: 0.4901 - throttle_out_loss: 0.0380\n",
      "Epoch 00021: val_loss improved from 0.80666 to 0.78972, saving model to models/pilot_jn\n",
      "241/241 [==============================] - 76s 315ms/step - loss: 0.4414 - angle_out_loss: 0.4900 - throttle_out_loss: 0.0380 - val_loss: 0.7897 - val_angle_out_loss: 0.8771 - val_throttle_out_loss: 0.0372\n"
     ]
    },
    {
     "name": "stdout",
     "output_type": "stream",
     "text": [
      "Epoch 22/100\n",
      "240/241 [============================>.] - ETA: 0s - loss: 0.4203 - angle_out_loss: 0.4666 - throttle_out_loss: 0.0381\n",
      "Epoch 00022: val_loss did not improve\n",
      "241/241 [==============================] - 75s 313ms/step - loss: 0.4202 - angle_out_loss: 0.4664 - throttle_out_loss: 0.0381 - val_loss: 0.8330 - val_angle_out_loss: 0.9252 - val_throttle_out_loss: 0.0363\n",
      "Epoch 23/100\n",
      "240/241 [============================>.] - ETA: 0s - loss: 0.3979 - angle_out_loss: 0.4417 - throttle_out_loss: 0.0388\n",
      "Epoch 00023: val_loss did not improve\n",
      "241/241 [==============================] - 78s 323ms/step - loss: 0.3976 - angle_out_loss: 0.4413 - throttle_out_loss: 0.0388 - val_loss: 0.8803 - val_angle_out_loss: 0.9776 - val_throttle_out_loss: 0.0403\n",
      "Epoch 24/100\n",
      "240/241 [============================>.] - ETA: 0s - loss: 0.3970 - angle_out_loss: 0.4407 - throttle_out_loss: 0.0381\n",
      "Epoch 00024: val_loss did not improve\n",
      "241/241 [==============================] - 75s 313ms/step - loss: 0.3971 - angle_out_loss: 0.4408 - throttle_out_loss: 0.0381 - val_loss: 0.9052 - val_angle_out_loss: 1.0054 - val_throttle_out_loss: 0.0373\n",
      "Epoch 25/100\n",
      "240/241 [============================>.] - ETA: 0s - loss: 0.3872 - angle_out_loss: 0.4297 - throttle_out_loss: 0.0388\n",
      "Epoch 00025: val_loss did not improve\n",
      "241/241 [==============================] - 75s 313ms/step - loss: 0.3873 - angle_out_loss: 0.4299 - throttle_out_loss: 0.0388 - val_loss: 0.8840 - val_angle_out_loss: 0.9819 - val_throttle_out_loss: 0.0363\n",
      "Epoch 26/100\n",
      "240/241 [============================>.] - ETA: 0s - loss: 0.3750 - angle_out_loss: 0.4163 - throttle_out_loss: 0.0384\n",
      "Epoch 00026: val_loss did not improve\n",
      "241/241 [==============================] - 76s 314ms/step - loss: 0.3744 - angle_out_loss: 0.4156 - throttle_out_loss: 0.0384 - val_loss: 0.8788 - val_angle_out_loss: 0.9760 - val_throttle_out_loss: 0.0367\n",
      "Epoch 00026: early stopping\n"
     ]
    },
    {
     "data": {
      "text/plain": [
       "<tensorflow.python.keras._impl.keras.callbacks.History at 0x1fa76d9da20>"
      ]
     },
     "execution_count": 55,
     "metadata": {},
     "output_type": "execute_result"
    }
   ],
   "source": [
    "train(train_gen, val_gen, saved_model_path=new_model_path, steps=steps_per_epoch, train_split=0.8)"
   ]
  },
  {
   "cell_type": "code",
   "execution_count": 56,
   "metadata": {},
   "outputs": [],
   "source": [
    "#check against original\n",
    "def unbin(arr):\n",
    "    index = np.argmax(arr)\n",
    "    return index/14*2-1\n",
    "#     return index"
   ]
  },
  {
   "cell_type": "code",
   "execution_count": 57,
   "metadata": {},
   "outputs": [
    {
     "data": {
      "text/plain": [
       "0.0"
      ]
     },
     "execution_count": 57,
     "metadata": {},
     "output_type": "execute_result"
    }
   ],
   "source": [
    "unbin([0, 0, 0, 0, 0, 0, 0, 1, 0, 0, 0, 0, 0, 0, 0])"
   ]
  },
  {
   "cell_type": "code",
   "execution_count": 58,
   "metadata": {},
   "outputs": [],
   "source": [
    "def run(img_arr):\n",
    "    img_arr = img_arr.reshape((1,) + img_arr.shape)\n",
    "    angle_binned, throttle = model.predict(img_arr)\n",
    "    angle_unbinned = unbin(angle_binned[0])\n",
    "    return angle_unbinned, throttle[0][0]"
   ]
  },
  {
   "cell_type": "code",
   "execution_count": 87,
   "metadata": {},
   "outputs": [],
   "source": [
    "frame_idx = 530 #500 - 600"
   ]
  },
  {
   "cell_type": "code",
   "execution_count": 88,
   "metadata": {},
   "outputs": [
    {
     "data": {
      "image/png": "[encoded data removed]",
      "text/plain": [
       "<PIL.JpegImagePlugin.JpegImageFile image mode=RGB size=160x120 at 0x1FA79B33F28>"
      ]
     },
     "execution_count": 88,
     "metadata": {},
     "output_type": "execute_result"
    }
   ],
   "source": [
    "img_name = df['cam/image_array'][frame_idx]\n",
    "img = Image.open(f'{PATH}/{img_name}')\n",
    "img"
   ]
  },
  {
   "cell_type": "code",
   "execution_count": 89,
   "metadata": {},
   "outputs": [],
   "source": [
    "val = np.array(img)"
   ]
  },
  {
   "cell_type": "code",
   "execution_count": 90,
   "metadata": {},
   "outputs": [
    {
     "data": {
      "text/plain": [
       "(120, 160, 3)"
      ]
     },
     "execution_count": 90,
     "metadata": {},
     "output_type": "execute_result"
    }
   ],
   "source": [
    "val.shape"
   ]
  },
  {
   "cell_type": "code",
   "execution_count": 91,
   "metadata": {},
   "outputs": [
    {
     "data": {
      "text/plain": [
       "(-0.1428571428571429, 0.32704678)"
      ]
     },
     "execution_count": 91,
     "metadata": {},
     "output_type": "execute_result"
    }
   ],
   "source": [
    "#prediction\n",
    "run(val)"
   ]
  },
  {
   "cell_type": "code",
   "execution_count": 92,
   "metadata": {},
   "outputs": [
    {
     "data": {
      "text/plain": [
       "(-0.1, 0.3)"
      ]
     },
     "execution_count": 92,
     "metadata": {},
     "output_type": "execute_result"
    }
   ],
   "source": [
    "#compare to actual data\n",
    "df['user/angle'][frame_idx], df['user/throttle'][frame_idx]"
   ]
  },
  {
   "cell_type": "code",
   "execution_count": null,
   "metadata": {},
   "outputs": [],
   "source": []
  }
 ],
 "metadata": {
  "kernelspec": {
   "display_name": "Tensorflow-GPU",
   "language": "python",
   "name": "tf-gpu"
  },
  "language_info": {
   "codemirror_mode": {
    "name": "ipython",
    "version": 3
   },
   "file_extension": ".py",
   "mimetype": "text/x-python",
   "name": "python",
   "nbconvert_exporter": "python",
   "pygments_lexer": "ipython3",
   "version": "3.6.6"
  }
 },
 "nbformat": 4,
 "nbformat_minor": 2
}
