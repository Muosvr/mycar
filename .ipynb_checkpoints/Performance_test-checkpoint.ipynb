{
 "cells": [
  {
   "cell_type": "code",
   "execution_count": 18,
   "metadata": {},
   "outputs": [],
   "source": [
    "import os\n",
    "import tensorflow as tf\n",
    "import pandas as pd\n",
    "import numpy as np\n",
    "import json\n",
    "from tensorflow.python.keras.models import Model, load_model\n",
    "from PIL import Image\n",
    "PATH = \"../tubs/tub6_more_data\" #Shadow"
   ]
  },
  {
   "cell_type": "code",
   "execution_count": 2,
   "metadata": {},
   "outputs": [
    {
     "name": "stdout",
     "output_type": "stream",
     "text": [
      "1.8.0\n"
     ]
    }
   ],
   "source": [
    "#make sure tensorflow version is the same as one installed on donkeycar (1.8.0)\n",
    "print(tf.__version__)"
   ]
  },
  {
   "cell_type": "code",
   "execution_count": 3,
   "metadata": {},
   "outputs": [
    {
     "data": {
      "text/plain": [
       "['/device:GPU:0']"
      ]
     },
     "execution_count": 3,
     "metadata": {},
     "output_type": "execute_result"
    }
   ],
   "source": [
    "from tensorflow.python.client import device_lib\n",
    "import numpy as np\n",
    "\n",
    "def get_available_gpus():\n",
    "    local_device_protos = device_lib.list_local_devices()\n",
    "    return [x.name for x in local_device_protos if x.device_type == 'GPU']\n",
    "get_available_gpus()"
   ]
  },
  {
   "cell_type": "code",
   "execution_count": 50,
   "metadata": {},
   "outputs": [],
   "source": [
    "#create df from path\n",
    "def df_from_jsons(PATH, max_items=None):\n",
    "    \n",
    "    #Get json files from path\n",
    "    json_files = np.array([file for file in os.listdir(PATH) if file.endswith('json') ])\n",
    "    json_files = json_files[1:]\n",
    "    np.random.shuffle(json_files)\n",
    "    \n",
    "    df = pd.DataFrame()\n",
    "    for i in json_files[1:max_items+1]:\n",
    "        with open(f'{PATH}/{i}') as f:\n",
    "            data = json.load(f)\n",
    "\n",
    "            userThrottle = data[\"user/throttle\"]\n",
    "            userAngle = data[\"user/angle\"]\n",
    "            camImage_path = data[\"cam/image_array\"]\n",
    "            index = int(camImage_path[:-21])\n",
    "            camImage_path =  PATH + \"/\" + camImage_path\n",
    "            df_row = pd.DataFrame([[userThrottle, userAngle, camImage_path]], index = [index], \n",
    "                                  columns = [\"user/throttle\", \"user/angle\", \"cam/image_array\"])\n",
    "\n",
    "            df = df.append(df_row)\n",
    "    df = df.sort_index()\n",
    "    print(\"Loaded {} json files\".format(len(json_files[1:max_items])))\n",
    "    return df"
   ]
  },
  {
   "cell_type": "code",
   "execution_count": 51,
   "metadata": {},
   "outputs": [
    {
     "name": "stdout",
     "output_type": "stream",
     "text": [
      "Loaded 41261 json files\n"
     ]
    }
   ],
   "source": [
    "df_test = df_from_jsons(PATH, max_items=8000)"
   ]
  },
  {
   "cell_type": "code",
   "execution_count": 52,
   "metadata": {},
   "outputs": [
    {
     "data": {
      "text/plain": [
       "(7999, 3)"
      ]
     },
     "execution_count": 52,
     "metadata": {},
     "output_type": "execute_result"
    }
   ],
   "source": [
    "df_test.shape"
   ]
  },
  {
   "cell_type": "code",
   "execution_count": 54,
   "metadata": {},
   "outputs": [
    {
     "data": {
      "text/html": [
       "<div>\n",
       "<style scoped>\n",
       "    .dataframe tbody tr th:only-of-type {\n",
       "        vertical-align: middle;\n",
       "    }\n",
       "\n",
       "    .dataframe tbody tr th {\n",
       "        vertical-align: top;\n",
       "    }\n",
       "\n",
       "    .dataframe thead th {\n",
       "        text-align: right;\n",
       "    }\n",
       "</style>\n",
       "<table border=\"1\" class=\"dataframe\">\n",
       "  <thead>\n",
       "    <tr style=\"text-align: right;\">\n",
       "      <th></th>\n",
       "      <th>user/throttle</th>\n",
       "      <th>user/angle</th>\n",
       "      <th>cam/image_array</th>\n",
       "    </tr>\n",
       "  </thead>\n",
       "  <tbody>\n",
       "    <tr>\n",
       "      <th>9</th>\n",
       "      <td>0.44</td>\n",
       "      <td>0.01</td>\n",
       "      <td>../tubs/tub6_more_data/9_cam-image_array_.jpg</td>\n",
       "    </tr>\n",
       "    <tr>\n",
       "      <th>20</th>\n",
       "      <td>0.34</td>\n",
       "      <td>0.01</td>\n",
       "      <td>../tubs/tub6_more_data/20_cam-image_array_.jpg</td>\n",
       "    </tr>\n",
       "    <tr>\n",
       "      <th>26</th>\n",
       "      <td>0.06</td>\n",
       "      <td>-0.17</td>\n",
       "      <td>../tubs/tub6_more_data/26_cam-image_array_.jpg</td>\n",
       "    </tr>\n",
       "    <tr>\n",
       "      <th>28</th>\n",
       "      <td>0.08</td>\n",
       "      <td>-0.20</td>\n",
       "      <td>../tubs/tub6_more_data/28_cam-image_array_.jpg</td>\n",
       "    </tr>\n",
       "    <tr>\n",
       "      <th>31</th>\n",
       "      <td>0.12</td>\n",
       "      <td>-0.25</td>\n",
       "      <td>../tubs/tub6_more_data/31_cam-image_array_.jpg</td>\n",
       "    </tr>\n",
       "  </tbody>\n",
       "</table>\n",
       "</div>"
      ],
      "text/plain": [
       "    user/throttle  user/angle                                 cam/image_array\n",
       "9            0.44        0.01   ../tubs/tub6_more_data/9_cam-image_array_.jpg\n",
       "20           0.34        0.01  ../tubs/tub6_more_data/20_cam-image_array_.jpg\n",
       "26           0.06       -0.17  ../tubs/tub6_more_data/26_cam-image_array_.jpg\n",
       "28           0.08       -0.20  ../tubs/tub6_more_data/28_cam-image_array_.jpg\n",
       "31           0.12       -0.25  ../tubs/tub6_more_data/31_cam-image_array_.jpg"
      ]
     },
     "execution_count": 54,
     "metadata": {},
     "output_type": "execute_result"
    }
   ],
   "source": [
    "df_test = df_test.reset_index()\n",
    "df_test.head()"
   ]
  },
  {
   "cell_type": "code",
   "execution_count": 59,
   "metadata": {},
   "outputs": [],
   "source": [
    "df_test.to_feather('tmp/df_test')"
   ]
  },
  {
   "cell_type": "code",
   "execution_count": 3,
   "metadata": {},
   "outputs": [
    {
     "name": "stderr",
     "output_type": "stream",
     "text": [
      "C:\\Users\\Jason\\Anaconda3\\envs\\tf-gpu\\lib\\site-packages\\pandas\\io\\feather_format.py:112: FutureWarning: `nthreads` argument is deprecated, pass `use_threads` instead\n",
      "  return feather.read_dataframe(path, nthreads=nthreads)\n"
     ]
    }
   ],
   "source": [
    "df_test = pd.read_feather('tmp/df_test')"
   ]
  },
  {
   "cell_type": "code",
   "execution_count": 4,
   "metadata": {},
   "outputs": [
    {
     "data": {
      "text/plain": [
       "(7999, 4)"
      ]
     },
     "execution_count": 4,
     "metadata": {},
     "output_type": "execute_result"
    }
   ],
   "source": [
    "df_test.shape"
   ]
  },
  {
   "cell_type": "code",
   "execution_count": 5,
   "metadata": {},
   "outputs": [
    {
     "data": {
      "text/html": [
       "<div>\n",
       "<style scoped>\n",
       "    .dataframe tbody tr th:only-of-type {\n",
       "        vertical-align: middle;\n",
       "    }\n",
       "\n",
       "    .dataframe tbody tr th {\n",
       "        vertical-align: top;\n",
       "    }\n",
       "\n",
       "    .dataframe thead th {\n",
       "        text-align: right;\n",
       "    }\n",
       "</style>\n",
       "<table border=\"1\" class=\"dataframe\">\n",
       "  <thead>\n",
       "    <tr style=\"text-align: right;\">\n",
       "      <th></th>\n",
       "      <th>index</th>\n",
       "      <th>user/throttle</th>\n",
       "      <th>user/angle</th>\n",
       "      <th>cam/image_array</th>\n",
       "    </tr>\n",
       "  </thead>\n",
       "  <tbody>\n",
       "    <tr>\n",
       "      <th>0</th>\n",
       "      <td>9</td>\n",
       "      <td>0.44</td>\n",
       "      <td>0.01</td>\n",
       "      <td>../tubs/tub6_more_data/9_cam-image_array_.jpg</td>\n",
       "    </tr>\n",
       "    <tr>\n",
       "      <th>1</th>\n",
       "      <td>20</td>\n",
       "      <td>0.34</td>\n",
       "      <td>0.01</td>\n",
       "      <td>../tubs/tub6_more_data/20_cam-image_array_.jpg</td>\n",
       "    </tr>\n",
       "    <tr>\n",
       "      <th>2</th>\n",
       "      <td>26</td>\n",
       "      <td>0.06</td>\n",
       "      <td>-0.17</td>\n",
       "      <td>../tubs/tub6_more_data/26_cam-image_array_.jpg</td>\n",
       "    </tr>\n",
       "    <tr>\n",
       "      <th>3</th>\n",
       "      <td>28</td>\n",
       "      <td>0.08</td>\n",
       "      <td>-0.20</td>\n",
       "      <td>../tubs/tub6_more_data/28_cam-image_array_.jpg</td>\n",
       "    </tr>\n",
       "    <tr>\n",
       "      <th>4</th>\n",
       "      <td>31</td>\n",
       "      <td>0.12</td>\n",
       "      <td>-0.25</td>\n",
       "      <td>../tubs/tub6_more_data/31_cam-image_array_.jpg</td>\n",
       "    </tr>\n",
       "  </tbody>\n",
       "</table>\n",
       "</div>"
      ],
      "text/plain": [
       "   index  user/throttle  user/angle  \\\n",
       "0      9           0.44        0.01   \n",
       "1     20           0.34        0.01   \n",
       "2     26           0.06       -0.17   \n",
       "3     28           0.08       -0.20   \n",
       "4     31           0.12       -0.25   \n",
       "\n",
       "                                  cam/image_array  \n",
       "0   ../tubs/tub6_more_data/9_cam-image_array_.jpg  \n",
       "1  ../tubs/tub6_more_data/20_cam-image_array_.jpg  \n",
       "2  ../tubs/tub6_more_data/26_cam-image_array_.jpg  \n",
       "3  ../tubs/tub6_more_data/28_cam-image_array_.jpg  \n",
       "4  ../tubs/tub6_more_data/31_cam-image_array_.jpg  "
      ]
     },
     "execution_count": 5,
     "metadata": {},
     "output_type": "execute_result"
    }
   ],
   "source": [
    "df_test.head()"
   ]
  },
  {
   "cell_type": "code",
   "execution_count": 34,
   "metadata": {},
   "outputs": [],
   "source": [
    "model = load_model(\"./models/mypilot5\")"
   ]
  },
  {
   "cell_type": "code",
   "execution_count": 35,
   "metadata": {},
   "outputs": [
    {
     "name": "stdout",
     "output_type": "stream",
     "text": [
      "__________________________________________________________________________________________________\n",
      "Layer (type)                    Output Shape         Param #     Connected to                     \n",
      "==================================================================================================\n",
      "img_in (InputLayer)             (None, 120, 160, 3)  0                                            \n",
      "__________________________________________________________________________________________________\n",
      "conv2d_1 (Conv2D)               (None, 58, 78, 24)   1824        img_in[0][0]                     \n",
      "__________________________________________________________________________________________________\n",
      "conv2d_2 (Conv2D)               (None, 27, 37, 32)   19232       conv2d_1[0][0]                   \n",
      "__________________________________________________________________________________________________\n",
      "conv2d_3 (Conv2D)               (None, 12, 17, 64)   51264       conv2d_2[0][0]                   \n",
      "__________________________________________________________________________________________________\n",
      "conv2d_4 (Conv2D)               (None, 5, 8, 64)     36928       conv2d_3[0][0]                   \n",
      "__________________________________________________________________________________________________\n",
      "conv2d_5 (Conv2D)               (None, 3, 6, 64)     36928       conv2d_4[0][0]                   \n",
      "__________________________________________________________________________________________________\n",
      "flattened (Flatten)             (None, 1152)         0           conv2d_5[0][0]                   \n",
      "__________________________________________________________________________________________________\n",
      "dense_1 (Dense)                 (None, 100)          115300      flattened[0][0]                  \n",
      "__________________________________________________________________________________________________\n",
      "dropout_1 (Dropout)             (None, 100)          0           dense_1[0][0]                    \n",
      "__________________________________________________________________________________________________\n",
      "dense_2 (Dense)                 (None, 50)           5050        dropout_1[0][0]                  \n",
      "__________________________________________________________________________________________________\n",
      "dropout_2 (Dropout)             (None, 50)           0           dense_2[0][0]                    \n",
      "__________________________________________________________________________________________________\n",
      "angle_out (Dense)               (None, 15)           765         dropout_2[0][0]                  \n",
      "__________________________________________________________________________________________________\n",
      "throttle_out (Dense)            (None, 1)            51          dropout_2[0][0]                  \n",
      "==================================================================================================\n",
      "Total params: 267,342\n",
      "Trainable params: 267,342\n",
      "Non-trainable params: 0\n",
      "__________________________________________________________________________________________________\n"
     ]
    }
   ],
   "source": [
    "model.summary()"
   ]
  },
  {
   "cell_type": "code",
   "execution_count": 36,
   "metadata": {},
   "outputs": [],
   "source": [
    "def read_record(record_dict, path = PATH):\n",
    "    data = {}\n",
    "    for key, val in record_dict.items():\n",
    "        if key == 'cam/image_array':\n",
    "            img = Image.open(f'{val}')\n",
    "            val = np.array(img)\n",
    "        data[key] = val\n",
    "    return data"
   ]
  },
  {
   "cell_type": "code",
   "execution_count": 37,
   "metadata": {},
   "outputs": [],
   "source": [
    "def get_record_gen(record_transform=None, shuffle=True, df=None):\n",
    "    while True:\n",
    "        for _ in df.iterrows():\n",
    "            if shuffle:\n",
    "                record_dict = df.sample(n=1).to_dict(orient='record')[0]\n",
    "            \n",
    "            record_dict = read_record(record_dict)\n",
    "            \n",
    "            if record_transform:\n",
    "                record_dict = record_transform(record_dict)\n",
    "            \n",
    "            yield record_dict"
   ]
  },
  {
   "cell_type": "code",
   "execution_count": 38,
   "metadata": {},
   "outputs": [],
   "source": [
    "def get_batch_gen(keys=None, batch_size=128, record_transform=None, shuffle=True, df=None):\n",
    "    \n",
    "    record_gen = get_record_gen(record_transform=record_transform, shuffle=shuffle, df=df)\n",
    "    \n",
    "    while True:\n",
    "        record_list = [next(record_gen) for _ in range(batch_size)]\n",
    "        \n",
    "        batch_arrays = {}\n",
    "        for i, k in enumerate(keys):\n",
    "            arr = np.array([r[k] for r in record_list])\n",
    "            batch_arrays[k] = arr\n",
    "        yield batch_arrays"
   ]
  },
  {
   "cell_type": "code",
   "execution_count": 39,
   "metadata": {},
   "outputs": [],
   "source": [
    "def get_train_gen(X_keys, Y_keys, batch_size=128, record_transform=None, df=None): #\n",
    "    batch_gen = get_batch_gen(X_keys + Y_keys, batch_size=batch_size,\n",
    "                                  record_transform=record_transform, df=df)\n",
    "    while True:\n",
    "        batch = next(batch_gen)\n",
    "        X = [batch[k] for k in X_keys]\n",
    "        Y = [batch[k] for k in Y_keys] \n",
    "        yield X, Y"
   ]
  },
  {
   "cell_type": "code",
   "execution_count": 40,
   "metadata": {},
   "outputs": [],
   "source": [
    "def get_train_val_gen(df, X_keys, Y_keys, batch_size = 128, train_frac=0.8, #\n",
    "                      train_record_transform=None, val_record_transform=None): #\n",
    "    train_df = df.sample(frac=train_frac, random_state=200) #\n",
    "    val_df = df.drop(train_df.index) #\n",
    "    \n",
    "    train_gen = get_train_gen(X_keys=X_keys, Y_keys=Y_keys, batch_size=batch_size,\n",
    "                             record_transform=train_record_transform, df=train_df)\n",
    "    val_gen = get_train_gen(X_keys=X_keys, Y_keys=Y_keys, batch_size=batch_size,\n",
    "                           record_transform=val_record_transform, df=val_df)\n",
    "    return train_gen, val_gen"
   ]
  },
  {
   "cell_type": "code",
   "execution_count": 41,
   "metadata": {},
   "outputs": [],
   "source": [
    "def record_transform(record):\n",
    "    record['user/angle'] = to_bin(record['user/angle'])\n",
    "    return record"
   ]
  },
  {
   "cell_type": "code",
   "execution_count": 42,
   "metadata": {},
   "outputs": [],
   "source": [
    "X_keys = ['cam/image_array']\n",
    "y_keys = ['user/angle', 'user/throttle']\n",
    "bs = 128 # or 128/3\n",
    "train_frac = 1\n",
    "new_model_path = 'models/pilot_jp_2'"
   ]
  },
  {
   "cell_type": "code",
   "execution_count": 43,
   "metadata": {},
   "outputs": [],
   "source": [
    "def to_bin(a):\n",
    "    arr = np.zeros(15)\n",
    "    a = a + 1\n",
    "    b = round(a/(2/14))\n",
    "    arr[int(b)] = 1\n",
    "    return arr"
   ]
  },
  {
   "cell_type": "code",
   "execution_count": 44,
   "metadata": {},
   "outputs": [],
   "source": [
    "test_gen, _ = get_train_val_gen(df_test, X_keys, y_keys,\n",
    "                                               train_record_transform=record_transform, #\n",
    "                                               val_record_transform=record_transform, #\n",
    "                                               batch_size=bs, #\n",
    "                                               train_frac=train_frac) #"
   ]
  },
  {
   "cell_type": "code",
   "execution_count": 48,
   "metadata": {},
   "outputs": [
    {
     "name": "stdout",
     "output_type": "stream",
     "text": [
      "2.44 s ± 129 ms per loop (mean ± std. dev. of 7 runs, 1 loop each)\n"
     ]
    }
   ],
   "source": [
    "%timeit model.evaluate_generator(test_gen, steps=10)"
   ]
  },
  {
   "cell_type": "code",
   "execution_count": null,
   "metadata": {},
   "outputs": [],
   "source": [
    "\"\"\"\n",
    "pilot_BasicReduced: 2.41 s ± 109 ms\n",
    "mypilot5: 2.63 s ± 146 ms\n",
    "\n",
    "\n",
    "\"\"\""
   ]
  }
 ],
 "metadata": {
  "kernelspec": {
   "display_name": "Tensorflow-GPU",
   "language": "python",
   "name": "tf-gpu"
  },
  "language_info": {
   "codemirror_mode": {
    "name": "ipython",
    "version": 3
   },
   "file_extension": ".py",
   "mimetype": "text/x-python",
   "name": "python",
   "nbconvert_exporter": "python",
   "pygments_lexer": "ipython3",
   "version": "3.6.6"
  }
 },
 "nbformat": 4,
 "nbformat_minor": 2
}
