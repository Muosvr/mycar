{
 "cells": [
  {
   "cell_type": "code",
   "execution_count": 1,
   "metadata": {},
   "outputs": [],
   "source": [
    "import os\n",
    "import sys\n",
    "import time\n",
    "import json\n",
    "import datetime\n",
    "import random\n",
    "import tarfile\n",
    "\n",
    "import numpy as np\n",
    "import pandas as pd\n",
    "from PIL import Image\n",
    "PATH = \"../tubs/tub5\" #Shadow"
   ]
  },
  {
   "cell_type": "code",
   "execution_count": 2,
   "metadata": {},
   "outputs": [
    {
     "name": "stdout",
     "output_type": "stream",
     "text": [
      "1.8.0\n"
     ]
    }
   ],
   "source": [
    "#make sure tensorflow version is the same as one installed on donkeycar (1.8.0)\n",
    "import tensorflow as tf\n",
    "print(tf.__version__)"
   ]
  },
  {
   "cell_type": "code",
   "execution_count": 3,
   "metadata": {},
   "outputs": [
    {
     "data": {
      "text/plain": [
       "['/device:GPU:0']"
      ]
     },
     "execution_count": 3,
     "metadata": {},
     "output_type": "execute_result"
    }
   ],
   "source": [
    "from tensorflow.python.client import device_lib\n",
    "\n",
    "def get_available_gpus():\n",
    "    local_device_protos = device_lib.list_local_devices()\n",
    "    return [x.name for x in local_device_protos if x.device_type == 'GPU']\n",
    "get_available_gpus()"
   ]
  },
  {
   "cell_type": "code",
   "execution_count": 4,
   "metadata": {},
   "outputs": [],
   "source": [
    "#create df from path\n",
    "def df_from_jsons(PATH, max_items=None):\n",
    "    \n",
    "    #Get json files from path\n",
    "    json_files = [file for file in os.listdir(PATH) if file.endswith('json') ]\n",
    "    \n",
    "    df = pd.DataFrame()\n",
    "    for i, j in enumerate(json_files[1:max_items]):\n",
    "        with open(f'{PATH}/{j}') as f:\n",
    "            data = json.load(f)\n",
    "\n",
    "            userThrottle = data[\"user/throttle\"]\n",
    "            userAngle = data[\"user/angle\"]\n",
    "            camImage_path = data[\"cam/image_array\"]\n",
    "            index = int(camImage_path[:-21])\n",
    "            camImage_path =  PATH + \"/\" + camImage_path\n",
    "            df_row = pd.DataFrame([[userThrottle, userAngle, camImage_path]], index = [index], \n",
    "                                  columns = [\"user/throttle\", \"user/angle\", \"cam/image_array\"])\n",
    "\n",
    "            df = df.append(df_row)\n",
    "    df = df.sort_index()\n",
    "    print(\"Loaded {} json files\".format(len(json_files)))\n",
    "    return df"
   ]
  },
  {
   "cell_type": "code",
   "execution_count": 5,
   "metadata": {},
   "outputs": [],
   "source": [
    "#df = df_from_jsons(PATH, max_items=None)"
   ]
  },
  {
   "cell_type": "code",
   "execution_count": 6,
   "metadata": {},
   "outputs": [],
   "source": [
    "#df.to_feather('tmp/df_wPath')"
   ]
  },
  {
   "cell_type": "code",
   "execution_count": 7,
   "metadata": {},
   "outputs": [
    {
     "name": "stderr",
     "output_type": "stream",
     "text": [
      "C:\\Users\\Jason\\Anaconda3\\envs\\tf-gpu\\lib\\site-packages\\pandas\\io\\feather_format.py:112: FutureWarning: `nthreads` argument is deprecated, pass `use_threads` instead\n",
      "  return feather.read_dataframe(path, nthreads=nthreads)\n"
     ]
    }
   ],
   "source": [
    "df = pd.read_feather('tmp/df_wPATH')"
   ]
  },
  {
   "cell_type": "code",
   "execution_count": 8,
   "metadata": {},
   "outputs": [
    {
     "data": {
      "text/plain": [
       "(38574, 3)"
      ]
     },
     "execution_count": 8,
     "metadata": {},
     "output_type": "execute_result"
    }
   ],
   "source": [
    "df.shape"
   ]
  },
  {
   "cell_type": "code",
   "execution_count": 9,
   "metadata": {},
   "outputs": [
    {
     "data": {
      "text/html": [
       "<div>\n",
       "<style scoped>\n",
       "    .dataframe tbody tr th:only-of-type {\n",
       "        vertical-align: middle;\n",
       "    }\n",
       "\n",
       "    .dataframe tbody tr th {\n",
       "        vertical-align: top;\n",
       "    }\n",
       "\n",
       "    .dataframe thead th {\n",
       "        text-align: right;\n",
       "    }\n",
       "</style>\n",
       "<table border=\"1\" class=\"dataframe\">\n",
       "  <thead>\n",
       "    <tr style=\"text-align: right;\">\n",
       "      <th></th>\n",
       "      <th>user/throttle</th>\n",
       "      <th>user/angle</th>\n",
       "      <th>cam/image_array</th>\n",
       "    </tr>\n",
       "  </thead>\n",
       "  <tbody>\n",
       "    <tr>\n",
       "      <th>0</th>\n",
       "      <td>0.08</td>\n",
       "      <td>0.01</td>\n",
       "      <td>../tubs/tub5/0_cam-image_array_.jpg</td>\n",
       "    </tr>\n",
       "    <tr>\n",
       "      <th>1</th>\n",
       "      <td>0.12</td>\n",
       "      <td>-0.03</td>\n",
       "      <td>../tubs/tub5/1_cam-image_array_.jpg</td>\n",
       "    </tr>\n",
       "    <tr>\n",
       "      <th>2</th>\n",
       "      <td>0.12</td>\n",
       "      <td>-0.03</td>\n",
       "      <td>../tubs/tub5/2_cam-image_array_.jpg</td>\n",
       "    </tr>\n",
       "    <tr>\n",
       "      <th>3</th>\n",
       "      <td>0.14</td>\n",
       "      <td>-0.06</td>\n",
       "      <td>../tubs/tub5/3_cam-image_array_.jpg</td>\n",
       "    </tr>\n",
       "    <tr>\n",
       "      <th>4</th>\n",
       "      <td>0.14</td>\n",
       "      <td>-0.06</td>\n",
       "      <td>../tubs/tub5/4_cam-image_array_.jpg</td>\n",
       "    </tr>\n",
       "  </tbody>\n",
       "</table>\n",
       "</div>"
      ],
      "text/plain": [
       "   user/throttle  user/angle                      cam/image_array\n",
       "0           0.08        0.01  ../tubs/tub5/0_cam-image_array_.jpg\n",
       "1           0.12       -0.03  ../tubs/tub5/1_cam-image_array_.jpg\n",
       "2           0.12       -0.03  ../tubs/tub5/2_cam-image_array_.jpg\n",
       "3           0.14       -0.06  ../tubs/tub5/3_cam-image_array_.jpg\n",
       "4           0.14       -0.06  ../tubs/tub5/4_cam-image_array_.jpg"
      ]
     },
     "execution_count": 9,
     "metadata": {},
     "output_type": "execute_result"
    }
   ],
   "source": [
    "df.head()"
   ]
  },
  {
   "cell_type": "code",
   "execution_count": 10,
   "metadata": {},
   "outputs": [],
   "source": [
    "X_keys = ['cam/image_array']\n",
    "y_keys = ['user/angle', 'user/throttle']\n",
    "new_model_path = 'models/pilot_jn'\n",
    "bs = 256\n",
    "train_frac = 0.8"
   ]
  },
  {
   "cell_type": "code",
   "execution_count": 11,
   "metadata": {},
   "outputs": [],
   "source": [
    "def to_bin(a):\n",
    "    arr = np.zeros(15)\n",
    "    a = a + 1\n",
    "    b = round(a/(2/14))\n",
    "    arr[int(b)] = 1\n",
    "    return arr"
   ]
  },
  {
   "cell_type": "code",
   "execution_count": 12,
   "metadata": {},
   "outputs": [],
   "source": [
    "def read_record(record_dict, path = PATH):\n",
    "    data = {}\n",
    "    for key, val in record_dict.items():\n",
    "        if key == 'cam/image_array':\n",
    "            img = Image.open(f'{val}')\n",
    "            val = np.array(img)\n",
    "        \n",
    "        data[key] = val\n",
    "    return data"
   ]
  },
  {
   "cell_type": "code",
   "execution_count": 13,
   "metadata": {},
   "outputs": [
    {
     "data": {
      "image/png": "[encoded data removed]",
      "text/plain": [
       "<PIL.Image.Image image mode=RGB size=160x120 at 0x1EA03E4D1D0>"
      ]
     },
     "execution_count": 13,
     "metadata": {},
     "output_type": "execute_result"
    }
   ],
   "source": [
    "#Testing\n",
    "df_t = df.sample(n=1).to_dict(orient='record')[0]\n",
    "record = read_record(df_t)\n",
    "data = record['cam/image_array']\n",
    "pic = Image.fromarray(data, 'RGB')\n",
    "pic"
   ]
  },
  {
   "cell_type": "code",
   "execution_count": 14,
   "metadata": {},
   "outputs": [],
   "source": [
    "def get_record_gen(record_transform=None, shuffle=True, df=None):\n",
    "    while True:\n",
    "        for _ in df.iterrows():\n",
    "            if shuffle:\n",
    "                record_dict = df.sample(n=1).to_dict(orient='record')[0]\n",
    "            \n",
    "            record_dict = read_record(record_dict)\n",
    "            \n",
    "            if record_transform:\n",
    "                record_dict = record_transform(record_dict)\n",
    "            \n",
    "            yield record_dict"
   ]
  },
  {
   "cell_type": "code",
   "execution_count": 15,
   "metadata": {},
   "outputs": [],
   "source": [
    "# record_gen = get_record_gen(record_transform=None, shuffle=True, df=df)"
   ]
  },
  {
   "cell_type": "code",
   "execution_count": 16,
   "metadata": {},
   "outputs": [],
   "source": [
    "# next(record_gen)"
   ]
  },
  {
   "cell_type": "code",
   "execution_count": 17,
   "metadata": {},
   "outputs": [],
   "source": [
    "def get_batch_gen(keys=None, batch_size=128, record_transform=None, shuffle=True, df=None):\n",
    "    \n",
    "    record_gen = get_record_gen(record_transform=record_transform, shuffle=shuffle, df=df)\n",
    "    \n",
    "    while True:\n",
    "        record_list = [next(record_gen) for _ in range(batch_size)]\n",
    "        \n",
    "        batch_arrays = {}\n",
    "        for i, k in enumerate(keys):\n",
    "            arr = np.array([r[k] for r in record_list])\n",
    "            batch_arrays[k] = arr\n",
    "        yield batch_arrays"
   ]
  },
  {
   "cell_type": "code",
   "execution_count": 18,
   "metadata": {},
   "outputs": [],
   "source": [
    "def get_train_gen(X_keys, Y_keys, batch_size=128, record_transform=None, df=None): #\n",
    "    batch_gen = get_batch_gen(X_keys + Y_keys, batch_size=batch_size,\n",
    "                                  record_transform=record_transform, df=df)\n",
    "    while True:\n",
    "        batch = next(batch_gen)\n",
    "        X = [batch[k] for k in X_keys]\n",
    "        Y = [batch[k] for k in Y_keys] \n",
    "        yield X, Y"
   ]
  },
  {
   "cell_type": "code",
   "execution_count": 19,
   "metadata": {},
   "outputs": [],
   "source": [
    "def get_train_val_gen(df, X_keys, Y_keys, batch_size = 128, train_frac=0.8, #\n",
    "                      train_record_transform=None, val_record_transform=None): #\n",
    "    train_df = df.sample(frac=train_frac, random_state=200) #\n",
    "    val_df = df.drop(train_df.index) #\n",
    "    \n",
    "    train_gen = get_train_gen(X_keys=X_keys, Y_keys=Y_keys, batch_size=batch_size,\n",
    "                             record_transform=train_record_transform, df=train_df)\n",
    "    val_gen = get_train_gen(X_keys=X_keys, Y_keys=Y_keys, batch_size=batch_size,\n",
    "                           record_transform=val_record_transform, df=val_df)\n",
    "    return train_gen, val_gen\n",
    "    "
   ]
  },
  {
   "cell_type": "code",
   "execution_count": 20,
   "metadata": {},
   "outputs": [],
   "source": [
    "def record_transform(record):\n",
    "    record['user/angle'] = to_bin(record['user/angle'])\n",
    "    return record"
   ]
  },
  {
   "cell_type": "code",
   "execution_count": 21,
   "metadata": {},
   "outputs": [],
   "source": [
    "train_gen, val_gen = get_train_val_gen(df, X_keys, y_keys,\n",
    "                                               train_record_transform=record_transform, #\n",
    "                                               val_record_transform=record_transform, #\n",
    "                                               batch_size=bs, #\n",
    "                                               train_frac=train_frac) #"
   ]
  },
  {
   "cell_type": "code",
   "execution_count": 22,
   "metadata": {},
   "outputs": [],
   "source": [
    "from tensorflow.python.keras.layers import Input\n",
    "from tensorflow.python.keras.models import Model, load_model\n",
    "from tensorflow.python.keras.layers import Convolution2D, MaxPooling2D, BatchNormalization\n",
    "from tensorflow.python.keras.layers import Dropout, Flatten, Dense, Cropping2D, Lambda\n",
    "from tensorflow.python.keras.callbacks import ModelCheckpoint, EarlyStopping"
   ]
  },
  {
   "cell_type": "code",
   "execution_count": 28,
   "metadata": {},
   "outputs": [],
   "source": [
    "def default_categorical():\n",
    "    img_in = Input(shape=(120, 160, 3),\n",
    "                   name='img_in')  # First layer, input layer, Shape comes from camera.py resolution, RGB\n",
    "    x = img_in\n",
    "    x = Convolution2D(24, (5, 5), strides=(2, 2), activation='relu')(x)\n",
    "    x = BatchNormalization()(x)\n",
    "    x = Dropout(0.2)(x)\n",
    "    x = Convolution2D(32, (4, 4), strides=(2, 2), activation='relu')(x)\n",
    "    x = MaxPooling2D(pool_size=(2, 2))(x)\n",
    "    x = BatchNormalization()(x)\n",
    "    x = Dropout(0.3)(x)\n",
    "    x = Convolution2D(64, (3, 3), strides=(1, 1), activation='relu')(x)\n",
    "    x = MaxPooling2D(pool_size=(2, 2))(x)\n",
    "    x = BatchNormalization()(x)\n",
    "    x = Dropout(0.5)(x)\n",
    "    x = Convolution2D(64, (3, 3), strides=(1, 1), activation='relu')(x)\n",
    "    x = MaxPooling2D(pool_size=(2, 2))(x)\n",
    "    x = BatchNormalization()(x)\n",
    "    x = Dropout(0.5)(x)\n",
    "\n",
    "    x = Flatten(name='flattened')(x)\n",
    "    x = Dense(50, activation='relu')(x)\n",
    "    x = Dropout(.5)(x)\n",
    "    \n",
    "    angle_out = Dense(15, activation='softmax', name='angle_out')(x)\n",
    "    throttle_out = Dense(1, activation='relu', name='throttle_out')(x)\n",
    "\n",
    "    model = Model(inputs=[img_in], outputs=[angle_out, throttle_out])\n",
    "    model.compile(optimizer='adam',\n",
    "                  loss={'angle_out': 'categorical_crossentropy',\n",
    "                        'throttle_out': 'mean_absolute_error'},\n",
    "                  loss_weights={'angle_out': 0.9, 'throttle_out': .01})\n",
    "\n",
    "    return model"
   ]
  },
  {
   "cell_type": "code",
   "execution_count": 29,
   "metadata": {
    "scrolled": true
   },
   "outputs": [
    {
     "name": "stdout",
     "output_type": "stream",
     "text": [
      "__________________________________________________________________________________________________\n",
      "Layer (type)                    Output Shape         Param #     Connected to                     \n",
      "==================================================================================================\n",
      "img_in (InputLayer)             (None, 120, 160, 3)  0                                            \n",
      "__________________________________________________________________________________________________\n",
      "conv2d_4 (Conv2D)               (None, 58, 78, 24)   1824        img_in[0][0]                     \n",
      "__________________________________________________________________________________________________\n",
      "batch_normalization_4 (BatchNor (None, 58, 78, 24)   96          conv2d_4[0][0]                   \n",
      "__________________________________________________________________________________________________\n",
      "dropout_5 (Dropout)             (None, 58, 78, 24)   0           batch_normalization_4[0][0]      \n",
      "__________________________________________________________________________________________________\n",
      "conv2d_5 (Conv2D)               (None, 28, 38, 32)   12320       dropout_5[0][0]                  \n",
      "__________________________________________________________________________________________________\n",
      "max_pooling2d_4 (MaxPooling2D)  (None, 14, 19, 32)   0           conv2d_5[0][0]                   \n",
      "__________________________________________________________________________________________________\n",
      "batch_normalization_5 (BatchNor (None, 14, 19, 32)   128         max_pooling2d_4[0][0]            \n",
      "__________________________________________________________________________________________________\n",
      "dropout_6 (Dropout)             (None, 14, 19, 32)   0           batch_normalization_5[0][0]      \n",
      "__________________________________________________________________________________________________\n",
      "conv2d_6 (Conv2D)               (None, 12, 17, 64)   18496       dropout_6[0][0]                  \n",
      "__________________________________________________________________________________________________\n",
      "max_pooling2d_5 (MaxPooling2D)  (None, 6, 8, 64)     0           conv2d_6[0][0]                   \n",
      "__________________________________________________________________________________________________\n",
      "batch_normalization_6 (BatchNor (None, 6, 8, 64)     256         max_pooling2d_5[0][0]            \n",
      "__________________________________________________________________________________________________\n",
      "dropout_7 (Dropout)             (None, 6, 8, 64)     0           batch_normalization_6[0][0]      \n",
      "__________________________________________________________________________________________________\n",
      "conv2d_7 (Conv2D)               (None, 4, 6, 64)     36928       dropout_7[0][0]                  \n",
      "__________________________________________________________________________________________________\n",
      "max_pooling2d_6 (MaxPooling2D)  (None, 2, 3, 64)     0           conv2d_7[0][0]                   \n",
      "__________________________________________________________________________________________________\n",
      "batch_normalization_7 (BatchNor (None, 2, 3, 64)     256         max_pooling2d_6[0][0]            \n",
      "__________________________________________________________________________________________________\n",
      "dropout_8 (Dropout)             (None, 2, 3, 64)     0           batch_normalization_7[0][0]      \n",
      "__________________________________________________________________________________________________\n",
      "flattened (Flatten)             (None, 384)          0           dropout_8[0][0]                  \n",
      "__________________________________________________________________________________________________\n",
      "dense_2 (Dense)                 (None, 50)           19250       flattened[0][0]                  \n",
      "__________________________________________________________________________________________________\n",
      "dropout_9 (Dropout)             (None, 50)           0           dense_2[0][0]                    \n",
      "__________________________________________________________________________________________________\n",
      "angle_out (Dense)               (None, 15)           765         dropout_9[0][0]                  \n",
      "__________________________________________________________________________________________________\n",
      "throttle_out (Dense)            (None, 1)            51          dropout_9[0][0]                  \n",
      "==================================================================================================\n",
      "Total params: 90,370\n",
      "Trainable params: 90,002\n",
      "Non-trainable params: 368\n",
      "__________________________________________________________________________________________________\n"
     ]
    }
   ],
   "source": [
    "model = default_categorical()\n",
    "model.summary()"
   ]
  },
  {
   "cell_type": "code",
   "execution_count": 25,
   "metadata": {},
   "outputs": [],
   "source": [
    "def train(train_gen, val_gen, saved_model_path, epochs=100, steps=100, train_split=0.8,\n",
    "         verbose=1, min_delta=0.0005, patience=5, use_early_stop=True):\n",
    "    \n",
    "#     checkpoint to save model\n",
    "    save_best = ModelCheckpoint(saved_model_path, monitor='val_loss', verbose=verbose, save_best_only=True, mode='min')\n",
    "    \n",
    "    #stop training if stop improving\n",
    "    early_stop = EarlyStopping(monitor='val_loss', min_delta=min_delta, patience=patience, verbose=verbose, mode='auto')\n",
    "    \n",
    "    callbacks_list = [save_best]\n",
    "    \n",
    "    if use_early_stop:\n",
    "        callbacks_list.append(early_stop)\n",
    "        \n",
    "    hist = model.fit_generator(train_gen, steps_per_epoch=steps, epochs=epochs, verbose=1, validation_data=val_gen,\n",
    "                                callbacks=callbacks_list, validation_steps=steps * (1.0 - train_frac)//train_frac)\n",
    "    return hist"
   ]
  },
  {
   "cell_type": "code",
   "execution_count": 26,
   "metadata": {},
   "outputs": [
    {
     "data": {
      "text/plain": [
       "120"
      ]
     },
     "execution_count": 26,
     "metadata": {},
     "output_type": "execute_result"
    }
   ],
   "source": [
    "total_records = len(df)\n",
    "total_train = int(total_records * train_frac)\n",
    "total_val = total_records - total_train\n",
    "steps_per_epoch = total_train // bs\n",
    "steps_per_epoch"
   ]
  },
  {
   "cell_type": "code",
   "execution_count": 27,
   "metadata": {
    "scrolled": false
   },
   "outputs": [
    {
     "name": "stdout",
     "output_type": "stream",
     "text": [
      "Epoch 1/100\n",
      "119/120 [============================>.] - ETA: 0s - loss: 2.2083 - angle_out_loss: 2.4483 - throttle_out_loss: 0.4795\n",
      "Epoch 00001: val_loss improved from inf to 1.81939, saving model to models/pilot_jn\n",
      "120/120 [==============================] - 91s 755ms/step - loss: 2.2054 - angle_out_loss: 2.4451 - throttle_out_loss: 0.4787 - val_loss: 1.8194 - val_angle_out_loss: 2.0182 - val_throttle_out_loss: 0.3039\n",
      "Epoch 2/100\n",
      "119/120 [============================>.] - ETA: 0s - loss: 1.7334 - angle_out_loss: 1.9223 - throttle_out_loss: 0.3361\n",
      "Epoch 00002: val_loss improved from 1.81939 to 1.42053, saving model to models/pilot_jn\n",
      "120/120 [==============================] - 86s 716ms/step - loss: 1.7317 - angle_out_loss: 1.9204 - throttle_out_loss: 0.3361 - val_loss: 1.4205 - val_angle_out_loss: 1.5748 - val_throttle_out_loss: 0.3198\n",
      "Epoch 3/100\n",
      "119/120 [============================>.] - ETA: 0s - loss: 1.5850 - angle_out_loss: 1.7576 - throttle_out_loss: 0.3222\n",
      "Epoch 00003: val_loss improved from 1.42053 to 1.37798, saving model to models/pilot_jn\n",
      "120/120 [==============================] - 87s 727ms/step - loss: 1.5849 - angle_out_loss: 1.7574 - throttle_out_loss: 0.3222 - val_loss: 1.3780 - val_angle_out_loss: 1.5275 - val_throttle_out_loss: 0.3197\n",
      "Epoch 4/100\n",
      "119/120 [============================>.] - ETA: 0s - loss: 1.5024 - angle_out_loss: 1.6657 - throttle_out_loss: 0.3217\n",
      "Epoch 00004: val_loss improved from 1.37798 to 1.37575, saving model to models/pilot_jn\n",
      "120/120 [==============================] - 88s 732ms/step - loss: 1.5021 - angle_out_loss: 1.6655 - throttle_out_loss: 0.3216 - val_loss: 1.3757 - val_angle_out_loss: 1.5251 - val_throttle_out_loss: 0.3193\n",
      "Epoch 5/100\n",
      "119/120 [============================>.] - ETA: 0s - loss: 1.4502 - angle_out_loss: 1.6077 - throttle_out_loss: 0.3227\n",
      "Epoch 00005: val_loss improved from 1.37575 to 1.31645, saving model to models/pilot_jn\n",
      "120/120 [==============================] - 86s 721ms/step - loss: 1.4505 - angle_out_loss: 1.6081 - throttle_out_loss: 0.3227 - val_loss: 1.3164 - val_angle_out_loss: 1.4592 - val_throttle_out_loss: 0.3193\n",
      "Epoch 6/100\n",
      "119/120 [============================>.] - ETA: 0s - loss: 1.4360 - angle_out_loss: 1.5919 - throttle_out_loss: 0.3213\n",
      "Epoch 00006: val_loss did not improve\n",
      "120/120 [==============================] - 86s 720ms/step - loss: 1.4358 - angle_out_loss: 1.5918 - throttle_out_loss: 0.3213 - val_loss: 1.3227 - val_angle_out_loss: 1.4661 - val_throttle_out_loss: 0.3191\n",
      "Epoch 7/100\n",
      "119/120 [============================>.] - ETA: 0s - loss: 1.4129 - angle_out_loss: 1.5663 - throttle_out_loss: 0.3208\n",
      "Epoch 00007: val_loss improved from 1.31645 to 1.29638, saving model to models/pilot_jn\n",
      "120/120 [==============================] - 86s 721ms/step - loss: 1.4126 - angle_out_loss: 1.5660 - throttle_out_loss: 0.3208 - val_loss: 1.2964 - val_angle_out_loss: 1.4369 - val_throttle_out_loss: 0.3190\n",
      "Epoch 8/100\n",
      "119/120 [============================>.] - ETA: 0s - loss: 1.3989 - angle_out_loss: 1.5508 - throttle_out_loss: 0.3202\n",
      "Epoch 00008: val_loss improved from 1.29638 to 1.28934, saving model to models/pilot_jn\n",
      "120/120 [==============================] - 85s 711ms/step - loss: 1.3986 - angle_out_loss: 1.5504 - throttle_out_loss: 0.3202 - val_loss: 1.2893 - val_angle_out_loss: 1.4290 - val_throttle_out_loss: 0.3201\n",
      "Epoch 9/100\n",
      "119/120 [============================>.] - ETA: 0s - loss: 1.3744 - angle_out_loss: 1.5236 - throttle_out_loss: 0.3202\n",
      "Epoch 00009: val_loss did not improve\n",
      "120/120 [==============================] - 86s 720ms/step - loss: 1.3733 - angle_out_loss: 1.5224 - throttle_out_loss: 0.3203 - val_loss: 1.2996 - val_angle_out_loss: 1.4404 - val_throttle_out_loss: 0.3181\n",
      "Epoch 10/100\n",
      "119/120 [============================>.] - ETA: 0s - loss: 1.3606 - angle_out_loss: 1.5082 - throttle_out_loss: 0.3202\n",
      "Epoch 00010: val_loss improved from 1.28934 to 1.27320, saving model to models/pilot_jn\n",
      "120/120 [==============================] - 86s 718ms/step - loss: 1.3602 - angle_out_loss: 1.5077 - throttle_out_loss: 0.3202 - val_loss: 1.2732 - val_angle_out_loss: 1.4111 - val_throttle_out_loss: 0.3197\n",
      "Epoch 11/100\n",
      "119/120 [============================>.] - ETA: 0s - loss: 1.3606 - angle_out_loss: 1.5082 - throttle_out_loss: 0.3201\n",
      "Epoch 00011: val_loss improved from 1.27320 to 1.25804, saving model to models/pilot_jn\n",
      "120/120 [==============================] - 85s 712ms/step - loss: 1.3607 - angle_out_loss: 1.5083 - throttle_out_loss: 0.3201 - val_loss: 1.2580 - val_angle_out_loss: 1.3943 - val_throttle_out_loss: 0.3189\n",
      "Epoch 12/100\n",
      "119/120 [============================>.] - ETA: 0s - loss: 1.3391 - angle_out_loss: 1.4844 - throttle_out_loss: 0.3198\n",
      "Epoch 00012: val_loss improved from 1.25804 to 1.24591, saving model to models/pilot_jn\n",
      "120/120 [==============================] - 86s 713ms/step - loss: 1.3387 - angle_out_loss: 1.4839 - throttle_out_loss: 0.3198 - val_loss: 1.2459 - val_angle_out_loss: 1.3808 - val_throttle_out_loss: 0.3196\n",
      "Epoch 13/100\n",
      "119/120 [============================>.] - ETA: 0s - loss: 1.3320 - angle_out_loss: 1.4764 - throttle_out_loss: 0.3196\n",
      "Epoch 00013: val_loss did not improve\n",
      "120/120 [==============================] - 83s 692ms/step - loss: 1.3314 - angle_out_loss: 1.4758 - throttle_out_loss: 0.3195 - val_loss: 1.2916 - val_angle_out_loss: 1.4315 - val_throttle_out_loss: 0.3196\n",
      "Epoch 14/100\n",
      "119/120 [============================>.] - ETA: 0s - loss: 1.3284 - angle_out_loss: 1.4725 - throttle_out_loss: 0.3199\n",
      "Epoch 00014: val_loss improved from 1.24591 to 1.21110, saving model to models/pilot_jn\n",
      "120/120 [==============================] - 84s 698ms/step - loss: 1.3275 - angle_out_loss: 1.4714 - throttle_out_loss: 0.3200 - val_loss: 1.2111 - val_angle_out_loss: 1.3421 - val_throttle_out_loss: 0.3200\n",
      "Epoch 15/100\n",
      "119/120 [============================>.] - ETA: 0s - loss: 1.3216 - angle_out_loss: 1.4649 - throttle_out_loss: 0.3201\n",
      "Epoch 00015: val_loss did not improve\n",
      "120/120 [==============================] - 84s 697ms/step - loss: 1.3212 - angle_out_loss: 1.4644 - throttle_out_loss: 0.3201 - val_loss: 1.2174 - val_angle_out_loss: 1.3491 - val_throttle_out_loss: 0.3202\n",
      "Epoch 16/100\n",
      "119/120 [============================>.] - ETA: 0s - loss: 1.3151 - angle_out_loss: 1.4577 - throttle_out_loss: 0.3196\n",
      "Epoch 00016: val_loss improved from 1.21110 to 1.20129, saving model to models/pilot_jn\n",
      "120/120 [==============================] - 83s 689ms/step - loss: 1.3147 - angle_out_loss: 1.4572 - throttle_out_loss: 0.3196 - val_loss: 1.2013 - val_angle_out_loss: 1.3312 - val_throttle_out_loss: 0.3189\n",
      "Epoch 17/100\n",
      "119/120 [============================>.] - ETA: 0s - loss: 1.3108 - angle_out_loss: 1.4529 - throttle_out_loss: 0.3191\n",
      "Epoch 00017: val_loss did not improve\n",
      "120/120 [==============================] - 83s 695ms/step - loss: 1.3103 - angle_out_loss: 1.4524 - throttle_out_loss: 0.3191 - val_loss: 1.2773 - val_angle_out_loss: 1.4157 - val_throttle_out_loss: 0.3192\n",
      "Epoch 18/100\n",
      "119/120 [============================>.] - ETA: 0s - loss: 1.3052 - angle_out_loss: 1.4467 - throttle_out_loss: 0.3194\n",
      "Epoch 00018: val_loss did not improve\n",
      "120/120 [==============================] - 83s 692ms/step - loss: 1.3048 - angle_out_loss: 1.4463 - throttle_out_loss: 0.3193 - val_loss: 1.2179 - val_angle_out_loss: 1.3497 - val_throttle_out_loss: 0.3190\n",
      "Epoch 19/100\n",
      "119/120 [============================>.] - ETA: 0s - loss: 1.2917 - angle_out_loss: 1.4316 - throttle_out_loss: 0.3196\n",
      "Epoch 00019: val_loss did not improve\n",
      "120/120 [==============================] - 84s 697ms/step - loss: 1.2915 - angle_out_loss: 1.4314 - throttle_out_loss: 0.3196 - val_loss: 1.2891 - val_angle_out_loss: 1.4288 - val_throttle_out_loss: 0.3193\n",
      "Epoch 20/100\n",
      "119/120 [============================>.] - ETA: 0s - loss: 1.2902 - angle_out_loss: 1.4300 - throttle_out_loss: 0.3196\n",
      "Epoch 00020: val_loss did not improve\n",
      "120/120 [==============================] - 85s 711ms/step - loss: 1.2908 - angle_out_loss: 1.4307 - throttle_out_loss: 0.3196 - val_loss: 1.2217 - val_angle_out_loss: 1.3539 - val_throttle_out_loss: 0.3182\n",
      "Epoch 21/100\n"
     ]
    },
    {
     "name": "stdout",
     "output_type": "stream",
     "text": [
      "119/120 [============================>.] - ETA: 0s - loss: 1.2893 - angle_out_loss: 1.4291 - throttle_out_loss: 0.3181\n",
      "Epoch 00021: val_loss improved from 1.20129 to 1.18588, saving model to models/pilot_jn\n",
      "120/120 [==============================] - 84s 700ms/step - loss: 1.2893 - angle_out_loss: 1.4290 - throttle_out_loss: 0.3182 - val_loss: 1.1859 - val_angle_out_loss: 1.3141 - val_throttle_out_loss: 0.3188\n",
      "Epoch 22/100\n",
      "119/120 [============================>.] - ETA: 0s - loss: 1.2752 - angle_out_loss: 1.4134 - throttle_out_loss: 0.3178\n",
      "Epoch 00022: val_loss did not improve\n",
      "120/120 [==============================] - 85s 711ms/step - loss: 1.2763 - angle_out_loss: 1.4146 - throttle_out_loss: 0.3178 - val_loss: 1.2013 - val_angle_out_loss: 1.3313 - val_throttle_out_loss: 0.3193\n",
      "Epoch 23/100\n",
      "119/120 [============================>.] - ETA: 0s - loss: 1.2734 - angle_out_loss: 1.4114 - throttle_out_loss: 0.3152\n",
      "Epoch 00023: val_loss improved from 1.18588 to 1.17485, saving model to models/pilot_jn\n",
      "120/120 [==============================] - 86s 716ms/step - loss: 1.2739 - angle_out_loss: 1.4120 - throttle_out_loss: 0.3152 - val_loss: 1.1748 - val_angle_out_loss: 1.3018 - val_throttle_out_loss: 0.3185\n",
      "Epoch 24/100\n",
      "119/120 [============================>.] - ETA: 0s - loss: 1.2684 - angle_out_loss: 1.4059 - throttle_out_loss: 0.3124\n",
      "Epoch 00024: val_loss did not improve\n",
      "120/120 [==============================] - 86s 720ms/step - loss: 1.2675 - angle_out_loss: 1.4049 - throttle_out_loss: 0.3124 - val_loss: 1.1903 - val_angle_out_loss: 1.3190 - val_throttle_out_loss: 0.3202\n",
      "Epoch 25/100\n",
      "119/120 [============================>.] - ETA: 0s - loss: 1.2623 - angle_out_loss: 1.3993 - throttle_out_loss: 0.2956\n",
      "Epoch 00025: val_loss improved from 1.17485 to 1.16595, saving model to models/pilot_jn\n",
      "120/120 [==============================] - 86s 716ms/step - loss: 1.2618 - angle_out_loss: 1.3988 - throttle_out_loss: 0.2955 - val_loss: 1.1660 - val_angle_out_loss: 1.2920 - val_throttle_out_loss: 0.3193\n",
      "Epoch 26/100\n",
      "119/120 [============================>.] - ETA: 0s - loss: 1.2663 - angle_out_loss: 1.4042 - throttle_out_loss: 0.2529\n",
      "Epoch 00026: val_loss did not improve\n",
      "120/120 [==============================] - 85s 706ms/step - loss: 1.2664 - angle_out_loss: 1.4043 - throttle_out_loss: 0.2526 - val_loss: 1.2868 - val_angle_out_loss: 1.4272 - val_throttle_out_loss: 0.2387\n",
      "Epoch 27/100\n",
      "119/120 [============================>.] - ETA: 0s - loss: 1.2559 - angle_out_loss: 1.3930 - throttle_out_loss: 0.2217\n",
      "Epoch 00027: val_loss improved from 1.16595 to 1.13405, saving model to models/pilot_jn\n",
      "120/120 [==============================] - 84s 700ms/step - loss: 1.2557 - angle_out_loss: 1.3927 - throttle_out_loss: 0.2215 - val_loss: 1.1340 - val_angle_out_loss: 1.2574 - val_throttle_out_loss: 0.2354\n",
      "Epoch 28/100\n",
      "119/120 [============================>.] - ETA: 0s - loss: 1.2529 - angle_out_loss: 1.3905 - throttle_out_loss: 0.1502\n",
      "Epoch 00028: val_loss did not improve\n",
      "120/120 [==============================] - 87s 722ms/step - loss: 1.2528 - angle_out_loss: 1.3903 - throttle_out_loss: 0.1501 - val_loss: 1.1861 - val_angle_out_loss: 1.3160 - val_throttle_out_loss: 0.1723\n",
      "Epoch 29/100\n",
      "119/120 [============================>.] - ETA: 0s - loss: 1.2461 - angle_out_loss: 1.3834 - throttle_out_loss: 0.0975\n",
      "Epoch 00029: val_loss did not improve\n",
      "120/120 [==============================] - 85s 709ms/step - loss: 1.2460 - angle_out_loss: 1.3834 - throttle_out_loss: 0.0970 - val_loss: 1.1952 - val_angle_out_loss: 1.3275 - val_throttle_out_loss: 0.0410\n",
      "Epoch 30/100\n",
      "119/120 [============================>.] - ETA: 0s - loss: 1.2442 - angle_out_loss: 1.3820 - throttle_out_loss: 0.0380\n",
      "Epoch 00030: val_loss did not improve\n",
      "120/120 [==============================] - 85s 709ms/step - loss: 1.2447 - angle_out_loss: 1.3826 - throttle_out_loss: 0.0381 - val_loss: 1.1807 - val_angle_out_loss: 1.3115 - val_throttle_out_loss: 0.0361\n",
      "Epoch 31/100\n",
      "119/120 [============================>.] - ETA: 0s - loss: 1.2405 - angle_out_loss: 1.3779 - throttle_out_loss: 0.0364\n",
      "Epoch 00031: val_loss did not improve\n",
      "120/120 [==============================] - 86s 716ms/step - loss: 1.2397 - angle_out_loss: 1.3771 - throttle_out_loss: 0.0364 - val_loss: 1.1688 - val_angle_out_loss: 1.2982 - val_throttle_out_loss: 0.0357\n",
      "Epoch 32/100\n",
      "119/120 [============================>.] - ETA: 0s - loss: 1.2349 - angle_out_loss: 1.3717 - throttle_out_loss: 0.0366\n",
      "Epoch 00032: val_loss did not improve\n",
      "120/120 [==============================] - 83s 690ms/step - loss: 1.2345 - angle_out_loss: 1.3712 - throttle_out_loss: 0.0366 - val_loss: 1.1383 - val_angle_out_loss: 1.2644 - val_throttle_out_loss: 0.0352\n",
      "Epoch 00032: early stopping\n"
     ]
    },
    {
     "data": {
      "text/plain": [
       "<tensorflow.python.keras._impl.keras.callbacks.History at 0x1ea5bccf7b8>"
      ]
     },
     "execution_count": 27,
     "metadata": {},
     "output_type": "execute_result"
    }
   ],
   "source": [
    "train(train_gen, val_gen, saved_model_path=new_model_path, steps=steps_per_epoch, train_split=0.8) #change train_split to 0.9 for large data"
   ]
  },
  {
   "cell_type": "code",
   "execution_count": 5,
   "metadata": {},
   "outputs": [
    {
     "data": {
      "text/plain": [
       "'\\nRecords\\n\\nOriginal architecture with 79k samples\\n498/498 [==============================] - 215s 432ms/step - loss: 0.4393 - angle_out_loss: 0.4875 \\n- throttle_out_loss: 0.0551 - val_loss: 0.8894 - val_angle_out_loss: 0.9876 - val_throttle_out_loss: 0.0586\\nEpoch 00028: early stopping\\n\\nOriginal architecture with 79k samples and 0.2 and 0.3 dropout at the end\\n498/498 [==============================] - 239s 480ms/step - loss: 0.5324 - angle_out_loss: 0.5910 - \\nthrottle_out_loss: 0.0585 - val_loss: 0.9268 - val_angle_out_loss: 1.0292 - val_throttle_out_loss: 0.0530\\nEpoch 00030: early stopping\\n\\nOriginal architecture with 79k samples and 0.3 and 0.5 dropout at the end\\n\\n'"
      ]
     },
     "execution_count": 5,
     "metadata": {},
     "output_type": "execute_result"
    }
   ],
   "source": [
    "\"\"\"\n",
    "Records\n",
    "\n",
    "Original architecture with 79k samples\n",
    "498/498 [==============================] - 215s 432ms/step - loss: 0.4393 - angle_out_loss: 0.4875 \n",
    "- throttle_out_loss: 0.0551 - val_loss: 0.8894 - val_angle_out_loss: 0.9876 - val_throttle_out_loss: 0.0586\n",
    "Epoch 00028: early stopping\n",
    "\n",
    "Original architecture with 79k samples and 0.2 and 0.3 dropout at the end\n",
    "498/498 [==============================] - 239s 480ms/step - loss: 0.5324 - angle_out_loss: 0.5910 - \n",
    "throttle_out_loss: 0.0585 - val_loss: 0.9268 - val_angle_out_loss: 1.0292 - val_throttle_out_loss: 0.0530\n",
    "Epoch 00030: early stopping\n",
    "\n",
    "Original architecture with 79k samples and 0.3 and 0.5 dropout at the end\n",
    "\n",
    "\"\"\"\n",
    "\n"
   ]
  },
  {
   "cell_type": "code",
   "execution_count": 175,
   "metadata": {},
   "outputs": [],
   "source": [
    "#check against original\n",
    "def unbin(arr):\n",
    "    index = np.argmax(arr)\n",
    "    return index/14*2-1\n",
    "#     return index"
   ]
  },
  {
   "cell_type": "code",
   "execution_count": 174,
   "metadata": {},
   "outputs": [
    {
     "data": {
      "text/plain": [
       "0.0"
      ]
     },
     "execution_count": 174,
     "metadata": {},
     "output_type": "execute_result"
    }
   ],
   "source": [
    "unbin([0, 0, 0, 0, 0, 0, 0, 1, 0, 0, 0, 0, 0, 0, 0])"
   ]
  },
  {
   "cell_type": "code",
   "execution_count": 176,
   "metadata": {},
   "outputs": [],
   "source": [
    "def run(img_arr):\n",
    "    img_arr = img_arr.reshape((1,) + img_arr.shape)\n",
    "    angle_binned, throttle = model.predict(img_arr)\n",
    "    angle_unbinned = unbin(angle_binned[0])\n",
    "    return angle_unbinned, throttle[0][0]"
   ]
  },
  {
   "cell_type": "code",
   "execution_count": 194,
   "metadata": {},
   "outputs": [
    {
     "data": {
      "image/png": "[encoded data removed]",
      "text/plain": [
       "<PIL.JpegImagePlugin.JpegImageFile image mode=RGB size=160x120 at 0x2119C0EA780>"
      ]
     },
     "execution_count": 194,
     "metadata": {},
     "output_type": "execute_result"
    }
   ],
   "source": [
    "img_name = df['cam/image_array'][150]\n",
    "img = Image.open(f'{PATH}/{img_name}')\n",
    "img"
   ]
  },
  {
   "cell_type": "code",
   "execution_count": 195,
   "metadata": {},
   "outputs": [],
   "source": [
    "val = np.array(img)"
   ]
  },
  {
   "cell_type": "code",
   "execution_count": 196,
   "metadata": {},
   "outputs": [
    {
     "data": {
      "text/plain": [
       "(120, 160, 3)"
      ]
     },
     "execution_count": 196,
     "metadata": {},
     "output_type": "execute_result"
    }
   ],
   "source": [
    "val.shape"
   ]
  },
  {
   "cell_type": "code",
   "execution_count": 198,
   "metadata": {},
   "outputs": [
    {
     "data": {
      "text/plain": [
       "(-0.4285714285714286, 0.31011686)"
      ]
     },
     "execution_count": 198,
     "metadata": {},
     "output_type": "execute_result"
    }
   ],
   "source": [
    "#prediction\n",
    "run(val)"
   ]
  },
  {
   "cell_type": "code",
   "execution_count": 199,
   "metadata": {},
   "outputs": [
    {
     "data": {
      "text/plain": [
       "(-0.42, 0.27)"
      ]
     },
     "execution_count": 199,
     "metadata": {},
     "output_type": "execute_result"
    }
   ],
   "source": [
    "#compare to actual data\n",
    "df['user/angle'][150], df['user/throttle'][150]"
   ]
  },
  {
   "cell_type": "code",
   "execution_count": null,
   "metadata": {},
   "outputs": [],
   "source": [
    "\"\"\"\n",
    "Record\n",
    ">>>>>>>>>>>>>>>>>>>>>>>>>>>>>>>>>>>>>>>>>>>>>>>>>>>>>>>>\n",
    "def default_categorical():\n",
    "    img_in = Input(shape=(120, 160, 3),\n",
    "                   name='img_in')  # First layer, input layer, Shape comes from camera.py resolution, RGB\n",
    "    x = img_in\n",
    "    x = Convolution2D(24, (5, 5), strides=(2, 2), activation='relu')(x)\n",
    "    x = MaxPooling2D(pool_size=(2, 2))(x)\n",
    "    x = Convolution2D(32, (4, 4), strides=(2, 2), activation='relu')(x)\n",
    "    x = MaxPooling2D(pool_size=(2, 2))(x)\n",
    "    x = Dropout(0.3)(x)\n",
    "    x = Convolution2D(64, (3, 3), strides=(1, 1), activation='relu')(x)\n",
    "    x = MaxPooling2D(pool_size=(2, 2))(x)\n",
    "    x = Dropout(0.5)(x)\n",
    "\n",
    "    x = Flatten(name='flattened')(x)\n",
    "    x = Dense(30, activation='relu')(x)\n",
    "    x = Dropout(0.5)(x)\n",
    "    \n",
    "    angle_out = Dense(15, activation='softmax', name='angle_out')(x)\n",
    "    throttle_out = Dense(1, activation='relu', name='throttle_out')(x)\n",
    "\n",
    "    model = Model(inputs=[img_in], outputs=[angle_out, throttle_out])\n",
    "    model.compile(optimizer='adam',\n",
    "                  loss={'angle_out': 'categorical_crossentropy',\n",
    "                        'throttle_out': 'mean_absolute_error'},\n",
    "                  loss_weights={'angle_out': 0.9, 'throttle_out': .01})\n",
    "\n",
    "    return model\n",
    "\"\"\"\n"
   ]
  }
 ],
 "metadata": {
  "kernelspec": {
   "display_name": "Tensorflow-GPU",
   "language": "python",
   "name": "tf-gpu"
  },
  "language_info": {
   "codemirror_mode": {
    "name": "ipython",
    "version": 3
   },
   "file_extension": ".py",
   "mimetype": "text/x-python",
   "name": "python",
   "nbconvert_exporter": "python",
   "pygments_lexer": "ipython3",
   "version": "3.6.6"
  }
 },
 "nbformat": 4,
 "nbformat_minor": 2
}
