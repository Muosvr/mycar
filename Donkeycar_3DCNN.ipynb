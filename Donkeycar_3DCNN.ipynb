{
 "cells": [
  {
   "cell_type": "code",
   "execution_count": 180,
   "metadata": {},
   "outputs": [],
   "source": [
    "import os\n",
    "import sys\n",
    "import time\n",
    "import json\n",
    "import datetime\n",
    "import random\n",
    "import tarfile\n",
    "\n",
    "import numpy as np\n",
    "import pandas as pd\n",
    "from PIL import Image\n",
    "\n",
    "PATH = \"../tubs/tub5\""
   ]
  },
  {
   "cell_type": "code",
   "execution_count": 181,
   "metadata": {},
   "outputs": [
    {
     "name": "stdout",
     "output_type": "stream",
     "text": [
      "1.8.0\n"
     ]
    }
   ],
   "source": [
    "#make sure tensorflow version is the same as one installed on donkeycar (1.8.0)\n",
    "import tensorflow as tf\n",
    "print(tf.__version__)"
   ]
  },
  {
   "cell_type": "code",
   "execution_count": 182,
   "metadata": {},
   "outputs": [
    {
     "data": {
      "text/plain": [
       "['/device:GPU:0']"
      ]
     },
     "execution_count": 182,
     "metadata": {},
     "output_type": "execute_result"
    }
   ],
   "source": [
    "#check if GPU is present (/device:GPU:0)\n",
    "from tensorflow.python.client import device_lib\n",
    "\n",
    "def get_available_gpus():\n",
    "    local_device_protos = device_lib.list_local_devices()\n",
    "    return [x.name for x in local_device_protos if x.device_type == 'GPU']\n",
    "get_available_gpus()"
   ]
  },
  {
   "cell_type": "code",
   "execution_count": 183,
   "metadata": {},
   "outputs": [],
   "source": [
    "def json_to_df(PATH, json_files, max_items=None):\n",
    "    df = pd.DataFrame()\n",
    "    for i, j in enumerate(json_files[1:max_items]):\n",
    "        with open(f'{PATH}/{j}') as f:\n",
    "            data = json.load(f)\n",
    "\n",
    "            userThrottle = data[\"user/throttle\"]\n",
    "            userAngle = data[\"user/angle\"]\n",
    "            camImage_array = data[\"cam/image_array\"]\n",
    "            index = int(camImage_array[:-21])\n",
    "            df_row = pd.DataFrame([[userThrottle, userAngle, camImage_array]], index = [index], columns = [\"user/throttle\", \"user/angle\", \"cam/image_array\"])\n",
    "\n",
    "            df = df.append(df_row)\n",
    "    df = df.sort_index()\n",
    "    return df"
   ]
  },
  {
   "cell_type": "code",
   "execution_count": 184,
   "metadata": {},
   "outputs": [],
   "source": [
    "#df = json_to_df(PATH, json_files, max_items=None)"
   ]
  },
  {
   "cell_type": "code",
   "execution_count": 185,
   "metadata": {},
   "outputs": [],
   "source": [
    "#df.to_feather('tmp/df')"
   ]
  },
  {
   "cell_type": "code",
   "execution_count": 186,
   "metadata": {},
   "outputs": [
    {
     "name": "stderr",
     "output_type": "stream",
     "text": [
      "C:\\Users\\Jason\\Anaconda3\\envs\\tf-gpu\\lib\\site-packages\\pandas\\io\\feather_format.py:112: FutureWarning: `nthreads` argument is deprecated, pass `use_threads` instead\n",
      "  return feather.read_dataframe(path, nthreads=nthreads)\n"
     ]
    }
   ],
   "source": [
    "df = pd.read_feather('tmp/df_wPATH')"
   ]
  },
  {
   "cell_type": "code",
   "execution_count": 187,
   "metadata": {},
   "outputs": [
    {
     "data": {
      "text/plain": [
       "(38574, 3)"
      ]
     },
     "execution_count": 187,
     "metadata": {},
     "output_type": "execute_result"
    }
   ],
   "source": [
    "df.shape"
   ]
  },
  {
   "cell_type": "code",
   "execution_count": 188,
   "metadata": {},
   "outputs": [
    {
     "data": {
      "text/html": [
       "<div>\n",
       "<style scoped>\n",
       "    .dataframe tbody tr th:only-of-type {\n",
       "        vertical-align: middle;\n",
       "    }\n",
       "\n",
       "    .dataframe tbody tr th {\n",
       "        vertical-align: top;\n",
       "    }\n",
       "\n",
       "    .dataframe thead th {\n",
       "        text-align: right;\n",
       "    }\n",
       "</style>\n",
       "<table border=\"1\" class=\"dataframe\">\n",
       "  <thead>\n",
       "    <tr style=\"text-align: right;\">\n",
       "      <th></th>\n",
       "      <th>user/throttle</th>\n",
       "      <th>user/angle</th>\n",
       "      <th>cam/image_array</th>\n",
       "    </tr>\n",
       "  </thead>\n",
       "  <tbody>\n",
       "    <tr>\n",
       "      <th>0</th>\n",
       "      <td>0.08</td>\n",
       "      <td>0.01</td>\n",
       "      <td>../tubs/tub5/0_cam-image_array_.jpg</td>\n",
       "    </tr>\n",
       "    <tr>\n",
       "      <th>1</th>\n",
       "      <td>0.12</td>\n",
       "      <td>-0.03</td>\n",
       "      <td>../tubs/tub5/1_cam-image_array_.jpg</td>\n",
       "    </tr>\n",
       "    <tr>\n",
       "      <th>2</th>\n",
       "      <td>0.12</td>\n",
       "      <td>-0.03</td>\n",
       "      <td>../tubs/tub5/2_cam-image_array_.jpg</td>\n",
       "    </tr>\n",
       "    <tr>\n",
       "      <th>3</th>\n",
       "      <td>0.14</td>\n",
       "      <td>-0.06</td>\n",
       "      <td>../tubs/tub5/3_cam-image_array_.jpg</td>\n",
       "    </tr>\n",
       "    <tr>\n",
       "      <th>4</th>\n",
       "      <td>0.14</td>\n",
       "      <td>-0.06</td>\n",
       "      <td>../tubs/tub5/4_cam-image_array_.jpg</td>\n",
       "    </tr>\n",
       "  </tbody>\n",
       "</table>\n",
       "</div>"
      ],
      "text/plain": [
       "   user/throttle  user/angle                      cam/image_array\n",
       "0           0.08        0.01  ../tubs/tub5/0_cam-image_array_.jpg\n",
       "1           0.12       -0.03  ../tubs/tub5/1_cam-image_array_.jpg\n",
       "2           0.12       -0.03  ../tubs/tub5/2_cam-image_array_.jpg\n",
       "3           0.14       -0.06  ../tubs/tub5/3_cam-image_array_.jpg\n",
       "4           0.14       -0.06  ../tubs/tub5/4_cam-image_array_.jpg"
      ]
     },
     "execution_count": 188,
     "metadata": {},
     "output_type": "execute_result"
    }
   ],
   "source": [
    "df.head()"
   ]
  },
  {
   "cell_type": "code",
   "execution_count": 189,
   "metadata": {},
   "outputs": [],
   "source": [
    "bs = 128 # or 128/3\n",
    "train_frac = 0.8\n",
    "X_keys = ['cam/image_array']\n",
    "y_keys = ['user/angle', 'user/throttle']"
   ]
  },
  {
   "cell_type": "code",
   "execution_count": 190,
   "metadata": {},
   "outputs": [],
   "source": [
    "def get_prev_img_names(img_name, quantity, skipFrame = 5):\n",
    "    img_names = []\n",
    "    last_name = img_name\n",
    "    for i in range(0, quantity):\n",
    "        path = img_name.split(\"/\")\n",
    "        index = int(path[-1][:-21])-skipFrame*i\n",
    "        if index < 0:\n",
    "            name = last_name\n",
    "        else:\n",
    "            path[-1] = str(index) + \"_cam-image_array_.jpg\"\n",
    "            name = \"/\".join(path)\n",
    "        \n",
    "        img_names.append(name)\n",
    "        last_name = name\n",
    "    img_names.reverse()\n",
    "    return img_names"
   ]
  },
  {
   "cell_type": "code",
   "execution_count": 191,
   "metadata": {},
   "outputs": [],
   "source": [
    "images = get_prev_img_names(\"../tubs/tub5/543_cam-image_array_.jpg\", 3)"
   ]
  },
  {
   "cell_type": "code",
   "execution_count": 192,
   "metadata": {},
   "outputs": [
    {
     "data": {
      "text/plain": [
       "['../tubs/tub5/533_cam-image_array_.jpg',\n",
       " '../tubs/tub5/538_cam-image_array_.jpg',\n",
       " '../tubs/tub5/543_cam-image_array_.jpg']"
      ]
     },
     "execution_count": 192,
     "metadata": {},
     "output_type": "execute_result"
    }
   ],
   "source": [
    "images"
   ]
  },
  {
   "cell_type": "code",
   "execution_count": 193,
   "metadata": {},
   "outputs": [
    {
     "data": {
      "image/png": "[encoded data removed]",
      "text/plain": [
       "<PIL.JpegImagePlugin.JpegImageFile image mode=RGB size=160x120 at 0x2A2FD587F98>"
      ]
     },
     "execution_count": 193,
     "metadata": {},
     "output_type": "execute_result"
    }
   ],
   "source": [
    "Image.open(images[0])"
   ]
  },
  {
   "cell_type": "code",
   "execution_count": 194,
   "metadata": {},
   "outputs": [
    {
     "data": {
      "image/png": "[encoded data removed]",
      "text/plain": [
       "<PIL.JpegImagePlugin.JpegImageFile image mode=RGB size=160x120 at 0x2A2FD587D30>"
      ]
     },
     "execution_count": 194,
     "metadata": {},
     "output_type": "execute_result"
    }
   ],
   "source": [
    "Image.open(images[1])"
   ]
  },
  {
   "cell_type": "code",
   "execution_count": 195,
   "metadata": {},
   "outputs": [
    {
     "data": {
      "image/png": "[encoded data removed]",
      "text/plain": [
       "<PIL.JpegImagePlugin.JpegImageFile image mode=RGB size=160x120 at 0x2A2FD587748>"
      ]
     },
     "execution_count": 195,
     "metadata": {},
     "output_type": "execute_result"
    }
   ],
   "source": [
    "Image.open(images[2])"
   ]
  },
  {
   "cell_type": "code",
   "execution_count": null,
   "metadata": {},
   "outputs": [],
   "source": [
    "def get_prev_angles(df, index, quantity):\n",
    "    angles = []\n",
    "    for i in range(quantity):\n",
    "        angles.append(df['user/angle'][index-i])\n",
    "    angles.reverse()\n",
    "    return np.array(angles)"
   ]
  },
  {
   "cell_type": "code",
   "execution_count": 196,
   "metadata": {},
   "outputs": [],
   "source": [
    "def to_bin(a):\n",
    "    arr = np.zeros(15)\n",
    "    a = a + 1\n",
    "    b = round(a/(2/14))\n",
    "    arr[int(b)] = 1\n",
    "    return arr"
   ]
  },
  {
   "cell_type": "code",
   "execution_count": 197,
   "metadata": {},
   "outputs": [],
   "source": [
    "def read_record(record_dict, path = PATH):\n",
    "    data = {}\n",
    "    for key, val in record_dict.items():\n",
    "        if key == 'cam/image_array':\n",
    "            images = get_prev_img_names(val, 3)\n",
    "            data[key] = []\n",
    "            for i, name in enumerate(images):\n",
    "                img = Image.open(name)\n",
    "                data[key].append(np.array(img))\n",
    "            data[key] = np.array(data[key])\n",
    "        else:\n",
    "            data[key] = val\n",
    "        \n",
    "        \n",
    "    return data"
   ]
  },
  {
   "cell_type": "code",
   "execution_count": 198,
   "metadata": {},
   "outputs": [],
   "source": [
    "test = df.sample(n=1).to_dict(orient='record')[0]\n",
    "record = read_record(test)\n",
    "img_arrays = record['cam/image_array']"
   ]
  },
  {
   "cell_type": "code",
   "execution_count": 199,
   "metadata": {},
   "outputs": [
    {
     "data": {
      "text/plain": [
       "(3, 120, 160, 3)"
      ]
     },
     "execution_count": 199,
     "metadata": {},
     "output_type": "execute_result"
    }
   ],
   "source": [
    "img_arrays.shape"
   ]
  },
  {
   "cell_type": "code",
   "execution_count": 200,
   "metadata": {},
   "outputs": [
    {
     "data": {
      "image/png": "[encoded data removed]",
      "text/plain": [
       "<PIL.Image.Image image mode=RGB size=160x120 at 0x2A2FD5876A0>"
      ]
     },
     "execution_count": 200,
     "metadata": {},
     "output_type": "execute_result"
    }
   ],
   "source": [
    "Image.fromarray(img_arrays[0])"
   ]
  },
  {
   "cell_type": "code",
   "execution_count": 201,
   "metadata": {},
   "outputs": [],
   "source": [
    "def get_record_gen(record_transform=None, shuffle=True, df=None):\n",
    "    while True:\n",
    "        for _ in df.iterrows():\n",
    "            if shuffle:\n",
    "                record_dict = df.sample(n=1).to_dict(orient='record')[0]\n",
    "            \n",
    "            record_dict = read_record(record_dict)\n",
    "            \n",
    "            if record_transform:\n",
    "                record_dict = record_transform(record_dict)\n",
    "            \n",
    "            yield record_dict"
   ]
  },
  {
   "cell_type": "code",
   "execution_count": 202,
   "metadata": {},
   "outputs": [],
   "source": [
    "def get_batch_gen(keys=None, batch_size=128, record_transform=None, shuffle=True, df=None):\n",
    "    \n",
    "    record_gen = get_record_gen(record_transform=record_transform, shuffle=shuffle, df=df)\n",
    "    \n",
    "    while True:\n",
    "        record_list = [next(record_gen) for _ in range(batch_size)]\n",
    "        \n",
    "        batch_arrays = {}\n",
    "        for i, k in enumerate(keys):\n",
    "            arr = np.array([r[k] for r in record_list])\n",
    "            batch_arrays[k] = arr\n",
    "        yield batch_arrays"
   ]
  },
  {
   "cell_type": "code",
   "execution_count": 203,
   "metadata": {},
   "outputs": [],
   "source": [
    "def get_train_gen(X_keys, Y_keys, batch_size=128, record_transform=None, df=None): #\n",
    "    batch_gen = get_batch_gen(X_keys + Y_keys, batch_size=batch_size,\n",
    "                                  record_transform=record_transform, df=df)\n",
    "    while True:\n",
    "        batch = next(batch_gen)\n",
    "        X = [batch[k] for k in X_keys]\n",
    "        Y = [batch[k] for k in Y_keys] \n",
    "        yield X, Y"
   ]
  },
  {
   "cell_type": "code",
   "execution_count": 204,
   "metadata": {},
   "outputs": [],
   "source": [
    "def get_train_val_gen(df, X_keys, Y_keys, batch_size = 128, train_frac=0.8, #\n",
    "                      train_record_transform=None, val_record_transform=None): #\n",
    "    train_df = df.sample(frac=train_frac, random_state=200) #\n",
    "    val_df = df.drop(train_df.index) #\n",
    "    \n",
    "    train_gen = get_train_gen(X_keys=X_keys, Y_keys=Y_keys, batch_size=batch_size,\n",
    "                             record_transform=train_record_transform, df=train_df)\n",
    "    val_gen = get_train_gen(X_keys=X_keys, Y_keys=Y_keys, batch_size=batch_size,\n",
    "                           record_transform=val_record_transform, df=val_df)\n",
    "    return train_gen, val_gen\n",
    "    "
   ]
  },
  {
   "cell_type": "code",
   "execution_count": 205,
   "metadata": {},
   "outputs": [],
   "source": [
    "def record_transform(record):\n",
    "    record['user/angle'] = to_bin(record['user/angle'])\n",
    "    return record"
   ]
  },
  {
   "cell_type": "code",
   "execution_count": 206,
   "metadata": {},
   "outputs": [],
   "source": [
    "train_gen, val_gen = get_train_val_gen(df, X_keys, y_keys,\n",
    "                                               train_record_transform=record_transform, #\n",
    "                                               val_record_transform=record_transform, #\n",
    "                                               batch_size=bs, #\n",
    "                                               train_frac=train_frac) #"
   ]
  },
  {
   "cell_type": "code",
   "execution_count": 207,
   "metadata": {},
   "outputs": [],
   "source": [
    "#test = next(train_gen)"
   ]
  },
  {
   "cell_type": "code",
   "execution_count": 208,
   "metadata": {},
   "outputs": [],
   "source": [
    "#test[0][0].shape"
   ]
  },
  {
   "cell_type": "code",
   "execution_count": 218,
   "metadata": {},
   "outputs": [],
   "source": [
    "from tensorflow.python.keras.layers import Input\n",
    "from tensorflow.python.keras.models import Model, load_model, Sequential\n",
    "from tensorflow.python.keras.layers import MaxPooling3D, BatchNormalization, Convolution3D, Cropping3D \n",
    "from tensorflow.python.keras.layers import Dropout, Flatten, Dense, Cropping2D, Lambda\n",
    "from tensorflow.python.keras.callbacks import ModelCheckpoint, EarlyStopping"
   ]
  },
  {
   "cell_type": "code",
   "execution_count": 219,
   "metadata": {},
   "outputs": [
    {
     "data": {
      "text/plain": [
       "\"\\n#4 Kernels base reference architecture\\nnew_model_path = 'models/pilot_3Dspeedup'\\n\\nimg_in3D = Input(shape=(3, 120, 160, 3), name='img_in')\\nx = img_in3D\\nx = Cropping3D(cropping = ((0, 0),(60, 0),(0, 0)))(x)\\n\\nx = Convolution3D(4, (3, 5, 5), strides=(1, 4, 4), activation='relu')(x)\\nx = MaxPooling3D(pool_size=(1, 2, 2))(x)\\nx = BatchNormalization()(x)\\nx = Dropout(0.1)(x)\\n\\nx = Flatten(name='flattened')(x)\\nx = Dense(50, activation='relu')(x)\\nx = Dropout(0.2)(x)\\n\\nangle_out = Dense(15, activation='softmax', name='angle_out')(x)\\nthrottle_out = Dense(1, activation='relu', name='throttle_out')(x)\\n\\n\\nmodel = Model(inputs=[img_in3D], outputs=[angle_out, throttle_out])\\nmodel.compile(optimizer='adam', \\n              loss={'angle_out': 'categorical_crossentropy',\\n                   'throttle_out': 'mean_absolute_error'},\\n              loss_weights={'angle_out': 0.9, 'throttle_out': 0.01})\\n\""
      ]
     },
     "execution_count": 219,
     "metadata": {},
     "output_type": "execute_result"
    }
   ],
   "source": [
    "\"\"\"\n",
    "#4 Kernels base reference architecture\n",
    "new_model_path = 'models/pilot_3Dspeedup'\n",
    "\n",
    "img_in3D = Input(shape=(3, 120, 160, 3), name='img_in')\n",
    "x = img_in3D\n",
    "x = Cropping3D(cropping = ((0, 0),(60, 0),(0, 0)))(x)\n",
    "\n",
    "x = Convolution3D(4, (3, 5, 5), strides=(1, 4, 4), activation='relu')(x)\n",
    "x = MaxPooling3D(pool_size=(1, 2, 2))(x)\n",
    "x = BatchNormalization()(x)\n",
    "x = Dropout(0.1)(x)\n",
    "\n",
    "x = Flatten(name='flattened')(x)\n",
    "x = Dense(50, activation='relu')(x)\n",
    "x = Dropout(0.2)(x)\n",
    "\n",
    "angle_out = Dense(15, activation='softmax', name='angle_out')(x)\n",
    "throttle_out = Dense(1, activation='relu', name='throttle_out')(x)\n",
    "\n",
    "\n",
    "model = Model(inputs=[img_in3D], outputs=[angle_out, throttle_out])\n",
    "model.compile(optimizer='adam', \n",
    "              loss={'angle_out': 'categorical_crossentropy',\n",
    "                   'throttle_out': 'mean_absolute_error'},\n",
    "              loss_weights={'angle_out': 0.9, 'throttle_out': 0.01})\n",
    "\"\"\""
   ]
  },
  {
   "cell_type": "code",
   "execution_count": 220,
   "metadata": {},
   "outputs": [],
   "source": [
    "new_model_path = 'models/pilot_3Dspeedup_skipFramex5_8Kernels_f355_s122'\n",
    "\n",
    "img_in3D = Input(shape=(3, 120, 160, 3), name='img_in')\n",
    "x = img_in3D\n",
    "x = Cropping3D(cropping = ((0, 0),(60, 0),(0, 0)))(x)\n",
    "#Try applying batchnorm here\n",
    "\n",
    "x = Convolution3D(8, (3, 3, 3), strides=(1, 2, 2), activation='relu')(x)\n",
    "x = MaxPooling3D(pool_size=(1, 2, 2))(x)\n",
    "x = BatchNormalization()(x)\n",
    "x = Dropout(0.1)(x)\n",
    "\n",
    "x = Flatten(name='flattened')(x)\n",
    "x = Dense(50, activation='relu')(x)\n",
    "x = Dropout(0.2)(x)\n",
    "\n",
    "angle_out = Dense(15, activation='softmax', name='angle_out')(x)\n",
    "throttle_out = Dense(1, activation='relu', name='throttle_out')(x)\n",
    "\n",
    "\n",
    "model = Model(inputs=[img_in3D], outputs=[angle_out, throttle_out])\n",
    "model.compile(optimizer='adam', \n",
    "              loss={'angle_out': 'categorical_crossentropy',\n",
    "                   'throttle_out': 'mean_absolute_error'},\n",
    "              loss_weights={'angle_out': 0.9, 'throttle_out': 0.01})"
   ]
  },
  {
   "cell_type": "code",
   "execution_count": 221,
   "metadata": {},
   "outputs": [
    {
     "name": "stdout",
     "output_type": "stream",
     "text": [
      "__________________________________________________________________________________________________\n",
      "Layer (type)                    Output Shape         Param #     Connected to                     \n",
      "==================================================================================================\n",
      "img_in (InputLayer)             (None, 3, 120, 160,  0                                            \n",
      "__________________________________________________________________________________________________\n",
      "cropping3d_9 (Cropping3D)       (None, 3, 60, 160, 3 0           img_in[0][0]                     \n",
      "__________________________________________________________________________________________________\n",
      "conv3d_9 (Conv3D)               (None, 1, 29, 79, 8) 656         cropping3d_9[0][0]               \n",
      "__________________________________________________________________________________________________\n",
      "max_pooling3d_9 (MaxPooling3D)  (None, 1, 14, 39, 8) 0           conv3d_9[0][0]                   \n",
      "__________________________________________________________________________________________________\n",
      "batch_normalization_9 (BatchNor (None, 1, 14, 39, 8) 32          max_pooling3d_9[0][0]            \n",
      "__________________________________________________________________________________________________\n",
      "dropout_17 (Dropout)            (None, 1, 14, 39, 8) 0           batch_normalization_9[0][0]      \n",
      "__________________________________________________________________________________________________\n",
      "flattened (Flatten)             (None, 4368)         0           dropout_17[0][0]                 \n",
      "__________________________________________________________________________________________________\n",
      "dense_9 (Dense)                 (None, 50)           218450      flattened[0][0]                  \n",
      "__________________________________________________________________________________________________\n",
      "dropout_18 (Dropout)            (None, 50)           0           dense_9[0][0]                    \n",
      "__________________________________________________________________________________________________\n",
      "angle_out (Dense)               (None, 15)           765         dropout_18[0][0]                 \n",
      "__________________________________________________________________________________________________\n",
      "throttle_out (Dense)            (None, 1)            51          dropout_18[0][0]                 \n",
      "==================================================================================================\n",
      "Total params: 219,954\n",
      "Trainable params: 219,938\n",
      "Non-trainable params: 16\n",
      "__________________________________________________________________________________________________\n"
     ]
    }
   ],
   "source": [
    "model.summary()"
   ]
  },
  {
   "cell_type": "code",
   "execution_count": 222,
   "metadata": {},
   "outputs": [],
   "source": [
    "def train(train_gen, val_gen, saved_model_path, epochs=100, steps=100, train_split=0.8,\n",
    "         verbose=1, min_delta=0.0005, patience=5, use_early_stop=True):\n",
    "    \n",
    "#     checkpoint to save model\n",
    "    save_best = ModelCheckpoint(saved_model_path, monitor='val_loss', verbose=verbose, save_best_only=True, mode='min')\n",
    "    \n",
    "    #stop training if stop improving\n",
    "    early_stop = EarlyStopping(monitor='val_loss', min_delta=min_delta, patience=patience, verbose=verbose, mode='auto')\n",
    "    \n",
    "    callbacks_list = [save_best]\n",
    "    \n",
    "    if use_early_stop:\n",
    "        callbacks_list.append(early_stop)\n",
    "        \n",
    "    hist = model.fit_generator(train_gen, steps_per_epoch=steps, epochs=epochs, verbose=1, validation_data=val_gen,\n",
    "                                callbacks=callbacks_list, validation_steps=steps * (1.0 - train_frac)//train_frac)\n",
    "    return hist"
   ]
  },
  {
   "cell_type": "code",
   "execution_count": 223,
   "metadata": {},
   "outputs": [
    {
     "data": {
      "text/plain": [
       "241"
      ]
     },
     "execution_count": 223,
     "metadata": {},
     "output_type": "execute_result"
    }
   ],
   "source": [
    "total_records = len(df)\n",
    "total_train = int(total_records * train_frac)\n",
    "total_val = total_records - total_train\n",
    "steps_per_epoch = total_train // bs\n",
    "steps_per_epoch"
   ]
  },
  {
   "cell_type": "code",
   "execution_count": 224,
   "metadata": {
    "scrolled": false
   },
   "outputs": [
    {
     "name": "stdout",
     "output_type": "stream",
     "text": [
      "Epoch 1/100\n",
      "240/241 [============================>.] - ETA: 0s - loss: 1.4949 - angle_out_loss: 1.6571 - throttle_out_loss: 0.3507\n",
      "Epoch 00001: val_loss improved from inf to 1.21178, saving model to models/pilot_3Dspeedup_skipFramex5_8Kernels_f355_s122\n",
      "241/241 [==============================] - 142s 588ms/step - loss: 1.4938 - angle_out_loss: 1.6559 - throttle_out_loss: 0.3506 - val_loss: 1.2118 - val_angle_out_loss: 1.3429 - val_throttle_out_loss: 0.3165\n",
      "Epoch 2/100\n",
      "240/241 [============================>.] - ETA: 0s - loss: 1.1243 - angle_out_loss: 1.2457 - throttle_out_loss: 0.3216\n",
      "Epoch 00002: val_loss improved from 1.21178 to 1.08940, saving model to models/pilot_3Dspeedup_skipFramex5_8Kernels_f355_s122\n",
      "241/241 [==============================] - 135s 558ms/step - loss: 1.1238 - angle_out_loss: 1.2451 - throttle_out_loss: 0.3216 - val_loss: 1.0894 - val_angle_out_loss: 1.2069 - val_throttle_out_loss: 0.3181\n",
      "Epoch 3/100\n",
      "240/241 [============================>.] - ETA: 0s - loss: 0.9659 - angle_out_loss: 1.0697 - throttle_out_loss: 0.3206\n",
      "Epoch 00003: val_loss improved from 1.08940 to 0.99121, saving model to models/pilot_3Dspeedup_skipFramex5_8Kernels_f355_s122\n",
      "241/241 [==============================] - 135s 559ms/step - loss: 0.9660 - angle_out_loss: 1.0698 - throttle_out_loss: 0.3206 - val_loss: 0.9912 - val_angle_out_loss: 1.0978 - val_throttle_out_loss: 0.3186\n",
      "Epoch 4/100\n",
      "240/241 [============================>.] - ETA: 0s - loss: 0.8481 - angle_out_loss: 0.9387 - throttle_out_loss: 0.3211\n",
      "Epoch 00004: val_loss improved from 0.99121 to 0.89695, saving model to models/pilot_3Dspeedup_skipFramex5_8Kernels_f355_s122\n",
      "241/241 [==============================] - 137s 569ms/step - loss: 0.8474 - angle_out_loss: 0.9380 - throttle_out_loss: 0.3211 - val_loss: 0.8970 - val_angle_out_loss: 0.9931 - val_throttle_out_loss: 0.3196\n",
      "Epoch 5/100\n",
      "240/241 [============================>.] - ETA: 0s - loss: 0.7792 - angle_out_loss: 0.8623 - throttle_out_loss: 0.3203\n",
      "Epoch 00005: val_loss improved from 0.89695 to 0.87356, saving model to models/pilot_3Dspeedup_skipFramex5_8Kernels_f355_s122\n",
      "241/241 [==============================] - 135s 560ms/step - loss: 0.7789 - angle_out_loss: 0.8619 - throttle_out_loss: 0.3203 - val_loss: 0.8736 - val_angle_out_loss: 0.9671 - val_throttle_out_loss: 0.3187\n",
      "Epoch 6/100\n",
      "240/241 [============================>.] - ETA: 0s - loss: 0.7213 - angle_out_loss: 0.7979 - throttle_out_loss: 0.3198\n",
      "Epoch 00006: val_loss improved from 0.87356 to 0.79949, saving model to models/pilot_3Dspeedup_skipFramex5_8Kernels_f355_s122\n",
      "241/241 [==============================] - 134s 557ms/step - loss: 0.7210 - angle_out_loss: 0.7976 - throttle_out_loss: 0.3199 - val_loss: 0.7995 - val_angle_out_loss: 0.8848 - val_throttle_out_loss: 0.3190\n",
      "Epoch 7/100\n",
      "240/241 [============================>.] - ETA: 0s - loss: 0.6788 - angle_out_loss: 0.7507 - throttle_out_loss: 0.3200\n",
      "Epoch 00007: val_loss did not improve\n",
      "241/241 [==============================] - 134s 558ms/step - loss: 0.6793 - angle_out_loss: 0.7513 - throttle_out_loss: 0.3200 - val_loss: 0.8799 - val_angle_out_loss: 0.9741 - val_throttle_out_loss: 0.3201\n",
      "Epoch 8/100\n",
      "240/241 [============================>.] - ETA: 0s - loss: 0.6337 - angle_out_loss: 0.7005 - throttle_out_loss: 0.3193\n",
      "Epoch 00008: val_loss improved from 0.79949 to 0.73507, saving model to models/pilot_3Dspeedup_skipFramex5_8Kernels_f355_s122\n",
      "241/241 [==============================] - 134s 556ms/step - loss: 0.6335 - angle_out_loss: 0.7003 - throttle_out_loss: 0.3194 - val_loss: 0.7351 - val_angle_out_loss: 0.8132 - val_throttle_out_loss: 0.3190\n",
      "Epoch 9/100\n",
      "240/241 [============================>.] - ETA: 0s - loss: 0.5958 - angle_out_loss: 0.6584 - throttle_out_loss: 0.3196\n",
      "Epoch 00009: val_loss did not improve\n",
      "241/241 [==============================] - 134s 556ms/step - loss: 0.5958 - angle_out_loss: 0.6585 - throttle_out_loss: 0.3196 - val_loss: 0.7502 - val_angle_out_loss: 0.8301 - val_throttle_out_loss: 0.3182\n",
      "Epoch 10/100\n",
      "240/241 [============================>.] - ETA: 0s - loss: 0.5765 - angle_out_loss: 0.6370 - throttle_out_loss: 0.3199\n",
      "Epoch 00010: val_loss did not improve\n",
      "241/241 [==============================] - 133s 553ms/step - loss: 0.5761 - angle_out_loss: 0.6365 - throttle_out_loss: 0.3199 - val_loss: 0.7457 - val_angle_out_loss: 0.8250 - val_throttle_out_loss: 0.3190\n",
      "Epoch 11/100\n",
      "240/241 [============================>.] - ETA: 0s - loss: 0.5483 - angle_out_loss: 0.6057 - throttle_out_loss: 0.3201\n",
      "Epoch 00011: val_loss improved from 0.73507 to 0.71884, saving model to models/pilot_3Dspeedup_skipFramex5_8Kernels_f355_s122\n",
      "241/241 [==============================] - 131s 544ms/step - loss: 0.5480 - angle_out_loss: 0.6054 - throttle_out_loss: 0.3201 - val_loss: 0.7188 - val_angle_out_loss: 0.7952 - val_throttle_out_loss: 0.3192\n",
      "Epoch 12/100\n",
      "240/241 [============================>.] - ETA: 0s - loss: 0.5366 - angle_out_loss: 0.5927 - throttle_out_loss: 0.3188\n",
      "Epoch 00012: val_loss improved from 0.71884 to 0.69686, saving model to models/pilot_3Dspeedup_skipFramex5_8Kernels_f355_s122\n",
      "241/241 [==============================] - 133s 552ms/step - loss: 0.5368 - angle_out_loss: 0.5929 - throttle_out_loss: 0.3188 - val_loss: 0.6969 - val_angle_out_loss: 0.7707 - val_throttle_out_loss: 0.3188\n",
      "Epoch 13/100\n",
      "240/241 [============================>.] - ETA: 0s - loss: 0.5110 - angle_out_loss: 0.5643 - throttle_out_loss: 0.3162\n",
      "Epoch 00013: val_loss improved from 0.69686 to 0.69267, saving model to models/pilot_3Dspeedup_skipFramex5_8Kernels_f355_s122\n",
      "241/241 [==============================] - 132s 549ms/step - loss: 0.5111 - angle_out_loss: 0.5644 - throttle_out_loss: 0.3161 - val_loss: 0.6927 - val_angle_out_loss: 0.7663 - val_throttle_out_loss: 0.3010\n",
      "Epoch 14/100\n",
      "240/241 [============================>.] - ETA: 0s - loss: 0.5031 - angle_out_loss: 0.5570 - throttle_out_loss: 0.1795\n",
      "Epoch 00014: val_loss did not improve\n",
      "241/241 [==============================] - 132s 550ms/step - loss: 0.5030 - angle_out_loss: 0.5569 - throttle_out_loss: 0.1790 - val_loss: 0.7210 - val_angle_out_loss: 0.8004 - val_throttle_out_loss: 0.0701\n",
      "Epoch 15/100\n",
      "240/241 [============================>.] - ETA: 0s - loss: 0.4733 - angle_out_loss: 0.5254 - throttle_out_loss: 0.0442\n",
      "Epoch 00015: val_loss improved from 0.69267 to 0.67316, saving model to models/pilot_3Dspeedup_skipFramex5_8Kernels_f355_s122\n",
      "241/241 [==============================] - 132s 547ms/step - loss: 0.4733 - angle_out_loss: 0.5254 - throttle_out_loss: 0.0442 - val_loss: 0.6732 - val_angle_out_loss: 0.7475 - val_throttle_out_loss: 0.0384\n",
      "Epoch 16/100\n",
      "240/241 [============================>.] - ETA: 0s - loss: 0.4742 - angle_out_loss: 0.5265 - throttle_out_loss: 0.0388\n",
      "Epoch 00016: val_loss did not improve\n",
      "241/241 [==============================] - 132s 547ms/step - loss: 0.4745 - angle_out_loss: 0.5268 - throttle_out_loss: 0.0388 - val_loss: 0.6961 - val_angle_out_loss: 0.7730 - val_throttle_out_loss: 0.0380\n",
      "Epoch 17/100\n",
      "240/241 [============================>.] - ETA: 0s - loss: 0.4624 - angle_out_loss: 0.5134 - throttle_out_loss: 0.0387\n",
      "Epoch 00017: val_loss did not improve\n",
      "241/241 [==============================] - 137s 567ms/step - loss: 0.4621 - angle_out_loss: 0.5130 - throttle_out_loss: 0.0387 - val_loss: 0.6791 - val_angle_out_loss: 0.7541 - val_throttle_out_loss: 0.0407\n",
      "Epoch 18/100\n",
      "240/241 [============================>.] - ETA: 0s - loss: 0.4418 - angle_out_loss: 0.4904 - throttle_out_loss: 0.0388\n",
      "Epoch 00018: val_loss did not improve\n",
      "241/241 [==============================] - 133s 551ms/step - loss: 0.4422 - angle_out_loss: 0.4908 - throttle_out_loss: 0.0388 - val_loss: 0.6777 - val_angle_out_loss: 0.7525 - val_throttle_out_loss: 0.0397\n",
      "Epoch 19/100\n",
      "240/241 [============================>.] - ETA: 0s - loss: 0.4414 - angle_out_loss: 0.4900 - throttle_out_loss: 0.0381\n",
      "Epoch 00019: val_loss did not improve\n",
      "241/241 [==============================] - 132s 549ms/step - loss: 0.4419 - angle_out_loss: 0.4906 - throttle_out_loss: 0.0381 - val_loss: 0.7309 - val_angle_out_loss: 0.8117 - val_throttle_out_loss: 0.0368\n",
      "Epoch 20/100\n"
     ]
    },
    {
     "name": "stdout",
     "output_type": "stream",
     "text": [
      "240/241 [============================>.] - ETA: 0s - loss: 0.4291 - angle_out_loss: 0.4764 - throttle_out_loss: 0.0394\n",
      "Epoch 00020: val_loss improved from 0.67316 to 0.66311, saving model to models/pilot_3Dspeedup_skipFramex5_8Kernels_f355_s122\n",
      "241/241 [==============================] - 132s 548ms/step - loss: 0.4293 - angle_out_loss: 0.4766 - throttle_out_loss: 0.0394 - val_loss: 0.6631 - val_angle_out_loss: 0.7364 - val_throttle_out_loss: 0.0391\n",
      "Epoch 21/100\n",
      "240/241 [============================>.] - ETA: 0s - loss: 0.4282 - angle_out_loss: 0.4754 - throttle_out_loss: 0.0376\n",
      "Epoch 00021: val_loss did not improve\n",
      "241/241 [==============================] - 130s 541ms/step - loss: 0.4279 - angle_out_loss: 0.4750 - throttle_out_loss: 0.0376 - val_loss: 0.6774 - val_angle_out_loss: 0.7523 - val_throttle_out_loss: 0.0386\n",
      "Epoch 22/100\n",
      "240/241 [============================>.] - ETA: 0s - loss: 0.4245 - angle_out_loss: 0.4713 - throttle_out_loss: 0.0380\n",
      "Epoch 00022: val_loss did not improve\n",
      "241/241 [==============================] - 130s 541ms/step - loss: 0.4246 - angle_out_loss: 0.4714 - throttle_out_loss: 0.0380 - val_loss: 0.7022 - val_angle_out_loss: 0.7798 - val_throttle_out_loss: 0.0366\n",
      "Epoch 23/100\n",
      "240/241 [============================>.] - ETA: 0s - loss: 0.4090 - angle_out_loss: 0.4541 - throttle_out_loss: 0.0382\n",
      "Epoch 00023: val_loss did not improve\n",
      "241/241 [==============================] - 131s 545ms/step - loss: 0.4087 - angle_out_loss: 0.4537 - throttle_out_loss: 0.0382 - val_loss: 0.7509 - val_angle_out_loss: 0.8339 - val_throttle_out_loss: 0.0391\n",
      "Epoch 24/100\n",
      "240/241 [============================>.] - ETA: 0s - loss: 0.4024 - angle_out_loss: 0.4466 - throttle_out_loss: 0.0386\n",
      "Epoch 00024: val_loss did not improve\n",
      "241/241 [==============================] - 133s 551ms/step - loss: 0.4025 - angle_out_loss: 0.4467 - throttle_out_loss: 0.0386 - val_loss: 0.6738 - val_angle_out_loss: 0.7482 - val_throttle_out_loss: 0.0379\n",
      "Epoch 25/100\n",
      "240/241 [============================>.] - ETA: 0s - loss: 0.3951 - angle_out_loss: 0.4386 - throttle_out_loss: 0.0383\n",
      "Epoch 00025: val_loss improved from 0.66311 to 0.65002, saving model to models/pilot_3Dspeedup_skipFramex5_8Kernels_f355_s122\n",
      "241/241 [==============================] - 135s 559ms/step - loss: 0.3949 - angle_out_loss: 0.4384 - throttle_out_loss: 0.0383 - val_loss: 0.6500 - val_angle_out_loss: 0.7218 - val_throttle_out_loss: 0.0379\n",
      "Epoch 26/100\n",
      "240/241 [============================>.] - ETA: 0s - loss: 0.3885 - angle_out_loss: 0.4312 - throttle_out_loss: 0.0382\n",
      "Epoch 00026: val_loss did not improve\n",
      "241/241 [==============================] - 136s 565ms/step - loss: 0.3880 - angle_out_loss: 0.4307 - throttle_out_loss: 0.0382 - val_loss: 0.7264 - val_angle_out_loss: 0.8067 - val_throttle_out_loss: 0.0370\n",
      "Epoch 27/100\n",
      "240/241 [============================>.] - ETA: 0s - loss: 0.3771 - angle_out_loss: 0.4186 - throttle_out_loss: 0.0381\n",
      "Epoch 00027: val_loss did not improve\n",
      "241/241 [==============================] - 135s 562ms/step - loss: 0.3771 - angle_out_loss: 0.4186 - throttle_out_loss: 0.0381 - val_loss: 0.7169 - val_angle_out_loss: 0.7962 - val_throttle_out_loss: 0.0405\n",
      "Epoch 28/100\n",
      "240/241 [============================>.] - ETA: 0s - loss: 0.3737 - angle_out_loss: 0.4148 - throttle_out_loss: 0.0384\n",
      "Epoch 00028: val_loss did not improve\n",
      "241/241 [==============================] - 132s 550ms/step - loss: 0.3737 - angle_out_loss: 0.4148 - throttle_out_loss: 0.0384 - val_loss: 0.7476 - val_angle_out_loss: 0.8303 - val_throttle_out_loss: 0.0356\n",
      "Epoch 29/100\n",
      "240/241 [============================>.] - ETA: 0s - loss: 0.3822 - angle_out_loss: 0.4242 - throttle_out_loss: 0.0376\n",
      "Epoch 00029: val_loss did not improve\n",
      "241/241 [==============================] - 133s 552ms/step - loss: 0.3819 - angle_out_loss: 0.4239 - throttle_out_loss: 0.0376 - val_loss: 0.7175 - val_angle_out_loss: 0.7968 - val_throttle_out_loss: 0.0390\n",
      "Epoch 30/100\n",
      "240/241 [============================>.] - ETA: 0s - loss: 0.3712 - angle_out_loss: 0.4120 - throttle_out_loss: 0.0380\n",
      "Epoch 00030: val_loss did not improve\n",
      "241/241 [==============================] - 135s 561ms/step - loss: 0.3711 - angle_out_loss: 0.4119 - throttle_out_loss: 0.0380 - val_loss: 0.7326 - val_angle_out_loss: 0.8136 - val_throttle_out_loss: 0.0365\n",
      "Epoch 00030: early stopping\n"
     ]
    },
    {
     "data": {
      "text/plain": [
       "<tensorflow.python.keras._impl.keras.callbacks.History at 0x2a309716da0>"
      ]
     },
     "execution_count": 224,
     "metadata": {},
     "output_type": "execute_result"
    }
   ],
   "source": [
    "train(train_gen, val_gen, saved_model_path=new_model_path, steps=steps_per_epoch, train_split=0.8)"
   ]
  },
  {
   "cell_type": "code",
   "execution_count": null,
   "metadata": {},
   "outputs": [],
   "source": [
    "\"\"\"\n",
    "Records\n",
    "\n",
    "GRU with rmsprop optimizer\n",
    "record\n",
    "241/241 [==============================] - 137s 570ms/step - loss: 1.6156 - angle_out_loss: 1.7943 \n",
    "- throttle_out_loss: 0.0702 - val_loss: 2.1860 - val_angle_out_loss: 2.4283 - val_throttle_out_loss: 0.0526\n",
    "Epoch 00010: early stopping\n",
    "\n",
    "Basic Refference model: pilot_TdBasic\n",
    "Original CNN -> TimeDistributed -> Flatten -> 1 Dense\n",
    "241/241 [==============================] - 153s 636ms/step - loss: 0.6759 - angle_out_loss: 0.7502 - \n",
    "throttle_out_loss: 0.0649 - val_loss: 0.8818 - val_angle_out_loss: 0.9788 - val_throttle_out_loss: 0.0893\n",
    "Epoch 00019: early stopping\n",
    "\n",
    "Basic conv3D model: pilot_conv3D with rmsprop and no activation \n",
    "Original CNN -> TimeDistributed -> conv3D -> Flatten -> 1 Dense\n",
    "241/241 [==============================] - 154s 641ms/step - loss: 0.6136 - angle_out_loss: 0.6812 -\n",
    "throttle_out_loss: 0.0546 - val_loss: 0.7844 - val_angle_out_loss: 0.8709 - val_throttle_out_loss: 0.0511\n",
    "\n",
    "All conv3D model: pilot_Allconv3D with adam\n",
    "Con3D strides=(1, 2, 2): 24, (1, 5, 5) -> 32, (1, 5, 5) -> 64, (1, 5, 5) -> 64, (1, 3, 3) -> strides=(1, 1, 1): 64, (3, 3, 3) -> \n",
    "batchnorm -> flatten -> dense\n",
    "At least\n",
    "241/241 [==============================] - 140s 582ms/step - loss: 0.3661 - \n",
    "angle_out_loss: 0.4063 - throttle_out_loss: 0.0394 - val_loss: 0.6101 -\n",
    "val_angle_out_loss: 0.6775 - val_throttle_out_loss: 0.0350\n",
    "\"\"\""
   ]
  },
  {
   "cell_type": "code",
   "execution_count": 68,
   "metadata": {},
   "outputs": [
    {
     "data": {
      "text/plain": [
       "[0.4666158199310303, 0.5176802217960358, 0.07036299034953117]"
      ]
     },
     "execution_count": 68,
     "metadata": {},
     "output_type": "execute_result"
    }
   ],
   "source": [
    "model.evaluate_generator(train_gen, steps=10)"
   ]
  },
  {
   "cell_type": "code",
   "execution_count": 58,
   "metadata": {},
   "outputs": [],
   "source": [
    "#check against original\n",
    "def unbin(arr):\n",
    "    index = np.argmax(arr)\n",
    "    return index/14*2-1\n",
    "#     return index"
   ]
  },
  {
   "cell_type": "code",
   "execution_count": 59,
   "metadata": {},
   "outputs": [
    {
     "data": {
      "text/plain": [
       "0.0"
      ]
     },
     "execution_count": 59,
     "metadata": {},
     "output_type": "execute_result"
    }
   ],
   "source": [
    "unbin([0, 0, 0, 0, 0, 0, 0, 1, 0, 0, 0, 0, 0, 0, 0])"
   ]
  },
  {
   "cell_type": "code",
   "execution_count": 60,
   "metadata": {},
   "outputs": [],
   "source": [
    "def run(img_arr):\n",
    "    img_arr = img_arr.reshape((1,) + img_arr.shape)\n",
    "    angle_binned, throttle = model.predict(img_arr)\n",
    "    angle_unbinned = unbin(angle_binned[0])\n",
    "    return angle_unbinned, throttle[0][0]"
   ]
  },
  {
   "cell_type": "code",
   "execution_count": 61,
   "metadata": {},
   "outputs": [],
   "source": [
    "frame_idx = 200 #500 - 600"
   ]
  },
  {
   "cell_type": "code",
   "execution_count": 65,
   "metadata": {},
   "outputs": [],
   "source": [
    "img_name = df['cam/image_array'][frame_idx]\n",
    "images = get_prev_img_names(img_name, 3)\n",
    "val = []\n",
    "for i, name in enumerate(images):\n",
    "    img = Image.open(f'{PATH}/{img_name}')\n",
    "    val.append(np.array(img))\n",
    "val = np.array(val)"
   ]
  },
  {
   "cell_type": "code",
   "execution_count": 66,
   "metadata": {},
   "outputs": [
    {
     "data": {
      "text/plain": [
       "(3, 120, 160, 3)"
      ]
     },
     "execution_count": 66,
     "metadata": {},
     "output_type": "execute_result"
    }
   ],
   "source": [
    "val.shape"
   ]
  },
  {
   "cell_type": "code",
   "execution_count": 67,
   "metadata": {},
   "outputs": [
    {
     "data": {
      "text/plain": [
       "(-0.4285714285714286, 0.30532354)"
      ]
     },
     "execution_count": 67,
     "metadata": {},
     "output_type": "execute_result"
    }
   ],
   "source": [
    "#prediction\n",
    "run(val)"
   ]
  },
  {
   "cell_type": "code",
   "execution_count": 125,
   "metadata": {},
   "outputs": [
    {
     "data": {
      "text/plain": [
       "(-0.45, 0.29)"
      ]
     },
     "execution_count": 125,
     "metadata": {},
     "output_type": "execute_result"
    }
   ],
   "source": [
    "#compare to actual data\n",
    "df['user/angle'][frame_idx], df['user/throttle'][frame_idx]"
   ]
  },
  {
   "cell_type": "code",
   "execution_count": 126,
   "metadata": {},
   "outputs": [
    {
     "data": {
      "text/plain": [
       "(-0.53, 0.33)"
      ]
     },
     "execution_count": 126,
     "metadata": {},
     "output_type": "execute_result"
    }
   ],
   "source": [
    "df['user/angle'][frame_idx-1], df['user/throttle'][frame_idx-1]"
   ]
  },
  {
   "cell_type": "code",
   "execution_count": 127,
   "metadata": {},
   "outputs": [
    {
     "data": {
      "text/plain": [
       "(-0.53, 0.33)"
      ]
     },
     "execution_count": 127,
     "metadata": {},
     "output_type": "execute_result"
    }
   ],
   "source": [
    "df['user/angle'][frame_idx-2], df['user/throttle'][frame_idx-2]"
   ]
  },
  {
   "cell_type": "code",
   "execution_count": null,
   "metadata": {},
   "outputs": [],
   "source": [
    "\"\"\"\n",
    "4 Kernels base reference architecture\n",
    "new_model_path = 'models/pilot_3Dspeedup'\n",
    "\n",
    "img_in3D = Input(shape=(3, 120, 160, 3), name='img_in')\n",
    "x = img_in3D\n",
    "x = Cropping3D(cropping = ((0, 0),(60, 0),(0, 0)))(x)\n",
    "\n",
    "x = Convolution3D(4, (3, 5, 5), strides=(1, 4, 4), activation='relu')(x)\n",
    "x = MaxPooling3D(pool_size=(1, 2, 2))(x)\n",
    "x = BatchNormalization()(x)\n",
    "x = Dropout(0.1)(x)\n",
    "\n",
    "x = Flatten(name='flattened')(x)\n",
    "x = Dense(50, activation='relu')(x)\n",
    "x = Dropout(0.2)(x)\n",
    "\n",
    "angle_out = Dense(15, activation='softmax', name='angle_out')(x)\n",
    "throttle_out = Dense(1, activation='relu', name='throttle_out')(x)\n",
    "\n",
    "\n",
    "model = Model(inputs=[img_in3D], outputs=[angle_out, throttle_out])\n",
    "model.compile(optimizer='adam', \n",
    "              loss={'angle_out': 'categorical_crossentropy',\n",
    "                   'throttle_out': 'mean_absolute_error'}, #should I use a different loss function because of gru?\n",
    "              loss_weights={'angle_out': 0.9, 'throttle_out': 0.01}) # should throttle weight be adjusted?\n",
    "\"\"\""
   ]
  }
 ],
 "metadata": {
  "kernelspec": {
   "display_name": "Tensorflow-GPU",
   "language": "python",
   "name": "tf-gpu"
  },
  "language_info": {
   "codemirror_mode": {
    "name": "ipython",
    "version": 3
   },
   "file_extension": ".py",
   "mimetype": "text/x-python",
   "name": "python",
   "nbconvert_exporter": "python",
   "pygments_lexer": "ipython3",
   "version": "3.6.6"
  }
 },
 "nbformat": 4,
 "nbformat_minor": 2
}
