{
 "cells": [
  {
   "cell_type": "code",
   "execution_count": 1,
   "metadata": {},
   "outputs": [],
   "source": [
    "import os\n",
    "import sys\n",
    "import time\n",
    "import json\n",
    "import datetime\n",
    "import random\n",
    "import tarfile\n",
    "\n",
    "import numpy as np\n",
    "import pandas as pd\n",
    "from PIL import Image\n",
    "\n",
    "PATH = \"../tubs/tub5\""
   ]
  },
  {
   "cell_type": "code",
   "execution_count": 2,
   "metadata": {},
   "outputs": [
    {
     "name": "stdout",
     "output_type": "stream",
     "text": [
      "1.8.0\n"
     ]
    }
   ],
   "source": [
    "#make sure tensorflow version is the same as one installed on donkeycar (1.8.0)\n",
    "import tensorflow as tf\n",
    "print(tf.__version__)"
   ]
  },
  {
   "cell_type": "code",
   "execution_count": 3,
   "metadata": {},
   "outputs": [
    {
     "data": {
      "text/plain": [
       "['/device:GPU:0']"
      ]
     },
     "execution_count": 3,
     "metadata": {},
     "output_type": "execute_result"
    }
   ],
   "source": [
    "#check if GPU is present (/device:GPU:0)\n",
    "from tensorflow.python.client import device_lib\n",
    "\n",
    "def get_available_gpus():\n",
    "    local_device_protos = device_lib.list_local_devices()\n",
    "    return [x.name for x in local_device_protos if x.device_type == 'GPU']\n",
    "get_available_gpus()"
   ]
  },
  {
   "cell_type": "code",
   "execution_count": 16,
   "metadata": {},
   "outputs": [],
   "source": [
    "def json_to_df(PATH, json_files, max_items=None):\n",
    "    df = pd.DataFrame()\n",
    "    for i, j in enumerate(json_files[1:max_items]):\n",
    "        with open(f'{PATH}/{j}') as f:\n",
    "            data = json.load(f)\n",
    "\n",
    "            userThrottle = data[\"user/throttle\"]\n",
    "            userAngle = data[\"user/angle\"]\n",
    "            camImage_array = data[\"cam/image_array\"]\n",
    "            index = int(camImage_array[:-21])\n",
    "            df_row = pd.DataFrame([[userThrottle, userAngle, camImage_array]], index = [index], columns = [\"user/throttle\", \"user/angle\", \"cam/image_array\"])\n",
    "\n",
    "            df = df.append(df_row)\n",
    "    df = df.sort_index()\n",
    "    return df"
   ]
  },
  {
   "cell_type": "code",
   "execution_count": 30,
   "metadata": {},
   "outputs": [],
   "source": [
    "#df = json_to_df(PATH, json_files, max_items=None)"
   ]
  },
  {
   "cell_type": "code",
   "execution_count": 31,
   "metadata": {},
   "outputs": [],
   "source": [
    "#df.to_feather('tmp/df')"
   ]
  },
  {
   "cell_type": "code",
   "execution_count": 5,
   "metadata": {},
   "outputs": [
    {
     "name": "stderr",
     "output_type": "stream",
     "text": [
      "C:\\Users\\Jason\\Anaconda3\\envs\\tf-gpu\\lib\\site-packages\\pandas\\io\\feather_format.py:112: FutureWarning: `nthreads` argument is deprecated, pass `use_threads` instead\n",
      "  return feather.read_dataframe(path, nthreads=nthreads)\n"
     ]
    }
   ],
   "source": [
    "df = pd.read_feather('tmp/df_wPATH')"
   ]
  },
  {
   "cell_type": "code",
   "execution_count": 6,
   "metadata": {},
   "outputs": [
    {
     "data": {
      "text/plain": [
       "(38574, 3)"
      ]
     },
     "execution_count": 6,
     "metadata": {},
     "output_type": "execute_result"
    }
   ],
   "source": [
    "df.shape"
   ]
  },
  {
   "cell_type": "code",
   "execution_count": 7,
   "metadata": {},
   "outputs": [
    {
     "data": {
      "text/html": [
       "<div>\n",
       "<style scoped>\n",
       "    .dataframe tbody tr th:only-of-type {\n",
       "        vertical-align: middle;\n",
       "    }\n",
       "\n",
       "    .dataframe tbody tr th {\n",
       "        vertical-align: top;\n",
       "    }\n",
       "\n",
       "    .dataframe thead th {\n",
       "        text-align: right;\n",
       "    }\n",
       "</style>\n",
       "<table border=\"1\" class=\"dataframe\">\n",
       "  <thead>\n",
       "    <tr style=\"text-align: right;\">\n",
       "      <th></th>\n",
       "      <th>user/throttle</th>\n",
       "      <th>user/angle</th>\n",
       "      <th>cam/image_array</th>\n",
       "    </tr>\n",
       "  </thead>\n",
       "  <tbody>\n",
       "    <tr>\n",
       "      <th>0</th>\n",
       "      <td>0.08</td>\n",
       "      <td>0.01</td>\n",
       "      <td>../tubs/tub5/0_cam-image_array_.jpg</td>\n",
       "    </tr>\n",
       "    <tr>\n",
       "      <th>1</th>\n",
       "      <td>0.12</td>\n",
       "      <td>-0.03</td>\n",
       "      <td>../tubs/tub5/1_cam-image_array_.jpg</td>\n",
       "    </tr>\n",
       "    <tr>\n",
       "      <th>2</th>\n",
       "      <td>0.12</td>\n",
       "      <td>-0.03</td>\n",
       "      <td>../tubs/tub5/2_cam-image_array_.jpg</td>\n",
       "    </tr>\n",
       "    <tr>\n",
       "      <th>3</th>\n",
       "      <td>0.14</td>\n",
       "      <td>-0.06</td>\n",
       "      <td>../tubs/tub5/3_cam-image_array_.jpg</td>\n",
       "    </tr>\n",
       "    <tr>\n",
       "      <th>4</th>\n",
       "      <td>0.14</td>\n",
       "      <td>-0.06</td>\n",
       "      <td>../tubs/tub5/4_cam-image_array_.jpg</td>\n",
       "    </tr>\n",
       "  </tbody>\n",
       "</table>\n",
       "</div>"
      ],
      "text/plain": [
       "   user/throttle  user/angle                      cam/image_array\n",
       "0           0.08        0.01  ../tubs/tub5/0_cam-image_array_.jpg\n",
       "1           0.12       -0.03  ../tubs/tub5/1_cam-image_array_.jpg\n",
       "2           0.12       -0.03  ../tubs/tub5/2_cam-image_array_.jpg\n",
       "3           0.14       -0.06  ../tubs/tub5/3_cam-image_array_.jpg\n",
       "4           0.14       -0.06  ../tubs/tub5/4_cam-image_array_.jpg"
      ]
     },
     "execution_count": 7,
     "metadata": {},
     "output_type": "execute_result"
    }
   ],
   "source": [
    "df.head()"
   ]
  },
  {
   "cell_type": "code",
   "execution_count": 20,
   "metadata": {},
   "outputs": [],
   "source": [
    "def get_prev_img_names(img_name, quantity):\n",
    "    img_names = []\n",
    "    last_name = img_name\n",
    "    for i in range(0, quantity):\n",
    "        path = img_name.split(\"/\")\n",
    "        path[-1] = int(path[-1][:-21])-i\n",
    "        name = \"/\".join(path)\n",
    "        if index < 0:\n",
    "            name = last_name\n",
    "        else:\n",
    "            name = str(index)+\"_cam-image_array_.jpg\"\n",
    "        \n",
    "        img_names.append(name)\n",
    "        last_name = name\n",
    "    img_names.reverse()\n",
    "    return img_names"
   ]
  },
  {
   "cell_type": "code",
   "execution_count": 9,
   "metadata": {},
   "outputs": [
    {
     "data": {
      "text/plain": [
       "['18_cam-image_array_.jpg',\n",
       " '19_cam-image_array_.jpg',\n",
       " '20_cam-image_array_.jpg']"
      ]
     },
     "execution_count": 9,
     "metadata": {},
     "output_type": "execute_result"
    }
   ],
   "source": [
    "get_prev_img_names(\"20_cam-image_array_.jpg\", 3)"
   ]
  },
  {
   "cell_type": "code",
   "execution_count": 10,
   "metadata": {},
   "outputs": [],
   "source": [
    "def to_bin(a):\n",
    "    arr = np.zeros(15)\n",
    "    a = a + 1\n",
    "    b = round(a/(2/14))\n",
    "    arr[int(b)] = 1\n",
    "    return arr"
   ]
  },
  {
   "cell_type": "code",
   "execution_count": 12,
   "metadata": {},
   "outputs": [
    {
     "data": {
      "image/png": "[encoded data removed]",
      "text/plain": [
       "<PIL.JpegImagePlugin.JpegImageFile image mode=RGB size=160x120 at 0x1576521A2B0>"
      ]
     },
     "execution_count": 12,
     "metadata": {},
     "output_type": "execute_result"
    }
   ],
   "source": [
    "img_name = df['cam/image_array'][100]\n",
    "img = Image.open(f'{img_name}')\n",
    "img"
   ]
  },
  {
   "cell_type": "code",
   "execution_count": 13,
   "metadata": {},
   "outputs": [
    {
     "data": {
      "text/plain": [
       "'../tubs/tub5'"
      ]
     },
     "execution_count": 13,
     "metadata": {},
     "output_type": "execute_result"
    }
   ],
   "source": [
    "X_keys = ['cam/image_array']\n",
    "y_keys = ['user/angle', 'user/throttle']\n",
    "PATH\n"
   ]
  },
  {
   "cell_type": "code",
   "execution_count": 14,
   "metadata": {},
   "outputs": [],
   "source": [
    "def read_record(record_dict, path = PATH):\n",
    "    data = {}\n",
    "    for key, val in record_dict.items():\n",
    "        if key == 'cam/image_array':\n",
    "            images = get_prev_img_names(val, 3)\n",
    "            data[key] = []\n",
    "            for i, name in enumerate(images):\n",
    "                img = Image.open(name)\n",
    "                data[key].append(np.array(img))\n",
    "            data[key] = np.array(data[key])\n",
    "        else:\n",
    "            data[key] = val\n",
    "        \n",
    "        \n",
    "    return data"
   ]
  },
  {
   "cell_type": "code",
   "execution_count": 19,
   "metadata": {},
   "outputs": [
    {
     "ename": "AttributeError",
     "evalue": "'list' object has no attribute 'join'",
     "output_type": "error",
     "traceback": [
      "\u001b[1;31m---------------------------------------------------------------------------\u001b[0m",
      "\u001b[1;31mAttributeError\u001b[0m                            Traceback (most recent call last)",
      "\u001b[1;32m<ipython-input-19-14c786393a46>\u001b[0m in \u001b[0;36m<module>\u001b[1;34m()\u001b[0m\n\u001b[0;32m      1\u001b[0m \u001b[0mtest\u001b[0m \u001b[1;33m=\u001b[0m \u001b[0mdf\u001b[0m\u001b[1;33m.\u001b[0m\u001b[0msample\u001b[0m\u001b[1;33m(\u001b[0m\u001b[0mn\u001b[0m\u001b[1;33m=\u001b[0m\u001b[1;36m1\u001b[0m\u001b[1;33m)\u001b[0m\u001b[1;33m.\u001b[0m\u001b[0mto_dict\u001b[0m\u001b[1;33m(\u001b[0m\u001b[0morient\u001b[0m\u001b[1;33m=\u001b[0m\u001b[1;34m'record'\u001b[0m\u001b[1;33m)\u001b[0m\u001b[1;33m[\u001b[0m\u001b[1;36m0\u001b[0m\u001b[1;33m]\u001b[0m\u001b[1;33m\u001b[0m\u001b[0m\n\u001b[1;32m----> 2\u001b[1;33m \u001b[0mread_record\u001b[0m\u001b[1;33m(\u001b[0m\u001b[0mtest\u001b[0m\u001b[1;33m)\u001b[0m\u001b[1;33m\u001b[0m\u001b[0m\n\u001b[0m",
      "\u001b[1;32m<ipython-input-14-728ccbd7e495>\u001b[0m in \u001b[0;36mread_record\u001b[1;34m(record_dict, path)\u001b[0m\n\u001b[0;32m      3\u001b[0m     \u001b[1;32mfor\u001b[0m \u001b[0mkey\u001b[0m\u001b[1;33m,\u001b[0m \u001b[0mval\u001b[0m \u001b[1;32min\u001b[0m \u001b[0mrecord_dict\u001b[0m\u001b[1;33m.\u001b[0m\u001b[0mitems\u001b[0m\u001b[1;33m(\u001b[0m\u001b[1;33m)\u001b[0m\u001b[1;33m:\u001b[0m\u001b[1;33m\u001b[0m\u001b[0m\n\u001b[0;32m      4\u001b[0m         \u001b[1;32mif\u001b[0m \u001b[0mkey\u001b[0m \u001b[1;33m==\u001b[0m \u001b[1;34m'cam/image_array'\u001b[0m\u001b[1;33m:\u001b[0m\u001b[1;33m\u001b[0m\u001b[0m\n\u001b[1;32m----> 5\u001b[1;33m             \u001b[0mimages\u001b[0m \u001b[1;33m=\u001b[0m \u001b[0mget_prev_img_names\u001b[0m\u001b[1;33m(\u001b[0m\u001b[0mval\u001b[0m\u001b[1;33m,\u001b[0m \u001b[1;36m3\u001b[0m\u001b[1;33m)\u001b[0m\u001b[1;33m\u001b[0m\u001b[0m\n\u001b[0m\u001b[0;32m      6\u001b[0m             \u001b[0mdata\u001b[0m\u001b[1;33m[\u001b[0m\u001b[0mkey\u001b[0m\u001b[1;33m]\u001b[0m \u001b[1;33m=\u001b[0m \u001b[1;33m[\u001b[0m\u001b[1;33m]\u001b[0m\u001b[1;33m\u001b[0m\u001b[0m\n\u001b[0;32m      7\u001b[0m             \u001b[1;32mfor\u001b[0m \u001b[0mi\u001b[0m\u001b[1;33m,\u001b[0m \u001b[0mname\u001b[0m \u001b[1;32min\u001b[0m \u001b[0menumerate\u001b[0m\u001b[1;33m(\u001b[0m\u001b[0mimages\u001b[0m\u001b[1;33m)\u001b[0m\u001b[1;33m:\u001b[0m\u001b[1;33m\u001b[0m\u001b[0m\n",
      "\u001b[1;32m<ipython-input-18-c438cdfd0460>\u001b[0m in \u001b[0;36mget_prev_img_names\u001b[1;34m(img_name, quantity)\u001b[0m\n\u001b[0;32m      5\u001b[0m         \u001b[0mpath\u001b[0m \u001b[1;33m=\u001b[0m \u001b[0mimg_name\u001b[0m\u001b[1;33m.\u001b[0m\u001b[0msplit\u001b[0m\u001b[1;33m(\u001b[0m\u001b[1;34m\"/\"\u001b[0m\u001b[1;33m)\u001b[0m\u001b[1;33m\u001b[0m\u001b[0m\n\u001b[0;32m      6\u001b[0m         \u001b[0mpath\u001b[0m\u001b[1;33m[\u001b[0m\u001b[1;33m-\u001b[0m\u001b[1;36m1\u001b[0m\u001b[1;33m]\u001b[0m \u001b[1;33m=\u001b[0m \u001b[0mint\u001b[0m\u001b[1;33m(\u001b[0m\u001b[0mpath\u001b[0m\u001b[1;33m[\u001b[0m\u001b[1;33m-\u001b[0m\u001b[1;36m1\u001b[0m\u001b[1;33m]\u001b[0m\u001b[1;33m[\u001b[0m\u001b[1;33m:\u001b[0m\u001b[1;33m-\u001b[0m\u001b[1;36m21\u001b[0m\u001b[1;33m]\u001b[0m\u001b[1;33m)\u001b[0m\u001b[1;33m-\u001b[0m\u001b[0mi\u001b[0m\u001b[1;33m\u001b[0m\u001b[0m\n\u001b[1;32m----> 7\u001b[1;33m         \u001b[0mname\u001b[0m \u001b[1;33m=\u001b[0m \u001b[0mpath\u001b[0m\u001b[1;33m.\u001b[0m\u001b[0mjoin\u001b[0m\u001b[1;33m(\u001b[0m\u001b[1;34m\"/\"\u001b[0m\u001b[1;33m)\u001b[0m\u001b[1;33m\u001b[0m\u001b[0m\n\u001b[0m\u001b[0;32m      8\u001b[0m         \u001b[1;32mif\u001b[0m \u001b[0mindex\u001b[0m \u001b[1;33m<\u001b[0m \u001b[1;36m0\u001b[0m\u001b[1;33m:\u001b[0m\u001b[1;33m\u001b[0m\u001b[0m\n\u001b[0;32m      9\u001b[0m             \u001b[0mname\u001b[0m \u001b[1;33m=\u001b[0m \u001b[0mlast_name\u001b[0m\u001b[1;33m\u001b[0m\u001b[0m\n",
      "\u001b[1;31mAttributeError\u001b[0m: 'list' object has no attribute 'join'"
     ]
    }
   ],
   "source": [
    "test = df.sample(n=1).to_dict(orient='record')[0]\n",
    "read_record(test)"
   ]
  },
  {
   "cell_type": "code",
   "execution_count": 15,
   "metadata": {},
   "outputs": [],
   "source": [
    "def get_record_gen(record_transform=None, shuffle=True, df=None):\n",
    "    while True:\n",
    "        for _ in df.iterrows():\n",
    "            if shuffle:\n",
    "                record_dict = df.sample(n=1).to_dict(orient='record')[0]\n",
    "            \n",
    "            record_dict = read_record(record_dict)\n",
    "            \n",
    "            if record_transform:\n",
    "                record_dict = record_transform(record_dict)\n",
    "            \n",
    "            yield record_dict"
   ]
  },
  {
   "cell_type": "code",
   "execution_count": 14,
   "metadata": {},
   "outputs": [],
   "source": [
    "def get_batch_gen(keys=None, batch_size=128, record_transform=None, shuffle=True, df=None):\n",
    "    \n",
    "    record_gen = get_record_gen(record_transform=record_transform, shuffle=shuffle, df=df)\n",
    "    \n",
    "    while True:\n",
    "        record_list = [next(record_gen) for _ in range(batch_size)]\n",
    "        \n",
    "        batch_arrays = {}\n",
    "        for i, k in enumerate(keys):\n",
    "            arr = np.array([r[k] for r in record_list])\n",
    "            batch_arrays[k] = arr\n",
    "        yield batch_arrays"
   ]
  },
  {
   "cell_type": "code",
   "execution_count": 15,
   "metadata": {},
   "outputs": [],
   "source": [
    "def get_train_gen(X_keys, Y_keys, batch_size=128, record_transform=None, df=None): #\n",
    "    batch_gen = get_batch_gen(X_keys + Y_keys, batch_size=batch_size,\n",
    "                                  record_transform=record_transform, df=df)\n",
    "    while True:\n",
    "        batch = next(batch_gen)\n",
    "        X = [batch[k] for k in X_keys]\n",
    "        Y = [batch[k] for k in Y_keys] \n",
    "        yield X, Y"
   ]
  },
  {
   "cell_type": "code",
   "execution_count": 16,
   "metadata": {},
   "outputs": [],
   "source": [
    "def get_train_val_gen(df, X_keys, Y_keys, batch_size = 128, train_frac=0.8, #\n",
    "                      train_record_transform=None, val_record_transform=None): #\n",
    "    train_df = df.sample(frac=train_frac, random_state=200) #\n",
    "    val_df = df.drop(train_df.index) #\n",
    "    \n",
    "    train_gen = get_train_gen(X_keys=X_keys, Y_keys=Y_keys, batch_size=batch_size,\n",
    "                             record_transform=train_record_transform, df=train_df)\n",
    "    val_gen = get_train_gen(X_keys=X_keys, Y_keys=Y_keys, batch_size=batch_size,\n",
    "                           record_transform=val_record_transform, df=val_df)\n",
    "    return train_gen, val_gen\n",
    "    "
   ]
  },
  {
   "cell_type": "code",
   "execution_count": 17,
   "metadata": {},
   "outputs": [],
   "source": [
    "def record_transform(record):\n",
    "    record['user/angle'] = to_bin(record['user/angle'])\n",
    "    return record"
   ]
  },
  {
   "cell_type": "code",
   "execution_count": 18,
   "metadata": {},
   "outputs": [],
   "source": [
    "bs = 128 # or 128/3\n",
    "train_frac = 0.8\n",
    "new_model_path = 'models/pilot_jp_2'"
   ]
  },
  {
   "cell_type": "code",
   "execution_count": 19,
   "metadata": {},
   "outputs": [],
   "source": [
    "train_gen, val_gen = get_train_val_gen(df, X_keys, y_keys,\n",
    "                                               train_record_transform=record_transform, #\n",
    "                                               val_record_transform=record_transform, #\n",
    "                                               batch_size=bs, #\n",
    "                                               train_frac=train_frac) #"
   ]
  },
  {
   "cell_type": "code",
   "execution_count": 20,
   "metadata": {},
   "outputs": [],
   "source": [
    "#test = next(train_gen)"
   ]
  },
  {
   "cell_type": "code",
   "execution_count": 21,
   "metadata": {},
   "outputs": [],
   "source": [
    "#test[0][0].shape"
   ]
  },
  {
   "cell_type": "code",
   "execution_count": 7,
   "metadata": {},
   "outputs": [],
   "source": [
    "from tensorflow.python.keras.layers import Input\n",
    "from tensorflow.python.keras.models import Model, load_model, Sequential\n",
    "from tensorflow.python.keras.layers import MaxPooling3D, BatchNormalization, Convolution3D, Cropping3D \n",
    "from tensorflow.python.keras.layers import Dropout, Flatten, Dense, Cropping2D, Lambda\n",
    "from tensorflow.python.keras.callbacks import ModelCheckpoint, EarlyStopping"
   ]
  },
  {
   "cell_type": "code",
   "execution_count": 22,
   "metadata": {},
   "outputs": [],
   "source": [
    "\n",
    "img_in3D = Input(shape=(3, 120, 160, 3), name='img_in')\n",
    "x = img_in3D\n",
    "x = Cropping3D(cropping = ((0, 0),(60, 0),(0, 0)))(x)\n",
    "\n",
    "x = Convolution3D(16, (1, 5, 5), strides=(1, 2, 2), activation='relu')(x)\n",
    "x = BatchNormalization()(x)\n",
    "\n",
    "x = Convolution3D(24, (3, 5, 5), strides=(1, 2, 2), activation='relu')(x)\n",
    "x = BatchNormalization()(x)\n",
    "\n",
    "x = Convolution3D(32, (1, 3, 3), strides=(1, 2, 2), activation='relu')(x)\n",
    "x = BatchNormalization()(x)\n",
    "x = Dropout(0.1)(x)\n",
    "\n",
    "x = Convolution3D(64, (1, 3, 3), activation='relu')(x)\n",
    "x = BatchNormalization()(x)\n",
    "x = Dropout(0.1)(x)\n",
    "\n",
    "x = Flatten(name='flattened')(x)\n",
    "x = Dense(50, activation='relu')(x)\n",
    "x = Dropout(0.2)(x)\n",
    "\n",
    "angle_out = Dense(15, activation='softmax', name='angle_out')(x)\n",
    "throttle_out = Dense(1, activation='relu', name='throttle_out')(x)\n",
    "\n",
    "\n",
    "model = Model(inputs=[img_in3D], outputs=[angle_out, throttle_out])\n",
    "model.compile(optimizer='adam', \n",
    "              loss={'angle_out': 'categorical_crossentropy',\n",
    "                   'throttle_out': 'mean_absolute_error'}, #should I use a different loss function because of gru?\n",
    "              loss_weights={'angle_out': 0.9, 'throttle_out': 0.01}) # should throttle weight be adjusted?"
   ]
  },
  {
   "cell_type": "code",
   "execution_count": 23,
   "metadata": {},
   "outputs": [
    {
     "name": "stdout",
     "output_type": "stream",
     "text": [
      "__________________________________________________________________________________________________\n",
      "Layer (type)                    Output Shape         Param #     Connected to                     \n",
      "==================================================================================================\n",
      "img_in (InputLayer)             (None, 3, 120, 160,  0                                            \n",
      "__________________________________________________________________________________________________\n",
      "cropping3d_8 (Cropping3D)       (None, 3, 60, 160, 3 0           img_in[0][0]                     \n",
      "__________________________________________________________________________________________________\n",
      "conv3d_28 (Conv3D)              (None, 3, 28, 78, 16 1216        cropping3d_8[0][0]               \n",
      "__________________________________________________________________________________________________\n",
      "batch_normalization_22 (BatchNo (None, 3, 28, 78, 16 64          conv3d_28[0][0]                  \n",
      "__________________________________________________________________________________________________\n",
      "conv3d_29 (Conv3D)              (None, 1, 12, 37, 24 28824       batch_normalization_22[0][0]     \n",
      "__________________________________________________________________________________________________\n",
      "batch_normalization_23 (BatchNo (None, 1, 12, 37, 24 96          conv3d_29[0][0]                  \n",
      "__________________________________________________________________________________________________\n",
      "conv3d_30 (Conv3D)              (None, 1, 5, 18, 32) 6944        batch_normalization_23[0][0]     \n",
      "__________________________________________________________________________________________________\n",
      "batch_normalization_24 (BatchNo (None, 1, 5, 18, 32) 128         conv3d_30[0][0]                  \n",
      "__________________________________________________________________________________________________\n",
      "dropout_16 (Dropout)            (None, 1, 5, 18, 32) 0           batch_normalization_24[0][0]     \n",
      "__________________________________________________________________________________________________\n",
      "conv3d_31 (Conv3D)              (None, 1, 3, 16, 64) 18496       dropout_16[0][0]                 \n",
      "__________________________________________________________________________________________________\n",
      "batch_normalization_25 (BatchNo (None, 1, 3, 16, 64) 256         conv3d_31[0][0]                  \n",
      "__________________________________________________________________________________________________\n",
      "dropout_17 (Dropout)            (None, 1, 3, 16, 64) 0           batch_normalization_25[0][0]     \n",
      "__________________________________________________________________________________________________\n",
      "flattened (Flatten)             (None, 3072)         0           dropout_17[0][0]                 \n",
      "__________________________________________________________________________________________________\n",
      "dense_6 (Dense)                 (None, 50)           153650      flattened[0][0]                  \n",
      "__________________________________________________________________________________________________\n",
      "dropout_18 (Dropout)            (None, 50)           0           dense_6[0][0]                    \n",
      "__________________________________________________________________________________________________\n",
      "angle_out (Dense)               (None, 15)           765         dropout_18[0][0]                 \n",
      "__________________________________________________________________________________________________\n",
      "throttle_out (Dense)            (None, 1)            51          dropout_18[0][0]                 \n",
      "==================================================================================================\n",
      "Total params: 210,490\n",
      "Trainable params: 210,218\n",
      "Non-trainable params: 272\n",
      "__________________________________________________________________________________________________\n"
     ]
    }
   ],
   "source": [
    "model.summary()"
   ]
  },
  {
   "cell_type": "code",
   "execution_count": 25,
   "metadata": {},
   "outputs": [],
   "source": [
    "def train(train_gen, val_gen, saved_model_path, epochs=100, steps=100, train_split=0.8,\n",
    "         verbose=1, min_delta=0.0005, patience=5, use_early_stop=True):\n",
    "    \n",
    "#     checkpoint to save model\n",
    "    save_best = ModelCheckpoint(saved_model_path, monitor='val_loss', verbose=verbose, save_best_only=True, mode='min')\n",
    "    \n",
    "    #stop training if stop improving\n",
    "    early_stop = EarlyStopping(monitor='val_loss', min_delta=min_delta, patience=patience, verbose=verbose, mode='auto')\n",
    "    \n",
    "    callbacks_list = [save_best]\n",
    "    \n",
    "    if use_early_stop:\n",
    "        callbacks_list.append(early_stop)\n",
    "        \n",
    "    hist = model.fit_generator(train_gen, steps_per_epoch=steps, epochs=epochs, verbose=1, validation_data=val_gen,\n",
    "                                callbacks=callbacks_list, validation_steps=steps * (1.0 - train_frac)//train_frac)\n",
    "    return hist"
   ]
  },
  {
   "cell_type": "code",
   "execution_count": 26,
   "metadata": {},
   "outputs": [
    {
     "data": {
      "text/plain": [
       "241"
      ]
     },
     "execution_count": 26,
     "metadata": {},
     "output_type": "execute_result"
    }
   ],
   "source": [
    "total_records = len(df)\n",
    "total_train = int(total_records * train_frac)\n",
    "total_val = total_records - total_train\n",
    "steps_per_epoch = total_train // bs\n",
    "steps_per_epoch"
   ]
  },
  {
   "cell_type": "code",
   "execution_count": 27,
   "metadata": {
    "scrolled": true
   },
   "outputs": [
    {
     "name": "stdout",
     "output_type": "stream",
     "text": [
      "Epoch 1/100\n",
      "240/241 [============================>.] - ETA: 0s - loss: 1.8099 - angle_out_loss: 2.0065 - throttle_out_loss: 0.4062\n",
      "Epoch 00001: val_loss improved from inf to 1.43862, saving model to models/pilot_Allconv3D\n",
      "241/241 [==============================] - 162s 671ms/step - loss: 1.8087 - angle_out_loss: 2.0052 - throttle_out_loss: 0.4058 - val_loss: 1.4386 - val_angle_out_loss: 1.5949 - val_throttle_out_loss: 0.3168\n",
      "Epoch 2/100\n",
      "240/241 [============================>.] - ETA: 0s - loss: 1.5131 - angle_out_loss: 1.6778 - throttle_out_loss: 0.3121\n",
      "Epoch 00002: val_loss improved from 1.43862 to 1.32802, saving model to models/pilot_Allconv3D\n",
      "241/241 [==============================] - 155s 642ms/step - loss: 1.5128 - angle_out_loss: 1.6775 - throttle_out_loss: 0.3121 - val_loss: 1.3280 - val_angle_out_loss: 1.4720 - val_throttle_out_loss: 0.3178\n",
      "Epoch 3/100\n",
      "240/241 [============================>.] - ETA: 0s - loss: 1.4028 - angle_out_loss: 1.5552 - throttle_out_loss: 0.3072\n",
      "Epoch 00003: val_loss improved from 1.32802 to 1.27999, saving model to models/pilot_Allconv3D\n",
      "241/241 [==============================] - 154s 638ms/step - loss: 1.4036 - angle_out_loss: 1.5561 - throttle_out_loss: 0.3072 - val_loss: 1.2800 - val_angle_out_loss: 1.4187 - val_throttle_out_loss: 0.3188\n",
      "Epoch 4/100\n",
      "240/241 [============================>.] - ETA: 0s - loss: 1.3601 - angle_out_loss: 1.5078 - throttle_out_loss: 0.3054\n",
      "Epoch 00004: val_loss improved from 1.27999 to 1.23834, saving model to models/pilot_Allconv3D\n",
      "241/241 [==============================] - 158s 655ms/step - loss: 1.3601 - angle_out_loss: 1.5078 - throttle_out_loss: 0.3054 - val_loss: 1.2383 - val_angle_out_loss: 1.3724 - val_throttle_out_loss: 0.3207\n",
      "Epoch 5/100\n",
      "240/241 [============================>.] - ETA: 0s - loss: 1.3158 - angle_out_loss: 1.4586 - throttle_out_loss: 0.2992\n",
      "Epoch 00005: val_loss did not improve\n",
      "241/241 [==============================] - 155s 642ms/step - loss: 1.3158 - angle_out_loss: 1.4587 - throttle_out_loss: 0.2992 - val_loss: 4.5168 - val_angle_out_loss: 5.0151 - val_throttle_out_loss: 0.3202\n",
      "Epoch 6/100\n",
      "240/241 [============================>.] - ETA: 0s - loss: 1.2871 - angle_out_loss: 1.4270 - throttle_out_loss: 0.2791\n",
      "Epoch 00006: val_loss improved from 1.23834 to 1.17444, saving model to models/pilot_Allconv3D\n",
      "241/241 [==============================] - 154s 640ms/step - loss: 1.2870 - angle_out_loss: 1.4269 - throttle_out_loss: 0.2790 - val_loss: 1.1744 - val_angle_out_loss: 1.3014 - val_throttle_out_loss: 0.3185\n",
      "Epoch 7/100\n",
      "240/241 [============================>.] - ETA: 0s - loss: 1.2546 - angle_out_loss: 1.3913 - throttle_out_loss: 0.2443\n",
      "Epoch 00007: val_loss improved from 1.17444 to 1.17332, saving model to models/pilot_Allconv3D\n",
      "241/241 [==============================] - 155s 644ms/step - loss: 1.2549 - angle_out_loss: 1.3916 - throttle_out_loss: 0.2442 - val_loss: 1.1733 - val_angle_out_loss: 1.3002 - val_throttle_out_loss: 0.3183\n",
      "Epoch 8/100\n",
      "240/241 [============================>.] - ETA: 0s - loss: 1.2159 - angle_out_loss: 1.3485 - throttle_out_loss: 0.2271\n",
      "Epoch 00008: val_loss improved from 1.17332 to 1.11409, saving model to models/pilot_Allconv3D\n",
      "241/241 [==============================] - 153s 637ms/step - loss: 1.2161 - angle_out_loss: 1.3487 - throttle_out_loss: 0.2269 - val_loss: 1.1141 - val_angle_out_loss: 1.2349 - val_throttle_out_loss: 0.2690\n",
      "Epoch 9/100\n",
      "240/241 [============================>.] - ETA: 0s - loss: 1.1785 - angle_out_loss: 1.3087 - throttle_out_loss: 0.0607\n",
      "Epoch 00009: val_loss did not improve\n",
      "241/241 [==============================] - 157s 653ms/step - loss: 1.1781 - angle_out_loss: 1.3083 - throttle_out_loss: 0.0606 - val_loss: 1.1193 - val_angle_out_loss: 1.2432 - val_throttle_out_loss: 0.0381\n",
      "Epoch 10/100\n",
      "240/241 [============================>.] - ETA: 0s - loss: 1.1355 - angle_out_loss: 1.2613 - throttle_out_loss: 0.0380\n",
      "Epoch 00010: val_loss improved from 1.11409 to 1.06526, saving model to models/pilot_Allconv3D\n",
      "241/241 [==============================] - 153s 635ms/step - loss: 1.1354 - angle_out_loss: 1.2612 - throttle_out_loss: 0.0380 - val_loss: 1.0653 - val_angle_out_loss: 1.1832 - val_throttle_out_loss: 0.0376\n",
      "Epoch 11/100\n",
      "240/241 [============================>.] - ETA: 0s - loss: 1.0793 - angle_out_loss: 1.1988 - throttle_out_loss: 0.0387\n",
      "Epoch 00011: val_loss improved from 1.06526 to 1.01914, saving model to models/pilot_Allconv3D\n",
      "241/241 [==============================] - 157s 653ms/step - loss: 1.0788 - angle_out_loss: 1.1982 - throttle_out_loss: 0.0387 - val_loss: 1.0191 - val_angle_out_loss: 1.1319 - val_throttle_out_loss: 0.0386\n",
      "Epoch 12/100\n",
      "240/241 [============================>.] - ETA: 0s - loss: 1.0405 - angle_out_loss: 1.1557 - throttle_out_loss: 0.0376\n",
      "Epoch 00012: val_loss improved from 1.01914 to 0.99680, saving model to models/pilot_Allconv3D\n",
      "241/241 [==============================] - 163s 675ms/step - loss: 1.0404 - angle_out_loss: 1.1555 - throttle_out_loss: 0.0376 - val_loss: 0.9968 - val_angle_out_loss: 1.1071 - val_throttle_out_loss: 0.0387\n",
      "Epoch 13/100\n",
      "240/241 [============================>.] - ETA: 0s - loss: 1.0002 - angle_out_loss: 1.1109 - throttle_out_loss: 0.0384\n",
      "Epoch 00013: val_loss improved from 0.99680 to 0.97932, saving model to models/pilot_Allconv3D\n",
      "241/241 [==============================] - 162s 671ms/step - loss: 0.9997 - angle_out_loss: 1.1104 - throttle_out_loss: 0.0384 - val_loss: 0.9793 - val_angle_out_loss: 1.0877 - val_throttle_out_loss: 0.0359\n",
      "Epoch 14/100\n",
      "240/241 [============================>.] - ETA: 0s - loss: 0.9591 - angle_out_loss: 1.0653 - throttle_out_loss: 0.0381\n",
      "Epoch 00014: val_loss improved from 0.97932 to 0.96201, saving model to models/pilot_Allconv3D\n",
      "241/241 [==============================] - 162s 673ms/step - loss: 0.9587 - angle_out_loss: 1.0648 - throttle_out_loss: 0.0381 - val_loss: 0.9620 - val_angle_out_loss: 1.0685 - val_throttle_out_loss: 0.0365\n",
      "Epoch 15/100\n",
      "240/241 [============================>.] - ETA: 0s - loss: 0.9161 - angle_out_loss: 1.0175 - throttle_out_loss: 0.0382\n",
      "Epoch 00015: val_loss improved from 0.96201 to 0.91731, saving model to models/pilot_Allconv3D\n",
      "241/241 [==============================] - 162s 670ms/step - loss: 0.9158 - angle_out_loss: 1.0172 - throttle_out_loss: 0.0382 - val_loss: 0.9173 - val_angle_out_loss: 1.0188 - val_throttle_out_loss: 0.0369\n",
      "Epoch 16/100\n",
      "240/241 [============================>.] - ETA: 0s - loss: 0.8678 - angle_out_loss: 0.9638 - throttle_out_loss: 0.0391\n",
      "Epoch 00016: val_loss improved from 0.91731 to 0.85204, saving model to models/pilot_Allconv3D\n",
      "241/241 [==============================] - 154s 639ms/step - loss: 0.8682 - angle_out_loss: 0.9642 - throttle_out_loss: 0.0391 - val_loss: 0.8520 - val_angle_out_loss: 0.9463 - val_throttle_out_loss: 0.0367\n",
      "Epoch 17/100\n",
      "240/241 [============================>.] - ETA: 0s - loss: 0.8263 - angle_out_loss: 0.9177 - throttle_out_loss: 0.0376\n",
      "Epoch 00017: val_loss did not improve\n",
      "241/241 [==============================] - 151s 626ms/step - loss: 0.8259 - angle_out_loss: 0.9173 - throttle_out_loss: 0.0376 - val_loss: 0.8848 - val_angle_out_loss: 0.9827 - val_throttle_out_loss: 0.0363\n",
      "Epoch 18/100\n",
      "240/241 [============================>.] - ETA: 0s - loss: 0.7915 - angle_out_loss: 0.8790 - throttle_out_loss: 0.0392\n",
      "Epoch 00018: val_loss improved from 0.85204 to 0.80049, saving model to models/pilot_Allconv3D\n",
      "241/241 [==============================] - 154s 640ms/step - loss: 0.7914 - angle_out_loss: 0.8789 - throttle_out_loss: 0.0392 - val_loss: 0.8005 - val_angle_out_loss: 0.8890 - val_throttle_out_loss: 0.0372\n",
      "Epoch 19/100\n",
      "240/241 [============================>.] - ETA: 0s - loss: 0.7576 - angle_out_loss: 0.8414 - throttle_out_loss: 0.0385\n",
      "Epoch 00019: val_loss did not improve\n",
      "241/241 [==============================] - 157s 650ms/step - loss: 0.7572 - angle_out_loss: 0.8409 - throttle_out_loss: 0.0386 - val_loss: 0.8090 - val_angle_out_loss: 0.8985 - val_throttle_out_loss: 0.0362\n",
      "Epoch 20/100\n",
      "240/241 [============================>.] - ETA: 0s - loss: 0.7136 - angle_out_loss: 0.7924 - throttle_out_loss: 0.0389\n",
      "Epoch 00020: val_loss did not improve\n",
      "241/241 [==============================] - 156s 645ms/step - loss: 0.7131 - angle_out_loss: 0.7920 - throttle_out_loss: 0.0388 - val_loss: 0.8655 - val_angle_out_loss: 0.9612 - val_throttle_out_loss: 0.0375\n"
     ]
    },
    {
     "name": "stdout",
     "output_type": "stream",
     "text": [
      "Epoch 21/100\n",
      "240/241 [============================>.] - ETA: 0s - loss: 0.6880 - angle_out_loss: 0.7640 - throttle_out_loss: 0.0389\n",
      "Epoch 00021: val_loss improved from 0.80049 to 0.75446, saving model to models/pilot_Allconv3D\n",
      "241/241 [==============================] - 155s 642ms/step - loss: 0.6878 - angle_out_loss: 0.7638 - throttle_out_loss: 0.0389 - val_loss: 0.7545 - val_angle_out_loss: 0.8378 - val_throttle_out_loss: 0.0395\n",
      "Epoch 22/100\n",
      "240/241 [============================>.] - ETA: 0s - loss: 0.6533 - angle_out_loss: 0.7255 - throttle_out_loss: 0.0395\n",
      "Epoch 00022: val_loss did not improve\n",
      "241/241 [==============================] - 156s 647ms/step - loss: 0.6532 - angle_out_loss: 0.7253 - throttle_out_loss: 0.0395 - val_loss: 0.7730 - val_angle_out_loss: 0.8585 - val_throttle_out_loss: 0.0375\n",
      "Epoch 23/100\n",
      "240/241 [============================>.] - ETA: 0s - loss: 0.6337 - angle_out_loss: 0.7037 - throttle_out_loss: 0.0384\n",
      "Epoch 00023: val_loss improved from 0.75446 to 0.72108, saving model to models/pilot_Allconv3D\n",
      "241/241 [==============================] - 148s 613ms/step - loss: 0.6333 - angle_out_loss: 0.7032 - throttle_out_loss: 0.0384 - val_loss: 0.7211 - val_angle_out_loss: 0.8008 - val_throttle_out_loss: 0.0400\n",
      "Epoch 24/100\n",
      "240/241 [============================>.] - ETA: 0s - loss: 0.5987 - angle_out_loss: 0.6648 - throttle_out_loss: 0.0391\n",
      "Epoch 00024: val_loss improved from 0.72108 to 0.71399, saving model to models/pilot_Allconv3D\n",
      "241/241 [==============================] - 158s 655ms/step - loss: 0.5989 - angle_out_loss: 0.6650 - throttle_out_loss: 0.0391 - val_loss: 0.7140 - val_angle_out_loss: 0.7929 - val_throttle_out_loss: 0.0399\n",
      "Epoch 25/100\n",
      "240/241 [============================>.] - ETA: 0s - loss: 0.5714 - angle_out_loss: 0.6345 - throttle_out_loss: 0.0393\n",
      "Epoch 00025: val_loss improved from 0.71399 to 0.70443, saving model to models/pilot_Allconv3D\n",
      "241/241 [==============================] - 157s 653ms/step - loss: 0.5711 - angle_out_loss: 0.6341 - throttle_out_loss: 0.0393 - val_loss: 0.7044 - val_angle_out_loss: 0.7823 - val_throttle_out_loss: 0.0365\n",
      "Epoch 26/100\n",
      "240/241 [============================>.] - ETA: 0s - loss: 0.5607 - angle_out_loss: 0.6225 - throttle_out_loss: 0.0396\n",
      "Epoch 00026: val_loss improved from 0.70443 to 0.67243, saving model to models/pilot_Allconv3D\n",
      "241/241 [==============================] - 156s 646ms/step - loss: 0.5606 - angle_out_loss: 0.6224 - throttle_out_loss: 0.0396 - val_loss: 0.6724 - val_angle_out_loss: 0.7467 - val_throttle_out_loss: 0.0383\n",
      "Epoch 27/100\n",
      "240/241 [============================>.] - ETA: 0s - loss: 0.5390 - angle_out_loss: 0.5984 - throttle_out_loss: 0.0393\n",
      "Epoch 00027: val_loss improved from 0.67243 to 0.65882, saving model to models/pilot_Allconv3D\n",
      "241/241 [==============================] - 150s 624ms/step - loss: 0.5388 - angle_out_loss: 0.5983 - throttle_out_loss: 0.0394 - val_loss: 0.6588 - val_angle_out_loss: 0.7316 - val_throttle_out_loss: 0.0368\n",
      "Epoch 28/100\n",
      "240/241 [============================>.] - ETA: 0s - loss: 0.5152 - angle_out_loss: 0.5720 - throttle_out_loss: 0.0403\n",
      "Epoch 00028: val_loss improved from 0.65882 to 0.64330, saving model to models/pilot_Allconv3D\n",
      "241/241 [==============================] - 155s 644ms/step - loss: 0.5152 - angle_out_loss: 0.5720 - throttle_out_loss: 0.0403 - val_loss: 0.6433 - val_angle_out_loss: 0.7144 - val_throttle_out_loss: 0.0360\n",
      "Epoch 29/100\n",
      "240/241 [============================>.] - ETA: 0s - loss: 0.4978 - angle_out_loss: 0.5527 - throttle_out_loss: 0.0393\n",
      "Epoch 00029: val_loss did not improve\n",
      "241/241 [==============================] - 156s 649ms/step - loss: 0.4981 - angle_out_loss: 0.5530 - throttle_out_loss: 0.0393 - val_loss: 0.6440 - val_angle_out_loss: 0.7151 - val_throttle_out_loss: 0.0388\n",
      "Epoch 30/100\n",
      "240/241 [============================>.] - ETA: 0s - loss: 0.4768 - angle_out_loss: 0.5293 - throttle_out_loss: 0.0405\n",
      "Epoch 00030: val_loss did not improve\n",
      "241/241 [==============================] - 152s 631ms/step - loss: 0.4768 - angle_out_loss: 0.5293 - throttle_out_loss: 0.0405 - val_loss: 0.6452 - val_angle_out_loss: 0.7165 - val_throttle_out_loss: 0.0372\n",
      "Epoch 31/100\n",
      "240/241 [============================>.] - ETA: 0s - loss: 0.4622 - angle_out_loss: 0.5132 - throttle_out_loss: 0.0396\n",
      "Epoch 00031: val_loss did not improve\n",
      "241/241 [==============================] - 153s 637ms/step - loss: 0.4624 - angle_out_loss: 0.5133 - throttle_out_loss: 0.0396 - val_loss: 0.6641 - val_angle_out_loss: 0.7375 - val_throttle_out_loss: 0.0366\n",
      "Epoch 32/100\n",
      "240/241 [============================>.] - ETA: 0s - loss: 0.4476 - angle_out_loss: 0.4969 - throttle_out_loss: 0.0400\n",
      "Epoch 00032: val_loss improved from 0.64330 to 0.64170, saving model to models/pilot_Allconv3D\n",
      "241/241 [==============================] - 157s 651ms/step - loss: 0.4477 - angle_out_loss: 0.4970 - throttle_out_loss: 0.0400 - val_loss: 0.6417 - val_angle_out_loss: 0.7126 - val_throttle_out_loss: 0.0396\n",
      "Epoch 33/100\n",
      "240/241 [============================>.] - ETA: 0s - loss: 0.4444 - angle_out_loss: 0.4934 - throttle_out_loss: 0.0397\n",
      "Epoch 00033: val_loss improved from 0.64170 to 0.63781, saving model to models/pilot_Allconv3D\n",
      "241/241 [==============================] - 153s 636ms/step - loss: 0.4442 - angle_out_loss: 0.4931 - throttle_out_loss: 0.0397 - val_loss: 0.6378 - val_angle_out_loss: 0.7083 - val_throttle_out_loss: 0.0366\n",
      "Epoch 34/100\n",
      "240/241 [============================>.] - ETA: 0s - loss: 0.4313 - angle_out_loss: 0.4788 - throttle_out_loss: 0.0403\n",
      "Epoch 00034: val_loss did not improve\n",
      "241/241 [==============================] - 153s 633ms/step - loss: 0.4312 - angle_out_loss: 0.4786 - throttle_out_loss: 0.0403 - val_loss: 0.6453 - val_angle_out_loss: 0.7165 - val_throttle_out_loss: 0.0378\n",
      "Epoch 35/100\n",
      "240/241 [============================>.] - ETA: 0s - loss: 0.4128 - angle_out_loss: 0.4582 - throttle_out_loss: 0.0395\n",
      "Epoch 00035: val_loss did not improve\n",
      "241/241 [==============================] - 150s 623ms/step - loss: 0.4127 - angle_out_loss: 0.4581 - throttle_out_loss: 0.0395 - val_loss: 0.6487 - val_angle_out_loss: 0.7204 - val_throttle_out_loss: 0.0385\n",
      "Epoch 36/100\n",
      "240/241 [============================>.] - ETA: 0s - loss: 0.4052 - angle_out_loss: 0.4497 - throttle_out_loss: 0.0399\n",
      "Epoch 00036: val_loss did not improve\n",
      "241/241 [==============================] - 146s 605ms/step - loss: 0.4052 - angle_out_loss: 0.4497 - throttle_out_loss: 0.0400 - val_loss: 0.6922 - val_angle_out_loss: 0.7687 - val_throttle_out_loss: 0.0395\n",
      "Epoch 37/100\n",
      "240/241 [============================>.] - ETA: 0s - loss: 0.3971 - angle_out_loss: 0.4407 - throttle_out_loss: 0.0397\n",
      "Epoch 00037: val_loss did not improve\n",
      "241/241 [==============================] - 148s 613ms/step - loss: 0.3973 - angle_out_loss: 0.4410 - throttle_out_loss: 0.0397 - val_loss: 0.6427 - val_angle_out_loss: 0.7137 - val_throttle_out_loss: 0.0367\n",
      "Epoch 38/100\n",
      "240/241 [============================>.] - ETA: 0s - loss: 0.3754 - angle_out_loss: 0.4167 - throttle_out_loss: 0.0408\n",
      "Epoch 00038: val_loss improved from 0.63781 to 0.63708, saving model to models/pilot_Allconv3D\n",
      "241/241 [==============================] - 144s 597ms/step - loss: 0.3754 - angle_out_loss: 0.4167 - throttle_out_loss: 0.0408 - val_loss: 0.6371 - val_angle_out_loss: 0.7074 - val_throttle_out_loss: 0.0399\n",
      "Epoch 39/100\n",
      "240/241 [============================>.] - ETA: 0s - loss: 0.3658 - angle_out_loss: 0.4060 - throttle_out_loss: 0.0395\n",
      "Epoch 00039: val_loss improved from 0.63708 to 0.61013, saving model to models/pilot_Allconv3D\n",
      "241/241 [==============================] - 140s 582ms/step - loss: 0.3661 - angle_out_loss: 0.4063 - throttle_out_loss: 0.0394 - val_loss: 0.6101 - val_angle_out_loss: 0.6775 - val_throttle_out_loss: 0.0350\n",
      "Epoch 40/100\n",
      "240/241 [============================>.] - ETA: 0s - loss: 0.3512 - angle_out_loss: 0.3898 - throttle_out_loss: 0.0398\n",
      "Epoch 00040: val_loss did not improve\n",
      "241/241 [==============================] - 133s 551ms/step - loss: 0.3510 - angle_out_loss: 0.3895 - throttle_out_loss: 0.0397 - val_loss: 0.6112 - val_angle_out_loss: 0.6787 - val_throttle_out_loss: 0.0376\n",
      "Epoch 41/100\n",
      "240/241 [============================>.] - ETA: 0s - loss: 0.3452 - angle_out_loss: 0.3831 - throttle_out_loss: 0.0400\n",
      "Epoch 00041: val_loss did not improve\n",
      "241/241 [==============================] - 137s 570ms/step - loss: 0.3450 - angle_out_loss: 0.3829 - throttle_out_loss: 0.0400 - val_loss: 0.6801 - val_angle_out_loss: 0.7553 - val_throttle_out_loss: 0.0389\n",
      "Epoch 42/100\n",
      "240/241 [============================>.] - ETA: 0s - loss: 0.3436 - angle_out_loss: 0.3814 - throttle_out_loss: 0.0405\n",
      "Epoch 00042: val_loss did not improve\n",
      "241/241 [==============================] - 141s 584ms/step - loss: 0.3436 - angle_out_loss: 0.3813 - throttle_out_loss: 0.0405 - val_loss: 0.6320 - val_angle_out_loss: 0.7018 - val_throttle_out_loss: 0.0375\n",
      "Epoch 43/100\n",
      "240/241 [============================>.] - ETA: 0s - loss: 0.3455 - angle_out_loss: 0.3834 - throttle_out_loss: 0.0408\n",
      "Epoch 00043: val_loss did not improve\n",
      "241/241 [==============================] - 139s 576ms/step - loss: 0.3455 - angle_out_loss: 0.3835 - throttle_out_loss: 0.0408 - val_loss: 0.6151 - val_angle_out_loss: 0.6830 - val_throttle_out_loss: 0.0393\n",
      "Epoch 44/100\n",
      "240/241 [============================>.] - ETA: 0s - loss: 0.3315 - angle_out_loss: 0.3679 - throttle_out_loss: 0.0399\n",
      "Epoch 00044: val_loss did not improve\n",
      "241/241 [==============================] - 136s 564ms/step - loss: 0.3311 - angle_out_loss: 0.3674 - throttle_out_loss: 0.0400 - val_loss: 0.6158 - val_angle_out_loss: 0.6838 - val_throttle_out_loss: 0.0375\n",
      "Epoch 00044: early stopping\n"
     ]
    },
    {
     "data": {
      "text/plain": [
       "<tensorflow.python.keras._impl.keras.callbacks.History at 0x19732bc7e10>"
      ]
     },
     "execution_count": 27,
     "metadata": {},
     "output_type": "execute_result"
    }
   ],
   "source": [
    "train(train_gen, val_gen, saved_model_path=new_model_path, steps=steps_per_epoch, train_split=0.8)"
   ]
  },
  {
   "cell_type": "code",
   "execution_count": null,
   "metadata": {},
   "outputs": [],
   "source": [
    "\"\"\"\n",
    "Records\n",
    "\n",
    "GRU with rmsprop optimizer\n",
    "record\n",
    "241/241 [==============================] - 137s 570ms/step - loss: 1.6156 - angle_out_loss: 1.7943 \n",
    "- throttle_out_loss: 0.0702 - val_loss: 2.1860 - val_angle_out_loss: 2.4283 - val_throttle_out_loss: 0.0526\n",
    "Epoch 00010: early stopping\n",
    "\n",
    "Basic Refference model: pilot_TdBasic\n",
    "Original CNN -> TimeDistributed -> Flatten -> 1 Dense\n",
    "241/241 [==============================] - 153s 636ms/step - loss: 0.6759 - angle_out_loss: 0.7502 - \n",
    "throttle_out_loss: 0.0649 - val_loss: 0.8818 - val_angle_out_loss: 0.9788 - val_throttle_out_loss: 0.0893\n",
    "Epoch 00019: early stopping\n",
    "\n",
    "Basic conv3D model: pilot_conv3D with rmsprop and no activation \n",
    "Original CNN -> TimeDistributed -> conv3D -> Flatten -> 1 Dense\n",
    "241/241 [==============================] - 154s 641ms/step - loss: 0.6136 - angle_out_loss: 0.6812 -\n",
    "throttle_out_loss: 0.0546 - val_loss: 0.7844 - val_angle_out_loss: 0.8709 - val_throttle_out_loss: 0.0511\n",
    "\n",
    "All conv3D model: pilot_Allconv3D with adam\n",
    "Con3D strides=(1, 2, 2): 24, (1, 5, 5) -> 32, (1, 5, 5) -> 64, (1, 5, 5) -> 64, (1, 3, 3) -> strides=(1, 1, 1): 64, (3, 3, 3) -> \n",
    "batchnorm -> flatten -> dense\n",
    "At least\n",
    "241/241 [==============================] - 140s 582ms/step - loss: 0.3661 - \n",
    "angle_out_loss: 0.4063 - throttle_out_loss: 0.0394 - val_loss: 0.6101 -\n",
    "val_angle_out_loss: 0.6775 - val_throttle_out_loss: 0.0350\n",
    "\"\"\""
   ]
  },
  {
   "cell_type": "code",
   "execution_count": 68,
   "metadata": {},
   "outputs": [
    {
     "data": {
      "text/plain": [
       "[0.4666158199310303, 0.5176802217960358, 0.07036299034953117]"
      ]
     },
     "execution_count": 68,
     "metadata": {},
     "output_type": "execute_result"
    }
   ],
   "source": [
    "model.evaluate_generator(train_gen, steps=10)"
   ]
  },
  {
   "cell_type": "code",
   "execution_count": 58,
   "metadata": {},
   "outputs": [],
   "source": [
    "#check against original\n",
    "def unbin(arr):\n",
    "    index = np.argmax(arr)\n",
    "    return index/14*2-1\n",
    "#     return index"
   ]
  },
  {
   "cell_type": "code",
   "execution_count": 59,
   "metadata": {},
   "outputs": [
    {
     "data": {
      "text/plain": [
       "0.0"
      ]
     },
     "execution_count": 59,
     "metadata": {},
     "output_type": "execute_result"
    }
   ],
   "source": [
    "unbin([0, 0, 0, 0, 0, 0, 0, 1, 0, 0, 0, 0, 0, 0, 0])"
   ]
  },
  {
   "cell_type": "code",
   "execution_count": 60,
   "metadata": {},
   "outputs": [],
   "source": [
    "def run(img_arr):\n",
    "    img_arr = img_arr.reshape((1,) + img_arr.shape)\n",
    "    angle_binned, throttle = model.predict(img_arr)\n",
    "    angle_unbinned = unbin(angle_binned[0])\n",
    "    return angle_unbinned, throttle[0][0]"
   ]
  },
  {
   "cell_type": "code",
   "execution_count": 61,
   "metadata": {},
   "outputs": [],
   "source": [
    "frame_idx = 200 #500 - 600"
   ]
  },
  {
   "cell_type": "code",
   "execution_count": 65,
   "metadata": {},
   "outputs": [],
   "source": [
    "img_name = df['cam/image_array'][frame_idx]\n",
    "images = get_prev_img_names(img_name, 3)\n",
    "val = []\n",
    "for i, name in enumerate(images):\n",
    "    img = Image.open(f'{PATH}/{img_name}')\n",
    "    val.append(np.array(img))\n",
    "val = np.array(val)"
   ]
  },
  {
   "cell_type": "code",
   "execution_count": 66,
   "metadata": {},
   "outputs": [
    {
     "data": {
      "text/plain": [
       "(3, 120, 160, 3)"
      ]
     },
     "execution_count": 66,
     "metadata": {},
     "output_type": "execute_result"
    }
   ],
   "source": [
    "val.shape"
   ]
  },
  {
   "cell_type": "code",
   "execution_count": 67,
   "metadata": {},
   "outputs": [
    {
     "data": {
      "text/plain": [
       "(-0.4285714285714286, 0.30532354)"
      ]
     },
     "execution_count": 67,
     "metadata": {},
     "output_type": "execute_result"
    }
   ],
   "source": [
    "#prediction\n",
    "run(val)"
   ]
  },
  {
   "cell_type": "code",
   "execution_count": 125,
   "metadata": {},
   "outputs": [
    {
     "data": {
      "text/plain": [
       "(-0.45, 0.29)"
      ]
     },
     "execution_count": 125,
     "metadata": {},
     "output_type": "execute_result"
    }
   ],
   "source": [
    "#compare to actual data\n",
    "df['user/angle'][frame_idx], df['user/throttle'][frame_idx]"
   ]
  },
  {
   "cell_type": "code",
   "execution_count": 126,
   "metadata": {},
   "outputs": [
    {
     "data": {
      "text/plain": [
       "(-0.53, 0.33)"
      ]
     },
     "execution_count": 126,
     "metadata": {},
     "output_type": "execute_result"
    }
   ],
   "source": [
    "df['user/angle'][frame_idx-1], df['user/throttle'][frame_idx-1]"
   ]
  },
  {
   "cell_type": "code",
   "execution_count": 127,
   "metadata": {},
   "outputs": [
    {
     "data": {
      "text/plain": [
       "(-0.53, 0.33)"
      ]
     },
     "execution_count": 127,
     "metadata": {},
     "output_type": "execute_result"
    }
   ],
   "source": [
    "df['user/angle'][frame_idx-2], df['user/throttle'][frame_idx-2]"
   ]
  },
  {
   "cell_type": "code",
   "execution_count": null,
   "metadata": {},
   "outputs": [],
   "source": []
  }
 ],
 "metadata": {
  "kernelspec": {
   "display_name": "Tensorflow-GPU",
   "language": "python",
   "name": "tf-gpu"
  },
  "language_info": {
   "codemirror_mode": {
    "name": "ipython",
    "version": 3
   },
   "file_extension": ".py",
   "mimetype": "text/x-python",
   "name": "python",
   "nbconvert_exporter": "python",
   "pygments_lexer": "ipython3",
   "version": "3.6.6"
  }
 },
 "nbformat": 4,
 "nbformat_minor": 2
}
