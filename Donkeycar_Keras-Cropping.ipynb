{
 "cells": [
  {
   "cell_type": "code",
   "execution_count": 18,
   "metadata": {},
   "outputs": [],
   "source": [
    "import os\n",
    "import sys\n",
    "import time\n",
    "import json\n",
    "import datetime\n",
    "import random\n",
    "import tarfile\n",
    "\n",
    "import numpy as np\n",
    "import pandas as pd\n",
    "from PIL import Image\n",
    "PATH = \"../tubs/tub5\" #Shadow"
   ]
  },
  {
   "cell_type": "code",
   "execution_count": 19,
   "metadata": {},
   "outputs": [
    {
     "name": "stdout",
     "output_type": "stream",
     "text": [
      "1.8.0\n"
     ]
    }
   ],
   "source": [
    "#make sure tensorflow version is the same as one installed on donkeycar (1.8.0)\n",
    "import tensorflow as tf\n",
    "print(tf.__version__)"
   ]
  },
  {
   "cell_type": "code",
   "execution_count": 20,
   "metadata": {},
   "outputs": [
    {
     "data": {
      "text/plain": [
       "['/device:GPU:0']"
      ]
     },
     "execution_count": 20,
     "metadata": {},
     "output_type": "execute_result"
    }
   ],
   "source": [
    "from tensorflow.python.client import device_lib\n",
    "\n",
    "def get_available_gpus():\n",
    "    local_device_protos = device_lib.list_local_devices()\n",
    "    return [x.name for x in local_device_protos if x.device_type == 'GPU']\n",
    "get_available_gpus()"
   ]
  },
  {
   "cell_type": "code",
   "execution_count": 21,
   "metadata": {},
   "outputs": [],
   "source": [
    "#create df from path\n",
    "def df_from_jsons(PATH, max_items=None):\n",
    "    \n",
    "    #Get json files from path\n",
    "    json_files = [file for file in os.listdir(PATH) if file.endswith('json') ]\n",
    "    \n",
    "    df = pd.DataFrame()\n",
    "    for i, j in enumerate(json_files[1:max_items]):\n",
    "        with open(f'{PATH}/{j}') as f:\n",
    "            data = json.load(f)\n",
    "\n",
    "            userThrottle = data[\"user/throttle\"]\n",
    "            userAngle = data[\"user/angle\"]\n",
    "            camImage_path = data[\"cam/image_array\"]\n",
    "            index = int(camImage_path[:-21])\n",
    "            camImage_path =  PATH + \"/\" + camImage_path\n",
    "            df_row = pd.DataFrame([[userThrottle, userAngle, camImage_path]], index = [index], \n",
    "                                  columns = [\"user/throttle\", \"user/angle\", \"cam/image_array\"])\n",
    "\n",
    "            df = df.append(df_row)\n",
    "    df = df.sort_index()\n",
    "    print(\"Loaded {} json files\".format(len(json_files)))\n",
    "    return df"
   ]
  },
  {
   "cell_type": "code",
   "execution_count": 22,
   "metadata": {},
   "outputs": [],
   "source": [
    "#df = df_from_jsons(PATH, max_items=None)"
   ]
  },
  {
   "cell_type": "code",
   "execution_count": 23,
   "metadata": {},
   "outputs": [],
   "source": [
    "#df.to_feather('tmp/df_wPath')"
   ]
  },
  {
   "cell_type": "code",
   "execution_count": 24,
   "metadata": {},
   "outputs": [
    {
     "name": "stderr",
     "output_type": "stream",
     "text": [
      "C:\\Users\\Jason\\Anaconda3\\envs\\tf-gpu\\lib\\site-packages\\pandas\\io\\feather_format.py:112: FutureWarning: `nthreads` argument is deprecated, pass `use_threads` instead\n",
      "  return feather.read_dataframe(path, nthreads=nthreads)\n"
     ]
    }
   ],
   "source": [
    "df = pd.read_feather('tmp/df_wPATH')"
   ]
  },
  {
   "cell_type": "code",
   "execution_count": 25,
   "metadata": {},
   "outputs": [
    {
     "data": {
      "text/plain": [
       "(38574, 3)"
      ]
     },
     "execution_count": 25,
     "metadata": {},
     "output_type": "execute_result"
    }
   ],
   "source": [
    "df.shape"
   ]
  },
  {
   "cell_type": "code",
   "execution_count": 26,
   "metadata": {},
   "outputs": [
    {
     "data": {
      "text/html": [
       "<div>\n",
       "<style scoped>\n",
       "    .dataframe tbody tr th:only-of-type {\n",
       "        vertical-align: middle;\n",
       "    }\n",
       "\n",
       "    .dataframe tbody tr th {\n",
       "        vertical-align: top;\n",
       "    }\n",
       "\n",
       "    .dataframe thead th {\n",
       "        text-align: right;\n",
       "    }\n",
       "</style>\n",
       "<table border=\"1\" class=\"dataframe\">\n",
       "  <thead>\n",
       "    <tr style=\"text-align: right;\">\n",
       "      <th></th>\n",
       "      <th>user/throttle</th>\n",
       "      <th>user/angle</th>\n",
       "      <th>cam/image_array</th>\n",
       "    </tr>\n",
       "  </thead>\n",
       "  <tbody>\n",
       "    <tr>\n",
       "      <th>0</th>\n",
       "      <td>0.08</td>\n",
       "      <td>0.01</td>\n",
       "      <td>../tubs/tub5/0_cam-image_array_.jpg</td>\n",
       "    </tr>\n",
       "    <tr>\n",
       "      <th>1</th>\n",
       "      <td>0.12</td>\n",
       "      <td>-0.03</td>\n",
       "      <td>../tubs/tub5/1_cam-image_array_.jpg</td>\n",
       "    </tr>\n",
       "    <tr>\n",
       "      <th>2</th>\n",
       "      <td>0.12</td>\n",
       "      <td>-0.03</td>\n",
       "      <td>../tubs/tub5/2_cam-image_array_.jpg</td>\n",
       "    </tr>\n",
       "    <tr>\n",
       "      <th>3</th>\n",
       "      <td>0.14</td>\n",
       "      <td>-0.06</td>\n",
       "      <td>../tubs/tub5/3_cam-image_array_.jpg</td>\n",
       "    </tr>\n",
       "    <tr>\n",
       "      <th>4</th>\n",
       "      <td>0.14</td>\n",
       "      <td>-0.06</td>\n",
       "      <td>../tubs/tub5/4_cam-image_array_.jpg</td>\n",
       "    </tr>\n",
       "  </tbody>\n",
       "</table>\n",
       "</div>"
      ],
      "text/plain": [
       "   user/throttle  user/angle                      cam/image_array\n",
       "0           0.08        0.01  ../tubs/tub5/0_cam-image_array_.jpg\n",
       "1           0.12       -0.03  ../tubs/tub5/1_cam-image_array_.jpg\n",
       "2           0.12       -0.03  ../tubs/tub5/2_cam-image_array_.jpg\n",
       "3           0.14       -0.06  ../tubs/tub5/3_cam-image_array_.jpg\n",
       "4           0.14       -0.06  ../tubs/tub5/4_cam-image_array_.jpg"
      ]
     },
     "execution_count": 26,
     "metadata": {},
     "output_type": "execute_result"
    }
   ],
   "source": [
    "df.head()"
   ]
  },
  {
   "cell_type": "code",
   "execution_count": 27,
   "metadata": {},
   "outputs": [],
   "source": [
    "X_keys = ['cam/image_array']\n",
    "y_keys = ['user/angle', 'user/throttle']\n",
    "new_model_path = 'models/pilot_jn'\n",
    "bs = 256\n",
    "train_frac = 0.8"
   ]
  },
  {
   "cell_type": "code",
   "execution_count": 28,
   "metadata": {},
   "outputs": [],
   "source": [
    "def to_bin(a):\n",
    "    arr = np.zeros(15)\n",
    "    a = a + 1\n",
    "    b = round(a/(2/14))\n",
    "    arr[int(b)] = 1\n",
    "    return arr"
   ]
  },
  {
   "cell_type": "code",
   "execution_count": 29,
   "metadata": {},
   "outputs": [],
   "source": [
    "def read_record(record_dict, path = PATH):\n",
    "    data = {}\n",
    "    for key, val in record_dict.items():\n",
    "        if key == 'cam/image_array':\n",
    "            img = Image.open(f'{val}')\n",
    "            val = np.array(img)\n",
    "        \n",
    "        data[key] = val\n",
    "    return data"
   ]
  },
  {
   "cell_type": "code",
   "execution_count": 30,
   "metadata": {},
   "outputs": [
    {
     "data": {
      "image/png": "[encoded data removed]",
      "text/plain": [
       "<PIL.Image.Image image mode=RGB size=160x120 at 0x2A766CA8908>"
      ]
     },
     "execution_count": 30,
     "metadata": {},
     "output_type": "execute_result"
    }
   ],
   "source": [
    "#Testing\n",
    "df_t = df.sample(n=1).to_dict(orient='record')[0]\n",
    "record = read_record(df_t)\n",
    "data = record['cam/image_array']\n",
    "pic = Image.fromarray(data, 'RGB')\n",
    "pic"
   ]
  },
  {
   "cell_type": "code",
   "execution_count": 31,
   "metadata": {},
   "outputs": [],
   "source": [
    "def get_record_gen(record_transform=None, shuffle=True, df=None):\n",
    "    while True:\n",
    "        for _ in df.iterrows():\n",
    "            if shuffle:\n",
    "                record_dict = df.sample(n=1).to_dict(orient='record')[0]\n",
    "            \n",
    "            record_dict = read_record(record_dict)\n",
    "            \n",
    "            if record_transform:\n",
    "                record_dict = record_transform(record_dict)\n",
    "            \n",
    "            yield record_dict"
   ]
  },
  {
   "cell_type": "code",
   "execution_count": 32,
   "metadata": {},
   "outputs": [],
   "source": [
    "# record_gen = get_record_gen(record_transform=None, shuffle=True, df=df)"
   ]
  },
  {
   "cell_type": "code",
   "execution_count": 33,
   "metadata": {},
   "outputs": [],
   "source": [
    "# next(record_gen)"
   ]
  },
  {
   "cell_type": "code",
   "execution_count": 34,
   "metadata": {},
   "outputs": [],
   "source": [
    "def get_batch_gen(keys=None, batch_size=128, record_transform=None, shuffle=True, df=None):\n",
    "    \n",
    "    record_gen = get_record_gen(record_transform=record_transform, shuffle=shuffle, df=df)\n",
    "    \n",
    "    while True:\n",
    "        record_list = [next(record_gen) for _ in range(batch_size)]\n",
    "        \n",
    "        batch_arrays = {}\n",
    "        for i, k in enumerate(keys):\n",
    "            arr = np.array([r[k] for r in record_list])\n",
    "            batch_arrays[k] = arr\n",
    "        yield batch_arrays"
   ]
  },
  {
   "cell_type": "code",
   "execution_count": 35,
   "metadata": {},
   "outputs": [],
   "source": [
    "def get_train_gen(X_keys, Y_keys, batch_size=128, record_transform=None, df=None): #\n",
    "    batch_gen = get_batch_gen(X_keys + Y_keys, batch_size=batch_size,\n",
    "                                  record_transform=record_transform, df=df)\n",
    "    while True:\n",
    "        batch = next(batch_gen)\n",
    "        X = [batch[k] for k in X_keys]\n",
    "        Y = [batch[k] for k in Y_keys] \n",
    "        yield X, Y"
   ]
  },
  {
   "cell_type": "code",
   "execution_count": 36,
   "metadata": {},
   "outputs": [],
   "source": [
    "def get_train_val_gen(df, X_keys, Y_keys, batch_size = 128, train_frac=0.8, #\n",
    "                      train_record_transform=None, val_record_transform=None): #\n",
    "    train_df = df.sample(frac=train_frac, random_state=200) #\n",
    "    val_df = df.drop(train_df.index) #\n",
    "    \n",
    "    train_gen = get_train_gen(X_keys=X_keys, Y_keys=Y_keys, batch_size=batch_size,\n",
    "                             record_transform=train_record_transform, df=train_df)\n",
    "    val_gen = get_train_gen(X_keys=X_keys, Y_keys=Y_keys, batch_size=batch_size,\n",
    "                           record_transform=val_record_transform, df=val_df)\n",
    "    return train_gen, val_gen\n",
    "    "
   ]
  },
  {
   "cell_type": "code",
   "execution_count": 37,
   "metadata": {},
   "outputs": [],
   "source": [
    "def record_transform(record):\n",
    "    record['user/angle'] = to_bin(record['user/angle'])\n",
    "    return record"
   ]
  },
  {
   "cell_type": "code",
   "execution_count": 38,
   "metadata": {},
   "outputs": [],
   "source": [
    "train_gen, val_gen = get_train_val_gen(df, X_keys, y_keys,\n",
    "                                               train_record_transform=record_transform, #\n",
    "                                               val_record_transform=record_transform, #\n",
    "                                               batch_size=bs, #\n",
    "                                               train_frac=train_frac) #"
   ]
  },
  {
   "cell_type": "code",
   "execution_count": 39,
   "metadata": {},
   "outputs": [],
   "source": [
    "from tensorflow.python.keras.layers import Input\n",
    "from tensorflow.python.keras.models import Model, load_model\n",
    "from tensorflow.python.keras.layers import Convolution2D, MaxPooling2D, BatchNormalization, Cropping2D\n",
    "from tensorflow.python.keras.layers import Dropout, Flatten, Dense, Cropping2D, Lambda\n",
    "from tensorflow.python.keras.callbacks import ModelCheckpoint, EarlyStopping"
   ]
  },
  {
   "cell_type": "code",
   "execution_count": 40,
   "metadata": {},
   "outputs": [],
   "source": [
    "def default_categorical():\n",
    "    img_in = Input(shape=(120, 160, 3),\n",
    "                   name='img_in')  # First layer, input layer, Shape comes from camera.py resolution, RGB\n",
    "    x = img_in\n",
    "    x = Cropping2D(cropping=((60, 0), (0, 0)))(x)\n",
    "    \n",
    "    x = Convolution2D(16, (3, 3), strides=(2, 2), activation='relu')(x)\n",
    "    x = BatchNormalization()(x)\n",
    "    \n",
    "    x = Convolution2D(24, (3, 3), strides=(2, 2), activation='relu')(x)\n",
    "    x = BatchNormalization()(x)\n",
    "    \n",
    "    x = Convolution2D(32, (3, 3), strides=(2, 2), activation='relu')(x)\n",
    "    x = BatchNormalization()(x)\n",
    "    x = Dropout(0.1)(x)\n",
    "    \n",
    "    x = Convolution2D(64, (3, 3), strides=(1, 1), activation='relu')(x)\n",
    "    x = MaxPooling2D()(x)\n",
    "    x = BatchNormalization()(x)\n",
    "    x = Dropout(0.1)(x)\n",
    "\n",
    "    x = Flatten(name='flattened')(x)\n",
    "    x = Dense(50, activation='relu')(x)\n",
    "    x = Dropout(.2)(x)\n",
    "    \n",
    "    angle_out = Dense(15, activation='softmax', name='angle_out')(x)\n",
    "    throttle_out = Dense(1, activation='relu', name='throttle_out')(x)\n",
    "\n",
    "    model = Model(inputs=[img_in], outputs=[angle_out, throttle_out])\n",
    "    model.compile(optimizer='adam',\n",
    "                  loss={'angle_out': 'categorical_crossentropy',\n",
    "                        'throttle_out': 'mean_absolute_error'},\n",
    "                  loss_weights={'angle_out': 0.9, 'throttle_out': .01})\n",
    "\n",
    "    return model"
   ]
  },
  {
   "cell_type": "code",
   "execution_count": 41,
   "metadata": {
    "scrolled": true
   },
   "outputs": [
    {
     "name": "stdout",
     "output_type": "stream",
     "text": [
      "__________________________________________________________________________________________________\n",
      "Layer (type)                    Output Shape         Param #     Connected to                     \n",
      "==================================================================================================\n",
      "img_in (InputLayer)             (None, 120, 160, 3)  0                                            \n",
      "__________________________________________________________________________________________________\n",
      "cropping2d_8 (Cropping2D)       (None, 60, 160, 3)   0           img_in[0][0]                     \n",
      "__________________________________________________________________________________________________\n",
      "conv2d_29 (Conv2D)              (None, 29, 79, 16)   448         cropping2d_8[0][0]               \n",
      "__________________________________________________________________________________________________\n",
      "batch_normalization_28 (BatchNo (None, 29, 79, 16)   64          conv2d_29[0][0]                  \n",
      "__________________________________________________________________________________________________\n",
      "conv2d_30 (Conv2D)              (None, 14, 39, 24)   3480        batch_normalization_28[0][0]     \n",
      "__________________________________________________________________________________________________\n",
      "batch_normalization_29 (BatchNo (None, 14, 39, 24)   96          conv2d_30[0][0]                  \n",
      "__________________________________________________________________________________________________\n",
      "conv2d_31 (Conv2D)              (None, 6, 19, 32)    6944        batch_normalization_29[0][0]     \n",
      "__________________________________________________________________________________________________\n",
      "batch_normalization_30 (BatchNo (None, 6, 19, 32)    128         conv2d_31[0][0]                  \n",
      "__________________________________________________________________________________________________\n",
      "dropout_20 (Dropout)            (None, 6, 19, 32)    0           batch_normalization_30[0][0]     \n",
      "__________________________________________________________________________________________________\n",
      "conv2d_32 (Conv2D)              (None, 4, 17, 64)    18496       dropout_20[0][0]                 \n",
      "__________________________________________________________________________________________________\n",
      "max_pooling2d_8 (MaxPooling2D)  (None, 2, 8, 64)     0           conv2d_32[0][0]                  \n",
      "__________________________________________________________________________________________________\n",
      "batch_normalization_31 (BatchNo (None, 2, 8, 64)     256         max_pooling2d_8[0][0]            \n",
      "__________________________________________________________________________________________________\n",
      "dropout_21 (Dropout)            (None, 2, 8, 64)     0           batch_normalization_31[0][0]     \n",
      "__________________________________________________________________________________________________\n",
      "flattened (Flatten)             (None, 1024)         0           dropout_21[0][0]                 \n",
      "__________________________________________________________________________________________________\n",
      "dense_7 (Dense)                 (None, 50)           51250       flattened[0][0]                  \n",
      "__________________________________________________________________________________________________\n",
      "dropout_22 (Dropout)            (None, 50)           0           dense_7[0][0]                    \n",
      "__________________________________________________________________________________________________\n",
      "angle_out (Dense)               (None, 15)           765         dropout_22[0][0]                 \n",
      "__________________________________________________________________________________________________\n",
      "throttle_out (Dense)            (None, 1)            51          dropout_22[0][0]                 \n",
      "==================================================================================================\n",
      "Total params: 81,978\n",
      "Trainable params: 81,706\n",
      "Non-trainable params: 272\n",
      "__________________________________________________________________________________________________\n"
     ]
    }
   ],
   "source": [
    "model = default_categorical()\n",
    "model.summary()"
   ]
  },
  {
   "cell_type": "code",
   "execution_count": 42,
   "metadata": {},
   "outputs": [],
   "source": [
    "def train(train_gen, val_gen, saved_model_path, epochs=100, steps=100, train_split=0.8,\n",
    "         verbose=1, min_delta=0.0005, patience=5, use_early_stop=True):\n",
    "    \n",
    "#     checkpoint to save model\n",
    "    save_best = ModelCheckpoint(saved_model_path, monitor='val_loss', verbose=verbose, save_best_only=True, mode='min')\n",
    "    \n",
    "    #stop training if stop improving\n",
    "    early_stop = EarlyStopping(monitor='val_loss', min_delta=min_delta, patience=patience, verbose=verbose, mode='auto')\n",
    "    \n",
    "    callbacks_list = [save_best]\n",
    "    \n",
    "    if use_early_stop:\n",
    "        callbacks_list.append(early_stop)\n",
    "        \n",
    "    hist = model.fit_generator(train_gen, steps_per_epoch=steps, epochs=epochs, verbose=1, validation_data=val_gen,\n",
    "                                callbacks=callbacks_list, validation_steps=steps * (1.0 - train_frac)//train_frac)\n",
    "    return hist"
   ]
  },
  {
   "cell_type": "code",
   "execution_count": 43,
   "metadata": {},
   "outputs": [
    {
     "data": {
      "text/plain": [
       "120"
      ]
     },
     "execution_count": 43,
     "metadata": {},
     "output_type": "execute_result"
    }
   ],
   "source": [
    "total_records = len(df)\n",
    "total_train = int(total_records * train_frac)\n",
    "total_val = total_records - total_train\n",
    "steps_per_epoch = total_train // bs\n",
    "steps_per_epoch"
   ]
  },
  {
   "cell_type": "code",
   "execution_count": 44,
   "metadata": {
    "scrolled": false
   },
   "outputs": [
    {
     "name": "stdout",
     "output_type": "stream",
     "text": [
      "Epoch 1/100\n",
      "119/120 [============================>.] - ETA: 0s - loss: 1.6746 - angle_out_loss: 1.8566 - throttle_out_loss: 0.3722\n",
      "Epoch 00001: val_loss improved from inf to 1.59611, saving model to models/pilot_jn\n",
      "120/120 [==============================] - 83s 688ms/step - loss: 1.6729 - angle_out_loss: 1.8546 - throttle_out_loss: 0.3718 - val_loss: 1.5961 - val_angle_out_loss: 1.7700 - val_throttle_out_loss: 0.3147\n",
      "Epoch 2/100\n",
      "119/120 [============================>.] - ETA: 0s - loss: 1.3567 - angle_out_loss: 1.5039 - throttle_out_loss: 0.3261\n",
      "Epoch 00002: val_loss improved from 1.59611 to 1.32288, saving model to models/pilot_jn\n",
      "120/120 [==============================] - 77s 642ms/step - loss: 1.3569 - angle_out_loss: 1.5040 - throttle_out_loss: 0.3261 - val_loss: 1.3229 - val_angle_out_loss: 1.4663 - val_throttle_out_loss: 0.3187\n",
      "Epoch 3/100\n",
      "119/120 [============================>.] - ETA: 0s - loss: 1.2505 - angle_out_loss: 1.3858 - throttle_out_loss: 0.3210\n",
      "Epoch 00003: val_loss improved from 1.32288 to 1.21723, saving model to models/pilot_jn\n",
      "120/120 [==============================] - 77s 638ms/step - loss: 1.2510 - angle_out_loss: 1.3864 - throttle_out_loss: 0.3211 - val_loss: 1.2172 - val_angle_out_loss: 1.3489 - val_throttle_out_loss: 0.3183\n",
      "Epoch 4/100\n",
      "119/120 [============================>.] - ETA: 0s - loss: 1.1658 - angle_out_loss: 1.2918 - throttle_out_loss: 0.3209\n",
      "Epoch 00004: val_loss improved from 1.21723 to 1.15642, saving model to models/pilot_jn\n",
      "120/120 [==============================] - 75s 627ms/step - loss: 1.1657 - angle_out_loss: 1.2916 - throttle_out_loss: 0.3209 - val_loss: 1.1564 - val_angle_out_loss: 1.2814 - val_throttle_out_loss: 0.3187\n",
      "Epoch 5/100\n",
      "119/120 [============================>.] - ETA: 0s - loss: 1.1111 - angle_out_loss: 1.2310 - throttle_out_loss: 0.3208\n",
      "Epoch 00005: val_loss improved from 1.15642 to 1.11014, saving model to models/pilot_jn\n",
      "120/120 [==============================] - 75s 622ms/step - loss: 1.1109 - angle_out_loss: 1.2307 - throttle_out_loss: 0.3207 - val_loss: 1.1101 - val_angle_out_loss: 1.2299 - val_throttle_out_loss: 0.3203\n",
      "Epoch 6/100\n",
      "119/120 [============================>.] - ETA: 0s - loss: 1.0563 - angle_out_loss: 1.1701 - throttle_out_loss: 0.3207\n",
      "Epoch 00006: val_loss improved from 1.11014 to 1.07649, saving model to models/pilot_jn\n",
      "120/120 [==============================] - 70s 584ms/step - loss: 1.0561 - angle_out_loss: 1.1698 - throttle_out_loss: 0.3207 - val_loss: 1.0765 - val_angle_out_loss: 1.1926 - val_throttle_out_loss: 0.3192\n",
      "Epoch 7/100\n",
      "119/120 [============================>.] - ETA: 0s - loss: 1.0146 - angle_out_loss: 1.1238 - throttle_out_loss: 0.3208\n",
      "Epoch 00007: val_loss improved from 1.07649 to 1.03411, saving model to models/pilot_jn\n",
      "120/120 [==============================] - 70s 582ms/step - loss: 1.0141 - angle_out_loss: 1.1232 - throttle_out_loss: 0.3208 - val_loss: 1.0341 - val_angle_out_loss: 1.1455 - val_throttle_out_loss: 0.3187\n",
      "Epoch 8/100\n",
      "119/120 [============================>.] - ETA: 0s - loss: 0.9754 - angle_out_loss: 1.0802 - throttle_out_loss: 0.3211\n",
      "Epoch 00008: val_loss improved from 1.03411 to 1.02485, saving model to models/pilot_jn\n",
      "120/120 [==============================] - 71s 591ms/step - loss: 0.9757 - angle_out_loss: 1.0805 - throttle_out_loss: 0.3211 - val_loss: 1.0249 - val_angle_out_loss: 1.1352 - val_throttle_out_loss: 0.3193\n",
      "Epoch 9/100\n",
      "119/120 [============================>.] - ETA: 0s - loss: 0.9325 - angle_out_loss: 1.0325 - throttle_out_loss: 0.3207\n",
      "Epoch 00009: val_loss improved from 1.02485 to 1.00572, saving model to models/pilot_jn\n",
      "120/120 [==============================] - 70s 585ms/step - loss: 0.9326 - angle_out_loss: 1.0327 - throttle_out_loss: 0.3207 - val_loss: 1.0057 - val_angle_out_loss: 1.1139 - val_throttle_out_loss: 0.3198\n",
      "Epoch 10/100\n",
      "119/120 [============================>.] - ETA: 0s - loss: 0.9018 - angle_out_loss: 0.9984 - throttle_out_loss: 0.3211\n",
      "Epoch 00010: val_loss improved from 1.00572 to 0.99596, saving model to models/pilot_jn\n",
      "120/120 [==============================] - 71s 588ms/step - loss: 0.9019 - angle_out_loss: 0.9985 - throttle_out_loss: 0.3211 - val_loss: 0.9960 - val_angle_out_loss: 1.1031 - val_throttle_out_loss: 0.3191\n",
      "Epoch 11/100\n",
      "119/120 [============================>.] - ETA: 0s - loss: 0.8812 - angle_out_loss: 0.9755 - throttle_out_loss: 0.3207\n",
      "Epoch 00011: val_loss improved from 0.99596 to 0.98519, saving model to models/pilot_jn\n",
      "120/120 [==============================] - 71s 592ms/step - loss: 0.8814 - angle_out_loss: 0.9757 - throttle_out_loss: 0.3207 - val_loss: 0.9852 - val_angle_out_loss: 1.0911 - val_throttle_out_loss: 0.3183\n",
      "Epoch 12/100\n",
      "119/120 [============================>.] - ETA: 0s - loss: 0.8397 - angle_out_loss: 0.9294 - throttle_out_loss: 0.3213\n",
      "Epoch 00012: val_loss improved from 0.98519 to 0.95584, saving model to models/pilot_jn\n",
      "120/120 [==============================] - 71s 594ms/step - loss: 0.8387 - angle_out_loss: 0.9283 - throttle_out_loss: 0.3213 - val_loss: 0.9558 - val_angle_out_loss: 1.0585 - val_throttle_out_loss: 0.3193\n",
      "Epoch 13/100\n",
      "119/120 [============================>.] - ETA: 0s - loss: 0.8155 - angle_out_loss: 0.9025 - throttle_out_loss: 0.3206\n",
      "Epoch 00013: val_loss improved from 0.95584 to 0.93844, saving model to models/pilot_jn\n",
      "120/120 [==============================] - 71s 588ms/step - loss: 0.8157 - angle_out_loss: 0.9028 - throttle_out_loss: 0.3206 - val_loss: 0.9384 - val_angle_out_loss: 1.0392 - val_throttle_out_loss: 0.3201\n",
      "Epoch 14/100\n",
      "119/120 [============================>.] - ETA: 0s - loss: 0.7974 - angle_out_loss: 0.8824 - throttle_out_loss: 0.3209\n",
      "Epoch 00014: val_loss improved from 0.93844 to 0.93737, saving model to models/pilot_jn\n",
      "120/120 [==============================] - 71s 592ms/step - loss: 0.7971 - angle_out_loss: 0.8821 - throttle_out_loss: 0.3209 - val_loss: 0.9374 - val_angle_out_loss: 1.0380 - val_throttle_out_loss: 0.3191\n",
      "Epoch 15/100\n",
      "119/120 [============================>.] - ETA: 0s - loss: 0.7672 - angle_out_loss: 0.8489 - throttle_out_loss: 0.3202\n",
      "Epoch 00015: val_loss did not improve\n",
      "120/120 [==============================] - 72s 598ms/step - loss: 0.7682 - angle_out_loss: 0.8500 - throttle_out_loss: 0.3203 - val_loss: 0.9447 - val_angle_out_loss: 1.0462 - val_throttle_out_loss: 0.3200\n",
      "Epoch 16/100\n",
      "119/120 [============================>.] - ETA: 0s - loss: 0.7522 - angle_out_loss: 0.8323 - throttle_out_loss: 0.3211\n",
      "Epoch 00016: val_loss improved from 0.93737 to 0.85408, saving model to models/pilot_jn\n",
      "120/120 [==============================] - 71s 594ms/step - loss: 0.7515 - angle_out_loss: 0.8315 - throttle_out_loss: 0.3211 - val_loss: 0.8541 - val_angle_out_loss: 0.9454 - val_throttle_out_loss: 0.3196\n",
      "Epoch 17/100\n",
      "119/120 [============================>.] - ETA: 0s - loss: 0.7418 - angle_out_loss: 0.8207 - throttle_out_loss: 0.3207\n",
      "Epoch 00017: val_loss improved from 0.85408 to 0.84120, saving model to models/pilot_jn\n",
      "120/120 [==============================] - 70s 583ms/step - loss: 0.7412 - angle_out_loss: 0.8199 - throttle_out_loss: 0.3207 - val_loss: 0.8412 - val_angle_out_loss: 0.9311 - val_throttle_out_loss: 0.3197\n",
      "Epoch 18/100\n",
      "119/120 [============================>.] - ETA: 0s - loss: 0.7299 - angle_out_loss: 0.8075 - throttle_out_loss: 0.3200\n",
      "Epoch 00018: val_loss did not improve\n",
      "120/120 [==============================] - 70s 584ms/step - loss: 0.7298 - angle_out_loss: 0.8074 - throttle_out_loss: 0.3200 - val_loss: 0.8891 - val_angle_out_loss: 0.9844 - val_throttle_out_loss: 0.3190\n",
      "Epoch 19/100\n",
      "119/120 [============================>.] - ETA: 0s - loss: 0.7084 - angle_out_loss: 0.7835 - throttle_out_loss: 0.3204\n",
      "Epoch 00019: val_loss did not improve\n",
      "120/120 [==============================] - 70s 586ms/step - loss: 0.7082 - angle_out_loss: 0.7833 - throttle_out_loss: 0.3204 - val_loss: 0.8770 - val_angle_out_loss: 0.9709 - val_throttle_out_loss: 0.3191\n",
      "Epoch 20/100\n",
      "119/120 [============================>.] - ETA: 0s - loss: 0.6898 - angle_out_loss: 0.7629 - throttle_out_loss: 0.3209\n",
      "Epoch 00020: val_loss improved from 0.84120 to 0.82066, saving model to models/pilot_jn\n",
      "120/120 [==============================] - 70s 585ms/step - loss: 0.6902 - angle_out_loss: 0.7633 - throttle_out_loss: 0.3209 - val_loss: 0.8207 - val_angle_out_loss: 0.9083 - val_throttle_out_loss: 0.3186\n"
     ]
    },
    {
     "name": "stdout",
     "output_type": "stream",
     "text": [
      "Epoch 21/100\n",
      "119/120 [============================>.] - ETA: 0s - loss: 0.6817 - angle_out_loss: 0.7539 - throttle_out_loss: 0.3200\n",
      "Epoch 00021: val_loss improved from 0.82066 to 0.81659, saving model to models/pilot_jn\n",
      "120/120 [==============================] - 70s 585ms/step - loss: 0.6821 - angle_out_loss: 0.7543 - throttle_out_loss: 0.3201 - val_loss: 0.8166 - val_angle_out_loss: 0.9038 - val_throttle_out_loss: 0.3191\n",
      "Epoch 22/100\n",
      "119/120 [============================>.] - ETA: 0s - loss: 0.6736 - angle_out_loss: 0.7449 - throttle_out_loss: 0.3207\n",
      "Epoch 00022: val_loss did not improve\n",
      "120/120 [==============================] - 70s 583ms/step - loss: 0.6735 - angle_out_loss: 0.7448 - throttle_out_loss: 0.3207 - val_loss: 0.8537 - val_angle_out_loss: 0.9450 - val_throttle_out_loss: 0.3190\n",
      "Epoch 23/100\n",
      "119/120 [============================>.] - ETA: 0s - loss: 0.6642 - angle_out_loss: 0.7344 - throttle_out_loss: 0.3204\n",
      "Epoch 00023: val_loss did not improve\n",
      "120/120 [==============================] - 70s 584ms/step - loss: 0.6639 - angle_out_loss: 0.7341 - throttle_out_loss: 0.3204 - val_loss: 0.8267 - val_angle_out_loss: 0.9150 - val_throttle_out_loss: 0.3195\n",
      "Epoch 24/100\n",
      "119/120 [============================>.] - ETA: 0s - loss: 0.6517 - angle_out_loss: 0.7206 - throttle_out_loss: 0.3202\n",
      "Epoch 00024: val_loss improved from 0.81659 to 0.79956, saving model to models/pilot_jn\n",
      "120/120 [==============================] - 71s 593ms/step - loss: 0.6515 - angle_out_loss: 0.7204 - throttle_out_loss: 0.3202 - val_loss: 0.7996 - val_angle_out_loss: 0.8848 - val_throttle_out_loss: 0.3197\n",
      "Epoch 25/100\n",
      "119/120 [============================>.] - ETA: 0s - loss: 0.6486 - angle_out_loss: 0.7171 - throttle_out_loss: 0.3203\n",
      "Epoch 00025: val_loss did not improve\n",
      "120/120 [==============================] - 70s 583ms/step - loss: 0.6489 - angle_out_loss: 0.7174 - throttle_out_loss: 0.3203 - val_loss: 0.8156 - val_angle_out_loss: 0.9027 - val_throttle_out_loss: 0.3178\n",
      "Epoch 26/100\n",
      "119/120 [============================>.] - ETA: 0s - loss: 0.6312 - angle_out_loss: 0.6978 - throttle_out_loss: 0.3198\n",
      "Epoch 00026: val_loss did not improve\n",
      "120/120 [==============================] - 70s 585ms/step - loss: 0.6318 - angle_out_loss: 0.6985 - throttle_out_loss: 0.3197 - val_loss: 0.8213 - val_angle_out_loss: 0.9090 - val_throttle_out_loss: 0.3194\n",
      "Epoch 27/100\n",
      "119/120 [============================>.] - ETA: 0s - loss: 0.6385 - angle_out_loss: 0.7058 - throttle_out_loss: 0.3187\n",
      "Epoch 00027: val_loss improved from 0.79956 to 0.77921, saving model to models/pilot_jn\n",
      "120/120 [==============================] - 70s 584ms/step - loss: 0.6389 - angle_out_loss: 0.7064 - throttle_out_loss: 0.3186 - val_loss: 0.7792 - val_angle_out_loss: 0.8623 - val_throttle_out_loss: 0.3182\n",
      "Epoch 28/100\n",
      "119/120 [============================>.] - ETA: 0s - loss: 0.6200 - angle_out_loss: 0.6854 - throttle_out_loss: 0.3168\n",
      "Epoch 00028: val_loss improved from 0.77921 to 0.76699, saving model to models/pilot_jn\n",
      "120/120 [==============================] - 70s 583ms/step - loss: 0.6201 - angle_out_loss: 0.6855 - throttle_out_loss: 0.3167 - val_loss: 0.7670 - val_angle_out_loss: 0.8488 - val_throttle_out_loss: 0.3075\n",
      "Epoch 29/100\n",
      "119/120 [============================>.] - ETA: 0s - loss: 0.6115 - angle_out_loss: 0.6761 - throttle_out_loss: 0.2947\n",
      "Epoch 00029: val_loss did not improve\n",
      "120/120 [==============================] - 70s 582ms/step - loss: 0.6113 - angle_out_loss: 0.6759 - throttle_out_loss: 0.2944 - val_loss: 0.7931 - val_angle_out_loss: 0.8785 - val_throttle_out_loss: 0.2494\n",
      "Epoch 30/100\n",
      "119/120 [============================>.] - ETA: 0s - loss: 0.6032 - angle_out_loss: 0.6690 - throttle_out_loss: 0.1076\n",
      "Epoch 00030: val_loss did not improve\n",
      "120/120 [==============================] - 70s 583ms/step - loss: 0.6031 - angle_out_loss: 0.6690 - throttle_out_loss: 0.1070 - val_loss: 0.7866 - val_angle_out_loss: 0.8735 - val_throttle_out_loss: 0.0444\n",
      "Epoch 31/100\n",
      "119/120 [============================>.] - ETA: 0s - loss: 0.6039 - angle_out_loss: 0.6706 - throttle_out_loss: 0.0369\n",
      "Epoch 00031: val_loss did not improve\n",
      "120/120 [==============================] - 70s 583ms/step - loss: 0.6031 - angle_out_loss: 0.6697 - throttle_out_loss: 0.0369 - val_loss: 0.8049 - val_angle_out_loss: 0.8939 - val_throttle_out_loss: 0.0363\n",
      "Epoch 32/100\n",
      "119/120 [============================>.] - ETA: 0s - loss: 0.5964 - angle_out_loss: 0.6622 - throttle_out_loss: 0.0357\n",
      "Epoch 00032: val_loss improved from 0.76699 to 0.74551, saving model to models/pilot_jn\n",
      "120/120 [==============================] - 71s 592ms/step - loss: 0.5964 - angle_out_loss: 0.6623 - throttle_out_loss: 0.0357 - val_loss: 0.7455 - val_angle_out_loss: 0.8279 - val_throttle_out_loss: 0.0357\n",
      "Epoch 33/100\n",
      "119/120 [============================>.] - ETA: 0s - loss: 0.5861 - angle_out_loss: 0.6508 - throttle_out_loss: 0.0356\n",
      "Epoch 00033: val_loss did not improve\n",
      "120/120 [==============================] - 70s 583ms/step - loss: 0.5864 - angle_out_loss: 0.6512 - throttle_out_loss: 0.0356 - val_loss: 0.7935 - val_angle_out_loss: 0.8812 - val_throttle_out_loss: 0.0379\n",
      "Epoch 34/100\n",
      "119/120 [============================>.] - ETA: 0s - loss: 0.5795 - angle_out_loss: 0.6435 - throttle_out_loss: 0.0355\n",
      "Epoch 00034: val_loss did not improve\n",
      "120/120 [==============================] - 75s 622ms/step - loss: 0.5794 - angle_out_loss: 0.6434 - throttle_out_loss: 0.0355 - val_loss: 0.7859 - val_angle_out_loss: 0.8729 - val_throttle_out_loss: 0.0374\n",
      "Epoch 35/100\n",
      "119/120 [============================>.] - ETA: 0s - loss: 0.5812 - angle_out_loss: 0.6454 - throttle_out_loss: 0.0351\n",
      "Epoch 00035: val_loss did not improve\n",
      "120/120 [==============================] - 72s 602ms/step - loss: 0.5810 - angle_out_loss: 0.6452 - throttle_out_loss: 0.0351 - val_loss: 0.7715 - val_angle_out_loss: 0.8568 - val_throttle_out_loss: 0.0353\n",
      "Epoch 36/100\n",
      "119/120 [============================>.] - ETA: 0s - loss: 0.5834 - angle_out_loss: 0.6478 - throttle_out_loss: 0.0356\n",
      "Epoch 00036: val_loss did not improve\n",
      "120/120 [==============================] - 78s 647ms/step - loss: 0.5838 - angle_out_loss: 0.6482 - throttle_out_loss: 0.0356 - val_loss: 0.7532 - val_angle_out_loss: 0.8364 - val_throttle_out_loss: 0.0354\n",
      "Epoch 37/100\n",
      "119/120 [============================>.] - ETA: 0s - loss: 0.5683 - angle_out_loss: 0.6311 - throttle_out_loss: 0.0349\n",
      "Epoch 00037: val_loss did not improve\n",
      "120/120 [==============================] - 78s 654ms/step - loss: 0.5680 - angle_out_loss: 0.6307 - throttle_out_loss: 0.0349 - val_loss: 0.7459 - val_angle_out_loss: 0.8284 - val_throttle_out_loss: 0.0372\n",
      "Epoch 00037: early stopping\n"
     ]
    },
    {
     "data": {
      "text/plain": [
       "<tensorflow.python.keras._impl.keras.callbacks.History at 0x2aa77db2e10>"
      ]
     },
     "execution_count": 44,
     "metadata": {},
     "output_type": "execute_result"
    }
   ],
   "source": [
    "train(train_gen, val_gen, saved_model_path=new_model_path, steps=steps_per_epoch, train_split=0.8) #change train_split to 0.9 for large data"
   ]
  },
  {
   "cell_type": "code",
   "execution_count": 5,
   "metadata": {},
   "outputs": [
    {
     "data": {
      "text/plain": [
       "'\\nRecords\\n\\nOriginal architecture with 79k samples\\n498/498 [==============================] - 215s 432ms/step - loss: 0.4393 - angle_out_loss: 0.4875 \\n- throttle_out_loss: 0.0551 - val_loss: 0.8894 - val_angle_out_loss: 0.9876 - val_throttle_out_loss: 0.0586\\nEpoch 00028: early stopping\\n\\nOriginal architecture with 79k samples and 0.2 and 0.3 dropout at the end\\n498/498 [==============================] - 239s 480ms/step - loss: 0.5324 - angle_out_loss: 0.5910 - \\nthrottle_out_loss: 0.0585 - val_loss: 0.9268 - val_angle_out_loss: 1.0292 - val_throttle_out_loss: 0.0530\\nEpoch 00030: early stopping\\n\\nOriginal architecture with 79k samples and 0.3 and 0.5 dropout at the end\\n\\n'"
      ]
     },
     "execution_count": 5,
     "metadata": {},
     "output_type": "execute_result"
    }
   ],
   "source": [
    "\"\"\"\n",
    "Records\n",
    "\n",
    "Original architecture with 79k samples\n",
    "498/498 [==============================] - 215s 432ms/step - loss: 0.4393 - angle_out_loss: 0.4875 \n",
    "- throttle_out_loss: 0.0551 - val_loss: 0.8894 - val_angle_out_loss: 0.9876 - val_throttle_out_loss: 0.0586\n",
    "Epoch 00028: early stopping\n",
    "\n",
    "Original architecture with 79k samples and 0.2 and 0.3 dropout at the end\n",
    "498/498 [==============================] - 239s 480ms/step - loss: 0.5324 - angle_out_loss: 0.5910 - \n",
    "throttle_out_loss: 0.0585 - val_loss: 0.9268 - val_angle_out_loss: 1.0292 - val_throttle_out_loss: 0.0530\n",
    "Epoch 00030: early stopping\n",
    "\n",
    "Original architecture with 79k samples and 0.3 and 0.5 dropout at the end\n",
    "\n",
    "\"\"\"\n",
    "\n"
   ]
  },
  {
   "cell_type": "code",
   "execution_count": 175,
   "metadata": {},
   "outputs": [],
   "source": [
    "#check against original\n",
    "def unbin(arr):\n",
    "    index = np.argmax(arr)\n",
    "    return index/14*2-1\n",
    "#     return index"
   ]
  },
  {
   "cell_type": "code",
   "execution_count": 174,
   "metadata": {},
   "outputs": [
    {
     "data": {
      "text/plain": [
       "0.0"
      ]
     },
     "execution_count": 174,
     "metadata": {},
     "output_type": "execute_result"
    }
   ],
   "source": [
    "unbin([0, 0, 0, 0, 0, 0, 0, 1, 0, 0, 0, 0, 0, 0, 0])"
   ]
  },
  {
   "cell_type": "code",
   "execution_count": 176,
   "metadata": {},
   "outputs": [],
   "source": [
    "def run(img_arr):\n",
    "    img_arr = img_arr.reshape((1,) + img_arr.shape)\n",
    "    angle_binned, throttle = model.predict(img_arr)\n",
    "    angle_unbinned = unbin(angle_binned[0])\n",
    "    return angle_unbinned, throttle[0][0]"
   ]
  },
  {
   "cell_type": "code",
   "execution_count": 194,
   "metadata": {},
   "outputs": [
    {
     "data": {
      "image/png": "[encoded data removed]",
      "text/plain": [
       "<PIL.JpegImagePlugin.JpegImageFile image mode=RGB size=160x120 at 0x2119C0EA780>"
      ]
     },
     "execution_count": 194,
     "metadata": {},
     "output_type": "execute_result"
    }
   ],
   "source": [
    "img_name = df['cam/image_array'][150]\n",
    "img = Image.open(f'{PATH}/{img_name}')\n",
    "img"
   ]
  },
  {
   "cell_type": "code",
   "execution_count": 195,
   "metadata": {},
   "outputs": [],
   "source": [
    "val = np.array(img)"
   ]
  },
  {
   "cell_type": "code",
   "execution_count": 196,
   "metadata": {},
   "outputs": [
    {
     "data": {
      "text/plain": [
       "(120, 160, 3)"
      ]
     },
     "execution_count": 196,
     "metadata": {},
     "output_type": "execute_result"
    }
   ],
   "source": [
    "val.shape"
   ]
  },
  {
   "cell_type": "code",
   "execution_count": 198,
   "metadata": {},
   "outputs": [
    {
     "data": {
      "text/plain": [
       "(-0.4285714285714286, 0.31011686)"
      ]
     },
     "execution_count": 198,
     "metadata": {},
     "output_type": "execute_result"
    }
   ],
   "source": [
    "#prediction\n",
    "run(val)"
   ]
  },
  {
   "cell_type": "code",
   "execution_count": 199,
   "metadata": {},
   "outputs": [
    {
     "data": {
      "text/plain": [
       "(-0.42, 0.27)"
      ]
     },
     "execution_count": 199,
     "metadata": {},
     "output_type": "execute_result"
    }
   ],
   "source": [
    "#compare to actual data\n",
    "df['user/angle'][150], df['user/throttle'][150]"
   ]
  },
  {
   "cell_type": "code",
   "execution_count": null,
   "metadata": {},
   "outputs": [],
   "source": [
    "\"\"\"\n",
    "Record\n",
    ">>>>>>>>>>>>>>>>>>>>>>>>>>>>>>>>>>>>>>>>>>>>>>>>>>>>>>>>\n",
    "def default_categorical():\n",
    "    img_in = Input(shape=(120, 160, 3),\n",
    "                   name='img_in')  # First layer, input layer, Shape comes from camera.py resolution, RGB\n",
    "    x = img_in\n",
    "    x = Convolution2D(24, (5, 5), strides=(2, 2), activation='relu')(x)\n",
    "    x = MaxPooling2D(pool_size=(2, 2))(x)\n",
    "    x = Convolution2D(32, (4, 4), strides=(2, 2), activation='relu')(x)\n",
    "    x = MaxPooling2D(pool_size=(2, 2))(x)\n",
    "    x = Dropout(0.3)(x)\n",
    "    x = Convolution2D(64, (3, 3), strides=(1, 1), activation='relu')(x)\n",
    "    x = MaxPooling2D(pool_size=(2, 2))(x)\n",
    "    x = Dropout(0.5)(x)\n",
    "\n",
    "    x = Flatten(name='flattened')(x)\n",
    "    x = Dense(30, activation='relu')(x)\n",
    "    x = Dropout(0.5)(x)\n",
    "    \n",
    "    angle_out = Dense(15, activation='softmax', name='angle_out')(x)\n",
    "    throttle_out = Dense(1, activation='relu', name='throttle_out')(x)\n",
    "\n",
    "    model = Model(inputs=[img_in], outputs=[angle_out, throttle_out])\n",
    "    model.compile(optimizer='adam',\n",
    "                  loss={'angle_out': 'categorical_crossentropy',\n",
    "                        'throttle_out': 'mean_absolute_error'},\n",
    "                  loss_weights={'angle_out': 0.9, 'throttle_out': .01})\n",
    "\n",
    "    return model\n",
    "\"\"\"\n"
   ]
  }
 ],
 "metadata": {
  "kernelspec": {
   "display_name": "Tensorflow-GPU",
   "language": "python",
   "name": "tf-gpu"
  }
 },
 "nbformat": 4,
 "nbformat_minor": 2
}
