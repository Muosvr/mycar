{
 "cells": [
  {
   "cell_type": "code",
   "execution_count": 1,
   "metadata": {},
   "outputs": [],
   "source": [
    "import os\n",
    "import sys\n",
    "import time\n",
    "import json\n",
    "import datetime\n",
    "import random\n",
    "import tarfile\n",
    "\n",
    "import numpy as np\n",
    "import pandas as pd\n",
    "from PIL import Image\n",
    "\n",
    "PATH = \"../tubs/tub5\""
   ]
  },
  {
   "cell_type": "code",
   "execution_count": 2,
   "metadata": {},
   "outputs": [
    {
     "name": "stdout",
     "output_type": "stream",
     "text": [
      "1.8.0\n"
     ]
    }
   ],
   "source": [
    "#make sure tensorflow version is the same as one installed on donkeycar (1.8.0)\n",
    "import tensorflow as tf\n",
    "print(tf.__version__)"
   ]
  },
  {
   "cell_type": "code",
   "execution_count": 3,
   "metadata": {},
   "outputs": [
    {
     "data": {
      "text/plain": [
       "['/device:GPU:0']"
      ]
     },
     "execution_count": 3,
     "metadata": {},
     "output_type": "execute_result"
    }
   ],
   "source": [
    "#check if GPU is present (/device:GPU:0)\n",
    "from tensorflow.python.client import device_lib\n",
    "\n",
    "def get_available_gpus():\n",
    "    local_device_protos = device_lib.list_local_devices()\n",
    "    return [x.name for x in local_device_protos if x.device_type == 'GPU']\n",
    "get_available_gpus()"
   ]
  },
  {
   "cell_type": "code",
   "execution_count": 10,
   "metadata": {},
   "outputs": [],
   "source": [
    "json_files = [file for file in os.listdir(PATH) if file.endswith('json') ]"
   ]
  },
  {
   "cell_type": "code",
   "execution_count": 11,
   "metadata": {},
   "outputs": [
    {
     "data": {
      "text/plain": [
       "38575"
      ]
     },
     "execution_count": 11,
     "metadata": {},
     "output_type": "execute_result"
    }
   ],
   "source": [
    "len(json_files)"
   ]
  },
  {
   "cell_type": "code",
   "execution_count": 12,
   "metadata": {},
   "outputs": [],
   "source": [
    "meta_json = pd.read_json(f'{PATH}/{json_files[0]}')"
   ]
  },
  {
   "cell_type": "code",
   "execution_count": 13,
   "metadata": {},
   "outputs": [
    {
     "data": {
      "text/html": [
       "<div>\n",
       "<style scoped>\n",
       "    .dataframe tbody tr th:only-of-type {\n",
       "        vertical-align: middle;\n",
       "    }\n",
       "\n",
       "    .dataframe tbody tr th {\n",
       "        vertical-align: top;\n",
       "    }\n",
       "\n",
       "    .dataframe thead th {\n",
       "        text-align: right;\n",
       "    }\n",
       "</style>\n",
       "<table border=\"1\" class=\"dataframe\">\n",
       "  <thead>\n",
       "    <tr style=\"text-align: right;\">\n",
       "      <th></th>\n",
       "      <th>inputs</th>\n",
       "      <th>types</th>\n",
       "    </tr>\n",
       "  </thead>\n",
       "  <tbody>\n",
       "    <tr>\n",
       "      <th>0</th>\n",
       "      <td>cam/image_array</td>\n",
       "      <td>image_array</td>\n",
       "    </tr>\n",
       "    <tr>\n",
       "      <th>1</th>\n",
       "      <td>user/angle</td>\n",
       "      <td>float</td>\n",
       "    </tr>\n",
       "    <tr>\n",
       "      <th>2</th>\n",
       "      <td>user/throttle</td>\n",
       "      <td>float</td>\n",
       "    </tr>\n",
       "    <tr>\n",
       "      <th>3</th>\n",
       "      <td>user/mode</td>\n",
       "      <td>str</td>\n",
       "    </tr>\n",
       "    <tr>\n",
       "      <th>4</th>\n",
       "      <td>timestamp</td>\n",
       "      <td>str</td>\n",
       "    </tr>\n",
       "  </tbody>\n",
       "</table>\n",
       "</div>"
      ],
      "text/plain": [
       "            inputs        types\n",
       "0  cam/image_array  image_array\n",
       "1       user/angle        float\n",
       "2    user/throttle        float\n",
       "3        user/mode          str\n",
       "4        timestamp          str"
      ]
     },
     "execution_count": 13,
     "metadata": {},
     "output_type": "execute_result"
    }
   ],
   "source": [
    "meta_json"
   ]
  },
  {
   "cell_type": "code",
   "execution_count": 14,
   "metadata": {},
   "outputs": [],
   "source": [
    "with open(f'{PATH}/{json_files[1]}', 'r') as f:\n",
    "    data = json.load(f)"
   ]
  },
  {
   "cell_type": "code",
   "execution_count": 15,
   "metadata": {},
   "outputs": [
    {
     "data": {
      "text/plain": [
       "0.08"
      ]
     },
     "execution_count": 15,
     "metadata": {},
     "output_type": "execute_result"
    }
   ],
   "source": [
    "data[\"user/throttle\"]"
   ]
  },
  {
   "cell_type": "code",
   "execution_count": 21,
   "metadata": {},
   "outputs": [],
   "source": [
    "df = pd.DataFrame(data, index = [0])"
   ]
  },
  {
   "cell_type": "code",
   "execution_count": 22,
   "metadata": {},
   "outputs": [
    {
     "data": {
      "text/html": [
       "<div>\n",
       "<style scoped>\n",
       "    .dataframe tbody tr th:only-of-type {\n",
       "        vertical-align: middle;\n",
       "    }\n",
       "\n",
       "    .dataframe tbody tr th {\n",
       "        vertical-align: top;\n",
       "    }\n",
       "\n",
       "    .dataframe thead th {\n",
       "        text-align: right;\n",
       "    }\n",
       "</style>\n",
       "<table border=\"1\" class=\"dataframe\">\n",
       "  <thead>\n",
       "    <tr style=\"text-align: right;\">\n",
       "      <th></th>\n",
       "      <th>cam/image_array</th>\n",
       "      <th>user/throttle</th>\n",
       "      <th>user/angle</th>\n",
       "      <th>timestamp</th>\n",
       "      <th>user/mode</th>\n",
       "    </tr>\n",
       "  </thead>\n",
       "  <tbody>\n",
       "    <tr>\n",
       "      <th>0</th>\n",
       "      <td>0_cam-image_array_.jpg</td>\n",
       "      <td>0.08</td>\n",
       "      <td>0.01</td>\n",
       "      <td>None</td>\n",
       "      <td>user</td>\n",
       "    </tr>\n",
       "  </tbody>\n",
       "</table>\n",
       "</div>"
      ],
      "text/plain": [
       "          cam/image_array  user/throttle  user/angle timestamp user/mode\n",
       "0  0_cam-image_array_.jpg           0.08        0.01      None      user"
      ]
     },
     "execution_count": 22,
     "metadata": {},
     "output_type": "execute_result"
    }
   ],
   "source": [
    "df"
   ]
  },
  {
   "cell_type": "code",
   "execution_count": 43,
   "metadata": {},
   "outputs": [
    {
     "data": {
      "text/plain": [
       "'0_cam-image_array_.jpg'"
      ]
     },
     "execution_count": 43,
     "metadata": {},
     "output_type": "execute_result"
    }
   ],
   "source": [
    "df[\"cam/image_array\"][0]"
   ]
  },
  {
   "cell_type": "code",
   "execution_count": 16,
   "metadata": {},
   "outputs": [],
   "source": [
    "def json_to_df(PATH, json_files, max_items=None):\n",
    "    df = pd.DataFrame()\n",
    "    for i, j in enumerate(json_files[1:max_items]):\n",
    "        with open(f'{PATH}/{j}') as f:\n",
    "            data = json.load(f)\n",
    "\n",
    "            userThrottle = data[\"user/throttle\"]\n",
    "            userAngle = data[\"user/angle\"]\n",
    "            camImage_array = data[\"cam/image_array\"]\n",
    "            index = int(camImage_array[:-21])\n",
    "            df_row = pd.DataFrame([[userThrottle, userAngle, camImage_array]], index = [index], columns = [\"user/throttle\", \"user/angle\", \"cam/image_array\"])\n",
    "\n",
    "            df = df.append(df_row)\n",
    "    df = df.sort_index()\n",
    "    return df"
   ]
  },
  {
   "cell_type": "code",
   "execution_count": 17,
   "metadata": {},
   "outputs": [
    {
     "data": {
      "text/plain": [
       "38574"
      ]
     },
     "execution_count": 17,
     "metadata": {},
     "output_type": "execute_result"
    }
   ],
   "source": [
    "len(json_files[1:None])"
   ]
  },
  {
   "cell_type": "code",
   "execution_count": 30,
   "metadata": {},
   "outputs": [],
   "source": [
    "df = json_to_df(PATH, json_files, max_items=None)"
   ]
  },
  {
   "cell_type": "code",
   "execution_count": 31,
   "metadata": {},
   "outputs": [],
   "source": [
    "df.to_feather('tmp/df')"
   ]
  },
  {
   "cell_type": "code",
   "execution_count": 4,
   "metadata": {},
   "outputs": [
    {
     "name": "stderr",
     "output_type": "stream",
     "text": [
      "C:\\Users\\Jason\\Anaconda3\\envs\\tf-gpu\\lib\\site-packages\\pandas\\io\\feather_format.py:112: FutureWarning: `nthreads` argument is deprecated, pass `use_threads` instead\n",
      "  return feather.read_dataframe(path, nthreads=nthreads)\n"
     ]
    }
   ],
   "source": [
    "df = pd.read_feather('tmp/df')"
   ]
  },
  {
   "cell_type": "code",
   "execution_count": 5,
   "metadata": {},
   "outputs": [
    {
     "data": {
      "text/html": [
       "<div>\n",
       "<style scoped>\n",
       "    .dataframe tbody tr th:only-of-type {\n",
       "        vertical-align: middle;\n",
       "    }\n",
       "\n",
       "    .dataframe tbody tr th {\n",
       "        vertical-align: top;\n",
       "    }\n",
       "\n",
       "    .dataframe thead th {\n",
       "        text-align: right;\n",
       "    }\n",
       "</style>\n",
       "<table border=\"1\" class=\"dataframe\">\n",
       "  <thead>\n",
       "    <tr style=\"text-align: right;\">\n",
       "      <th></th>\n",
       "      <th>user/throttle</th>\n",
       "      <th>user/angle</th>\n",
       "      <th>cam/image_array</th>\n",
       "    </tr>\n",
       "  </thead>\n",
       "  <tbody>\n",
       "    <tr>\n",
       "      <th>0</th>\n",
       "      <td>0.08</td>\n",
       "      <td>0.01</td>\n",
       "      <td>0_cam-image_array_.jpg</td>\n",
       "    </tr>\n",
       "    <tr>\n",
       "      <th>1</th>\n",
       "      <td>0.12</td>\n",
       "      <td>-0.03</td>\n",
       "      <td>1_cam-image_array_.jpg</td>\n",
       "    </tr>\n",
       "    <tr>\n",
       "      <th>2</th>\n",
       "      <td>0.12</td>\n",
       "      <td>-0.03</td>\n",
       "      <td>2_cam-image_array_.jpg</td>\n",
       "    </tr>\n",
       "    <tr>\n",
       "      <th>3</th>\n",
       "      <td>0.14</td>\n",
       "      <td>-0.06</td>\n",
       "      <td>3_cam-image_array_.jpg</td>\n",
       "    </tr>\n",
       "    <tr>\n",
       "      <th>4</th>\n",
       "      <td>0.14</td>\n",
       "      <td>-0.06</td>\n",
       "      <td>4_cam-image_array_.jpg</td>\n",
       "    </tr>\n",
       "    <tr>\n",
       "      <th>5</th>\n",
       "      <td>0.17</td>\n",
       "      <td>-0.12</td>\n",
       "      <td>5_cam-image_array_.jpg</td>\n",
       "    </tr>\n",
       "    <tr>\n",
       "      <th>6</th>\n",
       "      <td>0.17</td>\n",
       "      <td>-0.12</td>\n",
       "      <td>6_cam-image_array_.jpg</td>\n",
       "    </tr>\n",
       "    <tr>\n",
       "      <th>7</th>\n",
       "      <td>0.17</td>\n",
       "      <td>-0.14</td>\n",
       "      <td>7_cam-image_array_.jpg</td>\n",
       "    </tr>\n",
       "    <tr>\n",
       "      <th>8</th>\n",
       "      <td>0.21</td>\n",
       "      <td>-0.17</td>\n",
       "      <td>8_cam-image_array_.jpg</td>\n",
       "    </tr>\n",
       "    <tr>\n",
       "      <th>9</th>\n",
       "      <td>0.21</td>\n",
       "      <td>-0.17</td>\n",
       "      <td>9_cam-image_array_.jpg</td>\n",
       "    </tr>\n",
       "    <tr>\n",
       "      <th>10</th>\n",
       "      <td>0.25</td>\n",
       "      <td>-0.23</td>\n",
       "      <td>10_cam-image_array_.jpg</td>\n",
       "    </tr>\n",
       "    <tr>\n",
       "      <th>11</th>\n",
       "      <td>0.25</td>\n",
       "      <td>-0.23</td>\n",
       "      <td>11_cam-image_array_.jpg</td>\n",
       "    </tr>\n",
       "    <tr>\n",
       "      <th>12</th>\n",
       "      <td>0.24</td>\n",
       "      <td>-0.23</td>\n",
       "      <td>12_cam-image_array_.jpg</td>\n",
       "    </tr>\n",
       "    <tr>\n",
       "      <th>13</th>\n",
       "      <td>0.24</td>\n",
       "      <td>-0.23</td>\n",
       "      <td>13_cam-image_array_.jpg</td>\n",
       "    </tr>\n",
       "    <tr>\n",
       "      <th>14</th>\n",
       "      <td>0.26</td>\n",
       "      <td>-0.27</td>\n",
       "      <td>14_cam-image_array_.jpg</td>\n",
       "    </tr>\n",
       "    <tr>\n",
       "      <th>15</th>\n",
       "      <td>0.26</td>\n",
       "      <td>-0.27</td>\n",
       "      <td>15_cam-image_array_.jpg</td>\n",
       "    </tr>\n",
       "    <tr>\n",
       "      <th>16</th>\n",
       "      <td>0.29</td>\n",
       "      <td>-0.30</td>\n",
       "      <td>16_cam-image_array_.jpg</td>\n",
       "    </tr>\n",
       "    <tr>\n",
       "      <th>17</th>\n",
       "      <td>0.29</td>\n",
       "      <td>-0.30</td>\n",
       "      <td>17_cam-image_array_.jpg</td>\n",
       "    </tr>\n",
       "    <tr>\n",
       "      <th>18</th>\n",
       "      <td>0.31</td>\n",
       "      <td>-0.33</td>\n",
       "      <td>18_cam-image_array_.jpg</td>\n",
       "    </tr>\n",
       "    <tr>\n",
       "      <th>19</th>\n",
       "      <td>0.31</td>\n",
       "      <td>-0.33</td>\n",
       "      <td>19_cam-image_array_.jpg</td>\n",
       "    </tr>\n",
       "  </tbody>\n",
       "</table>\n",
       "</div>"
      ],
      "text/plain": [
       "    user/throttle  user/angle          cam/image_array\n",
       "0            0.08        0.01   0_cam-image_array_.jpg\n",
       "1            0.12       -0.03   1_cam-image_array_.jpg\n",
       "2            0.12       -0.03   2_cam-image_array_.jpg\n",
       "3            0.14       -0.06   3_cam-image_array_.jpg\n",
       "4            0.14       -0.06   4_cam-image_array_.jpg\n",
       "5            0.17       -0.12   5_cam-image_array_.jpg\n",
       "6            0.17       -0.12   6_cam-image_array_.jpg\n",
       "7            0.17       -0.14   7_cam-image_array_.jpg\n",
       "8            0.21       -0.17   8_cam-image_array_.jpg\n",
       "9            0.21       -0.17   9_cam-image_array_.jpg\n",
       "10           0.25       -0.23  10_cam-image_array_.jpg\n",
       "11           0.25       -0.23  11_cam-image_array_.jpg\n",
       "12           0.24       -0.23  12_cam-image_array_.jpg\n",
       "13           0.24       -0.23  13_cam-image_array_.jpg\n",
       "14           0.26       -0.27  14_cam-image_array_.jpg\n",
       "15           0.26       -0.27  15_cam-image_array_.jpg\n",
       "16           0.29       -0.30  16_cam-image_array_.jpg\n",
       "17           0.29       -0.30  17_cam-image_array_.jpg\n",
       "18           0.31       -0.33  18_cam-image_array_.jpg\n",
       "19           0.31       -0.33  19_cam-image_array_.jpg"
      ]
     },
     "execution_count": 5,
     "metadata": {},
     "output_type": "execute_result"
    }
   ],
   "source": [
    "df.head(20)"
   ]
  },
  {
   "cell_type": "code",
   "execution_count": 6,
   "metadata": {},
   "outputs": [],
   "source": [
    "def get_prev_img_names(img_name, quantity):\n",
    "    img_names = []\n",
    "    last_name = img_name\n",
    "    for i in range(0, quantity):\n",
    "        index = int(img_name[:-21])-i\n",
    "        if index < 0:\n",
    "            name = last_name\n",
    "        else:\n",
    "            name = str(index)+\"_cam-image_array_.jpg\"\n",
    "        \n",
    "        img_names.append(name)\n",
    "        last_name = name\n",
    "    img_names.reverse()\n",
    "    return img_names"
   ]
  },
  {
   "cell_type": "code",
   "execution_count": 70,
   "metadata": {},
   "outputs": [
    {
     "data": {
      "text/plain": [
       "['18_cam-image_array_.jpg',\n",
       " '19_cam-image_array_.jpg',\n",
       " '20_cam-image_array_.jpg']"
      ]
     },
     "execution_count": 70,
     "metadata": {},
     "output_type": "execute_result"
    }
   ],
   "source": [
    "get_prev_img_names(\"20_cam-image_array_.jpg\", 3)"
   ]
  },
  {
   "cell_type": "code",
   "execution_count": 7,
   "metadata": {},
   "outputs": [],
   "source": [
    "def to_bin(a):\n",
    "    arr = np.zeros(15)\n",
    "    a = a + 1\n",
    "    b = round(a/(2/14))\n",
    "    arr[int(b)] = 1\n",
    "    return arr"
   ]
  },
  {
   "cell_type": "code",
   "execution_count": 8,
   "metadata": {},
   "outputs": [
    {
     "data": {
      "image/png": "[encoded data removed]",
      "text/plain": [
       "<PIL.JpegImagePlugin.JpegImageFile image mode=RGB size=160x120 at 0x1F7B2EA74A8>"
      ]
     },
     "execution_count": 8,
     "metadata": {},
     "output_type": "execute_result"
    }
   ],
   "source": [
    "img_name = df['cam/image_array'][100]\n",
    "img = Image.open(f'{PATH}/{img_name}')\n",
    "img"
   ]
  },
  {
   "cell_type": "code",
   "execution_count": 10,
   "metadata": {},
   "outputs": [],
   "source": [
    "bs = 128 # or 128/3\n",
    "train_frac = 0.8\n",
    "X_keys = ['cam/image_array']\n",
    "y_keys = ['user/angle', 'user/throttle']\n",
    "PATH\n",
    "new_model_path = 'models/pilot_jn_cnnrnn'"
   ]
  },
  {
   "cell_type": "code",
   "execution_count": 83,
   "metadata": {},
   "outputs": [],
   "source": [
    "def read_record(record_dict, path = PATH):\n",
    "    data = {}\n",
    "    for key, val in record_dict.items():\n",
    "        if key == 'cam/image_array':\n",
    "            images = get_prev_img_names(val, 10)\n",
    "            data[key] = []\n",
    "            for i, name in enumerate(images):\n",
    "                img = Image.open(f'{PATH}/{name}')\n",
    "                data[key].append(np.array(img))\n",
    "            data[key] = np.array(data[key])\n",
    "        else:\n",
    "            data[key] = val\n",
    "        \n",
    "        \n",
    "    return data"
   ]
  },
  {
   "cell_type": "code",
   "execution_count": 84,
   "metadata": {},
   "outputs": [],
   "source": [
    "def get_record_gen(record_transform=None, shuffle=True, df=None):\n",
    "    while True:\n",
    "        for _ in df.iterrows():\n",
    "            if shuffle:\n",
    "                record_dict = df.sample(n=1).to_dict(orient='record')[0]\n",
    "            \n",
    "            record_dict = read_record(record_dict)\n",
    "            \n",
    "            if record_transform:\n",
    "                record_dict = record_transform(record_dict)\n",
    "            \n",
    "            yield record_dict"
   ]
  },
  {
   "cell_type": "code",
   "execution_count": 85,
   "metadata": {},
   "outputs": [],
   "source": [
    "def get_batch_gen(keys=None, batch_size=128, record_transform=None, shuffle=True, df=None):\n",
    "    \n",
    "    record_gen = get_record_gen(record_transform=record_transform, shuffle=shuffle, df=df)\n",
    "    \n",
    "    while True:\n",
    "        record_list = [next(record_gen) for _ in range(batch_size)]\n",
    "        \n",
    "        batch_arrays = {}\n",
    "        for i, k in enumerate(keys):\n",
    "            arr = np.array([r[k] for r in record_list])\n",
    "            batch_arrays[k] = arr\n",
    "        yield batch_arrays"
   ]
  },
  {
   "cell_type": "code",
   "execution_count": 86,
   "metadata": {},
   "outputs": [],
   "source": [
    "def get_train_gen(X_keys, Y_keys, batch_size=128, record_transform=None, df=None): #\n",
    "    batch_gen = get_batch_gen(X_keys + Y_keys, batch_size=batch_size,\n",
    "                                  record_transform=record_transform, df=df)\n",
    "    while True:\n",
    "        batch = next(batch_gen)\n",
    "        X = [batch[k] for k in X_keys]\n",
    "        Y = [batch[k] for k in Y_keys] \n",
    "        yield X, Y"
   ]
  },
  {
   "cell_type": "code",
   "execution_count": 87,
   "metadata": {},
   "outputs": [],
   "source": [
    "def get_train_val_gen(df, X_keys, Y_keys, batch_size = 128, train_frac=0.8, #\n",
    "                      train_record_transform=None, val_record_transform=None): #\n",
    "    train_df = df.sample(frac=train_frac, random_state=200) #\n",
    "    val_df = df.drop(train_df.index) #\n",
    "    \n",
    "    train_gen = get_train_gen(X_keys=X_keys, Y_keys=Y_keys, batch_size=batch_size,\n",
    "                             record_transform=train_record_transform, df=train_df)\n",
    "    val_gen = get_train_gen(X_keys=X_keys, Y_keys=Y_keys, batch_size=batch_size,\n",
    "                           record_transform=val_record_transform, df=val_df)\n",
    "    return train_gen, val_gen\n",
    "    "
   ]
  },
  {
   "cell_type": "code",
   "execution_count": 88,
   "metadata": {},
   "outputs": [],
   "source": [
    "def record_transform(record):\n",
    "    record['user/angle'] = to_bin(record['user/angle'])\n",
    "    return record"
   ]
  },
  {
   "cell_type": "code",
   "execution_count": 96,
   "metadata": {},
   "outputs": [],
   "source": [
    "train_gen, val_gen = get_train_val_gen(df, X_keys, y_keys,\n",
    "                                               train_record_transform=record_transform, #\n",
    "                                               val_record_transform=record_transform, #\n",
    "                                               batch_size=bs, #\n",
    "                                               train_frac=train_frac) #"
   ]
  },
  {
   "cell_type": "code",
   "execution_count": 90,
   "metadata": {},
   "outputs": [],
   "source": [
    "test = next(train_gen)"
   ]
  },
  {
   "cell_type": "code",
   "execution_count": 93,
   "metadata": {},
   "outputs": [
    {
     "data": {
      "text/plain": [
       "(128, 10, 120, 160, 3)"
      ]
     },
     "execution_count": 93,
     "metadata": {},
     "output_type": "execute_result"
    }
   ],
   "source": [
    "test[0][0].shape"
   ]
  },
  {
   "cell_type": "code",
   "execution_count": 94,
   "metadata": {},
   "outputs": [],
   "source": [
    "from tensorflow.python.keras.layers import Input\n",
    "from tensorflow.python.keras.models import Model, load_model, Sequential\n",
    "from tensorflow.python.keras.layers import Convolution2D, LSTM, TimeDistributed, GRU, RNN, MaxPooling2D\n",
    "from tensorflow.python.keras.layers import Dropout, Flatten, Dense, Cropping2D, Lambda\n",
    "from tensorflow.python.keras.callbacks import ModelCheckpoint, EarlyStopping"
   ]
  },
  {
   "cell_type": "code",
   "execution_count": null,
   "metadata": {},
   "outputs": [],
   "source": [
    "cnn = Sequ"
   ]
  },
  {
   "cell_type": "code",
   "execution_count": 128,
   "metadata": {},
   "outputs": [],
   "source": [
    "#CNN\n",
    "cnn = Sequential()\n",
    "cnn.add(Convolution2D(24, (5, 5), strides=(2, 2), activation='relu', input_shape=(120, 160, 3)))\n",
    "cnn.add(Convolution2D(32, (5, 5), strides=(2, 2), activation='relu'))\n",
    "cnn.add(Convolution2D(64, (5, 5), strides=(2, 2), activation='relu'))\n",
    "cnn.add(Convolution2D(64, (3, 3), strides=(2, 2), activation='relu'))\n",
    "cnn.add(Convolution2D(64, (3, 3), strides=(1, 1), activation='relu'))\n",
    "cnn.add(Dense(100, activation='relu'))\n",
    "cnn.add(Dropout(0.2))\n",
    "cnn.add(Dense(50, activation='relu'))\n",
    "cnn.add(Dropout(0.2))\n",
    "cnn.add(Flatten(name='flattened'))\n",
    "\n",
    "#GRU \n",
    "img_in3D = Input(shape=(10, 120, 160, 3), name='img_in')\n",
    "x = img_in3D\n",
    "x = TimeDistributed(cnn)(x) # which dimension is used for time step? first dim in shape\n",
    "x = GRU(150)(x)\n",
    "x = Dropout(0.2)(x)\n",
    "x = Dense(50, activation='relu')(x)\n",
    "x = Dropout(0.2)(x)\n",
    "angle_out = Dense(15, activation='softmax', name='angle_out')(x)\n",
    "throttle_out = Dense(1, activation='relu', name='throttle_out')(x) #Does relu really make sense here?\n",
    "\n",
    "\n",
    "model = Model(inputs=[img_in3D], outputs=[angle_out, throttle_out])\n",
    "model.compile(optimizer='rmsprop', \n",
    "              loss={'angle_out': 'categorical_crossentropy',\n",
    "                   'throttle_out': 'mean_absolute_error'}, #should I use a different loss function because of gru?\n",
    "              loss_weights={'angle_out': 0.9, 'throttle_out': 0.01}) # should throttle weight be adjusted?"
   ]
  },
  {
   "cell_type": "code",
   "execution_count": 129,
   "metadata": {},
   "outputs": [
    {
     "name": "stdout",
     "output_type": "stream",
     "text": [
      "__________________________________________________________________________________________________\n",
      "Layer (type)                    Output Shape         Param #     Connected to                     \n",
      "==================================================================================================\n",
      "img_in (InputLayer)             (None, 10, 120, 160, 0                                            \n",
      "__________________________________________________________________________________________________\n",
      "time_distributed_5 (TimeDistrib (None, 10, 900)      157726      img_in[0][0]                     \n",
      "__________________________________________________________________________________________________\n",
      "gru_5 (GRU)                     (None, 150)          472950      time_distributed_5[0][0]         \n",
      "__________________________________________________________________________________________________\n",
      "dropout_19 (Dropout)            (None, 150)          0           gru_5[0][0]                      \n",
      "__________________________________________________________________________________________________\n",
      "dense_15 (Dense)                (None, 50)           7550        dropout_19[0][0]                 \n",
      "__________________________________________________________________________________________________\n",
      "dropout_20 (Dropout)            (None, 50)           0           dense_15[0][0]                   \n",
      "__________________________________________________________________________________________________\n",
      "angle_out (Dense)               (None, 15)           765         dropout_20[0][0]                 \n",
      "__________________________________________________________________________________________________\n",
      "throttle_out (Dense)            (None, 1)            51          dropout_20[0][0]                 \n",
      "==================================================================================================\n",
      "Total params: 639,042\n",
      "Trainable params: 639,042\n",
      "Non-trainable params: 0\n",
      "__________________________________________________________________________________________________\n"
     ]
    }
   ],
   "source": [
    "model.summary()"
   ]
  },
  {
   "cell_type": "code",
   "execution_count": 99,
   "metadata": {},
   "outputs": [],
   "source": [
    "def train(train_gen, val_gen, saved_model_path, epochs=100, steps=100, train_split=0.8,\n",
    "         verbose=1, min_delta=0.0005, patience=5, use_early_stop=True):\n",
    "    \n",
    "#     checkpoint to save model\n",
    "    save_best = ModelCheckpoint(saved_model_path, monitor='val_loss', verbose=verbose, save_best_only=True, mode='min')\n",
    "    \n",
    "    #stop training if stop improving\n",
    "    early_stop = EarlyStopping(monitor='val_loss', min_delta=min_delta, patience=patience, verbose=verbose, mode='auto')\n",
    "    \n",
    "    callbacks_list = [save_best]\n",
    "    \n",
    "    if use_early_stop:\n",
    "        callbacks_list.append(early_stop)\n",
    "        \n",
    "    hist = model.fit_generator(train_gen, steps_per_epoch=steps, epochs=epochs, verbose=1, validation_data=val_gen,\n",
    "                                callbacks=callbacks_list, validation_steps=steps * (1.0 - train_frac)//train_frac)\n",
    "    return hist"
   ]
  },
  {
   "cell_type": "code",
   "execution_count": 100,
   "metadata": {},
   "outputs": [
    {
     "data": {
      "text/plain": [
       "241"
      ]
     },
     "execution_count": 100,
     "metadata": {},
     "output_type": "execute_result"
    }
   ],
   "source": [
    "total_records = len(df)\n",
    "total_train = int(total_records * train_frac)\n",
    "total_val = total_records - total_train\n",
    "steps_per_epoch = total_train // bs\n",
    "steps_per_epoch"
   ]
  },
  {
   "cell_type": "code",
   "execution_count": 101,
   "metadata": {},
   "outputs": [
    {
     "name": "stdout",
     "output_type": "stream",
     "text": [
      "Epoch 1/100\n",
      "240/241 [============================>.] - ETA: 1s - loss: 2.3519 - angle_out_loss: 2.6103 - throttle_out_loss: 0.2569\n",
      "Epoch 00001: val_loss improved from inf to 2.25768, saving model to models/pilot_jn_cnnrnn\n",
      "241/241 [==============================] - 359s 1s/step - loss: 2.3515 - angle_out_loss: 2.6100 - throttle_out_loss: 0.2568 - val_loss: 2.2577 - val_angle_out_loss: 2.5075 - val_throttle_out_loss: 0.0937\n",
      "Epoch 2/100\n",
      "240/241 [============================>.] - ETA: 1s - loss: 2.0895 - angle_out_loss: 2.3194 - throttle_out_loss: 0.1986\n",
      "Epoch 00002: val_loss improved from 2.25768 to 1.91327, saving model to models/pilot_jn_cnnrnn\n",
      "241/241 [==============================] - 340s 1s/step - loss: 2.0887 - angle_out_loss: 2.3185 - throttle_out_loss: 0.1983 - val_loss: 1.9133 - val_angle_out_loss: 2.1247 - val_throttle_out_loss: 0.1028\n",
      "Epoch 3/100\n",
      "240/241 [============================>.] - ETA: 1s - loss: 1.9473 - angle_out_loss: 2.1629 - throttle_out_loss: 0.0740\n",
      "Epoch 00003: val_loss improved from 1.91327 to 1.88385, saving model to models/pilot_jn_cnnrnn\n",
      "241/241 [==============================] - 339s 1s/step - loss: 1.9476 - angle_out_loss: 2.1632 - throttle_out_loss: 0.0739 - val_loss: 1.8839 - val_angle_out_loss: 2.0928 - val_throttle_out_loss: 0.0371\n",
      "Epoch 4/100\n",
      "240/241 [============================>.] - ETA: 1s - loss: 1.9531 - angle_out_loss: 2.1697 - throttle_out_loss: 0.0364\n",
      "Epoch 00004: val_loss improved from 1.88385 to 1.87444, saving model to models/pilot_jn_cnnrnn\n",
      "241/241 [==============================] - 340s 1s/step - loss: 1.9538 - angle_out_loss: 2.1705 - throttle_out_loss: 0.0364 - val_loss: 1.8744 - val_angle_out_loss: 2.0823 - val_throttle_out_loss: 0.0348\n",
      "Epoch 5/100\n",
      "240/241 [============================>.] - ETA: 1s - loss: 2.1037 - angle_out_loss: 2.3371 - throttle_out_loss: 0.0348\n",
      "Epoch 00005: val_loss did not improve\n",
      "241/241 [==============================] - 340s 1s/step - loss: 2.1039 - angle_out_loss: 2.3373 - throttle_out_loss: 0.0348 - val_loss: 2.0999 - val_angle_out_loss: 2.3328 - val_throttle_out_loss: 0.0344\n",
      "Epoch 6/100\n",
      "240/241 [============================>.] - ETA: 1s - loss: 2.1572 - angle_out_loss: 2.3965 - throttle_out_loss: 0.0353\n",
      "Epoch 00006: val_loss did not improve\n",
      "241/241 [==============================] - 349s 1s/step - loss: 2.1571 - angle_out_loss: 2.3964 - throttle_out_loss: 0.0352 - val_loss: 1.9850 - val_angle_out_loss: 2.2052 - val_throttle_out_loss: 0.0353\n",
      "Epoch 7/100\n",
      "240/241 [============================>.] - ETA: 1s - loss: 1.9511 - angle_out_loss: 2.1675 - throttle_out_loss: 0.0346\n",
      "Epoch 00007: val_loss improved from 1.87444 to 1.81713, saving model to models/pilot_jn_cnnrnn\n",
      "241/241 [==============================] - 340s 1s/step - loss: 1.9513 - angle_out_loss: 2.1677 - throttle_out_loss: 0.0346 - val_loss: 1.8171 - val_angle_out_loss: 2.0186 - val_throttle_out_loss: 0.0345\n",
      "Epoch 8/100\n",
      "240/241 [============================>.] - ETA: 1s - loss: 1.9246 - angle_out_loss: 2.1381 - throttle_out_loss: 0.0346\n",
      "Epoch 00008: val_loss did not improve\n",
      "241/241 [==============================] - 340s 1s/step - loss: 1.9250 - angle_out_loss: 2.1385 - throttle_out_loss: 0.0346 - val_loss: 1.8979 - val_angle_out_loss: 2.1084 - val_throttle_out_loss: 0.0356\n",
      "Epoch 9/100\n",
      "240/241 [============================>.] - ETA: 1s - loss: 1.9407 - angle_out_loss: 2.1560 - throttle_out_loss: 0.0347\n",
      "Epoch 00009: val_loss did not improve\n",
      "241/241 [==============================] - 340s 1s/step - loss: 1.9411 - angle_out_loss: 2.1564 - throttle_out_loss: 0.0347 - val_loss: 1.9153 - val_angle_out_loss: 2.1277 - val_throttle_out_loss: 0.0345\n",
      "Epoch 10/100\n",
      "240/241 [============================>.] - ETA: 1s - loss: 1.9401 - angle_out_loss: 2.1553 - throttle_out_loss: 0.0345\n",
      "Epoch 00010: val_loss improved from 1.81713 to 1.78990, saving model to models/pilot_jn_cnnrnn\n",
      "241/241 [==============================] - 341s 1s/step - loss: 1.9397 - angle_out_loss: 2.1549 - throttle_out_loss: 0.0345 - val_loss: 1.7899 - val_angle_out_loss: 1.9884 - val_throttle_out_loss: 0.0345\n",
      "Epoch 11/100\n",
      "240/241 [============================>.] - ETA: 1s - loss: 1.8722 - angle_out_loss: 2.0798 - throttle_out_loss: 0.0344\n",
      "Epoch 00011: val_loss did not improve\n",
      "241/241 [==============================] - 341s 1s/step - loss: 1.8727 - angle_out_loss: 2.0804 - throttle_out_loss: 0.0344 - val_loss: 1.8020 - val_angle_out_loss: 2.0019 - val_throttle_out_loss: 0.0345\n",
      "Epoch 12/100\n",
      "240/241 [============================>.] - ETA: 1s - loss: 1.9263 - angle_out_loss: 2.1400 - throttle_out_loss: 0.0346\n",
      "Epoch 00012: val_loss did not improve\n",
      "241/241 [==============================] - 340s 1s/step - loss: 1.9271 - angle_out_loss: 2.1408 - throttle_out_loss: 0.0346 - val_loss: 1.8942 - val_angle_out_loss: 2.1043 - val_throttle_out_loss: 0.0349\n",
      "Epoch 13/100\n",
      "240/241 [============================>.] - ETA: 1s - loss: 1.9313 - angle_out_loss: 2.1455 - throttle_out_loss: 0.0346\n",
      "Epoch 00013: val_loss did not improve\n",
      "241/241 [==============================] - 336s 1s/step - loss: 1.9318 - angle_out_loss: 2.1461 - throttle_out_loss: 0.0346 - val_loss: 1.8576 - val_angle_out_loss: 2.0636 - val_throttle_out_loss: 0.0356\n",
      "Epoch 14/100\n",
      "240/241 [============================>.] - ETA: 1s - loss: 1.9780 - angle_out_loss: 2.1975 - throttle_out_loss: 0.0340\n",
      "Epoch 00014: val_loss did not improve\n",
      "241/241 [==============================] - 342s 1s/step - loss: 1.9784 - angle_out_loss: 2.1978 - throttle_out_loss: 0.0339 - val_loss: 1.9005 - val_angle_out_loss: 2.1113 - val_throttle_out_loss: 0.0351\n",
      "Epoch 15/100\n",
      "240/241 [============================>.] - ETA: 1s - loss: 1.9491 - angle_out_loss: 2.1653 - throttle_out_loss: 0.0342\n",
      "Epoch 00015: val_loss did not improve\n",
      "241/241 [==============================] - 335s 1s/step - loss: 1.9489 - angle_out_loss: 2.1651 - throttle_out_loss: 0.0341 - val_loss: 1.8317 - val_angle_out_loss: 2.0349 - val_throttle_out_loss: 0.0345\n",
      "Epoch 00015: early stopping\n"
     ]
    },
    {
     "data": {
      "text/plain": [
       "<tensorflow.python.keras._impl.keras.callbacks.History at 0x1faf57b32e8>"
      ]
     },
     "execution_count": 101,
     "metadata": {},
     "output_type": "execute_result"
    }
   ],
   "source": [
    "train(train_gen, val_gen, saved_model_path=new_model_path, steps=steps_per_epoch, train_split=0.8)"
   ]
  },
  {
   "cell_type": "code",
   "execution_count": null,
   "metadata": {},
   "outputs": [],
   "source": [
    "\"\"\"\n",
    "GRU with rmsprop optimizer\n",
    "record\n",
    "241/241 [==============================] - 137s 570ms/step - loss: 1.6156 - angle_out_loss: 1.7943 \n",
    "- throttle_out_loss: 0.0702 - val_loss: 2.1860 - val_angle_out_loss: 2.4283 - val_throttle_out_loss: 0.0526\n",
    "Epoch 00010: early stopping\n",
    "\n",
    "GRU with 50 units\n",
    "\"\"\""
   ]
  },
  {
   "cell_type": "code",
   "execution_count": 104,
   "metadata": {},
   "outputs": [],
   "source": [
    "#check against original\n",
    "def unbin(arr):\n",
    "    index = np.argmax(arr)\n",
    "    return index/14*2-1\n",
    "#     return index"
   ]
  },
  {
   "cell_type": "code",
   "execution_count": 105,
   "metadata": {},
   "outputs": [
    {
     "data": {
      "text/plain": [
       "0.0"
      ]
     },
     "execution_count": 105,
     "metadata": {},
     "output_type": "execute_result"
    }
   ],
   "source": [
    "unbin([0, 0, 0, 0, 0, 0, 0, 1, 0, 0, 0, 0, 0, 0, 0])"
   ]
  },
  {
   "cell_type": "code",
   "execution_count": 111,
   "metadata": {},
   "outputs": [],
   "source": [
    "def run(img_arr):\n",
    "    img_arr = img_arr.reshape((1,) + img_arr.shape)\n",
    "    angle_binned, throttle = model.predict(img_arr)\n",
    "    angle_unbinned = unbin(angle_binned[0])\n",
    "    return angle_unbinned, throttle[0][0]"
   ]
  },
  {
   "cell_type": "code",
   "execution_count": 121,
   "metadata": {},
   "outputs": [],
   "source": [
    "frame_idx = 200 #500 - 600"
   ]
  },
  {
   "cell_type": "code",
   "execution_count": 122,
   "metadata": {},
   "outputs": [],
   "source": [
    "img_name = df['cam/image_array'][frame_idx]\n",
    "images = get_prev_img_names(img_name, 10)\n",
    "val = []\n",
    "for i, name in enumerate(images):\n",
    "    img = Image.open(f'{PATH}/{img_name}')\n",
    "    val.append(np.array(img))\n",
    "val = np.array(val)"
   ]
  },
  {
   "cell_type": "code",
   "execution_count": 123,
   "metadata": {},
   "outputs": [
    {
     "data": {
      "text/plain": [
       "(10, 120, 160, 3)"
      ]
     },
     "execution_count": 123,
     "metadata": {},
     "output_type": "execute_result"
    }
   ],
   "source": [
    "val.shape"
   ]
  },
  {
   "cell_type": "code",
   "execution_count": 124,
   "metadata": {},
   "outputs": [
    {
     "data": {
      "text/plain": [
       "(0.0, 0.32848734)"
      ]
     },
     "execution_count": 124,
     "metadata": {},
     "output_type": "execute_result"
    }
   ],
   "source": [
    "#prediction\n",
    "run(val)"
   ]
  },
  {
   "cell_type": "code",
   "execution_count": 125,
   "metadata": {},
   "outputs": [
    {
     "data": {
      "text/plain": [
       "(-0.45, 0.29)"
      ]
     },
     "execution_count": 125,
     "metadata": {},
     "output_type": "execute_result"
    }
   ],
   "source": [
    "#compare to actual data\n",
    "df['user/angle'][frame_idx], df['user/throttle'][frame_idx]"
   ]
  },
  {
   "cell_type": "code",
   "execution_count": 126,
   "metadata": {},
   "outputs": [
    {
     "data": {
      "text/plain": [
       "(-0.53, 0.33)"
      ]
     },
     "execution_count": 126,
     "metadata": {},
     "output_type": "execute_result"
    }
   ],
   "source": [
    "df['user/angle'][frame_idx-1], df['user/throttle'][frame_idx-1]"
   ]
  },
  {
   "cell_type": "code",
   "execution_count": 127,
   "metadata": {},
   "outputs": [
    {
     "data": {
      "text/plain": [
       "(-0.53, 0.33)"
      ]
     },
     "execution_count": 127,
     "metadata": {},
     "output_type": "execute_result"
    }
   ],
   "source": [
    "df['user/angle'][frame_idx-2], df['user/throttle'][frame_idx-2]"
   ]
  },
  {
   "cell_type": "code",
   "execution_count": null,
   "metadata": {},
   "outputs": [],
   "source": []
  }
 ],
 "metadata": {
  "kernelspec": {
   "display_name": "Tensorflow-GPU",
   "language": "python",
   "name": "tf-gpu"
  },
  "language_info": {
   "codemirror_mode": {
    "name": "ipython",
    "version": 3
   },
   "file_extension": ".py",
   "mimetype": "text/x-python",
   "name": "python",
   "nbconvert_exporter": "python",
   "pygments_lexer": "ipython3",
   "version": "3.6.6"
  }
 },
 "nbformat": 4,
 "nbformat_minor": 2
}
