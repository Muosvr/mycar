{
 "cells": [
  {
   "cell_type": "code",
   "execution_count": 1,
   "metadata": {},
   "outputs": [],
   "source": [
    "import os, json\n",
    "import pandas as pd"
   ]
  },
  {
   "cell_type": "code",
   "execution_count": 89,
   "metadata": {},
   "outputs": [],
   "source": [
    "PATH = \"..\\\\tubs\\\\tub_filtered_mute2Effective\""
   ]
  },
  {
   "cell_type": "code",
   "execution_count": 90,
   "metadata": {},
   "outputs": [],
   "source": [
    "json_files = [file for file in os.listdir(PATH) if file.endswith('json') ]"
   ]
  },
  {
   "cell_type": "code",
   "execution_count": 91,
   "metadata": {},
   "outputs": [
    {
     "data": {
      "text/plain": [
       "2376"
      ]
     },
     "execution_count": 91,
     "metadata": {},
     "output_type": "execute_result"
    }
   ],
   "source": [
    "len(json_files)"
   ]
  },
  {
   "cell_type": "code",
   "execution_count": 92,
   "metadata": {},
   "outputs": [],
   "source": [
    "meta_json = pd.read_json(f'{PATH}/{json_files[0]}')"
   ]
  },
  {
   "cell_type": "code",
   "execution_count": 93,
   "metadata": {},
   "outputs": [
    {
     "data": {
      "text/html": [
       "<div>\n",
       "<style scoped>\n",
       "    .dataframe tbody tr th:only-of-type {\n",
       "        vertical-align: middle;\n",
       "    }\n",
       "\n",
       "    .dataframe tbody tr th {\n",
       "        vertical-align: top;\n",
       "    }\n",
       "\n",
       "    .dataframe thead th {\n",
       "        text-align: right;\n",
       "    }\n",
       "</style>\n",
       "<table border=\"1\" class=\"dataframe\">\n",
       "  <thead>\n",
       "    <tr style=\"text-align: right;\">\n",
       "      <th></th>\n",
       "      <th>types</th>\n",
       "      <th>inputs</th>\n",
       "    </tr>\n",
       "  </thead>\n",
       "  <tbody>\n",
       "    <tr>\n",
       "      <th>0</th>\n",
       "      <td>image_array</td>\n",
       "      <td>cam/image_array</td>\n",
       "    </tr>\n",
       "    <tr>\n",
       "      <th>1</th>\n",
       "      <td>float</td>\n",
       "      <td>pilot/angle</td>\n",
       "    </tr>\n",
       "    <tr>\n",
       "      <th>2</th>\n",
       "      <td>float</td>\n",
       "      <td>angle</td>\n",
       "    </tr>\n",
       "    <tr>\n",
       "      <th>3</th>\n",
       "      <td>float</td>\n",
       "      <td>throttle</td>\n",
       "    </tr>\n",
       "    <tr>\n",
       "      <th>4</th>\n",
       "      <td>str</td>\n",
       "      <td>user/mode</td>\n",
       "    </tr>\n",
       "    <tr>\n",
       "      <th>5</th>\n",
       "      <td>str</td>\n",
       "      <td>timestamp</td>\n",
       "    </tr>\n",
       "    <tr>\n",
       "      <th>6</th>\n",
       "      <td>boolean</td>\n",
       "      <td>filtered</td>\n",
       "    </tr>\n",
       "  </tbody>\n",
       "</table>\n",
       "</div>"
      ],
      "text/plain": [
       "         types           inputs\n",
       "0  image_array  cam/image_array\n",
       "1        float      pilot/angle\n",
       "2        float            angle\n",
       "3        float         throttle\n",
       "4          str        user/mode\n",
       "5          str        timestamp\n",
       "6      boolean         filtered"
      ]
     },
     "execution_count": 93,
     "metadata": {},
     "output_type": "execute_result"
    }
   ],
   "source": [
    "meta_json"
   ]
  },
  {
   "cell_type": "code",
   "execution_count": 106,
   "metadata": {},
   "outputs": [],
   "source": [
    "df = pd.DataFrame()\n",
    "i = 0\n",
    "for i, j in enumerate(json_files[1:None]):\n",
    "    with open(f'{PATH}/{j}') as f:\n",
    "        try:\n",
    "            data = json.load(f)\n",
    "        except:\n",
    "            pass\n",
    "        \n",
    "        Throttle = data[\"throttle\"]\n",
    "        pilotAngle = data[\"pilot/angle\"]\n",
    "        filtered = data[\"filtered\"]\n",
    "        angle = data[\"angle\"]\n",
    "        camImage_array = data[\"cam/image_array\"]\n",
    "        index = int(camImage_array[:-21])\n",
    "        df_row = pd.DataFrame([[Throttle, pilotAngle, angle, filtered, camImage_array]], index = [index], \n",
    "                              columns = [\"throttle\", \"pilot/angle\", \"angle\", \"filtered\", \"cam/image_array\"])\n",
    "        \n",
    "        df = df.append(df_row)\n",
    "df = df.sort_index()"
   ]
  },
  {
   "cell_type": "code",
   "execution_count": 107,
   "metadata": {},
   "outputs": [
    {
     "data": {
      "text/plain": [
       "2375"
      ]
     },
     "execution_count": 107,
     "metadata": {},
     "output_type": "execute_result"
    }
   ],
   "source": [
    "len(df)"
   ]
  },
  {
   "cell_type": "code",
   "execution_count": 108,
   "metadata": {},
   "outputs": [],
   "source": [
    "df = df.sort_index()"
   ]
  },
  {
   "cell_type": "code",
   "execution_count": 109,
   "metadata": {},
   "outputs": [],
   "source": [
    "import numpy as np\n",
    "import seaborn as sns\n",
    "import matplotlib.pyplot as plt\n",
    "from scipy import stats"
   ]
  },
  {
   "cell_type": "code",
   "execution_count": 110,
   "metadata": {},
   "outputs": [
    {
     "data": {
      "text/html": [
       "<div>\n",
       "<style scoped>\n",
       "    .dataframe tbody tr th:only-of-type {\n",
       "        vertical-align: middle;\n",
       "    }\n",
       "\n",
       "    .dataframe tbody tr th {\n",
       "        vertical-align: top;\n",
       "    }\n",
       "\n",
       "    .dataframe thead th {\n",
       "        text-align: right;\n",
       "    }\n",
       "</style>\n",
       "<table border=\"1\" class=\"dataframe\">\n",
       "  <thead>\n",
       "    <tr style=\"text-align: right;\">\n",
       "      <th></th>\n",
       "      <th>throttle</th>\n",
       "      <th>pilot/angle</th>\n",
       "      <th>angle</th>\n",
       "      <th>filtered</th>\n",
       "      <th>cam/image_array</th>\n",
       "    </tr>\n",
       "  </thead>\n",
       "  <tbody>\n",
       "    <tr>\n",
       "      <th>0</th>\n",
       "      <td>0.3</td>\n",
       "      <td>0.857143</td>\n",
       "      <td>0.857143</td>\n",
       "      <td>False</td>\n",
       "      <td>0_cam-image_array_.jpg</td>\n",
       "    </tr>\n",
       "    <tr>\n",
       "      <th>1</th>\n",
       "      <td>0.3</td>\n",
       "      <td>0.857143</td>\n",
       "      <td>0.857143</td>\n",
       "      <td>False</td>\n",
       "      <td>1_cam-image_array_.jpg</td>\n",
       "    </tr>\n",
       "    <tr>\n",
       "      <th>2</th>\n",
       "      <td>0.3</td>\n",
       "      <td>0.857143</td>\n",
       "      <td>0.857143</td>\n",
       "      <td>False</td>\n",
       "      <td>2_cam-image_array_.jpg</td>\n",
       "    </tr>\n",
       "    <tr>\n",
       "      <th>3</th>\n",
       "      <td>0.3</td>\n",
       "      <td>0.571429</td>\n",
       "      <td>0.571429</td>\n",
       "      <td>False</td>\n",
       "      <td>3_cam-image_array_.jpg</td>\n",
       "    </tr>\n",
       "    <tr>\n",
       "      <th>4</th>\n",
       "      <td>0.3</td>\n",
       "      <td>0.571429</td>\n",
       "      <td>0.571429</td>\n",
       "      <td>False</td>\n",
       "      <td>4_cam-image_array_.jpg</td>\n",
       "    </tr>\n",
       "  </tbody>\n",
       "</table>\n",
       "</div>"
      ],
      "text/plain": [
       "   throttle  pilot/angle     angle  filtered         cam/image_array\n",
       "0       0.3     0.857143  0.857143     False  0_cam-image_array_.jpg\n",
       "1       0.3     0.857143  0.857143     False  1_cam-image_array_.jpg\n",
       "2       0.3     0.857143  0.857143     False  2_cam-image_array_.jpg\n",
       "3       0.3     0.571429  0.571429     False  3_cam-image_array_.jpg\n",
       "4       0.3     0.571429  0.571429     False  4_cam-image_array_.jpg"
      ]
     },
     "execution_count": 110,
     "metadata": {},
     "output_type": "execute_result"
    }
   ],
   "source": [
    "df.head()"
   ]
  },
  {
   "cell_type": "code",
   "execution_count": 111,
   "metadata": {},
   "outputs": [],
   "source": [
    "df_filtered = df[df[\"filtered\"]==True]"
   ]
  },
  {
   "cell_type": "code",
   "execution_count": 112,
   "metadata": {},
   "outputs": [
    {
     "data": {
      "text/plain": [
       "125"
      ]
     },
     "execution_count": 112,
     "metadata": {},
     "output_type": "execute_result"
    }
   ],
   "source": [
    "len(df_filtered)"
   ]
  },
  {
   "cell_type": "code",
   "execution_count": 115,
   "metadata": {},
   "outputs": [
    {
     "data": {
      "text/html": [
       "<div>\n",
       "<style scoped>\n",
       "    .dataframe tbody tr th:only-of-type {\n",
       "        vertical-align: middle;\n",
       "    }\n",
       "\n",
       "    .dataframe tbody tr th {\n",
       "        vertical-align: top;\n",
       "    }\n",
       "\n",
       "    .dataframe thead th {\n",
       "        text-align: right;\n",
       "    }\n",
       "</style>\n",
       "<table border=\"1\" class=\"dataframe\">\n",
       "  <thead>\n",
       "    <tr style=\"text-align: right;\">\n",
       "      <th></th>\n",
       "      <th>throttle</th>\n",
       "      <th>pilot/angle</th>\n",
       "      <th>angle</th>\n",
       "      <th>filtered</th>\n",
       "      <th>cam/image_array</th>\n",
       "    </tr>\n",
       "  </thead>\n",
       "  <tbody>\n",
       "    <tr>\n",
       "      <th>40</th>\n",
       "      <td>0.3</td>\n",
       "      <td>0.571429</td>\n",
       "      <td>-0.571429</td>\n",
       "      <td>True</td>\n",
       "      <td>40_cam-image_array_.jpg</td>\n",
       "    </tr>\n",
       "    <tr>\n",
       "      <th>42</th>\n",
       "      <td>0.3</td>\n",
       "      <td>-0.142857</td>\n",
       "      <td>-0.714286</td>\n",
       "      <td>True</td>\n",
       "      <td>42_cam-image_array_.jpg</td>\n",
       "    </tr>\n",
       "    <tr>\n",
       "      <th>44</th>\n",
       "      <td>0.3</td>\n",
       "      <td>-1.000000</td>\n",
       "      <td>0.000000</td>\n",
       "      <td>True</td>\n",
       "      <td>44_cam-image_array_.jpg</td>\n",
       "    </tr>\n",
       "    <tr>\n",
       "      <th>49</th>\n",
       "      <td>0.3</td>\n",
       "      <td>0.714286</td>\n",
       "      <td>-0.714286</td>\n",
       "      <td>True</td>\n",
       "      <td>49_cam-image_array_.jpg</td>\n",
       "    </tr>\n",
       "    <tr>\n",
       "      <th>54</th>\n",
       "      <td>0.3</td>\n",
       "      <td>0.714286</td>\n",
       "      <td>-0.857143</td>\n",
       "      <td>True</td>\n",
       "      <td>54_cam-image_array_.jpg</td>\n",
       "    </tr>\n",
       "    <tr>\n",
       "      <th>107</th>\n",
       "      <td>0.3</td>\n",
       "      <td>-0.714286</td>\n",
       "      <td>-0.142857</td>\n",
       "      <td>True</td>\n",
       "      <td>107_cam-image_array_.jpg</td>\n",
       "    </tr>\n",
       "    <tr>\n",
       "      <th>111</th>\n",
       "      <td>0.3</td>\n",
       "      <td>1.000000</td>\n",
       "      <td>-0.428571</td>\n",
       "      <td>True</td>\n",
       "      <td>111_cam-image_array_.jpg</td>\n",
       "    </tr>\n",
       "    <tr>\n",
       "      <th>114</th>\n",
       "      <td>0.3</td>\n",
       "      <td>0.000000</td>\n",
       "      <td>-0.857143</td>\n",
       "      <td>True</td>\n",
       "      <td>114_cam-image_array_.jpg</td>\n",
       "    </tr>\n",
       "    <tr>\n",
       "      <th>121</th>\n",
       "      <td>0.3</td>\n",
       "      <td>0.000000</td>\n",
       "      <td>-0.571429</td>\n",
       "      <td>True</td>\n",
       "      <td>121_cam-image_array_.jpg</td>\n",
       "    </tr>\n",
       "    <tr>\n",
       "      <th>139</th>\n",
       "      <td>0.3</td>\n",
       "      <td>0.000000</td>\n",
       "      <td>0.857143</td>\n",
       "      <td>True</td>\n",
       "      <td>139_cam-image_array_.jpg</td>\n",
       "    </tr>\n",
       "    <tr>\n",
       "      <th>141</th>\n",
       "      <td>0.3</td>\n",
       "      <td>1.000000</td>\n",
       "      <td>0.142857</td>\n",
       "      <td>True</td>\n",
       "      <td>141_cam-image_array_.jpg</td>\n",
       "    </tr>\n",
       "    <tr>\n",
       "      <th>145</th>\n",
       "      <td>0.3</td>\n",
       "      <td>0.714286</td>\n",
       "      <td>0.000000</td>\n",
       "      <td>True</td>\n",
       "      <td>145_cam-image_array_.jpg</td>\n",
       "    </tr>\n",
       "    <tr>\n",
       "      <th>148</th>\n",
       "      <td>0.3</td>\n",
       "      <td>0.142857</td>\n",
       "      <td>-1.000000</td>\n",
       "      <td>True</td>\n",
       "      <td>148_cam-image_array_.jpg</td>\n",
       "    </tr>\n",
       "    <tr>\n",
       "      <th>150</th>\n",
       "      <td>0.3</td>\n",
       "      <td>0.000000</td>\n",
       "      <td>0.857143</td>\n",
       "      <td>True</td>\n",
       "      <td>150_cam-image_array_.jpg</td>\n",
       "    </tr>\n",
       "    <tr>\n",
       "      <th>155</th>\n",
       "      <td>0.3</td>\n",
       "      <td>1.000000</td>\n",
       "      <td>0.000000</td>\n",
       "      <td>True</td>\n",
       "      <td>155_cam-image_array_.jpg</td>\n",
       "    </tr>\n",
       "    <tr>\n",
       "      <th>158</th>\n",
       "      <td>0.3</td>\n",
       "      <td>-0.857143</td>\n",
       "      <td>0.428571</td>\n",
       "      <td>True</td>\n",
       "      <td>158_cam-image_array_.jpg</td>\n",
       "    </tr>\n",
       "    <tr>\n",
       "      <th>163</th>\n",
       "      <td>0.3</td>\n",
       "      <td>0.000000</td>\n",
       "      <td>0.857143</td>\n",
       "      <td>True</td>\n",
       "      <td>163_cam-image_array_.jpg</td>\n",
       "    </tr>\n",
       "    <tr>\n",
       "      <th>166</th>\n",
       "      <td>0.3</td>\n",
       "      <td>0.000000</td>\n",
       "      <td>0.857143</td>\n",
       "      <td>True</td>\n",
       "      <td>166_cam-image_array_.jpg</td>\n",
       "    </tr>\n",
       "    <tr>\n",
       "      <th>168</th>\n",
       "      <td>0.3</td>\n",
       "      <td>0.000000</td>\n",
       "      <td>0.857143</td>\n",
       "      <td>True</td>\n",
       "      <td>168_cam-image_array_.jpg</td>\n",
       "    </tr>\n",
       "    <tr>\n",
       "      <th>224</th>\n",
       "      <td>0.3</td>\n",
       "      <td>-0.285714</td>\n",
       "      <td>-0.857143</td>\n",
       "      <td>True</td>\n",
       "      <td>224_cam-image_array_.jpg</td>\n",
       "    </tr>\n",
       "    <tr>\n",
       "      <th>252</th>\n",
       "      <td>0.3</td>\n",
       "      <td>-0.428571</td>\n",
       "      <td>-1.000000</td>\n",
       "      <td>True</td>\n",
       "      <td>252_cam-image_array_.jpg</td>\n",
       "    </tr>\n",
       "    <tr>\n",
       "      <th>255</th>\n",
       "      <td>0.3</td>\n",
       "      <td>0.000000</td>\n",
       "      <td>-1.000000</td>\n",
       "      <td>True</td>\n",
       "      <td>255_cam-image_array_.jpg</td>\n",
       "    </tr>\n",
       "    <tr>\n",
       "      <th>261</th>\n",
       "      <td>0.3</td>\n",
       "      <td>-0.285714</td>\n",
       "      <td>-1.000000</td>\n",
       "      <td>True</td>\n",
       "      <td>261_cam-image_array_.jpg</td>\n",
       "    </tr>\n",
       "    <tr>\n",
       "      <th>275</th>\n",
       "      <td>0.3</td>\n",
       "      <td>1.000000</td>\n",
       "      <td>0.428571</td>\n",
       "      <td>True</td>\n",
       "      <td>275_cam-image_array_.jpg</td>\n",
       "    </tr>\n",
       "    <tr>\n",
       "      <th>277</th>\n",
       "      <td>0.3</td>\n",
       "      <td>0.000000</td>\n",
       "      <td>1.000000</td>\n",
       "      <td>True</td>\n",
       "      <td>277_cam-image_array_.jpg</td>\n",
       "    </tr>\n",
       "    <tr>\n",
       "      <th>288</th>\n",
       "      <td>0.3</td>\n",
       "      <td>0.714286</td>\n",
       "      <td>0.000000</td>\n",
       "      <td>True</td>\n",
       "      <td>288_cam-image_array_.jpg</td>\n",
       "    </tr>\n",
       "    <tr>\n",
       "      <th>294</th>\n",
       "      <td>0.3</td>\n",
       "      <td>-0.857143</td>\n",
       "      <td>-0.285714</td>\n",
       "      <td>True</td>\n",
       "      <td>294_cam-image_array_.jpg</td>\n",
       "    </tr>\n",
       "    <tr>\n",
       "      <th>298</th>\n",
       "      <td>0.3</td>\n",
       "      <td>0.857143</td>\n",
       "      <td>0.142857</td>\n",
       "      <td>True</td>\n",
       "      <td>298_cam-image_array_.jpg</td>\n",
       "    </tr>\n",
       "    <tr>\n",
       "      <th>300</th>\n",
       "      <td>0.3</td>\n",
       "      <td>0.142857</td>\n",
       "      <td>0.857143</td>\n",
       "      <td>True</td>\n",
       "      <td>300_cam-image_array_.jpg</td>\n",
       "    </tr>\n",
       "    <tr>\n",
       "      <th>320</th>\n",
       "      <td>0.3</td>\n",
       "      <td>-0.571429</td>\n",
       "      <td>0.000000</td>\n",
       "      <td>True</td>\n",
       "      <td>320_cam-image_array_.jpg</td>\n",
       "    </tr>\n",
       "  </tbody>\n",
       "</table>\n",
       "</div>"
      ],
      "text/plain": [
       "     throttle  pilot/angle     angle  filtered           cam/image_array\n",
       "40        0.3     0.571429 -0.571429      True   40_cam-image_array_.jpg\n",
       "42        0.3    -0.142857 -0.714286      True   42_cam-image_array_.jpg\n",
       "44        0.3    -1.000000  0.000000      True   44_cam-image_array_.jpg\n",
       "49        0.3     0.714286 -0.714286      True   49_cam-image_array_.jpg\n",
       "54        0.3     0.714286 -0.857143      True   54_cam-image_array_.jpg\n",
       "107       0.3    -0.714286 -0.142857      True  107_cam-image_array_.jpg\n",
       "111       0.3     1.000000 -0.428571      True  111_cam-image_array_.jpg\n",
       "114       0.3     0.000000 -0.857143      True  114_cam-image_array_.jpg\n",
       "121       0.3     0.000000 -0.571429      True  121_cam-image_array_.jpg\n",
       "139       0.3     0.000000  0.857143      True  139_cam-image_array_.jpg\n",
       "141       0.3     1.000000  0.142857      True  141_cam-image_array_.jpg\n",
       "145       0.3     0.714286  0.000000      True  145_cam-image_array_.jpg\n",
       "148       0.3     0.142857 -1.000000      True  148_cam-image_array_.jpg\n",
       "150       0.3     0.000000  0.857143      True  150_cam-image_array_.jpg\n",
       "155       0.3     1.000000  0.000000      True  155_cam-image_array_.jpg\n",
       "158       0.3    -0.857143  0.428571      True  158_cam-image_array_.jpg\n",
       "163       0.3     0.000000  0.857143      True  163_cam-image_array_.jpg\n",
       "166       0.3     0.000000  0.857143      True  166_cam-image_array_.jpg\n",
       "168       0.3     0.000000  0.857143      True  168_cam-image_array_.jpg\n",
       "224       0.3    -0.285714 -0.857143      True  224_cam-image_array_.jpg\n",
       "252       0.3    -0.428571 -1.000000      True  252_cam-image_array_.jpg\n",
       "255       0.3     0.000000 -1.000000      True  255_cam-image_array_.jpg\n",
       "261       0.3    -0.285714 -1.000000      True  261_cam-image_array_.jpg\n",
       "275       0.3     1.000000  0.428571      True  275_cam-image_array_.jpg\n",
       "277       0.3     0.000000  1.000000      True  277_cam-image_array_.jpg\n",
       "288       0.3     0.714286  0.000000      True  288_cam-image_array_.jpg\n",
       "294       0.3    -0.857143 -0.285714      True  294_cam-image_array_.jpg\n",
       "298       0.3     0.857143  0.142857      True  298_cam-image_array_.jpg\n",
       "300       0.3     0.142857  0.857143      True  300_cam-image_array_.jpg\n",
       "320       0.3    -0.571429  0.000000      True  320_cam-image_array_.jpg"
      ]
     },
     "execution_count": 115,
     "metadata": {},
     "output_type": "execute_result"
    }
   ],
   "source": [
    "df_filtered[:30]"
   ]
  },
  {
   "cell_type": "code",
   "execution_count": 23,
   "metadata": {},
   "outputs": [
    {
     "name": "stderr",
     "output_type": "stream",
     "text": [
      "C:\\Users\\allace\\Anaconda3\\lib\\site-packages\\matplotlib\\axes\\_axes.py:6462: UserWarning: The 'normed' kwarg is deprecated, and has been replaced by the 'density' kwarg.\n",
      "  warnings.warn(\"The 'normed' kwarg is deprecated, and has been \"\n"
     ]
    },
    {
     "data": {
      "text/plain": [
       "<matplotlib.axes._subplots.AxesSubplot at 0x2481cd95588>"
      ]
     },
     "execution_count": 23,
     "metadata": {},
     "output_type": "execute_result"
    },
    {
     "data": {
      "image/png": "[encoded data removed]",
      "text/plain": [
       "<Figure size 432x288 with 1 Axes>"
      ]
     },
     "metadata": {},
     "output_type": "display_data"
    }
   ],
   "source": [
    "sns.distplot(df[\"throttle\"], kde=False)"
   ]
  },
  {
   "cell_type": "code",
   "execution_count": 24,
   "metadata": {},
   "outputs": [
    {
     "name": "stderr",
     "output_type": "stream",
     "text": [
      "C:\\Users\\allace\\Anaconda3\\lib\\site-packages\\matplotlib\\axes\\_axes.py:6462: UserWarning: The 'normed' kwarg is deprecated, and has been replaced by the 'density' kwarg.\n",
      "  warnings.warn(\"The 'normed' kwarg is deprecated, and has been \"\n"
     ]
    },
    {
     "data": {
      "text/plain": [
       "<matplotlib.axes._subplots.AxesSubplot at 0x2481cb23d68>"
      ]
     },
     "execution_count": 24,
     "metadata": {},
     "output_type": "execute_result"
    },
    {
     "data": {
      "image/png": "[encoded data removed]",
      "text/plain": [
       "<Figure size 432x288 with 1 Axes>"
      ]
     },
     "metadata": {},
     "output_type": "display_data"
    }
   ],
   "source": [
    "sns.distplot(df[\"pilot/angle\"], kde=False)"
   ]
  },
  {
   "cell_type": "code",
   "execution_count": 25,
   "metadata": {},
   "outputs": [
    {
     "name": "stderr",
     "output_type": "stream",
     "text": [
      "C:\\Users\\allace\\Anaconda3\\lib\\site-packages\\matplotlib\\axes\\_axes.py:6462: UserWarning: The 'normed' kwarg is deprecated, and has been replaced by the 'density' kwarg.\n",
      "  warnings.warn(\"The 'normed' kwarg is deprecated, and has been \"\n",
      "C:\\Users\\allace\\Anaconda3\\lib\\site-packages\\matplotlib\\axes\\_axes.py:6462: UserWarning: The 'normed' kwarg is deprecated, and has been replaced by the 'density' kwarg.\n",
      "  warnings.warn(\"The 'normed' kwarg is deprecated, and has been \"\n"
     ]
    },
    {
     "data": {
      "image/png": "[encoded data removed]",
      "text/plain": [
       "<Figure size 432x432 with 3 Axes>"
      ]
     },
     "metadata": {},
     "output_type": "display_data"
    }
   ],
   "source": [
    "with sns.axes_style(\"white\"):\n",
    "    sns.jointplot(x=df[\"pilot/angle\"], y=df[\"throttle\"], kind=\"hex\", color=\"k\")"
   ]
  },
  {
   "cell_type": "code",
   "execution_count": 55,
   "metadata": {},
   "outputs": [],
   "source": [
    "df_x = df.drop(labels=[\"cam/image_array\"], axis = 1)"
   ]
  },
  {
   "cell_type": "code",
   "execution_count": 56,
   "metadata": {},
   "outputs": [
    {
     "data": {
      "text/html": [
       "<div>\n",
       "<style scoped>\n",
       "    .dataframe tbody tr th:only-of-type {\n",
       "        vertical-align: middle;\n",
       "    }\n",
       "\n",
       "    .dataframe tbody tr th {\n",
       "        vertical-align: top;\n",
       "    }\n",
       "\n",
       "    .dataframe thead th {\n",
       "        text-align: right;\n",
       "    }\n",
       "</style>\n",
       "<table border=\"1\" class=\"dataframe\">\n",
       "  <thead>\n",
       "    <tr style=\"text-align: right;\">\n",
       "      <th></th>\n",
       "      <th>user/throttle</th>\n",
       "      <th>user/angle</th>\n",
       "    </tr>\n",
       "  </thead>\n",
       "  <tbody>\n",
       "    <tr>\n",
       "      <th>0</th>\n",
       "      <td>0.08</td>\n",
       "      <td>0.01</td>\n",
       "    </tr>\n",
       "    <tr>\n",
       "      <th>1</th>\n",
       "      <td>0.12</td>\n",
       "      <td>-0.03</td>\n",
       "    </tr>\n",
       "    <tr>\n",
       "      <th>10</th>\n",
       "      <td>0.25</td>\n",
       "      <td>-0.23</td>\n",
       "    </tr>\n",
       "    <tr>\n",
       "      <th>11</th>\n",
       "      <td>0.25</td>\n",
       "      <td>-0.23</td>\n",
       "    </tr>\n",
       "    <tr>\n",
       "      <th>12</th>\n",
       "      <td>0.24</td>\n",
       "      <td>-0.23</td>\n",
       "    </tr>\n",
       "  </tbody>\n",
       "</table>\n",
       "</div>"
      ],
      "text/plain": [
       "    user/throttle  user/angle\n",
       "0            0.08        0.01\n",
       "1            0.12       -0.03\n",
       "10           0.25       -0.23\n",
       "11           0.25       -0.23\n",
       "12           0.24       -0.23"
      ]
     },
     "execution_count": 56,
     "metadata": {},
     "output_type": "execute_result"
    }
   ],
   "source": [
    "df_x.head()"
   ]
  },
  {
   "cell_type": "code",
   "execution_count": 57,
   "metadata": {},
   "outputs": [
    {
     "name": "stderr",
     "output_type": "stream",
     "text": [
      "C:\\Users\\Jason\\Anaconda3\\lib\\site-packages\\scipy\\stats\\stats.py:1713: FutureWarning: Using a non-tuple sequence for multidimensional indexing is deprecated; use `arr[tuple(seq)]` instead of `arr[seq]`. In the future this will be interpreted as an array index, `arr[np.array(seq)]`, which will result either in an error or a different result.\n",
      "  return np.add.reduce(sorted[indexer] * weights, axis=axis) / sumval\n"
     ]
    },
    {
     "data": {
      "text/plain": [
       "<seaborn.axisgrid.JointGrid at 0x25e1739e240>"
      ]
     },
     "execution_count": 57,
     "metadata": {},
     "output_type": "execute_result"
    },
    {
     "data": {
      "image/png": "[encoded data removed]",
      "text/plain": [
       "<Figure size 432x432 with 3 Axes>"
      ]
     },
     "metadata": {
      "needs_background": "light"
     },
     "output_type": "display_data"
    }
   ],
   "source": [
    "sns.jointplot(x=\"user/angle\", y=\"user/throttle\", data=df_x)"
   ]
  },
  {
   "cell_type": "code",
   "execution_count": 26,
   "metadata": {},
   "outputs": [],
   "source": [
    "from IPython.display import Image"
   ]
  },
  {
   "cell_type": "code",
   "execution_count": 166,
   "metadata": {},
   "outputs": [],
   "source": [
    "idx1 = 224\n",
    "idx2 = 320"
   ]
  },
  {
   "cell_type": "code",
   "execution_count": 167,
   "metadata": {},
   "outputs": [],
   "source": [
    "img = df[\"cam/image_array\"][idx1]"
   ]
  },
  {
   "cell_type": "code",
   "execution_count": 168,
   "metadata": {},
   "outputs": [
    {
     "data": {
      "image/jpeg": "[encoded data removed]",
      "text/plain": [
       "<IPython.core.display.Image object>"
      ]
     },
     "execution_count": 168,
     "metadata": {},
     "output_type": "execute_result"
    }
   ],
   "source": [
    "Image(f'{PATH}/{img}')"
   ]
  },
  {
   "cell_type": "code",
   "execution_count": 169,
   "metadata": {},
   "outputs": [],
   "source": [
    "img2 = df[\"cam/image_array\"][idx2]"
   ]
  },
  {
   "cell_type": "code",
   "execution_count": 170,
   "metadata": {},
   "outputs": [
    {
     "data": {
      "image/jpeg": "[encoded data removed]",
      "text/plain": [
       "<IPython.core.display.Image object>"
      ]
     },
     "execution_count": 170,
     "metadata": {},
     "output_type": "execute_result"
    }
   ],
   "source": [
    "Image(f'{PATH}/{img2}')"
   ]
  },
  {
   "cell_type": "code",
   "execution_count": 171,
   "metadata": {},
   "outputs": [],
   "source": [
    "import matplotlib.pyplot as plt"
   ]
  },
  {
   "cell_type": "code",
   "execution_count": 172,
   "metadata": {},
   "outputs": [
    {
     "data": {
      "text/html": [
       "<div>\n",
       "<style scoped>\n",
       "    .dataframe tbody tr th:only-of-type {\n",
       "        vertical-align: middle;\n",
       "    }\n",
       "\n",
       "    .dataframe tbody tr th {\n",
       "        vertical-align: top;\n",
       "    }\n",
       "\n",
       "    .dataframe thead th {\n",
       "        text-align: right;\n",
       "    }\n",
       "</style>\n",
       "<table border=\"1\" class=\"dataframe\">\n",
       "  <thead>\n",
       "    <tr style=\"text-align: right;\">\n",
       "      <th></th>\n",
       "      <th>angle</th>\n",
       "      <th>pilot/angle</th>\n",
       "    </tr>\n",
       "  </thead>\n",
       "  <tbody>\n",
       "    <tr>\n",
       "      <th>224</th>\n",
       "      <td>-0.857143</td>\n",
       "      <td>-0.285714</td>\n",
       "    </tr>\n",
       "    <tr>\n",
       "      <th>225</th>\n",
       "      <td>-0.571429</td>\n",
       "      <td>-0.571429</td>\n",
       "    </tr>\n",
       "    <tr>\n",
       "      <th>226</th>\n",
       "      <td>-0.428571</td>\n",
       "      <td>-0.428571</td>\n",
       "    </tr>\n",
       "    <tr>\n",
       "      <th>227</th>\n",
       "      <td>-0.285714</td>\n",
       "      <td>-0.285714</td>\n",
       "    </tr>\n",
       "    <tr>\n",
       "      <th>228</th>\n",
       "      <td>-0.285714</td>\n",
       "      <td>-0.285714</td>\n",
       "    </tr>\n",
       "  </tbody>\n",
       "</table>\n",
       "</div>"
      ],
      "text/plain": [
       "        angle  pilot/angle\n",
       "224 -0.857143    -0.285714\n",
       "225 -0.571429    -0.571429\n",
       "226 -0.428571    -0.428571\n",
       "227 -0.285714    -0.285714\n",
       "228 -0.285714    -0.285714"
      ]
     },
     "execution_count": 172,
     "metadata": {},
     "output_type": "execute_result"
    }
   ],
   "source": [
    "# df_steering = pd.DataFrame(df.iloc[idx1:idx2][\"pilot/angle\"])\n",
    "df_steering = df[['angle', 'pilot/angle']][idx1:idx2]\n",
    "df_steering.head()"
   ]
  },
  {
   "cell_type": "code",
   "execution_count": 173,
   "metadata": {},
   "outputs": [
    {
     "data": {
      "text/plain": [
       "<matplotlib.axes._subplots.AxesSubplot at 0x2481e5ef048>"
      ]
     },
     "execution_count": 173,
     "metadata": {},
     "output_type": "execute_result"
    },
    {
     "data": {
      "text/plain": [
       "<Figure size 432x288 with 0 Axes>"
      ]
     },
     "metadata": {},
     "output_type": "display_data"
    },
    {
     "data": {
      "image/png": "[encoded data removed]",
      "text/plain": [
       "<Figure size 432x288 with 1 Axes>"
      ]
     },
     "metadata": {},
     "output_type": "display_data"
    }
   ],
   "source": [
    "plt.figure(); df_steering.plot()"
   ]
  },
  {
   "cell_type": "code",
   "execution_count": 82,
   "metadata": {},
   "outputs": [
    {
     "data": {
      "image/jpeg": "[encoded data removed]",
      "text/plain": [
       "<IPython.core.display.Image object>"
      ]
     },
     "execution_count": 82,
     "metadata": {},
     "output_type": "execute_result"
    }
   ],
   "source": [
    "Image(f'{PATH}/{df.iloc[240][2]}')"
   ]
  },
  {
   "cell_type": "code",
   "execution_count": 83,
   "metadata": {},
   "outputs": [
    {
     "data": {
      "text/plain": [
       "0.01"
      ]
     },
     "execution_count": 83,
     "metadata": {},
     "output_type": "execute_result"
    }
   ],
   "source": [
    "df.iloc[240][\"user/angle\"]"
   ]
  },
  {
   "cell_type": "code",
   "execution_count": 88,
   "metadata": {},
   "outputs": [
    {
     "data": {
      "image/jpeg": "[encoded data removed]",
      "text/plain": [
       "<IPython.core.display.Image object>"
      ]
     },
     "execution_count": 88,
     "metadata": {},
     "output_type": "execute_result"
    }
   ],
   "source": [
    "Image(f'{PATH}/{df.iloc[300][2]}')"
   ]
  },
  {
   "cell_type": "code",
   "execution_count": 89,
   "metadata": {},
   "outputs": [
    {
     "data": {
      "text/plain": [
       "0.01"
      ]
     },
     "execution_count": 89,
     "metadata": {},
     "output_type": "execute_result"
    }
   ],
   "source": [
    "df.iloc[300][\"user/angle\"]"
   ]
  },
  {
   "cell_type": "code",
   "execution_count": 90,
   "metadata": {
    "scrolled": true
   },
   "outputs": [
    {
     "data": {
      "text/html": [
       "<div>\n",
       "<style scoped>\n",
       "    .dataframe tbody tr th:only-of-type {\n",
       "        vertical-align: middle;\n",
       "    }\n",
       "\n",
       "    .dataframe tbody tr th {\n",
       "        vertical-align: top;\n",
       "    }\n",
       "\n",
       "    .dataframe thead th {\n",
       "        text-align: right;\n",
       "    }\n",
       "</style>\n",
       "<table border=\"1\" class=\"dataframe\">\n",
       "  <thead>\n",
       "    <tr style=\"text-align: right;\">\n",
       "      <th></th>\n",
       "      <th>user/throttle</th>\n",
       "      <th>user/angle</th>\n",
       "      <th>cam/image_array</th>\n",
       "    </tr>\n",
       "  </thead>\n",
       "  <tbody>\n",
       "    <tr>\n",
       "      <th>1139</th>\n",
       "      <td>0.34</td>\n",
       "      <td>0.01</td>\n",
       "      <td>1139_cam-image_array_.jpg</td>\n",
       "    </tr>\n",
       "    <tr>\n",
       "      <th>1140</th>\n",
       "      <td>0.31</td>\n",
       "      <td>0.00</td>\n",
       "      <td>1140_cam-image_array_.jpg</td>\n",
       "    </tr>\n",
       "    <tr>\n",
       "      <th>1141</th>\n",
       "      <td>0.31</td>\n",
       "      <td>0.00</td>\n",
       "      <td>1141_cam-image_array_.jpg</td>\n",
       "    </tr>\n",
       "    <tr>\n",
       "      <th>1142</th>\n",
       "      <td>0.31</td>\n",
       "      <td>-0.08</td>\n",
       "      <td>1142_cam-image_array_.jpg</td>\n",
       "    </tr>\n",
       "    <tr>\n",
       "      <th>1143</th>\n",
       "      <td>0.31</td>\n",
       "      <td>-0.08</td>\n",
       "      <td>1143_cam-image_array_.jpg</td>\n",
       "    </tr>\n",
       "    <tr>\n",
       "      <th>1144</th>\n",
       "      <td>0.29</td>\n",
       "      <td>-0.21</td>\n",
       "      <td>1144_cam-image_array_.jpg</td>\n",
       "    </tr>\n",
       "    <tr>\n",
       "      <th>1145</th>\n",
       "      <td>0.29</td>\n",
       "      <td>-0.21</td>\n",
       "      <td>1145_cam-image_array_.jpg</td>\n",
       "    </tr>\n",
       "    <tr>\n",
       "      <th>1146</th>\n",
       "      <td>0.29</td>\n",
       "      <td>-0.28</td>\n",
       "      <td>1146_cam-image_array_.jpg</td>\n",
       "    </tr>\n",
       "    <tr>\n",
       "      <th>1147</th>\n",
       "      <td>0.29</td>\n",
       "      <td>-0.28</td>\n",
       "      <td>1147_cam-image_array_.jpg</td>\n",
       "    </tr>\n",
       "    <tr>\n",
       "      <th>1148</th>\n",
       "      <td>0.30</td>\n",
       "      <td>-0.52</td>\n",
       "      <td>1148_cam-image_array_.jpg</td>\n",
       "    </tr>\n",
       "    <tr>\n",
       "      <th>1149</th>\n",
       "      <td>0.30</td>\n",
       "      <td>-0.52</td>\n",
       "      <td>1149_cam-image_array_.jpg</td>\n",
       "    </tr>\n",
       "    <tr>\n",
       "      <th>1150</th>\n",
       "      <td>0.29</td>\n",
       "      <td>-0.55</td>\n",
       "      <td>1150_cam-image_array_.jpg</td>\n",
       "    </tr>\n",
       "    <tr>\n",
       "      <th>1151</th>\n",
       "      <td>0.29</td>\n",
       "      <td>-0.60</td>\n",
       "      <td>1151_cam-image_array_.jpg</td>\n",
       "    </tr>\n",
       "    <tr>\n",
       "      <th>1152</th>\n",
       "      <td>0.29</td>\n",
       "      <td>-0.60</td>\n",
       "      <td>1152_cam-image_array_.jpg</td>\n",
       "    </tr>\n",
       "    <tr>\n",
       "      <th>1153</th>\n",
       "      <td>0.29</td>\n",
       "      <td>-0.67</td>\n",
       "      <td>1153_cam-image_array_.jpg</td>\n",
       "    </tr>\n",
       "    <tr>\n",
       "      <th>1154</th>\n",
       "      <td>0.29</td>\n",
       "      <td>-0.67</td>\n",
       "      <td>1154_cam-image_array_.jpg</td>\n",
       "    </tr>\n",
       "    <tr>\n",
       "      <th>1155</th>\n",
       "      <td>0.27</td>\n",
       "      <td>-0.67</td>\n",
       "      <td>1155_cam-image_array_.jpg</td>\n",
       "    </tr>\n",
       "    <tr>\n",
       "      <th>1156</th>\n",
       "      <td>0.27</td>\n",
       "      <td>-0.67</td>\n",
       "      <td>1156_cam-image_array_.jpg</td>\n",
       "    </tr>\n",
       "    <tr>\n",
       "      <th>1157</th>\n",
       "      <td>0.29</td>\n",
       "      <td>-0.67</td>\n",
       "      <td>1157_cam-image_array_.jpg</td>\n",
       "    </tr>\n",
       "    <tr>\n",
       "      <th>1158</th>\n",
       "      <td>0.29</td>\n",
       "      <td>-0.67</td>\n",
       "      <td>1158_cam-image_array_.jpg</td>\n",
       "    </tr>\n",
       "    <tr>\n",
       "      <th>1159</th>\n",
       "      <td>0.28</td>\n",
       "      <td>-0.69</td>\n",
       "      <td>1159_cam-image_array_.jpg</td>\n",
       "    </tr>\n",
       "    <tr>\n",
       "      <th>1160</th>\n",
       "      <td>0.28</td>\n",
       "      <td>-0.69</td>\n",
       "      <td>1160_cam-image_array_.jpg</td>\n",
       "    </tr>\n",
       "    <tr>\n",
       "      <th>1161</th>\n",
       "      <td>0.28</td>\n",
       "      <td>-0.71</td>\n",
       "      <td>1161_cam-image_array_.jpg</td>\n",
       "    </tr>\n",
       "    <tr>\n",
       "      <th>1162</th>\n",
       "      <td>0.28</td>\n",
       "      <td>-0.71</td>\n",
       "      <td>1162_cam-image_array_.jpg</td>\n",
       "    </tr>\n",
       "    <tr>\n",
       "      <th>1163</th>\n",
       "      <td>0.29</td>\n",
       "      <td>-0.71</td>\n",
       "      <td>1163_cam-image_array_.jpg</td>\n",
       "    </tr>\n",
       "    <tr>\n",
       "      <th>1164</th>\n",
       "      <td>0.29</td>\n",
       "      <td>-0.71</td>\n",
       "      <td>1164_cam-image_array_.jpg</td>\n",
       "    </tr>\n",
       "    <tr>\n",
       "      <th>1165</th>\n",
       "      <td>0.29</td>\n",
       "      <td>-0.72</td>\n",
       "      <td>1165_cam-image_array_.jpg</td>\n",
       "    </tr>\n",
       "    <tr>\n",
       "      <th>1166</th>\n",
       "      <td>0.29</td>\n",
       "      <td>-0.72</td>\n",
       "      <td>1166_cam-image_array_.jpg</td>\n",
       "    </tr>\n",
       "    <tr>\n",
       "      <th>1167</th>\n",
       "      <td>0.30</td>\n",
       "      <td>-0.72</td>\n",
       "      <td>1167_cam-image_array_.jpg</td>\n",
       "    </tr>\n",
       "    <tr>\n",
       "      <th>1168</th>\n",
       "      <td>0.30</td>\n",
       "      <td>-0.72</td>\n",
       "      <td>1168_cam-image_array_.jpg</td>\n",
       "    </tr>\n",
       "    <tr>\n",
       "      <th>1169</th>\n",
       "      <td>0.30</td>\n",
       "      <td>-0.72</td>\n",
       "      <td>1169_cam-image_array_.jpg</td>\n",
       "    </tr>\n",
       "    <tr>\n",
       "      <th>1170</th>\n",
       "      <td>0.30</td>\n",
       "      <td>-0.72</td>\n",
       "      <td>1170_cam-image_array_.jpg</td>\n",
       "    </tr>\n",
       "    <tr>\n",
       "      <th>1171</th>\n",
       "      <td>0.29</td>\n",
       "      <td>-0.72</td>\n",
       "      <td>1171_cam-image_array_.jpg</td>\n",
       "    </tr>\n",
       "    <tr>\n",
       "      <th>1172</th>\n",
       "      <td>0.29</td>\n",
       "      <td>-0.72</td>\n",
       "      <td>1172_cam-image_array_.jpg</td>\n",
       "    </tr>\n",
       "    <tr>\n",
       "      <th>1173</th>\n",
       "      <td>0.30</td>\n",
       "      <td>-0.71</td>\n",
       "      <td>1173_cam-image_array_.jpg</td>\n",
       "    </tr>\n",
       "    <tr>\n",
       "      <th>1174</th>\n",
       "      <td>0.30</td>\n",
       "      <td>-0.71</td>\n",
       "      <td>1174_cam-image_array_.jpg</td>\n",
       "    </tr>\n",
       "    <tr>\n",
       "      <th>1175</th>\n",
       "      <td>0.29</td>\n",
       "      <td>-0.66</td>\n",
       "      <td>1175_cam-image_array_.jpg</td>\n",
       "    </tr>\n",
       "    <tr>\n",
       "      <th>1176</th>\n",
       "      <td>0.29</td>\n",
       "      <td>-0.66</td>\n",
       "      <td>1176_cam-image_array_.jpg</td>\n",
       "    </tr>\n",
       "    <tr>\n",
       "      <th>1177</th>\n",
       "      <td>0.30</td>\n",
       "      <td>-0.55</td>\n",
       "      <td>1177_cam-image_array_.jpg</td>\n",
       "    </tr>\n",
       "    <tr>\n",
       "      <th>1178</th>\n",
       "      <td>0.30</td>\n",
       "      <td>-0.55</td>\n",
       "      <td>1178_cam-image_array_.jpg</td>\n",
       "    </tr>\n",
       "    <tr>\n",
       "      <th>1179</th>\n",
       "      <td>0.29</td>\n",
       "      <td>-0.55</td>\n",
       "      <td>1179_cam-image_array_.jpg</td>\n",
       "    </tr>\n",
       "    <tr>\n",
       "      <th>1180</th>\n",
       "      <td>0.29</td>\n",
       "      <td>-0.55</td>\n",
       "      <td>1180_cam-image_array_.jpg</td>\n",
       "    </tr>\n",
       "    <tr>\n",
       "      <th>1181</th>\n",
       "      <td>0.29</td>\n",
       "      <td>-0.50</td>\n",
       "      <td>1181_cam-image_array_.jpg</td>\n",
       "    </tr>\n",
       "    <tr>\n",
       "      <th>1182</th>\n",
       "      <td>0.29</td>\n",
       "      <td>-0.50</td>\n",
       "      <td>1182_cam-image_array_.jpg</td>\n",
       "    </tr>\n",
       "    <tr>\n",
       "      <th>1183</th>\n",
       "      <td>0.29</td>\n",
       "      <td>-0.41</td>\n",
       "      <td>1183_cam-image_array_.jpg</td>\n",
       "    </tr>\n",
       "    <tr>\n",
       "      <th>1184</th>\n",
       "      <td>0.29</td>\n",
       "      <td>-0.41</td>\n",
       "      <td>1184_cam-image_array_.jpg</td>\n",
       "    </tr>\n",
       "    <tr>\n",
       "      <th>1185</th>\n",
       "      <td>0.29</td>\n",
       "      <td>-0.27</td>\n",
       "      <td>1185_cam-image_array_.jpg</td>\n",
       "    </tr>\n",
       "    <tr>\n",
       "      <th>1186</th>\n",
       "      <td>0.29</td>\n",
       "      <td>-0.27</td>\n",
       "      <td>1186_cam-image_array_.jpg</td>\n",
       "    </tr>\n",
       "    <tr>\n",
       "      <th>1187</th>\n",
       "      <td>0.29</td>\n",
       "      <td>-0.14</td>\n",
       "      <td>1187_cam-image_array_.jpg</td>\n",
       "    </tr>\n",
       "    <tr>\n",
       "      <th>1188</th>\n",
       "      <td>0.29</td>\n",
       "      <td>-0.14</td>\n",
       "      <td>1188_cam-image_array_.jpg</td>\n",
       "    </tr>\n",
       "    <tr>\n",
       "      <th>1189</th>\n",
       "      <td>0.29</td>\n",
       "      <td>-0.05</td>\n",
       "      <td>1189_cam-image_array_.jpg</td>\n",
       "    </tr>\n",
       "    <tr>\n",
       "      <th>1190</th>\n",
       "      <td>0.29</td>\n",
       "      <td>-0.05</td>\n",
       "      <td>1190_cam-image_array_.jpg</td>\n",
       "    </tr>\n",
       "    <tr>\n",
       "      <th>1191</th>\n",
       "      <td>0.30</td>\n",
       "      <td>0.02</td>\n",
       "      <td>1191_cam-image_array_.jpg</td>\n",
       "    </tr>\n",
       "    <tr>\n",
       "      <th>1192</th>\n",
       "      <td>0.30</td>\n",
       "      <td>0.02</td>\n",
       "      <td>1192_cam-image_array_.jpg</td>\n",
       "    </tr>\n",
       "    <tr>\n",
       "      <th>1193</th>\n",
       "      <td>0.29</td>\n",
       "      <td>0.01</td>\n",
       "      <td>1193_cam-image_array_.jpg</td>\n",
       "    </tr>\n",
       "    <tr>\n",
       "      <th>1194</th>\n",
       "      <td>0.29</td>\n",
       "      <td>0.01</td>\n",
       "      <td>1194_cam-image_array_.jpg</td>\n",
       "    </tr>\n",
       "    <tr>\n",
       "      <th>1195</th>\n",
       "      <td>0.30</td>\n",
       "      <td>0.02</td>\n",
       "      <td>1195_cam-image_array_.jpg</td>\n",
       "    </tr>\n",
       "    <tr>\n",
       "      <th>1196</th>\n",
       "      <td>0.30</td>\n",
       "      <td>0.02</td>\n",
       "      <td>1196_cam-image_array_.jpg</td>\n",
       "    </tr>\n",
       "    <tr>\n",
       "      <th>1197</th>\n",
       "      <td>0.31</td>\n",
       "      <td>0.01</td>\n",
       "      <td>1197_cam-image_array_.jpg</td>\n",
       "    </tr>\n",
       "    <tr>\n",
       "      <th>1198</th>\n",
       "      <td>0.31</td>\n",
       "      <td>0.01</td>\n",
       "      <td>1198_cam-image_array_.jpg</td>\n",
       "    </tr>\n",
       "  </tbody>\n",
       "</table>\n",
       "</div>"
      ],
      "text/plain": [
       "      user/throttle  user/angle            cam/image_array\n",
       "1139           0.34        0.01  1139_cam-image_array_.jpg\n",
       "1140           0.31        0.00  1140_cam-image_array_.jpg\n",
       "1141           0.31        0.00  1141_cam-image_array_.jpg\n",
       "1142           0.31       -0.08  1142_cam-image_array_.jpg\n",
       "1143           0.31       -0.08  1143_cam-image_array_.jpg\n",
       "1144           0.29       -0.21  1144_cam-image_array_.jpg\n",
       "1145           0.29       -0.21  1145_cam-image_array_.jpg\n",
       "1146           0.29       -0.28  1146_cam-image_array_.jpg\n",
       "1147           0.29       -0.28  1147_cam-image_array_.jpg\n",
       "1148           0.30       -0.52  1148_cam-image_array_.jpg\n",
       "1149           0.30       -0.52  1149_cam-image_array_.jpg\n",
       "1150           0.29       -0.55  1150_cam-image_array_.jpg\n",
       "1151           0.29       -0.60  1151_cam-image_array_.jpg\n",
       "1152           0.29       -0.60  1152_cam-image_array_.jpg\n",
       "1153           0.29       -0.67  1153_cam-image_array_.jpg\n",
       "1154           0.29       -0.67  1154_cam-image_array_.jpg\n",
       "1155           0.27       -0.67  1155_cam-image_array_.jpg\n",
       "1156           0.27       -0.67  1156_cam-image_array_.jpg\n",
       "1157           0.29       -0.67  1157_cam-image_array_.jpg\n",
       "1158           0.29       -0.67  1158_cam-image_array_.jpg\n",
       "1159           0.28       -0.69  1159_cam-image_array_.jpg\n",
       "1160           0.28       -0.69  1160_cam-image_array_.jpg\n",
       "1161           0.28       -0.71  1161_cam-image_array_.jpg\n",
       "1162           0.28       -0.71  1162_cam-image_array_.jpg\n",
       "1163           0.29       -0.71  1163_cam-image_array_.jpg\n",
       "1164           0.29       -0.71  1164_cam-image_array_.jpg\n",
       "1165           0.29       -0.72  1165_cam-image_array_.jpg\n",
       "1166           0.29       -0.72  1166_cam-image_array_.jpg\n",
       "1167           0.30       -0.72  1167_cam-image_array_.jpg\n",
       "1168           0.30       -0.72  1168_cam-image_array_.jpg\n",
       "1169           0.30       -0.72  1169_cam-image_array_.jpg\n",
       "1170           0.30       -0.72  1170_cam-image_array_.jpg\n",
       "1171           0.29       -0.72  1171_cam-image_array_.jpg\n",
       "1172           0.29       -0.72  1172_cam-image_array_.jpg\n",
       "1173           0.30       -0.71  1173_cam-image_array_.jpg\n",
       "1174           0.30       -0.71  1174_cam-image_array_.jpg\n",
       "1175           0.29       -0.66  1175_cam-image_array_.jpg\n",
       "1176           0.29       -0.66  1176_cam-image_array_.jpg\n",
       "1177           0.30       -0.55  1177_cam-image_array_.jpg\n",
       "1178           0.30       -0.55  1178_cam-image_array_.jpg\n",
       "1179           0.29       -0.55  1179_cam-image_array_.jpg\n",
       "1180           0.29       -0.55  1180_cam-image_array_.jpg\n",
       "1181           0.29       -0.50  1181_cam-image_array_.jpg\n",
       "1182           0.29       -0.50  1182_cam-image_array_.jpg\n",
       "1183           0.29       -0.41  1183_cam-image_array_.jpg\n",
       "1184           0.29       -0.41  1184_cam-image_array_.jpg\n",
       "1185           0.29       -0.27  1185_cam-image_array_.jpg\n",
       "1186           0.29       -0.27  1186_cam-image_array_.jpg\n",
       "1187           0.29       -0.14  1187_cam-image_array_.jpg\n",
       "1188           0.29       -0.14  1188_cam-image_array_.jpg\n",
       "1189           0.29       -0.05  1189_cam-image_array_.jpg\n",
       "1190           0.29       -0.05  1190_cam-image_array_.jpg\n",
       "1191           0.30        0.02  1191_cam-image_array_.jpg\n",
       "1192           0.30        0.02  1192_cam-image_array_.jpg\n",
       "1193           0.29        0.01  1193_cam-image_array_.jpg\n",
       "1194           0.29        0.01  1194_cam-image_array_.jpg\n",
       "1195           0.30        0.02  1195_cam-image_array_.jpg\n",
       "1196           0.30        0.02  1196_cam-image_array_.jpg\n",
       "1197           0.31        0.01  1197_cam-image_array_.jpg\n",
       "1198           0.31        0.01  1198_cam-image_array_.jpg"
      ]
     },
     "execution_count": 90,
     "metadata": {},
     "output_type": "execute_result"
    }
   ],
   "source": [
    "df.iloc[240:300]"
   ]
  },
  {
   "cell_type": "code",
   "execution_count": 91,
   "metadata": {
    "scrolled": true
   },
   "outputs": [
    {
     "data": {
      "text/plain": [
       "<matplotlib.axes._subplots.AxesSubplot at 0x25e177640b8>"
      ]
     },
     "execution_count": 91,
     "metadata": {},
     "output_type": "execute_result"
    },
    {
     "data": {
      "text/plain": [
       "<Figure size 432x288 with 0 Axes>"
      ]
     },
     "metadata": {},
     "output_type": "display_data"
    },
    {
     "data": {
      "image/png": "[encoded data removed]",
      "text/plain": [
       "<Figure size 432x288 with 1 Axes>"
      ]
     },
     "metadata": {
      "needs_background": "light"
     },
     "output_type": "display_data"
    }
   ],
   "source": [
    "df_steering = pd.DataFrame(df.iloc[240:300][\"user/angle\"])\n",
    "plt.figure(); df_steering.plot()"
   ]
  },
  {
   "cell_type": "code",
   "execution_count": 92,
   "metadata": {},
   "outputs": [
    {
     "data": {
      "text/plain": [
       "<matplotlib.axes._subplots.AxesSubplot at 0x25e187952b0>"
      ]
     },
     "execution_count": 92,
     "metadata": {},
     "output_type": "execute_result"
    },
    {
     "data": {
      "text/plain": [
       "<Figure size 432x288 with 0 Axes>"
      ]
     },
     "metadata": {},
     "output_type": "display_data"
    },
    {
     "data": {
      "image/png": "[encoded data removed]",
      "text/plain": [
       "<Figure size 432x288 with 1 Axes>"
      ]
     },
     "metadata": {
      "needs_background": "light"
     },
     "output_type": "display_data"
    }
   ],
   "source": [
    "df_throttle = pd.DataFrame(df.iloc[240:300][\"user/throttle\"])\n",
    "plt.figure(); df_throttle.plot()"
   ]
  },
  {
   "cell_type": "code",
   "execution_count": null,
   "metadata": {},
   "outputs": [],
   "source": []
  }
 ],
 "metadata": {
  "kernelspec": {
   "display_name": "Python 3",
   "language": "python",
   "name": "python3"
  },
  "language_info": {
   "codemirror_mode": {
    "name": "ipython",
    "version": 3
   },
   "file_extension": ".py",
   "mimetype": "text/x-python",
   "name": "python",
   "nbconvert_exporter": "python",
   "pygments_lexer": "ipython3",
   "version": "3.6.5"
  }
 },
 "nbformat": 4,
 "nbformat_minor": 2
}
