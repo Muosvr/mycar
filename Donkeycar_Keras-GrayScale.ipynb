{
 "cells": [
  {
   "cell_type": "code",
   "execution_count": 2,
   "metadata": {},
   "outputs": [],
   "source": [
    "import os\n",
    "import sys\n",
    "import time\n",
    "import json\n",
    "import datetime\n",
    "import random\n",
    "import tarfile\n",
    "\n",
    "import numpy as np\n",
    "import pandas as pd\n",
    "from PIL import Image\n",
    "PATH = \"../tubs/tub5\" #Shadow"
   ]
  },
  {
   "cell_type": "code",
   "execution_count": 3,
   "metadata": {},
   "outputs": [
    {
     "name": "stdout",
     "output_type": "stream",
     "text": [
      "1.8.0\n"
     ]
    }
   ],
   "source": [
    "#make sure tensorflow version is the same as one installed on donkeycar (1.8.0)\n",
    "import tensorflow as tf\n",
    "print(tf.__version__)"
   ]
  },
  {
   "cell_type": "code",
   "execution_count": 4,
   "metadata": {},
   "outputs": [
    {
     "data": {
      "text/plain": [
       "['/device:GPU:0']"
      ]
     },
     "execution_count": 4,
     "metadata": {},
     "output_type": "execute_result"
    }
   ],
   "source": [
    "from tensorflow.python.client import device_lib\n",
    "\n",
    "def get_available_gpus():\n",
    "    local_device_protos = device_lib.list_local_devices()\n",
    "    return [x.name for x in local_device_protos if x.device_type == 'GPU']\n",
    "get_available_gpus()"
   ]
  },
  {
   "cell_type": "code",
   "execution_count": 4,
   "metadata": {},
   "outputs": [],
   "source": [
    "#create df from path\n",
    "def df_from_jsons(PATH, max_items=None):\n",
    "    \n",
    "    #Get json files from path\n",
    "    json_files = [file for file in os.listdir(PATH) if file.endswith('json') ]\n",
    "    \n",
    "    df = pd.DataFrame()\n",
    "    for i, j in enumerate(json_files[1:max_items]):\n",
    "        with open(f'{PATH}/{j}') as f:\n",
    "            data = json.load(f)\n",
    "\n",
    "            userThrottle = data[\"user/throttle\"]\n",
    "            userAngle = data[\"user/angle\"]\n",
    "            camImage_path = data[\"cam/image_array\"]\n",
    "            index = int(camImage_path[:-21])\n",
    "            camImage_path =  PATH + \"/\" + camImage_path\n",
    "            df_row = pd.DataFrame([[userThrottle, userAngle, camImage_path]], index = [index], \n",
    "                                  columns = [\"user/throttle\", \"user/angle\", \"cam/image_array\"])\n",
    "\n",
    "            df = df.append(df_row)\n",
    "    df = df.sort_index()\n",
    "    print(\"Loaded {} json files\".format(len(json_files)))\n",
    "    return df"
   ]
  },
  {
   "cell_type": "code",
   "execution_count": 18,
   "metadata": {},
   "outputs": [
    {
     "name": "stdout",
     "output_type": "stream",
     "text": [
      "Loaded 38575 json files\n"
     ]
    }
   ],
   "source": [
    "#df = df_from_jsons(PATH, max_items=None)"
   ]
  },
  {
   "cell_type": "code",
   "execution_count": 45,
   "metadata": {},
   "outputs": [],
   "source": [
    "#df.to_feather('tmp/df_wPath_extra')"
   ]
  },
  {
   "cell_type": "code",
   "execution_count": 5,
   "metadata": {},
   "outputs": [
    {
     "name": "stderr",
     "output_type": "stream",
     "text": [
      "C:\\Users\\Jason\\Anaconda3\\envs\\tf-gpu\\lib\\site-packages\\pandas\\io\\feather_format.py:112: FutureWarning: `nthreads` argument is deprecated, pass `use_threads` instead\n",
      "  return feather.read_dataframe(path, nthreads=nthreads)\n"
     ]
    }
   ],
   "source": [
    "df = pd.read_feather('tmp/df_wPath')"
   ]
  },
  {
   "cell_type": "code",
   "execution_count": 6,
   "metadata": {},
   "outputs": [
    {
     "data": {
      "text/plain": [
       "(38574, 3)"
      ]
     },
     "execution_count": 6,
     "metadata": {},
     "output_type": "execute_result"
    }
   ],
   "source": [
    "df.shape"
   ]
  },
  {
   "cell_type": "code",
   "execution_count": 7,
   "metadata": {},
   "outputs": [
    {
     "data": {
      "text/html": [
       "<div>\n",
       "<style scoped>\n",
       "    .dataframe tbody tr th:only-of-type {\n",
       "        vertical-align: middle;\n",
       "    }\n",
       "\n",
       "    .dataframe tbody tr th {\n",
       "        vertical-align: top;\n",
       "    }\n",
       "\n",
       "    .dataframe thead th {\n",
       "        text-align: right;\n",
       "    }\n",
       "</style>\n",
       "<table border=\"1\" class=\"dataframe\">\n",
       "  <thead>\n",
       "    <tr style=\"text-align: right;\">\n",
       "      <th></th>\n",
       "      <th>user/throttle</th>\n",
       "      <th>user/angle</th>\n",
       "      <th>cam/image_array</th>\n",
       "    </tr>\n",
       "  </thead>\n",
       "  <tbody>\n",
       "    <tr>\n",
       "      <th>0</th>\n",
       "      <td>0.08</td>\n",
       "      <td>0.01</td>\n",
       "      <td>../tubs/tub5/0_cam-image_array_.jpg</td>\n",
       "    </tr>\n",
       "    <tr>\n",
       "      <th>1</th>\n",
       "      <td>0.12</td>\n",
       "      <td>-0.03</td>\n",
       "      <td>../tubs/tub5/1_cam-image_array_.jpg</td>\n",
       "    </tr>\n",
       "    <tr>\n",
       "      <th>2</th>\n",
       "      <td>0.12</td>\n",
       "      <td>-0.03</td>\n",
       "      <td>../tubs/tub5/2_cam-image_array_.jpg</td>\n",
       "    </tr>\n",
       "    <tr>\n",
       "      <th>3</th>\n",
       "      <td>0.14</td>\n",
       "      <td>-0.06</td>\n",
       "      <td>../tubs/tub5/3_cam-image_array_.jpg</td>\n",
       "    </tr>\n",
       "    <tr>\n",
       "      <th>4</th>\n",
       "      <td>0.14</td>\n",
       "      <td>-0.06</td>\n",
       "      <td>../tubs/tub5/4_cam-image_array_.jpg</td>\n",
       "    </tr>\n",
       "  </tbody>\n",
       "</table>\n",
       "</div>"
      ],
      "text/plain": [
       "   user/throttle  user/angle                      cam/image_array\n",
       "0           0.08        0.01  ../tubs/tub5/0_cam-image_array_.jpg\n",
       "1           0.12       -0.03  ../tubs/tub5/1_cam-image_array_.jpg\n",
       "2           0.12       -0.03  ../tubs/tub5/2_cam-image_array_.jpg\n",
       "3           0.14       -0.06  ../tubs/tub5/3_cam-image_array_.jpg\n",
       "4           0.14       -0.06  ../tubs/tub5/4_cam-image_array_.jpg"
      ]
     },
     "execution_count": 7,
     "metadata": {},
     "output_type": "execute_result"
    }
   ],
   "source": [
    "df.head()"
   ]
  },
  {
   "cell_type": "code",
   "execution_count": 8,
   "metadata": {},
   "outputs": [],
   "source": [
    "X_keys = ['cam/image_array']\n",
    "y_keys = ['user/angle', 'user/throttle']\n",
    "PATH\n",
    "new_model_path = 'models/pilot_jn'\n",
    "bs = 128\n",
    "train_frac = 0.8"
   ]
  },
  {
   "cell_type": "code",
   "execution_count": 9,
   "metadata": {},
   "outputs": [],
   "source": [
    "def to_bin(a):\n",
    "    arr = np.zeros(15)\n",
    "    a = a + 1\n",
    "    b = round(a/(2/14))\n",
    "    arr[int(b)] = 1\n",
    "    return arr"
   ]
  },
  {
   "cell_type": "code",
   "execution_count": 16,
   "metadata": {},
   "outputs": [],
   "source": [
    "def read_record(record_dict, path = PATH, grayscale = True):\n",
    "    data = {}\n",
    "    for key, val in record_dict.items():\n",
    "        if key == 'cam/image_array':\n",
    "            img = Image.open(f'{val}')\n",
    "            if grayscale:\n",
    "                img = img.convert(\"L\")\n",
    "                val = np.array([np.array(img)])\n",
    "            else:\n",
    "                val = np.array(img)\n",
    "        \n",
    "        data[key] = val\n",
    "    return data"
   ]
  },
  {
   "cell_type": "code",
   "execution_count": 17,
   "metadata": {},
   "outputs": [
    {
     "data": {
      "text/plain": [
       "(1, 120, 160)"
      ]
     },
     "execution_count": 17,
     "metadata": {},
     "output_type": "execute_result"
    }
   ],
   "source": [
    "#Testing\n",
    "df_t = df.sample(n=1).to_dict(orient='record')[0]\n",
    "record = read_record(df_t)\n",
    "data = record['cam/image_array']\n",
    "data.shape"
   ]
  },
  {
   "cell_type": "code",
   "execution_count": 18,
   "metadata": {},
   "outputs": [
    {
     "data": {
      "image/png": "[encoded data removed]",
      "text/plain": [
       "<PIL.Image.Image image mode=L size=160x120 at 0x1941635CB00>"
      ]
     },
     "execution_count": 18,
     "metadata": {},
     "output_type": "execute_result"
    }
   ],
   "source": [
    "Image.fromarray(data[0], \"L\")"
   ]
  },
  {
   "cell_type": "code",
   "execution_count": 19,
   "metadata": {},
   "outputs": [
    {
     "ename": "NameError",
     "evalue": "name 'pic' is not defined",
     "output_type": "error",
     "traceback": [
      "\u001b[1;31m---------------------------------------------------------------------------\u001b[0m",
      "\u001b[1;31mNameError\u001b[0m                                 Traceback (most recent call last)",
      "\u001b[1;32m<ipython-input-19-48b4630bec4c>\u001b[0m in \u001b[0;36m<module>\u001b[1;34m()\u001b[0m\n\u001b[1;32m----> 1\u001b[1;33m \u001b[0mpic_gray\u001b[0m\u001b[1;33m=\u001b[0m\u001b[0mpic\u001b[0m\u001b[1;33m.\u001b[0m\u001b[0mconvert\u001b[0m\u001b[1;33m(\u001b[0m\u001b[1;34m\"L\"\u001b[0m\u001b[1;33m)\u001b[0m\u001b[1;33m\u001b[0m\u001b[0m\n\u001b[0m\u001b[0;32m      2\u001b[0m \u001b[0mpic_gray\u001b[0m\u001b[1;33m\u001b[0m\u001b[0m\n",
      "\u001b[1;31mNameError\u001b[0m: name 'pic' is not defined"
     ]
    }
   ],
   "source": [
    "pic_gray=pic.convert(\"L\")\n",
    "pic_gray"
   ]
  },
  {
   "cell_type": "code",
   "execution_count": 46,
   "metadata": {},
   "outputs": [],
   "source": [
    "pic_gray_arr = np.array(pic_gray)"
   ]
  },
  {
   "cell_type": "code",
   "execution_count": 48,
   "metadata": {},
   "outputs": [
    {
     "data": {
      "text/plain": [
       "(120, 160)"
      ]
     },
     "execution_count": 48,
     "metadata": {},
     "output_type": "execute_result"
    }
   ],
   "source": [
    "pic_gray_arr.shape"
   ]
  },
  {
   "cell_type": "code",
   "execution_count": 49,
   "metadata": {},
   "outputs": [
    {
     "data": {
      "image/png": "[encoded data removed]",
      "text/plain": [
       "<PIL.Image.Image image mode=L size=160x120 at 0x1E35C377C50>"
      ]
     },
     "execution_count": 49,
     "metadata": {},
     "output_type": "execute_result"
    }
   ],
   "source": [
    "Image.fromarray(pic_gray_arr, \"L\")"
   ]
  },
  {
   "cell_type": "code",
   "execution_count": 20,
   "metadata": {},
   "outputs": [],
   "source": [
    "def get_record_gen(record_transform=None, shuffle=True, df=None):\n",
    "    while True:\n",
    "        for _ in df.iterrows():\n",
    "            if shuffle:\n",
    "                record_dict = df.sample(n=1).to_dict(orient='record')[0]\n",
    "            \n",
    "            record_dict = read_record(record_dict)\n",
    "            \n",
    "            if record_transform:\n",
    "                record_dict = record_transform(record_dict)\n",
    "            \n",
    "            yield record_dict"
   ]
  },
  {
   "cell_type": "code",
   "execution_count": 21,
   "metadata": {},
   "outputs": [],
   "source": [
    "# record_gen = get_record_gen(record_transform=None, shuffle=True, df=df)"
   ]
  },
  {
   "cell_type": "code",
   "execution_count": 22,
   "metadata": {},
   "outputs": [],
   "source": [
    "# next(record_gen)"
   ]
  },
  {
   "cell_type": "code",
   "execution_count": 23,
   "metadata": {},
   "outputs": [],
   "source": [
    "def get_batch_gen(keys=None, batch_size=128, record_transform=None, shuffle=True, df=None):\n",
    "    \n",
    "    record_gen = get_record_gen(record_transform=record_transform, shuffle=shuffle, df=df)\n",
    "    \n",
    "    while True:\n",
    "        record_list = [next(record_gen) for _ in range(batch_size)]\n",
    "        \n",
    "        batch_arrays = {}\n",
    "        for i, k in enumerate(keys):\n",
    "            arr = np.array([r[k] for r in record_list])\n",
    "            batch_arrays[k] = arr\n",
    "        yield batch_arrays"
   ]
  },
  {
   "cell_type": "code",
   "execution_count": 24,
   "metadata": {},
   "outputs": [],
   "source": [
    "def get_train_gen(X_keys, Y_keys, batch_size=128, record_transform=None, df=None): #\n",
    "    batch_gen = get_batch_gen(X_keys + Y_keys, batch_size=batch_size,\n",
    "                                  record_transform=record_transform, df=df)\n",
    "    while True:\n",
    "        batch = next(batch_gen)\n",
    "        X = [batch[k] for k in X_keys]\n",
    "        Y = [batch[k] for k in Y_keys] \n",
    "        yield X, Y"
   ]
  },
  {
   "cell_type": "code",
   "execution_count": 25,
   "metadata": {},
   "outputs": [],
   "source": [
    "def get_train_val_gen(df, X_keys, Y_keys, batch_size = 128, train_frac=0.8, #\n",
    "                      train_record_transform=None, val_record_transform=None): #\n",
    "    train_df = df.sample(frac=train_frac, random_state=200) #\n",
    "    val_df = df.drop(train_df.index) #\n",
    "    \n",
    "    train_gen = get_train_gen(X_keys=X_keys, Y_keys=Y_keys, batch_size=batch_size,\n",
    "                             record_transform=train_record_transform, df=train_df)\n",
    "    val_gen = get_train_gen(X_keys=X_keys, Y_keys=Y_keys, batch_size=batch_size,\n",
    "                           record_transform=val_record_transform, df=val_df)\n",
    "    return train_gen, val_gen\n",
    "    "
   ]
  },
  {
   "cell_type": "code",
   "execution_count": 26,
   "metadata": {},
   "outputs": [],
   "source": [
    "def record_transform(record):\n",
    "    record['user/angle'] = to_bin(record['user/angle'])\n",
    "    return record"
   ]
  },
  {
   "cell_type": "code",
   "execution_count": 27,
   "metadata": {},
   "outputs": [],
   "source": [
    "train_gen, val_gen = get_train_val_gen(df, X_keys, y_keys,\n",
    "                                               train_record_transform=record_transform, #\n",
    "                                               val_record_transform=record_transform, #\n",
    "                                               batch_size=bs, #\n",
    "                                               train_frac=train_frac) #"
   ]
  },
  {
   "cell_type": "code",
   "execution_count": 28,
   "metadata": {},
   "outputs": [],
   "source": [
    "from tensorflow.python.keras.layers import Input\n",
    "from tensorflow.python.keras.models import Model, load_model\n",
    "from tensorflow.python.keras.layers import Convolution2D\n",
    "from tensorflow.python.keras.layers import Dropout, Flatten, Dense, Cropping2D, Lambda\n",
    "from tensorflow.python.keras.callbacks import ModelCheckpoint, EarlyStopping"
   ]
  },
  {
   "cell_type": "code",
   "execution_count": 33,
   "metadata": {},
   "outputs": [],
   "source": [
    "def default_categorical():\n",
    "    img_in = Input(shape=(1, 120, 160),\n",
    "                   name='img_in')  # First layer, input layer, Shape comes from camera.py resolution, RGB\n",
    "    x = img_in\n",
    "    x = Convolution2D(24, (5, 5), strides=(2, 2), activation='relu', data_format=\"channels_first\")(\n",
    "        x)  # 24 features, 5 pixel x 5 pixel kernel (convolution, feauture) window, 2wx2h stride, relu activation\n",
    "    x = Convolution2D(32, (5, 5), strides=(2, 2), activation='relu', data_format=\"channels_first\")(\n",
    "        x)  # 32 features, 5px5p kernel window, 2wx2h stride, relu activatiion\n",
    "    x = Convolution2D(64, (5, 5), strides=(2, 2), activation='relu', data_format=\"channels_first\")(\n",
    "        x)  # 64 features, 5px5p kernal window, 2wx2h stride, relu\n",
    "    x = Convolution2D(64, (3, 3), strides=(2, 2), activation='relu', data_format=\"channels_first\")(\n",
    "        x)  # 64 features, 3px3p kernal window, 2wx2h stride, relu\n",
    "    x = Convolution2D(64, (3, 3), strides=(1, 1), activation='relu', data_format=\"channels_first\")(\n",
    "        x)  # 64 features, 3px3p kernal window, 1wx1h stride, relu\n",
    "\n",
    "    # Possibly add MaxPooling (will make it less sensitive to position in image).  Camera angle fixed, so may not to be needed\n",
    "    x = Dropout(0.5)(x)\n",
    "    x = Flatten(name='flattened')(x)  # Flatten to 1D (Fully connected)\n",
    "#     x = Dense(100, activation='relu')(x)  # Classify the data into 100 features, make all negatives 0\n",
    "#     x = Dropout(.3)(x)  # Randomly drop out (turn off) 10% of the neurons (Prevent overfitting)\n",
    "    x = Dense(50, activation='relu')(x)  # Classify the data into 50 features, make all negatives 0\n",
    "    x = Dropout(.5)(x)  # Randomly drop out 10% of the neurons (Prevent overfitting)\n",
    "    # categorical output of the angle\n",
    "    angle_out = Dense(15, activation='softmax', name='angle_out')(\n",
    "        x)  # Connect every input with every output and output 15 hidden units. Use Softmax to give percentage. 15 categories and find best one based off percentage 0.0-1.0\n",
    "\n",
    "    # continous output of throttle\n",
    "    throttle_out = Dense(1, activation='relu', name='throttle_out')(x)  # Reduce to 1 number, Positive number only\n",
    "\n",
    "    model = Model(inputs=[img_in], outputs=[angle_out, throttle_out])\n",
    "    model.compile(optimizer='adam',\n",
    "                  loss={'angle_out': 'categorical_crossentropy',\n",
    "                        'throttle_out': 'mean_absolute_error'},\n",
    "                  loss_weights={'angle_out': 0.9, 'throttle_out': .01})\n",
    "\n",
    "    return model"
   ]
  },
  {
   "cell_type": "code",
   "execution_count": 34,
   "metadata": {},
   "outputs": [
    {
     "name": "stdout",
     "output_type": "stream",
     "text": [
      "__________________________________________________________________________________________________\n",
      "Layer (type)                    Output Shape         Param #     Connected to                     \n",
      "==================================================================================================\n",
      "img_in (InputLayer)             (None, 1, 120, 160)  0                                            \n",
      "__________________________________________________________________________________________________\n",
      "conv2d_3 (Conv2D)               (None, 24, 58, 78)   624         img_in[0][0]                     \n",
      "__________________________________________________________________________________________________\n",
      "conv2d_4 (Conv2D)               (None, 32, 27, 37)   19232       conv2d_3[0][0]                   \n",
      "__________________________________________________________________________________________________\n",
      "conv2d_5 (Conv2D)               (None, 64, 12, 17)   51264       conv2d_4[0][0]                   \n",
      "__________________________________________________________________________________________________\n",
      "conv2d_6 (Conv2D)               (None, 64, 5, 8)     36928       conv2d_5[0][0]                   \n",
      "__________________________________________________________________________________________________\n",
      "conv2d_7 (Conv2D)               (None, 64, 3, 6)     36928       conv2d_6[0][0]                   \n",
      "__________________________________________________________________________________________________\n",
      "dropout_1 (Dropout)             (None, 64, 3, 6)     0           conv2d_7[0][0]                   \n",
      "__________________________________________________________________________________________________\n",
      "flattened (Flatten)             (None, 1152)         0           dropout_1[0][0]                  \n",
      "__________________________________________________________________________________________________\n",
      "dense_1 (Dense)                 (None, 50)           57650       flattened[0][0]                  \n",
      "__________________________________________________________________________________________________\n",
      "dropout_2 (Dropout)             (None, 50)           0           dense_1[0][0]                    \n",
      "__________________________________________________________________________________________________\n",
      "angle_out (Dense)               (None, 15)           765         dropout_2[0][0]                  \n",
      "__________________________________________________________________________________________________\n",
      "throttle_out (Dense)            (None, 1)            51          dropout_2[0][0]                  \n",
      "==================================================================================================\n",
      "Total params: 203,442\n",
      "Trainable params: 203,442\n",
      "Non-trainable params: 0\n",
      "__________________________________________________________________________________________________\n"
     ]
    }
   ],
   "source": [
    "model = default_categorical()\n",
    "model.summary()"
   ]
  },
  {
   "cell_type": "code",
   "execution_count": 35,
   "metadata": {},
   "outputs": [],
   "source": [
    "def train(train_gen, val_gen, saved_model_path, epochs=100, steps=100, train_split=0.8,\n",
    "         verbose=1, min_delta=0.0005, patience=5, use_early_stop=True):\n",
    "    \n",
    "#     checkpoint to save model\n",
    "    save_best = ModelCheckpoint(saved_model_path, monitor='val_loss', verbose=verbose, save_best_only=True, mode='min')\n",
    "    \n",
    "    #stop training if stop improving\n",
    "    early_stop = EarlyStopping(monitor='val_loss', min_delta=min_delta, patience=patience, verbose=verbose, mode='auto')\n",
    "    \n",
    "    callbacks_list = [save_best]\n",
    "    \n",
    "    if use_early_stop:\n",
    "        callbacks_list.append(early_stop)\n",
    "        \n",
    "    hist = model.fit_generator(train_gen, steps_per_epoch=steps, epochs=epochs, verbose=1, validation_data=val_gen,\n",
    "                                callbacks=callbacks_list, validation_steps=steps * (1.0 - train_frac)//train_frac)\n",
    "    return hist"
   ]
  },
  {
   "cell_type": "code",
   "execution_count": 36,
   "metadata": {},
   "outputs": [
    {
     "data": {
      "text/plain": [
       "241"
      ]
     },
     "execution_count": 36,
     "metadata": {},
     "output_type": "execute_result"
    }
   ],
   "source": [
    "total_records = len(df)\n",
    "total_train = int(total_records * train_frac)\n",
    "total_val = total_records - total_train\n",
    "steps_per_epoch = total_train // bs\n",
    "steps_per_epoch"
   ]
  },
  {
   "cell_type": "code",
   "execution_count": 37,
   "metadata": {
    "collapsed": true
   },
   "outputs": [
    {
     "name": "stdout",
     "output_type": "stream",
     "text": [
      "Epoch 1/100\n",
      "240/241 [============================>.] - ETA: 0s - loss: 1.9963 - angle_out_loss: 2.2125 - throttle_out_loss: 0.5039\n",
      "Epoch 00001: val_loss improved from inf to 1.46372, saving model to models/pilot_jn\n",
      "241/241 [==============================] - 98s 405ms/step - loss: 1.9951 - angle_out_loss: 2.2111 - throttle_out_loss: 0.5033 - val_loss: 1.4637 - val_angle_out_loss: 1.6230 - val_throttle_out_loss: 0.2989\n",
      "Epoch 2/100\n",
      "240/241 [============================>.] - ETA: 0s - loss: 1.5367 - angle_out_loss: 1.7037 - throttle_out_loss: 0.3349\n",
      "Epoch 00002: val_loss improved from 1.46372 to 1.34045, saving model to models/pilot_jn\n",
      "241/241 [==============================] - 82s 341ms/step - loss: 1.5365 - angle_out_loss: 1.7035 - throttle_out_loss: 0.3348 - val_loss: 1.3404 - val_angle_out_loss: 1.4858 - val_throttle_out_loss: 0.3193\n",
      "Epoch 3/100\n",
      "240/241 [============================>.] - ETA: 0s - loss: 1.4256 - angle_out_loss: 1.5804 - throttle_out_loss: 0.3204\n",
      "Epoch 00003: val_loss improved from 1.34045 to 1.29018, saving model to models/pilot_jn\n",
      "241/241 [==============================] - 78s 322ms/step - loss: 1.4257 - angle_out_loss: 1.5805 - throttle_out_loss: 0.3204 - val_loss: 1.2902 - val_angle_out_loss: 1.4300 - val_throttle_out_loss: 0.3196\n",
      "Epoch 4/100\n",
      "240/241 [============================>.] - ETA: 0s - loss: 1.3513 - angle_out_loss: 1.4979 - throttle_out_loss: 0.3189\n",
      "Epoch 00004: val_loss improved from 1.29018 to 1.24319, saving model to models/pilot_jn\n",
      "241/241 [==============================] - 72s 298ms/step - loss: 1.3512 - angle_out_loss: 1.4978 - throttle_out_loss: 0.3189 - val_loss: 1.2432 - val_angle_out_loss: 1.3778 - val_throttle_out_loss: 0.3195\n",
      "Epoch 5/100\n",
      "240/241 [============================>.] - ETA: 0s - loss: 1.3079 - angle_out_loss: 1.4497 - throttle_out_loss: 0.3183\n",
      "Epoch 00005: val_loss improved from 1.24319 to 1.23259, saving model to models/pilot_jn\n",
      "241/241 [==============================] - 72s 297ms/step - loss: 1.3080 - angle_out_loss: 1.4498 - throttle_out_loss: 0.3183 - val_loss: 1.2326 - val_angle_out_loss: 1.3660 - val_throttle_out_loss: 0.3183\n",
      "Epoch 6/100\n",
      "240/241 [============================>.] - ETA: 0s - loss: 1.2717 - angle_out_loss: 1.4095 - throttle_out_loss: 0.3177\n",
      "Epoch 00006: val_loss improved from 1.23259 to 1.19622, saving model to models/pilot_jn\n",
      "241/241 [==============================] - 74s 306ms/step - loss: 1.2719 - angle_out_loss: 1.4097 - throttle_out_loss: 0.3177 - val_loss: 1.1962 - val_angle_out_loss: 1.3256 - val_throttle_out_loss: 0.3194\n",
      "Epoch 7/100\n",
      "240/241 [============================>.] - ETA: 0s - loss: 1.2345 - angle_out_loss: 1.3681 - throttle_out_loss: 0.3179\n",
      "Epoch 00007: val_loss improved from 1.19622 to 1.17188, saving model to models/pilot_jn\n",
      "241/241 [==============================] - 75s 310ms/step - loss: 1.2345 - angle_out_loss: 1.3681 - throttle_out_loss: 0.3179 - val_loss: 1.1719 - val_angle_out_loss: 1.2986 - val_throttle_out_loss: 0.3188\n",
      "Epoch 8/100\n",
      "240/241 [============================>.] - ETA: 0s - loss: 1.2071 - angle_out_loss: 1.3377 - throttle_out_loss: 0.3185\n",
      "Epoch 00008: val_loss improved from 1.17188 to 1.14663, saving model to models/pilot_jn\n",
      "241/241 [==============================] - 73s 304ms/step - loss: 1.2064 - angle_out_loss: 1.3369 - throttle_out_loss: 0.3185 - val_loss: 1.1466 - val_angle_out_loss: 1.2705 - val_throttle_out_loss: 0.3208\n",
      "Epoch 9/100\n",
      "240/241 [============================>.] - ETA: 0s - loss: 1.1662 - angle_out_loss: 1.2922 - throttle_out_loss: 0.3186\n",
      "Epoch 00009: val_loss improved from 1.14663 to 1.11063, saving model to models/pilot_jn\n",
      "241/241 [==============================] - 74s 306ms/step - loss: 1.1667 - angle_out_loss: 1.2927 - throttle_out_loss: 0.3186 - val_loss: 1.1106 - val_angle_out_loss: 1.2305 - val_throttle_out_loss: 0.3205\n",
      "Epoch 10/100\n",
      "240/241 [============================>.] - ETA: 0s - loss: 1.1333 - angle_out_loss: 1.2557 - throttle_out_loss: 0.3174\n",
      "Epoch 00010: val_loss did not improve\n",
      "241/241 [==============================] - 76s 315ms/step - loss: 1.1330 - angle_out_loss: 1.2553 - throttle_out_loss: 0.3174 - val_loss: 1.1221 - val_angle_out_loss: 1.2433 - val_throttle_out_loss: 0.3195\n",
      "Epoch 11/100\n",
      "240/241 [============================>.] - ETA: 0s - loss: 1.0965 - angle_out_loss: 1.2148 - throttle_out_loss: 0.3168\n",
      "Epoch 00011: val_loss improved from 1.11063 to 1.07265, saving model to models/pilot_jn\n",
      "241/241 [==============================] - 74s 307ms/step - loss: 1.0966 - angle_out_loss: 1.2149 - throttle_out_loss: 0.3168 - val_loss: 1.0727 - val_angle_out_loss: 1.1883 - val_throttle_out_loss: 0.3195\n",
      "Epoch 12/100\n",
      "240/241 [============================>.] - ETA: 0s - loss: 1.0719 - angle_out_loss: 1.1874 - throttle_out_loss: 0.3155\n",
      "Epoch 00012: val_loss improved from 1.07265 to 1.06405, saving model to models/pilot_jn\n",
      "241/241 [==============================] - 71s 296ms/step - loss: 1.0716 - angle_out_loss: 1.1872 - throttle_out_loss: 0.3155 - val_loss: 1.0640 - val_angle_out_loss: 1.1787 - val_throttle_out_loss: 0.3193\n",
      "Epoch 13/100\n",
      "240/241 [============================>.] - ETA: 0s - loss: 1.0303 - angle_out_loss: 1.1413 - throttle_out_loss: 0.3109\n",
      "Epoch 00013: val_loss improved from 1.06405 to 1.02654, saving model to models/pilot_jn\n",
      "241/241 [==============================] - 71s 296ms/step - loss: 1.0301 - angle_out_loss: 1.1410 - throttle_out_loss: 0.3110 - val_loss: 1.0265 - val_angle_out_loss: 1.1371 - val_throttle_out_loss: 0.3197\n",
      "Epoch 14/100\n",
      "240/241 [============================>.] - ETA: 0s - loss: 1.0118 - angle_out_loss: 1.1208 - throttle_out_loss: 0.3066\n",
      "Epoch 00014: val_loss did not improve\n",
      "241/241 [==============================] - 71s 296ms/step - loss: 1.0117 - angle_out_loss: 1.1207 - throttle_out_loss: 0.3066 - val_loss: 1.0382 - val_angle_out_loss: 1.1500 - val_throttle_out_loss: 0.3169\n",
      "Epoch 15/100\n",
      "240/241 [============================>.] - ETA: 0s - loss: 0.9931 - angle_out_loss: 1.1007 - throttle_out_loss: 0.2412\n",
      "Epoch 00015: val_loss improved from 1.02654 to 0.99609, saving model to models/pilot_jn\n",
      "241/241 [==============================] - 72s 299ms/step - loss: 0.9925 - angle_out_loss: 1.1002 - throttle_out_loss: 0.2411 - val_loss: 0.9961 - val_angle_out_loss: 1.1040 - val_throttle_out_loss: 0.2498\n",
      "Epoch 16/100\n",
      "240/241 [============================>.] - ETA: 0s - loss: 0.9580 - angle_out_loss: 1.0626 - throttle_out_loss: 0.1589\n",
      "Epoch 00016: val_loss improved from 0.99609 to 0.98214, saving model to models/pilot_jn\n",
      "241/241 [==============================] - 73s 301ms/step - loss: 0.9583 - angle_out_loss: 1.0631 - throttle_out_loss: 0.1585 - val_loss: 0.9821 - val_angle_out_loss: 1.0907 - val_throttle_out_loss: 0.0508\n",
      "Epoch 17/100\n",
      "240/241 [============================>.] - ETA: 0s - loss: 0.9220 - angle_out_loss: 1.0239 - throttle_out_loss: 0.0436\n",
      "Epoch 00017: val_loss improved from 0.98214 to 0.96031, saving model to models/pilot_jn\n",
      "241/241 [==============================] - 72s 300ms/step - loss: 0.9221 - angle_out_loss: 1.0241 - throttle_out_loss: 0.0436 - val_loss: 0.9603 - val_angle_out_loss: 1.0666 - val_throttle_out_loss: 0.0374\n",
      "Epoch 18/100\n",
      "240/241 [============================>.] - ETA: 0s - loss: 0.8965 - angle_out_loss: 0.9957 - throttle_out_loss: 0.0411\n",
      "Epoch 00018: val_loss improved from 0.96031 to 0.95040, saving model to models/pilot_jn\n",
      "241/241 [==============================] - 72s 297ms/step - loss: 0.8961 - angle_out_loss: 0.9952 - throttle_out_loss: 0.0411 - val_loss: 0.9504 - val_angle_out_loss: 1.0556 - val_throttle_out_loss: 0.0382\n",
      "Epoch 19/100\n",
      "240/241 [============================>.] - ETA: 0s - loss: 0.8761 - angle_out_loss: 0.9729 - throttle_out_loss: 0.0415\n",
      "Epoch 00019: val_loss improved from 0.95040 to 0.94947, saving model to models/pilot_jn\n",
      "241/241 [==============================] - 73s 303ms/step - loss: 0.8756 - angle_out_loss: 0.9725 - throttle_out_loss: 0.0415 - val_loss: 0.9495 - val_angle_out_loss: 1.0545 - val_throttle_out_loss: 0.0406\n",
      "Epoch 20/100\n",
      "240/241 [============================>.] - ETA: 0s - loss: 0.8539 - angle_out_loss: 0.9483 - throttle_out_loss: 0.0408\n",
      "Epoch 00020: val_loss did not improve\n",
      "241/241 [==============================] - 79s 329ms/step - loss: 0.8542 - angle_out_loss: 0.9487 - throttle_out_loss: 0.0408 - val_loss: 0.9517 - val_angle_out_loss: 1.0571 - val_throttle_out_loss: 0.0350\n"
     ]
    },
    {
     "name": "stdout",
     "output_type": "stream",
     "text": [
      "Epoch 21/100\n",
      "240/241 [============================>.] - ETA: 0s - loss: 0.8400 - angle_out_loss: 0.9329 - throttle_out_loss: 0.0401\n",
      "Epoch 00021: val_loss improved from 0.94947 to 0.90065, saving model to models/pilot_jn\n",
      "241/241 [==============================] - 80s 330ms/step - loss: 0.8402 - angle_out_loss: 0.9331 - throttle_out_loss: 0.0401 - val_loss: 0.9006 - val_angle_out_loss: 1.0003 - val_throttle_out_loss: 0.0361\n",
      "Epoch 22/100\n",
      "240/241 [============================>.] - ETA: 0s - loss: 0.8266 - angle_out_loss: 0.9180 - throttle_out_loss: 0.0405\n",
      "Epoch 00022: val_loss did not improve\n",
      "241/241 [==============================] - 80s 331ms/step - loss: 0.8265 - angle_out_loss: 0.9179 - throttle_out_loss: 0.0405 - val_loss: 0.9188 - val_angle_out_loss: 1.0205 - val_throttle_out_loss: 0.0366\n",
      "Epoch 23/100\n",
      "240/241 [============================>.] - ETA: 0s - loss: 0.8068 - angle_out_loss: 0.8960 - throttle_out_loss: 0.0403\n",
      "Epoch 00023: val_loss did not improve\n",
      "241/241 [==============================] - 80s 334ms/step - loss: 0.8069 - angle_out_loss: 0.8961 - throttle_out_loss: 0.0403 - val_loss: 0.9548 - val_angle_out_loss: 1.0604 - val_throttle_out_loss: 0.0374\n",
      "Epoch 24/100\n",
      "240/241 [============================>.] - ETA: 0s - loss: 0.8023 - angle_out_loss: 0.8910 - throttle_out_loss: 0.0411\n",
      "Epoch 00024: val_loss did not improve\n",
      "241/241 [==============================] - 81s 336ms/step - loss: 0.8018 - angle_out_loss: 0.8904 - throttle_out_loss: 0.0411 - val_loss: 0.9577 - val_angle_out_loss: 1.0636 - val_throttle_out_loss: 0.0425\n",
      "Epoch 25/100\n",
      "240/241 [============================>.] - ETA: 0s - loss: 0.7824 - angle_out_loss: 0.8689 - throttle_out_loss: 0.0409\n",
      "Epoch 00025: val_loss did not improve\n",
      "241/241 [==============================] - 82s 340ms/step - loss: 0.7823 - angle_out_loss: 0.8687 - throttle_out_loss: 0.0409 - val_loss: 0.9054 - val_angle_out_loss: 1.0056 - val_throttle_out_loss: 0.0381\n",
      "Epoch 26/100\n",
      "240/241 [============================>.] - ETA: 0s - loss: 0.7614 - angle_out_loss: 0.8456 - throttle_out_loss: 0.0422\n",
      "Epoch 00026: val_loss did not improve\n",
      "241/241 [==============================] - 85s 354ms/step - loss: 0.7613 - angle_out_loss: 0.8454 - throttle_out_loss: 0.0422 - val_loss: 0.9083 - val_angle_out_loss: 1.0088 - val_throttle_out_loss: 0.0414\n",
      "Epoch 00026: early stopping\n"
     ]
    },
    {
     "data": {
      "text/plain": [
       "<tensorflow.python.keras._impl.keras.callbacks.History at 0x19419be1940>"
      ]
     },
     "execution_count": 37,
     "metadata": {},
     "output_type": "execute_result"
    }
   ],
   "source": [
    "train(train_gen, val_gen, saved_model_path=new_model_path, steps=steps_per_epoch, train_split=0.8) #change train_split to 0.9 for large data"
   ]
  },
  {
   "cell_type": "code",
   "execution_count": 5,
   "metadata": {},
   "outputs": [
    {
     "data": {
      "text/plain": [
       "'\\nRecords\\n\\nOriginal architecture with 79k samples\\n498/498 [==============================] - 215s 432ms/step - loss: 0.4393 - angle_out_loss: 0.4875 \\n- throttle_out_loss: 0.0551 - val_loss: 0.8894 - val_angle_out_loss: 0.9876 - val_throttle_out_loss: 0.0586\\nEpoch 00028: early stopping\\n\\nOriginal architecture with 79k samples and 0.2 and 0.3 dropout at the end\\n498/498 [==============================] - 239s 480ms/step - loss: 0.5324 - angle_out_loss: 0.5910 - \\nthrottle_out_loss: 0.0585 - val_loss: 0.9268 - val_angle_out_loss: 1.0292 - val_throttle_out_loss: 0.0530\\nEpoch 00030: early stopping\\n\\nOriginal architecture with 79k samples and 0.3 and 0.5 dropout at the end\\n\\n'"
      ]
     },
     "execution_count": 5,
     "metadata": {},
     "output_type": "execute_result"
    }
   ],
   "source": [
    "\"\"\"\n",
    "Records\n",
    "\n",
    "Original architecture with 79k samples\n",
    "498/498 [==============================] - 215s 432ms/step - loss: 0.4393 - angle_out_loss: 0.4875 \n",
    "- throttle_out_loss: 0.0551 - val_loss: 0.8894 - val_angle_out_loss: 0.9876 - val_throttle_out_loss: 0.0586\n",
    "Epoch 00028: early stopping\n",
    "\n",
    "Original architecture with 79k samples and 0.2 and 0.3 dropout at the end\n",
    "498/498 [==============================] - 239s 480ms/step - loss: 0.5324 - angle_out_loss: 0.5910 - \n",
    "throttle_out_loss: 0.0585 - val_loss: 0.9268 - val_angle_out_loss: 1.0292 - val_throttle_out_loss: 0.0530\n",
    "Epoch 00030: early stopping\n",
    "\n",
    "Original architecture with 79k samples and 0.3 and 0.5 dropout at the end\n",
    "\n",
    "Original architecture minus Dense(100) with 30k samples\n",
    "\n",
    "\"\"\"\n",
    "\n"
   ]
  },
  {
   "cell_type": "code",
   "execution_count": 175,
   "metadata": {},
   "outputs": [],
   "source": [
    "#check against original\n",
    "def unbin(arr):\n",
    "    index = np.argmax(arr)\n",
    "    return index/14*2-1\n",
    "#     return index"
   ]
  },
  {
   "cell_type": "code",
   "execution_count": 174,
   "metadata": {},
   "outputs": [
    {
     "data": {
      "text/plain": [
       "0.0"
      ]
     },
     "execution_count": 174,
     "metadata": {},
     "output_type": "execute_result"
    }
   ],
   "source": [
    "unbin([0, 0, 0, 0, 0, 0, 0, 1, 0, 0, 0, 0, 0, 0, 0])"
   ]
  },
  {
   "cell_type": "code",
   "execution_count": 176,
   "metadata": {},
   "outputs": [],
   "source": [
    "def run(img_arr):\n",
    "    img_arr = img_arr.reshape((1,) + img_arr.shape)\n",
    "    angle_binned, throttle = model.predict(img_arr)\n",
    "    angle_unbinned = unbin(angle_binned[0])\n",
    "    return angle_unbinned, throttle[0][0]"
   ]
  },
  {
   "cell_type": "code",
   "execution_count": 194,
   "metadata": {},
   "outputs": [
    {
     "data": {
      "image/png": "[encoded data removed]",
      "text/plain": [
       "<PIL.JpegImagePlugin.JpegImageFile image mode=RGB size=160x120 at 0x2119C0EA780>"
      ]
     },
     "execution_count": 194,
     "metadata": {},
     "output_type": "execute_result"
    }
   ],
   "source": [
    "img_name = df['cam/image_array'][150]\n",
    "img = Image.open(f'{PATH}/{img_name}')\n",
    "img"
   ]
  },
  {
   "cell_type": "code",
   "execution_count": 195,
   "metadata": {},
   "outputs": [],
   "source": [
    "val = np.array(img)"
   ]
  },
  {
   "cell_type": "code",
   "execution_count": 196,
   "metadata": {},
   "outputs": [
    {
     "data": {
      "text/plain": [
       "(120, 160, 3)"
      ]
     },
     "execution_count": 196,
     "metadata": {},
     "output_type": "execute_result"
    }
   ],
   "source": [
    "val.shape"
   ]
  },
  {
   "cell_type": "code",
   "execution_count": 198,
   "metadata": {},
   "outputs": [
    {
     "data": {
      "text/plain": [
       "(-0.4285714285714286, 0.31011686)"
      ]
     },
     "execution_count": 198,
     "metadata": {},
     "output_type": "execute_result"
    }
   ],
   "source": [
    "#prediction\n",
    "run(val)"
   ]
  },
  {
   "cell_type": "code",
   "execution_count": 199,
   "metadata": {},
   "outputs": [
    {
     "data": {
      "text/plain": [
       "(-0.42, 0.27)"
      ]
     },
     "execution_count": 199,
     "metadata": {},
     "output_type": "execute_result"
    }
   ],
   "source": [
    "#compare to actual data\n",
    "df['user/angle'][150], df['user/throttle'][150]"
   ]
  },
  {
   "cell_type": "code",
   "execution_count": null,
   "metadata": {},
   "outputs": [],
   "source": []
  }
 ],
 "metadata": {
  "kernelspec": {
   "display_name": "Tensorflow-GPU",
   "language": "python",
   "name": "tf-gpu"
  },
  "language_info": {
   "codemirror_mode": {
    "name": "ipython",
    "version": 3
   },
   "file_extension": ".py",
   "mimetype": "text/x-python",
   "name": "python",
   "nbconvert_exporter": "python",
   "pygments_lexer": "ipython3",
   "version": "3.6.6"
  }
 },
 "nbformat": 4,
 "nbformat_minor": 2
}
